{
 "cells": [
  {
   "cell_type": "markdown",
   "metadata": {},
   "source": [
    "## Материалы:\n",
    "* [Презентация] (https://disk.yandex.ru/i/AugyBVBHT4UDQg)"
   ]
  },
  {
   "cell_type": "markdown",
   "metadata": {},
   "source": [
    "**Название проекта**\n",
    "\n",
    "📞\n",
    "Телеком — Поиск клиента с неоптимальными тарифами\n",
    "\n",
    "\n",
    "**Описание проекта**\n",
    "\n",
    "Провайдер виртуальной телефонии \"Нупозвони\" (клиент) хочет удержать колл-центры для этого ему необходимо провести исследование по оптимизации их расходов. В результате этого исследования колл-центрам будет предложено перейти на более выгодные тарифы обслуживания, что в дальнейшем обернется лояльночтью клиентов, их меньшим оттоком к конкурентам и возможно расширением клиентской базы.\n",
    "\n",
    "\n",
    "**Описание данных**\n",
    "\n",
    "Клиент предостваил \"сырые\" агрегированные данные\n",
    "\n",
    "\n",
    "Датасет /datasets/telecom_dataset.csv\n",
    "\n",
    "    - user_id — идентификатор клиента;\n",
    "\t- date — дата статистики;\n",
    "\t- direction — направление вызовов: out — исходящий вызов, in — входящий;\n",
    "\t- internal — маркер внутренних и внешних вызовов;\n",
    "\t- operator_id — идентификатор оператора;\n",
    "\t- is_missed_call — маркер пропущенных вызовов;\n",
    "\t- calls_count — количество звонков;\n",
    "\t- call_duration — длительность звонка без учёта времени ожидания;\n",
    "\t- total_call_duration — длительность звонка с учётом времени ожидания.\n",
    "\n",
    "Датасет /datasets/telecom_clients.csv\n",
    "\n",
    "\t- user_id — идентификатор клиента;\n",
    "\t- tariff_plan — тарифный план клиента;\n",
    "\t- date_start — дата регистрации клиента в сервисе.\n",
    "\n",
    "\n",
    "**Цель проекта**\n",
    "\n",
    "    Проверить полученные знания в курсе Аналитик данных в тренажёре на практике и решить аналитический кейс.\n",
    "    Дать ответ на запрос клиента по оптимизации расходов колл-центров тем самым повысить их лояльность."
   ]
  },
  {
   "cell_type": "markdown",
   "metadata": {},
   "source": [
    "## Предобработка данных\n",
    "### Импорт только необходимых библиотек"
   ]
  },
  {
   "cell_type": "code",
   "execution_count": 1,
   "metadata": {},
   "outputs": [],
   "source": [
    "import pandas as pd\n",
    "import matplotlib.pyplot as plt\n",
    "import seaborn as sns\n",
    "import numpy as np\n",
    "from scipy import stats"
   ]
  },
  {
   "cell_type": "markdown",
   "metadata": {},
   "source": [
    "### Подключение данных в проект\n"
   ]
  },
  {
   "cell_type": "code",
   "execution_count": 2,
   "metadata": {},
   "outputs": [
    {
     "data": {
      "text/html": [
       "<div>\n",
       "<style scoped>\n",
       "    .dataframe tbody tr th:only-of-type {\n",
       "        vertical-align: middle;\n",
       "    }\n",
       "\n",
       "    .dataframe tbody tr th {\n",
       "        vertical-align: top;\n",
       "    }\n",
       "\n",
       "    .dataframe thead th {\n",
       "        text-align: right;\n",
       "    }\n",
       "</style>\n",
       "<table border=\"1\" class=\"dataframe\">\n",
       "  <thead>\n",
       "    <tr style=\"text-align: right;\">\n",
       "      <th></th>\n",
       "      <th>user_id</th>\n",
       "      <th>tariff_plan</th>\n",
       "      <th>date_start</th>\n",
       "    </tr>\n",
       "  </thead>\n",
       "  <tbody>\n",
       "    <tr>\n",
       "      <th>0</th>\n",
       "      <td>166713</td>\n",
       "      <td>A</td>\n",
       "      <td>2019-08-15</td>\n",
       "    </tr>\n",
       "    <tr>\n",
       "      <th>1</th>\n",
       "      <td>166901</td>\n",
       "      <td>A</td>\n",
       "      <td>2019-08-23</td>\n",
       "    </tr>\n",
       "    <tr>\n",
       "      <th>2</th>\n",
       "      <td>168527</td>\n",
       "      <td>A</td>\n",
       "      <td>2019-10-29</td>\n",
       "    </tr>\n",
       "    <tr>\n",
       "      <th>3</th>\n",
       "      <td>167097</td>\n",
       "      <td>A</td>\n",
       "      <td>2019-09-01</td>\n",
       "    </tr>\n",
       "    <tr>\n",
       "      <th>4</th>\n",
       "      <td>168193</td>\n",
       "      <td>A</td>\n",
       "      <td>2019-10-16</td>\n",
       "    </tr>\n",
       "  </tbody>\n",
       "</table>\n",
       "</div>"
      ],
      "text/plain": [
       "   user_id tariff_plan  date_start\n",
       "0   166713           A  2019-08-15\n",
       "1   166901           A  2019-08-23\n",
       "2   168527           A  2019-10-29\n",
       "3   167097           A  2019-09-01\n",
       "4   168193           A  2019-10-16"
      ]
     },
     "metadata": {},
     "output_type": "display_data"
    },
    {
     "data": {
      "text/html": [
       "<div>\n",
       "<style scoped>\n",
       "    .dataframe tbody tr th:only-of-type {\n",
       "        vertical-align: middle;\n",
       "    }\n",
       "\n",
       "    .dataframe tbody tr th {\n",
       "        vertical-align: top;\n",
       "    }\n",
       "\n",
       "    .dataframe thead th {\n",
       "        text-align: right;\n",
       "    }\n",
       "</style>\n",
       "<table border=\"1\" class=\"dataframe\">\n",
       "  <thead>\n",
       "    <tr style=\"text-align: right;\">\n",
       "      <th></th>\n",
       "      <th>user_id</th>\n",
       "      <th>date</th>\n",
       "      <th>direction</th>\n",
       "      <th>internal</th>\n",
       "      <th>operator_id</th>\n",
       "      <th>is_missed_call</th>\n",
       "      <th>calls_count</th>\n",
       "      <th>call_duration</th>\n",
       "      <th>total_call_duration</th>\n",
       "    </tr>\n",
       "  </thead>\n",
       "  <tbody>\n",
       "    <tr>\n",
       "      <th>0</th>\n",
       "      <td>166377</td>\n",
       "      <td>2019-08-04 00:00:00+03:00</td>\n",
       "      <td>in</td>\n",
       "      <td>False</td>\n",
       "      <td>NaN</td>\n",
       "      <td>True</td>\n",
       "      <td>2</td>\n",
       "      <td>0</td>\n",
       "      <td>4</td>\n",
       "    </tr>\n",
       "    <tr>\n",
       "      <th>1</th>\n",
       "      <td>166377</td>\n",
       "      <td>2019-08-05 00:00:00+03:00</td>\n",
       "      <td>out</td>\n",
       "      <td>True</td>\n",
       "      <td>880022.0</td>\n",
       "      <td>True</td>\n",
       "      <td>3</td>\n",
       "      <td>0</td>\n",
       "      <td>5</td>\n",
       "    </tr>\n",
       "    <tr>\n",
       "      <th>2</th>\n",
       "      <td>166377</td>\n",
       "      <td>2019-08-05 00:00:00+03:00</td>\n",
       "      <td>out</td>\n",
       "      <td>True</td>\n",
       "      <td>880020.0</td>\n",
       "      <td>True</td>\n",
       "      <td>1</td>\n",
       "      <td>0</td>\n",
       "      <td>1</td>\n",
       "    </tr>\n",
       "    <tr>\n",
       "      <th>3</th>\n",
       "      <td>166377</td>\n",
       "      <td>2019-08-05 00:00:00+03:00</td>\n",
       "      <td>out</td>\n",
       "      <td>True</td>\n",
       "      <td>880020.0</td>\n",
       "      <td>False</td>\n",
       "      <td>1</td>\n",
       "      <td>10</td>\n",
       "      <td>18</td>\n",
       "    </tr>\n",
       "    <tr>\n",
       "      <th>4</th>\n",
       "      <td>166377</td>\n",
       "      <td>2019-08-05 00:00:00+03:00</td>\n",
       "      <td>out</td>\n",
       "      <td>False</td>\n",
       "      <td>880022.0</td>\n",
       "      <td>True</td>\n",
       "      <td>3</td>\n",
       "      <td>0</td>\n",
       "      <td>25</td>\n",
       "    </tr>\n",
       "  </tbody>\n",
       "</table>\n",
       "</div>"
      ],
      "text/plain": [
       "   user_id                       date direction internal  operator_id  \\\n",
       "0   166377  2019-08-04 00:00:00+03:00        in    False          NaN   \n",
       "1   166377  2019-08-05 00:00:00+03:00       out     True     880022.0   \n",
       "2   166377  2019-08-05 00:00:00+03:00       out     True     880020.0   \n",
       "3   166377  2019-08-05 00:00:00+03:00       out     True     880020.0   \n",
       "4   166377  2019-08-05 00:00:00+03:00       out    False     880022.0   \n",
       "\n",
       "   is_missed_call  calls_count  call_duration  total_call_duration  \n",
       "0            True            2              0                    4  \n",
       "1            True            3              0                    5  \n",
       "2            True            1              0                    1  \n",
       "3           False            1             10                   18  \n",
       "4            True            3              0                   25  "
      ]
     },
     "metadata": {},
     "output_type": "display_data"
    }
   ],
   "source": [
    "clients = pd.read_csv('/datasets/telecom_clients.csv', sep=',')\n",
    "df = pd.read_csv('/datasets/telecom_dataset.csv', sep=',')\n",
    "\n",
    "#настроим вывод так чтобы текст в ячейке отражался полностью вне зависимости от длины\n",
    "pd.set_option('display.max_colwidth', None)\n",
    "\n",
    "display(clients.head())\n",
    "display(df.head())"
   ]
  },
  {
   "cell_type": "markdown",
   "metadata": {},
   "source": [
    "### Проверка на дубли данных, явные и неявные"
   ]
  },
  {
   "cell_type": "code",
   "execution_count": 3,
   "metadata": {},
   "outputs": [
    {
     "name": "stdout",
     "output_type": "stream",
     "text": [
      "явных дубликатов 4900\n",
      "процент дубликатов от общего количества 9.091%\n"
     ]
    }
   ],
   "source": [
    "print('явных дубликатов',df.duplicated().sum())\n",
    "#найдем процент дубликатов от общего количества\n",
    "print('процент дубликатов от общего количества',\"{0:.3%}\".format(df.duplicated().sum() / len(df)))"
   ]
  },
  {
   "cell_type": "markdown",
   "metadata": {},
   "source": [
    "удалим явные дубликаты"
   ]
  },
  {
   "cell_type": "code",
   "execution_count": 4,
   "metadata": {},
   "outputs": [
    {
     "name": "stdout",
     "output_type": "stream",
     "text": [
      "явных дубликатов 0\n"
     ]
    },
    {
     "data": {
      "text/plain": [
       "(49002, 9)"
      ]
     },
     "execution_count": 4,
     "metadata": {},
     "output_type": "execute_result"
    }
   ],
   "source": [
    "df = df.drop_duplicates().reset_index(drop=True)\n",
    "print('явных дубликатов',df.duplicated().sum())\n",
    "df.shape"
   ]
  },
  {
   "cell_type": "code",
   "execution_count": 5,
   "metadata": {},
   "outputs": [
    {
     "name": "stdout",
     "output_type": "stream",
     "text": [
      "уникальные значения поле direction ['in' 'out']\n"
     ]
    }
   ],
   "source": [
    "print('уникальные значения поле direction', df['direction'].unique())"
   ]
  },
  {
   "cell_type": "code",
   "execution_count": 6,
   "metadata": {},
   "outputs": [
    {
     "name": "stdout",
     "output_type": "stream",
     "text": [
      "уникальные значения поле internal [False True nan]\n"
     ]
    }
   ],
   "source": [
    "print('уникальные значения поле internal', df['internal'].unique())"
   ]
  },
  {
   "cell_type": "code",
   "execution_count": 7,
   "metadata": {},
   "outputs": [
    {
     "name": "stdout",
     "output_type": "stream",
     "text": [
      "уникальные значения поле is_missed_call [ True False]\n"
     ]
    }
   ],
   "source": [
    "print('уникальные значения поле is_missed_call', df['is_missed_call'].unique())"
   ]
  },
  {
   "cell_type": "markdown",
   "metadata": {},
   "source": [
    "неявных дубликатов нет"
   ]
  },
  {
   "cell_type": "markdown",
   "metadata": {},
   "source": [
    "### Оценка количества пропущенных значений и принятие решения о восстановлении или удалении"
   ]
  },
  {
   "cell_type": "code",
   "execution_count": 8,
   "metadata": {},
   "outputs": [
    {
     "name": "stdout",
     "output_type": "stream",
     "text": [
      "<class 'pandas.core.frame.DataFrame'>\n",
      "RangeIndex: 732 entries, 0 to 731\n",
      "Data columns (total 3 columns):\n",
      " #   Column       Non-Null Count  Dtype \n",
      "---  ------       --------------  ----- \n",
      " 0   user_id      732 non-null    int64 \n",
      " 1   tariff_plan  732 non-null    object\n",
      " 2   date_start   732 non-null    object\n",
      "dtypes: int64(1), object(2)\n",
      "memory usage: 17.3+ KB\n"
     ]
    },
    {
     "data": {
      "text/plain": [
       "None"
      ]
     },
     "metadata": {},
     "output_type": "display_data"
    },
    {
     "name": "stdout",
     "output_type": "stream",
     "text": [
      "<class 'pandas.core.frame.DataFrame'>\n",
      "RangeIndex: 49002 entries, 0 to 49001\n",
      "Data columns (total 9 columns):\n",
      " #   Column               Non-Null Count  Dtype  \n",
      "---  ------               --------------  -----  \n",
      " 0   user_id              49002 non-null  int64  \n",
      " 1   date                 49002 non-null  object \n",
      " 2   direction            49002 non-null  object \n",
      " 3   internal             48892 non-null  object \n",
      " 4   operator_id          41546 non-null  float64\n",
      " 5   is_missed_call       49002 non-null  bool   \n",
      " 6   calls_count          49002 non-null  int64  \n",
      " 7   call_duration        49002 non-null  int64  \n",
      " 8   total_call_duration  49002 non-null  int64  \n",
      "dtypes: bool(1), float64(1), int64(4), object(3)\n",
      "memory usage: 3.0+ MB\n"
     ]
    },
    {
     "data": {
      "text/plain": [
       "None"
      ]
     },
     "metadata": {},
     "output_type": "display_data"
    }
   ],
   "source": [
    "display(clients.info())\n",
    "display(df.info())"
   ]
  },
  {
   "cell_type": "code",
   "execution_count": 9,
   "metadata": {},
   "outputs": [
    {
     "data": {
      "text/plain": [
       "user_id                   0\n",
       "date                      0\n",
       "direction                 0\n",
       "internal                110\n",
       "operator_id            7456\n",
       "is_missed_call            0\n",
       "calls_count               0\n",
       "call_duration             0\n",
       "total_call_duration       0\n",
       "dtype: int64"
      ]
     },
     "execution_count": 9,
     "metadata": {},
     "output_type": "execute_result"
    }
   ],
   "source": [
    "df.isnull().sum()"
   ]
  },
  {
   "cell_type": "markdown",
   "metadata": {},
   "source": [
    "#### Посмотрим на пропуски в поле internal"
   ]
  },
  {
   "cell_type": "code",
   "execution_count": 10,
   "metadata": {},
   "outputs": [
    {
     "name": "stdout",
     "output_type": "stream",
     "text": [
      "110 звонков, продолжительностью 8988 минут - сумма звонков неопределенного статуса, что составляет 0.0159% процента суммы минут звонков от общего количества минут\n"
     ]
    }
   ],
   "source": [
    "print(df[df['internal'].isnull()]['total_call_duration'].count(),\n",
    "      'звонков, продолжительностью',\n",
    "      df[df['internal'].isnull()]['total_call_duration'].sum(),\n",
    "      'минут - сумма звонков неопределенного статуса, что составляет',\n",
    "      \"{0:.4%}\".format(df[df['internal'].isnull()]['total_call_duration'].sum()/df['total_call_duration'].sum()),\n",
    "      'процента суммы минут звонков от общего количества минут'\n",
    "     )"
   ]
  },
  {
   "cell_type": "markdown",
   "metadata": {},
   "source": [
    "количество минут несущественно в общей массе и может быть безболезненно удалено"
   ]
  },
  {
   "cell_type": "code",
   "execution_count": 11,
   "metadata": {},
   "outputs": [
    {
     "name": "stdout",
     "output_type": "stream",
     "text": [
      "user_id                   0\n",
      "date                      0\n",
      "direction                 0\n",
      "internal                  0\n",
      "operator_id            7401\n",
      "is_missed_call            0\n",
      "calls_count               0\n",
      "call_duration             0\n",
      "total_call_duration       0\n",
      "dtype: int64\n"
     ]
    },
    {
     "data": {
      "text/plain": [
       "(48892, 9)"
      ]
     },
     "execution_count": 11,
     "metadata": {},
     "output_type": "execute_result"
    }
   ],
   "source": [
    "df = df.dropna(subset=['internal'])\n",
    "print(df.isnull().sum())\n",
    "df.shape"
   ]
  },
  {
   "cell_type": "markdown",
   "metadata": {},
   "source": [
    "#### Посмотрим на пропуски в поле operator_id"
   ]
  },
  {
   "cell_type": "code",
   "execution_count": 12,
   "metadata": {},
   "outputs": [
    {
     "data": {
      "text/plain": [
       "is_missed_call\n",
       "False     113\n",
       "True     7288\n",
       "Name: is_missed_call, dtype: int64"
      ]
     },
     "execution_count": 12,
     "metadata": {},
     "output_type": "execute_result"
    }
   ],
   "source": [
    "df[df['operator_id'].isnull()].groupby('is_missed_call')['is_missed_call'].count()"
   ]
  },
  {
   "cell_type": "markdown",
   "metadata": {},
   "source": [
    "Основная масса звонков для неизвестных операторов пропущенные, значит можно пренебречь ими и оставить без изменений. Для того чтобы в поле небыло пропущеных значений вставим вместо пропусков user_id."
   ]
  },
  {
   "cell_type": "code",
   "execution_count": 13,
   "metadata": {},
   "outputs": [
    {
     "data": {
      "text/html": [
       "<div>\n",
       "<style scoped>\n",
       "    .dataframe tbody tr th:only-of-type {\n",
       "        vertical-align: middle;\n",
       "    }\n",
       "\n",
       "    .dataframe tbody tr th {\n",
       "        vertical-align: top;\n",
       "    }\n",
       "\n",
       "    .dataframe thead th {\n",
       "        text-align: right;\n",
       "    }\n",
       "</style>\n",
       "<table border=\"1\" class=\"dataframe\">\n",
       "  <thead>\n",
       "    <tr style=\"text-align: right;\">\n",
       "      <th></th>\n",
       "      <th>user_id</th>\n",
       "      <th>date</th>\n",
       "      <th>direction</th>\n",
       "      <th>internal</th>\n",
       "      <th>operator_id</th>\n",
       "      <th>is_missed_call</th>\n",
       "      <th>calls_count</th>\n",
       "      <th>call_duration</th>\n",
       "      <th>total_call_duration</th>\n",
       "    </tr>\n",
       "  </thead>\n",
       "  <tbody>\n",
       "    <tr>\n",
       "      <th>0</th>\n",
       "      <td>166377</td>\n",
       "      <td>2019-08-04 00:00:00+03:00</td>\n",
       "      <td>in</td>\n",
       "      <td>False</td>\n",
       "      <td>166377.0</td>\n",
       "      <td>True</td>\n",
       "      <td>2</td>\n",
       "      <td>0</td>\n",
       "      <td>4</td>\n",
       "    </tr>\n",
       "    <tr>\n",
       "      <th>1</th>\n",
       "      <td>166377</td>\n",
       "      <td>2019-08-05 00:00:00+03:00</td>\n",
       "      <td>out</td>\n",
       "      <td>True</td>\n",
       "      <td>880022.0</td>\n",
       "      <td>True</td>\n",
       "      <td>3</td>\n",
       "      <td>0</td>\n",
       "      <td>5</td>\n",
       "    </tr>\n",
       "    <tr>\n",
       "      <th>2</th>\n",
       "      <td>166377</td>\n",
       "      <td>2019-08-05 00:00:00+03:00</td>\n",
       "      <td>out</td>\n",
       "      <td>True</td>\n",
       "      <td>880020.0</td>\n",
       "      <td>True</td>\n",
       "      <td>1</td>\n",
       "      <td>0</td>\n",
       "      <td>1</td>\n",
       "    </tr>\n",
       "    <tr>\n",
       "      <th>3</th>\n",
       "      <td>166377</td>\n",
       "      <td>2019-08-05 00:00:00+03:00</td>\n",
       "      <td>out</td>\n",
       "      <td>True</td>\n",
       "      <td>880020.0</td>\n",
       "      <td>False</td>\n",
       "      <td>1</td>\n",
       "      <td>10</td>\n",
       "      <td>18</td>\n",
       "    </tr>\n",
       "    <tr>\n",
       "      <th>4</th>\n",
       "      <td>166377</td>\n",
       "      <td>2019-08-05 00:00:00+03:00</td>\n",
       "      <td>out</td>\n",
       "      <td>False</td>\n",
       "      <td>880022.0</td>\n",
       "      <td>True</td>\n",
       "      <td>3</td>\n",
       "      <td>0</td>\n",
       "      <td>25</td>\n",
       "    </tr>\n",
       "  </tbody>\n",
       "</table>\n",
       "</div>"
      ],
      "text/plain": [
       "   user_id                       date direction internal  operator_id  \\\n",
       "0   166377  2019-08-04 00:00:00+03:00        in    False     166377.0   \n",
       "1   166377  2019-08-05 00:00:00+03:00       out     True     880022.0   \n",
       "2   166377  2019-08-05 00:00:00+03:00       out     True     880020.0   \n",
       "3   166377  2019-08-05 00:00:00+03:00       out     True     880020.0   \n",
       "4   166377  2019-08-05 00:00:00+03:00       out    False     880022.0   \n",
       "\n",
       "   is_missed_call  calls_count  call_duration  total_call_duration  \n",
       "0            True            2              0                    4  \n",
       "1            True            3              0                    5  \n",
       "2            True            1              0                    1  \n",
       "3           False            1             10                   18  \n",
       "4            True            3              0                   25  "
      ]
     },
     "execution_count": 13,
     "metadata": {},
     "output_type": "execute_result"
    }
   ],
   "source": [
    "def cuid(uid):\n",
    "    if pd.isna(uid['operator_id']):\n",
    "        return uid['user_id']\n",
    "    else:\n",
    "        return uid['operator_id']\n",
    "\n",
    "df['operator_id'] = df.apply(cuid, axis=1)\n",
    "df.head()"
   ]
  },
  {
   "cell_type": "markdown",
   "metadata": {},
   "source": [
    "### Проверка и изменение типов данных на нужные для выбранных столбцов"
   ]
  },
  {
   "cell_type": "code",
   "execution_count": 14,
   "metadata": {},
   "outputs": [
    {
     "name": "stdout",
     "output_type": "stream",
     "text": [
      "<class 'pandas.core.frame.DataFrame'>\n",
      "RangeIndex: 732 entries, 0 to 731\n",
      "Data columns (total 3 columns):\n",
      " #   Column       Non-Null Count  Dtype         \n",
      "---  ------       --------------  -----         \n",
      " 0   user_id      732 non-null    int64         \n",
      " 1   tariff_plan  732 non-null    object        \n",
      " 2   date_start   732 non-null    datetime64[ns]\n",
      "dtypes: datetime64[ns](1), int64(1), object(1)\n",
      "memory usage: 17.3+ KB\n"
     ]
    },
    {
     "data": {
      "text/plain": [
       "None"
      ]
     },
     "metadata": {},
     "output_type": "display_data"
    },
    {
     "name": "stdout",
     "output_type": "stream",
     "text": [
      "<class 'pandas.core.frame.DataFrame'>\n",
      "Int64Index: 48892 entries, 0 to 49001\n",
      "Data columns (total 9 columns):\n",
      " #   Column               Non-Null Count  Dtype         \n",
      "---  ------               --------------  -----         \n",
      " 0   user_id              48892 non-null  int64         \n",
      " 1   date                 48892 non-null  datetime64[ns]\n",
      " 2   direction            48892 non-null  object        \n",
      " 3   internal             48892 non-null  boolean       \n",
      " 4   operator_id          48892 non-null  Int64         \n",
      " 5   is_missed_call       48892 non-null  bool          \n",
      " 6   calls_count          48892 non-null  int64         \n",
      " 7   call_duration        48892 non-null  int64         \n",
      " 8   total_call_duration  48892 non-null  int64         \n",
      "dtypes: Int64(1), bool(1), boolean(1), datetime64[ns](1), int64(4), object(1)\n",
      "memory usage: 3.2+ MB\n"
     ]
    },
    {
     "data": {
      "text/plain": [
       "None"
      ]
     },
     "metadata": {},
     "output_type": "display_data"
    }
   ],
   "source": [
    "clients['date_start'] = pd.to_datetime(clients['date_start'])\n",
    "df['date'] = pd.DatetimeIndex(df['date']).date\n",
    "df['date'] = pd.to_datetime(df['date'], format = '%Y-%m-%d')\n",
    "df = df.astype({'internal': 'boolean', 'operator_id': 'Int64'})\n",
    "display(clients.info())\n",
    "display(df.info())"
   ]
  },
  {
   "cell_type": "markdown",
   "metadata": {},
   "source": [
    "**Вывод**\n",
    "\n",
    "    Названия столбцов в датасетах корректны\n",
    "    Датасет clients \n",
    "           содержит 732 строки пропусков в данных нет, \n",
    "           для поля date_start преобразован тип.\n",
    "    Датасет dt\n",
    "        содержит 53902 строки\n",
    "        удалены явные дубликаты\n",
    "        Пропуски в \n",
    "            поле internal (удалены из-за малого количества) и \n",
    "            operator_id (оставлено без изменений т.к. не повлияет на рачеты, основная масса пропущеные звонки)\n",
    "        Поля date, internal и operator_id  - преобразован тип данных\n",
    "        после обработки датасет содержит 48892 строки\n",
    "        \n",
    "данные можно считать достаточными для исследования"
   ]
  },
  {
   "cell_type": "markdown",
   "metadata": {},
   "source": [
    "## Исследовательский анализ данных\n",
    "### Проверка на аномалии и принятие решения на их устранение"
   ]
  },
  {
   "cell_type": "code",
   "execution_count": 15,
   "metadata": {},
   "outputs": [
    {
     "data": {
      "text/plain": [
       "array([[<AxesSubplot:title={'center':'user_id'}>,\n",
       "        <AxesSubplot:title={'center':'date'}>],\n",
       "       [<AxesSubplot:title={'center':'operator_id'}>,\n",
       "        <AxesSubplot:title={'center':'calls_count'}>],\n",
       "       [<AxesSubplot:title={'center':'call_duration'}>,\n",
       "        <AxesSubplot:title={'center':'total_call_duration'}>]],\n",
       "      dtype=object)"
      ]
     },
     "execution_count": 15,
     "metadata": {},
     "output_type": "execute_result"
    },
    {
     "data": {
      "image/png": "[encoded data removed]",
      "text/plain": [
       "<Figure size 1080x1080 with 6 Axes>"
      ]
     },
     "metadata": {
      "needs_background": "light"
     },
     "output_type": "display_data"
    }
   ],
   "source": [
    "df.hist(figsize=(15, 15))"
   ]
  },
  {
   "cell_type": "markdown",
   "metadata": {},
   "source": [
    "Похоже имеются аномалии в столбцах calls_count, call_duration, total_call_duration. Рассмотрим эти поля подробнее.\n",
    "\n",
    "#### Аномалия  calls_count\n",
    "\n",
    "найдем количество звонков сделаных каждым оператором за день"
   ]
  },
  {
   "cell_type": "code",
   "execution_count": 16,
   "metadata": {},
   "outputs": [
    {
     "data": {
      "text/plain": [
       "date        operator_id\n",
       "2019-11-11  929428         5022\n",
       "2019-10-01  885876         2767\n",
       "2019-10-31  929428         2730\n",
       "2019-09-24  885876         2325\n",
       "2019-09-17  885876         2206\n",
       "                           ... \n",
       "2019-10-29  166708            1\n",
       "            166782            1\n",
       "            166803            1\n",
       "            166839            1\n",
       "2019-10-26  166392            1\n",
       "Name: calls_count, Length: 26639, dtype: int64"
      ]
     },
     "execution_count": 16,
     "metadata": {},
     "output_type": "execute_result"
    }
   ],
   "source": [
    "df.groupby(['date','operator_id'])['calls_count'].sum().sort_values(ascending=False)"
   ]
  },
  {
   "cell_type": "code",
   "execution_count": 17,
   "metadata": {},
   "outputs": [
    {
     "data": {
      "text/plain": [
       "count    26639.000000\n",
       "mean        30.274560\n",
       "std        107.698868\n",
       "min          1.000000\n",
       "25%          2.000000\n",
       "50%          6.000000\n",
       "75%         24.000000\n",
       "max       5022.000000\n",
       "Name: calls_count, dtype: float64"
      ]
     },
     "metadata": {},
     "output_type": "display_data"
    },
    {
     "name": "stdout",
     "output_type": "stream",
     "text": [
      "3.49 звонка совершается каждую минуту в случае максимальной аномалии\n"
     ]
    }
   ],
   "source": [
    "display(df.groupby(['date','operator_id'])['calls_count'].sum().describe())\n",
    "print((1/(60*24/df.groupby(['date','operator_id'])['calls_count'].sum().max())).round(2), \n",
    "      'звонка совершается каждую минуту в случае максимальной аномалии')"
   ]
  },
  {
   "cell_type": "markdown",
   "metadata": {},
   "source": [
    "Складывается впечатление, что за большим количеством звонков у клиентов скрываются боты-звонилки или это входящие звонки. Если звонки исходящие, то бот не дозвонился и перешел к следующему звонку и это хорошо для оператора. Если звонки входящие, то скорее всего абонент не дождался ответа и тут колл-центр должен увеличить свою мощность, что опять же хорошо для нашего клиента.\n",
    "\n",
    "Оставляем как есть эту аномалию.\n",
    "\n",
    "#### Аномалия call_duration\n"
   ]
  },
  {
   "cell_type": "markdown",
   "metadata": {},
   "source": [
    "\n",
    "найдем суммарную продолжительность звонков сделаных каждым оператором за день"
   ]
  },
  {
   "cell_type": "code",
   "execution_count": 18,
   "metadata": {},
   "outputs": [
    {
     "data": {
      "text/plain": [
       "count     26639.000000\n",
       "mean       1593.250385\n",
       "std        5192.959457\n",
       "min           0.000000\n",
       "25%           0.000000\n",
       "50%         250.000000\n",
       "75%        1528.000000\n",
       "max      145006.000000\n",
       "Name: call_duration, dtype: float64"
      ]
     },
     "metadata": {},
     "output_type": "display_data"
    },
    {
     "name": "stdout",
     "output_type": "stream",
     "text": [
      "без учета пропущеных звонков\n"
     ]
    },
    {
     "data": {
      "text/plain": [
       "count     18956.000000\n",
       "mean       2239.005961\n",
       "std        6037.493066\n",
       "min           1.000000\n",
       "25%         180.000000\n",
       "50%         770.500000\n",
       "75%        2339.250000\n",
       "max      145006.000000\n",
       "Name: call_duration, dtype: float64"
      ]
     },
     "metadata": {},
     "output_type": "display_data"
    },
    {
     "name": "stdout",
     "output_type": "stream",
     "text": [
      "Количество минут - 1440 , секунд - 86400  в сутках\n"
     ]
    }
   ],
   "source": [
    "df_caldur = df.groupby(['date','operator_id'])['call_duration'].sum().sort_values(ascending=False).reset_index(drop=False)\n",
    "\n",
    "display(df_caldur['call_duration'].describe())\n",
    "print('без учета пропущеных звонков')\n",
    "display(df_caldur[df_caldur['call_duration']>0]['call_duration'].describe())\n",
    "\n",
    "print('Количество минут -', 24 * 60, ', секунд -',24*60*60,' в сутках')"
   ]
  },
  {
   "cell_type": "markdown",
   "metadata": {},
   "source": [
    "Более 1440 минут не может быть длительность звонка в сутках для одного оператора. Похоже какая-то ошибка. Нужно удалить все значения больше 1440 минут, но таких значений слишком много примерно 25%. Скорее всего время в логе больше 1440 представлено в секундах, попробуем преобразовать эти значения в минуты и проверить еще раз на аномальные значения.\n",
    "\n",
    "найдем список операторов с аномальными значениями"
   ]
  },
  {
   "cell_type": "markdown",
   "metadata": {},
   "source": [
    "определим список операторов для превышен максимально возможное продолжительность звонка в сутки"
   ]
  },
  {
   "cell_type": "code",
   "execution_count": 19,
   "metadata": {
    "scrolled": true
   },
   "outputs": [
    {
     "data": {
      "text/plain": [
       "array([885876])"
      ]
     },
     "execution_count": 19,
     "metadata": {},
     "output_type": "execute_result"
    }
   ],
   "source": [
    "df_caldur_opid = df_caldur[df_caldur['call_duration']>(24*60*60)]['operator_id'].unique()\n",
    "df_caldur_opid"
   ]
  },
  {
   "cell_type": "markdown",
   "metadata": {},
   "source": [
    "только один оператор с значением превышающий значение. Возможно клиент нарушает соглашение и использует для одного оператора несколько точек доступа. Посмотрим сколько записей для этого оператора имеется в логе."
   ]
  },
  {
   "cell_type": "code",
   "execution_count": 20,
   "metadata": {},
   "outputs": [
    {
     "name": "stdout",
     "output_type": "stream",
     "text": [
      "283 записи имеется для оператора\n"
     ]
    }
   ],
   "source": [
    "print(df[df['operator_id'].isin(df_caldur_opid)]['call_duration'].count(), 'записи имеется для оператора')"
   ]
  },
  {
   "cell_type": "code",
   "execution_count": 21,
   "metadata": {},
   "outputs": [
    {
     "name": "stdout",
     "output_type": "stream",
     "text": [
      "0.58% от общего количества\n"
     ]
    }
   ],
   "source": [
    "print(\"{0:.2%}\".format(df[df['operator_id'].isin(df_caldur_opid)]['call_duration'].count()/df['call_duration'].count()), \n",
    "      'от общего количества'\n",
    "     )"
   ]
  },
  {
   "cell_type": "markdown",
   "metadata": {},
   "source": [
    "удалим записи оператора с аномальными значениями"
   ]
  },
  {
   "cell_type": "code",
   "execution_count": 22,
   "metadata": {},
   "outputs": [
    {
     "data": {
      "text/plain": [
       "count    27600.000000\n",
       "mean      1379.661014\n",
       "std       3427.218181\n",
       "min          1.000000\n",
       "25%        106.000000\n",
       "50%        431.000000\n",
       "75%       1394.000000\n",
       "max      72094.000000\n",
       "Name: call_duration, dtype: float64"
      ]
     },
     "metadata": {},
     "output_type": "display_data"
    }
   ],
   "source": [
    "df = df[~df['operator_id'].isin(df_caldur_opid)]\n",
    "display(df[df['call_duration']>0]['call_duration'].describe())"
   ]
  },
  {
   "cell_type": "markdown",
   "metadata": {},
   "source": [
    "#### Аномалия total_call_duration"
   ]
  },
  {
   "cell_type": "code",
   "execution_count": 23,
   "metadata": {},
   "outputs": [
    {
     "data": {
      "text/plain": [
       "count    48609.000000\n",
       "mean      1047.777984\n",
       "std       3205.676591\n",
       "min          0.000000\n",
       "25%         46.000000\n",
       "50%        207.000000\n",
       "75%        887.000000\n",
       "max      82634.000000\n",
       "Name: total_call_duration, dtype: float64"
      ]
     },
     "metadata": {},
     "output_type": "display_data"
    },
    {
     "name": "stdout",
     "output_type": "stream",
     "text": [
      "Количество минут - 1440 , секунд - 86400  в сутках\n"
     ]
    }
   ],
   "source": [
    "display(df['total_call_duration'].describe())\n",
    "print('Количество минут -', 24 * 60, ', секунд -',24*60*60,' в сутках')"
   ]
  },
  {
   "cell_type": "markdown",
   "metadata": {},
   "source": [
    "После удаления оператора с аномальными значениями из поля call_duration, в поле total_call_duration также не наблюдается аномалий"
   ]
  },
  {
   "cell_type": "markdown",
   "metadata": {},
   "source": [
    "### Определение данными за какой период мы располагаем, поиск максимальной и минимальной даты и определение какой период будет использоваться для анализа"
   ]
  },
  {
   "cell_type": "code",
   "execution_count": 24,
   "metadata": {},
   "outputs": [
    {
     "name": "stdout",
     "output_type": "stream",
     "text": [
      "Дата начала сбора статистики 2019-08-02 00:00:00\n",
      "Дата окончания 2019-11-28 00:00:00\n"
     ]
    }
   ],
   "source": [
    "print(\n",
    "    'Дата начала сбора статистики',\n",
    "    df['date'].min())\n",
    "print(\n",
    "    'Дата окончания',\n",
    "    df['date'].max())"
   ]
  },
  {
   "cell_type": "code",
   "execution_count": 25,
   "metadata": {},
   "outputs": [
    {
     "data": {
      "text/html": [
       "<div>\n",
       "<style scoped>\n",
       "    .dataframe tbody tr th:only-of-type {\n",
       "        vertical-align: middle;\n",
       "    }\n",
       "\n",
       "    .dataframe tbody tr th {\n",
       "        vertical-align: top;\n",
       "    }\n",
       "\n",
       "    .dataframe thead th {\n",
       "        text-align: right;\n",
       "    }\n",
       "</style>\n",
       "<table border=\"1\" class=\"dataframe\">\n",
       "  <thead>\n",
       "    <tr style=\"text-align: right;\">\n",
       "      <th></th>\n",
       "      <th>user_id</th>\n",
       "      <th>date</th>\n",
       "      <th>direction</th>\n",
       "      <th>internal</th>\n",
       "      <th>operator_id</th>\n",
       "      <th>is_missed_call</th>\n",
       "      <th>calls_count</th>\n",
       "      <th>call_duration</th>\n",
       "      <th>total_call_duration</th>\n",
       "      <th>month</th>\n",
       "    </tr>\n",
       "  </thead>\n",
       "  <tbody>\n",
       "    <tr>\n",
       "      <th>0</th>\n",
       "      <td>166377</td>\n",
       "      <td>2019-08-04</td>\n",
       "      <td>in</td>\n",
       "      <td>False</td>\n",
       "      <td>166377</td>\n",
       "      <td>True</td>\n",
       "      <td>2</td>\n",
       "      <td>0</td>\n",
       "      <td>4</td>\n",
       "      <td>8</td>\n",
       "    </tr>\n",
       "    <tr>\n",
       "      <th>1</th>\n",
       "      <td>166377</td>\n",
       "      <td>2019-08-05</td>\n",
       "      <td>out</td>\n",
       "      <td>True</td>\n",
       "      <td>880022</td>\n",
       "      <td>True</td>\n",
       "      <td>3</td>\n",
       "      <td>0</td>\n",
       "      <td>5</td>\n",
       "      <td>8</td>\n",
       "    </tr>\n",
       "    <tr>\n",
       "      <th>2</th>\n",
       "      <td>166377</td>\n",
       "      <td>2019-08-05</td>\n",
       "      <td>out</td>\n",
       "      <td>True</td>\n",
       "      <td>880020</td>\n",
       "      <td>True</td>\n",
       "      <td>1</td>\n",
       "      <td>0</td>\n",
       "      <td>1</td>\n",
       "      <td>8</td>\n",
       "    </tr>\n",
       "    <tr>\n",
       "      <th>3</th>\n",
       "      <td>166377</td>\n",
       "      <td>2019-08-05</td>\n",
       "      <td>out</td>\n",
       "      <td>True</td>\n",
       "      <td>880020</td>\n",
       "      <td>False</td>\n",
       "      <td>1</td>\n",
       "      <td>10</td>\n",
       "      <td>18</td>\n",
       "      <td>8</td>\n",
       "    </tr>\n",
       "    <tr>\n",
       "      <th>4</th>\n",
       "      <td>166377</td>\n",
       "      <td>2019-08-05</td>\n",
       "      <td>out</td>\n",
       "      <td>False</td>\n",
       "      <td>880022</td>\n",
       "      <td>True</td>\n",
       "      <td>3</td>\n",
       "      <td>0</td>\n",
       "      <td>25</td>\n",
       "      <td>8</td>\n",
       "    </tr>\n",
       "  </tbody>\n",
       "</table>\n",
       "</div>"
      ],
      "text/plain": [
       "   user_id       date direction  internal  operator_id  is_missed_call  \\\n",
       "0   166377 2019-08-04        in     False       166377            True   \n",
       "1   166377 2019-08-05       out      True       880022            True   \n",
       "2   166377 2019-08-05       out      True       880020            True   \n",
       "3   166377 2019-08-05       out      True       880020           False   \n",
       "4   166377 2019-08-05       out     False       880022            True   \n",
       "\n",
       "   calls_count  call_duration  total_call_duration  month  \n",
       "0            2              0                    4      8  \n",
       "1            3              0                    5      8  \n",
       "2            1              0                    1      8  \n",
       "3            1             10                   18      8  \n",
       "4            3              0                   25      8  "
      ]
     },
     "execution_count": 25,
     "metadata": {},
     "output_type": "execute_result"
    }
   ],
   "source": [
    "df['month'] = pd.to_datetime(df['date']).dt.month\n",
    "df.head()"
   ]
  },
  {
   "cell_type": "code",
   "execution_count": 26,
   "metadata": {},
   "outputs": [
    {
     "data": {
      "image/png": "[encoded data removed]",
      "text/plain": [
       "<Figure size 1080x504 with 1 Axes>"
      ]
     },
     "metadata": {
      "needs_background": "light"
     },
     "output_type": "display_data"
    }
   ],
   "source": [
    "df.groupby(['month'])['calls_count'].sum().plot(kind='bar',figsize=(15, 7))\n",
    "plt.title('Распределение количества звонков по месяцам', fontsize=16)\n",
    "plt.xlabel('месяц', fontsize=14)\n",
    "plt.ylabel('количество звонков', fontsize=14)\n",
    "plt.show()"
   ]
  },
  {
   "cell_type": "markdown",
   "metadata": {},
   "source": [
    "активность клиентов растет по месяцам равномерно и не понятно какой период нужно отбросить. Посмотрим на это по неделям, добавим поле с номером недели и оценим"
   ]
  },
  {
   "cell_type": "code",
   "execution_count": 27,
   "metadata": {},
   "outputs": [
    {
     "data": {
      "text/html": [
       "<div>\n",
       "<style scoped>\n",
       "    .dataframe tbody tr th:only-of-type {\n",
       "        vertical-align: middle;\n",
       "    }\n",
       "\n",
       "    .dataframe tbody tr th {\n",
       "        vertical-align: top;\n",
       "    }\n",
       "\n",
       "    .dataframe thead th {\n",
       "        text-align: right;\n",
       "    }\n",
       "</style>\n",
       "<table border=\"1\" class=\"dataframe\">\n",
       "  <thead>\n",
       "    <tr style=\"text-align: right;\">\n",
       "      <th></th>\n",
       "      <th>user_id</th>\n",
       "      <th>date</th>\n",
       "      <th>direction</th>\n",
       "      <th>internal</th>\n",
       "      <th>operator_id</th>\n",
       "      <th>is_missed_call</th>\n",
       "      <th>calls_count</th>\n",
       "      <th>call_duration</th>\n",
       "      <th>total_call_duration</th>\n",
       "      <th>month</th>\n",
       "      <th>week</th>\n",
       "    </tr>\n",
       "  </thead>\n",
       "  <tbody>\n",
       "    <tr>\n",
       "      <th>0</th>\n",
       "      <td>166377</td>\n",
       "      <td>2019-08-04</td>\n",
       "      <td>in</td>\n",
       "      <td>False</td>\n",
       "      <td>166377</td>\n",
       "      <td>True</td>\n",
       "      <td>2</td>\n",
       "      <td>0</td>\n",
       "      <td>4</td>\n",
       "      <td>8</td>\n",
       "      <td>31</td>\n",
       "    </tr>\n",
       "  </tbody>\n",
       "</table>\n",
       "</div>"
      ],
      "text/plain": [
       "   user_id       date direction  internal  operator_id  is_missed_call  \\\n",
       "0   166377 2019-08-04        in     False       166377            True   \n",
       "\n",
       "   calls_count  call_duration  total_call_duration  month  week  \n",
       "0            2              0                    4      8    31  "
      ]
     },
     "execution_count": 27,
     "metadata": {},
     "output_type": "execute_result"
    }
   ],
   "source": [
    "df['week'] = df['date'].dt.isocalendar().week\n",
    "df.head(1)"
   ]
  },
  {
   "cell_type": "markdown",
   "metadata": {},
   "source": [
    "Построим диаграмму распределения звонков по неделям"
   ]
  },
  {
   "cell_type": "code",
   "execution_count": 28,
   "metadata": {},
   "outputs": [
    {
     "data": {
      "image/png": "[encoded data removed]",
      "text/plain": [
       "<Figure size 1080x504 with 1 Axes>"
      ]
     },
     "metadata": {
      "needs_background": "light"
     },
     "output_type": "display_data"
    }
   ],
   "source": [
    "df.groupby(['week'])['calls_count'].sum().plot(kind='bar',figsize=(15, 7))\n",
    "plt.title('Распределение количества звонков по неделям', fontsize=16)\n",
    "plt.xlabel('номер недели в году', fontsize=14)\n",
    "plt.ylabel('количество звонков', fontsize=14)\n",
    "plt.show()"
   ]
  },
  {
   "cell_type": "markdown",
   "metadata": {},
   "source": [
    "Самая большая активность в ноябре 2019 года\n",
    "\n",
    "резкий рост количества звонков начался на 39 неделе (последняя неделя сентября), думаю можно удалить из исследования август, т.к. данные не сначала месяца и активность клиентов очень мала. Что касается неполного месяца в ноябре, то скорее всего это повлияет на общую выручку клиента в нашем исследовании"
   ]
  },
  {
   "cell_type": "code",
   "execution_count": 29,
   "metadata": {},
   "outputs": [
    {
     "data": {
      "text/html": [
       "<div>\n",
       "<style scoped>\n",
       "    .dataframe tbody tr th:only-of-type {\n",
       "        vertical-align: middle;\n",
       "    }\n",
       "\n",
       "    .dataframe tbody tr th {\n",
       "        vertical-align: top;\n",
       "    }\n",
       "\n",
       "    .dataframe thead th {\n",
       "        text-align: right;\n",
       "    }\n",
       "</style>\n",
       "<table border=\"1\" class=\"dataframe\">\n",
       "  <thead>\n",
       "    <tr style=\"text-align: right;\">\n",
       "      <th></th>\n",
       "      <th>user_id</th>\n",
       "      <th>date</th>\n",
       "      <th>direction</th>\n",
       "      <th>internal</th>\n",
       "      <th>operator_id</th>\n",
       "      <th>is_missed_call</th>\n",
       "      <th>calls_count</th>\n",
       "      <th>call_duration</th>\n",
       "      <th>total_call_duration</th>\n",
       "      <th>month</th>\n",
       "      <th>week</th>\n",
       "    </tr>\n",
       "  </thead>\n",
       "  <tbody>\n",
       "    <tr>\n",
       "      <th>14210</th>\n",
       "      <td>166901</td>\n",
       "      <td>2019-09-01</td>\n",
       "      <td>in</td>\n",
       "      <td>False</td>\n",
       "      <td>166901</td>\n",
       "      <td>True</td>\n",
       "      <td>2</td>\n",
       "      <td>0</td>\n",
       "      <td>67</td>\n",
       "      <td>9</td>\n",
       "      <td>35</td>\n",
       "    </tr>\n",
       "    <tr>\n",
       "      <th>9270</th>\n",
       "      <td>166678</td>\n",
       "      <td>2019-09-01</td>\n",
       "      <td>out</td>\n",
       "      <td>True</td>\n",
       "      <td>900894</td>\n",
       "      <td>True</td>\n",
       "      <td>1</td>\n",
       "      <td>0</td>\n",
       "      <td>0</td>\n",
       "      <td>9</td>\n",
       "      <td>35</td>\n",
       "    </tr>\n",
       "    <tr>\n",
       "      <th>9269</th>\n",
       "      <td>166678</td>\n",
       "      <td>2019-09-01</td>\n",
       "      <td>out</td>\n",
       "      <td>False</td>\n",
       "      <td>900892</td>\n",
       "      <td>False</td>\n",
       "      <td>2</td>\n",
       "      <td>616</td>\n",
       "      <td>642</td>\n",
       "      <td>9</td>\n",
       "      <td>35</td>\n",
       "    </tr>\n",
       "    <tr>\n",
       "      <th>9268</th>\n",
       "      <td>166678</td>\n",
       "      <td>2019-09-01</td>\n",
       "      <td>out</td>\n",
       "      <td>False</td>\n",
       "      <td>900892</td>\n",
       "      <td>True</td>\n",
       "      <td>7</td>\n",
       "      <td>0</td>\n",
       "      <td>62</td>\n",
       "      <td>9</td>\n",
       "      <td>35</td>\n",
       "    </tr>\n",
       "    <tr>\n",
       "      <th>9267</th>\n",
       "      <td>166678</td>\n",
       "      <td>2019-09-01</td>\n",
       "      <td>in</td>\n",
       "      <td>True</td>\n",
       "      <td>900892</td>\n",
       "      <td>False</td>\n",
       "      <td>1</td>\n",
       "      <td>20</td>\n",
       "      <td>24</td>\n",
       "      <td>9</td>\n",
       "      <td>35</td>\n",
       "    </tr>\n",
       "  </tbody>\n",
       "</table>\n",
       "</div>"
      ],
      "text/plain": [
       "       user_id       date direction  internal  operator_id  is_missed_call  \\\n",
       "14210   166901 2019-09-01        in     False       166901            True   \n",
       "9270    166678 2019-09-01       out      True       900894            True   \n",
       "9269    166678 2019-09-01       out     False       900892           False   \n",
       "9268    166678 2019-09-01       out     False       900892            True   \n",
       "9267    166678 2019-09-01        in      True       900892           False   \n",
       "\n",
       "       calls_count  call_duration  total_call_duration  month  week  \n",
       "14210            2              0                   67      9    35  \n",
       "9270             1              0                    0      9    35  \n",
       "9269             2            616                  642      9    35  \n",
       "9268             7              0                   62      9    35  \n",
       "9267             1             20                   24      9    35  "
      ]
     },
     "metadata": {},
     "output_type": "display_data"
    },
    {
     "name": "stdout",
     "output_type": "stream",
     "text": [
      "количество дней сентября в которые имеются записи в логе составляет 30 дней. Пропусков нет!\n"
     ]
    }
   ],
   "source": [
    "df=df[df['month']!=8]\n",
    "display(df.sort_values(by='date').head())\n",
    "print('количество дней сентября в которые имеются записи в логе составляет',df[df['month']==9]['date'].nunique(),'дней. Пропусков нет!')"
   ]
  },
  {
   "cell_type": "markdown",
   "metadata": {},
   "source": [
    "### Определение активных клиентов"
   ]
  },
  {
   "cell_type": "markdown",
   "metadata": {},
   "source": [
    "Будем считать активными клиентов которые имели активность в последнем месяце исследуемого периода "
   ]
  },
  {
   "cell_type": "markdown",
   "metadata": {},
   "source": [
    "Последний месяц исследуемого периода - ноябрь 2019 года"
   ]
  },
  {
   "cell_type": "code",
   "execution_count": 30,
   "metadata": {},
   "outputs": [
    {
     "name": "stdout",
     "output_type": "stream",
     "text": [
      "86.14% активных пользователей\n"
     ]
    }
   ],
   "source": [
    "print(\"{0:.2%}\".format(df[df['month']==df['month'].max()]['user_id'].nunique()/df['user_id'].nunique()),\n",
    "      'активных пользователей'\n",
    "     )"
   ]
  },
  {
   "cell_type": "code",
   "execution_count": 31,
   "metadata": {
    "scrolled": true
   },
   "outputs": [
    {
     "name": "stdout",
     "output_type": "stream",
     "text": [
      "список активных пользователей\n",
      " [166377 166391 166392 166405 166406 166407 166428 166482 166485 166487\n",
      " 166495 166503 166511 166520 166533 166536 166541 166548 166582 166585\n",
      " 166604 166609 166619 166636 166649 166658 166660 166669 166677 166678\n",
      " 166680 166688 166691 166692 166697 166708 166711 166713 166717 166725\n",
      " 166726 166732 166774 166782 166800 166803 166812 166813 166833 166836\n",
      " 166837 166839 166843 166879 166884 166896 166899 166901 166916 166939\n",
      " 166940 166971 166973 166974 166975 166983 166985 166997 167002 167003\n",
      " 167004 167016 167031 167035 167052 167059 167060 167061 167071 167077\n",
      " 167078 167079 167082 167102 167109 167110 167112 167114 167139 167150\n",
      " 167158 167162 167172 167175 167176 167180 167183 167185 167188 167199\n",
      " 167200 167235 167238 167242 167246 167250 167263 167264 167265 167272\n",
      " 167275 167277 167286 167338 167359 167364 167397 167402 167412 167436\n",
      " 167445 167451 167455 167456 167466 167471 167475 167479 167487 167497\n",
      " 167506 167521 167532 167533 167534 167543 167545 167575 167580 167599\n",
      " 167621 167630 167634 167644 167646 167650 167653 167654 167664 167715\n",
      " 167716 167721 167727 167742 167744 167747 167756 167781 167792 167799\n",
      " 167805 167816 167827 167828 167829 167840 167847 167852 167870 167888\n",
      " 167906 167908 167923 167927 167930 167936 167947 167948 167949 167955\n",
      " 167958 167969 167976 167977 167981 167989 167994 167995 167998 167999\n",
      " 168000 168004 168008 168010 168016 168018 168019 168021 168024 168041\n",
      " 168042 168047 168048 168054 168062 168064 168073 168090 168091 168097\n",
      " 168101 168105 168110 168121 168128 168154 168155 168180 168185 168187\n",
      " 168190 168193 168202 168221 168225 168228 168252 168253 168264 168271\n",
      " 168275 168291 168295 168303 168307 168315 168329 168336 168361 168366\n",
      " 168377 168412 168416 168446 168459 168464 168466 168473 168481 168490\n",
      " 168500 168522 168562 168575 168578 168579 168583 168598 168601 168603\n",
      " 168606]\n"
     ]
    }
   ],
   "source": [
    "active_usr = df[df['month']==df['month'].max()]['user_id'].unique()\n",
    "print('список активных пользователей\\n', active_usr)"
   ]
  },
  {
   "cell_type": "markdown",
   "metadata": {},
   "source": [
    "**Вывод**\n",
    "\n",
    "\n",
    "    Данные содержали аномальные значения и так как эти аномальные значения были только для одного оператора доля которого 0.58% от общего количества записей, то было принято решение удалить данного опреатора.\n",
    "    Мы распологаем предоставленными данными за 4 месяца (08.19-11.19), больше всего данных предоставлено за ноябрь.\n",
    "    Активных бользователей примерно 85% от общего количества."
   ]
  },
  {
   "cell_type": "markdown",
   "metadata": {},
   "source": [
    "## Основные вопросы исследования"
   ]
  },
  {
   "cell_type": "markdown",
   "metadata": {},
   "source": [
    "### Объединение датасетов для того чтобы выполнить расчеты и добавить дополнительные столбцы для выполнения анализа"
   ]
  },
  {
   "cell_type": "code",
   "execution_count": 32,
   "metadata": {},
   "outputs": [
    {
     "data": {
      "text/html": [
       "<div>\n",
       "<style scoped>\n",
       "    .dataframe tbody tr th:only-of-type {\n",
       "        vertical-align: middle;\n",
       "    }\n",
       "\n",
       "    .dataframe tbody tr th {\n",
       "        vertical-align: top;\n",
       "    }\n",
       "\n",
       "    .dataframe thead th {\n",
       "        text-align: right;\n",
       "    }\n",
       "</style>\n",
       "<table border=\"1\" class=\"dataframe\">\n",
       "  <thead>\n",
       "    <tr style=\"text-align: right;\">\n",
       "      <th></th>\n",
       "      <th>user_id</th>\n",
       "      <th>date</th>\n",
       "      <th>direction</th>\n",
       "      <th>internal</th>\n",
       "      <th>operator_id</th>\n",
       "      <th>is_missed_call</th>\n",
       "      <th>calls_count</th>\n",
       "      <th>call_duration</th>\n",
       "      <th>total_call_duration</th>\n",
       "      <th>month</th>\n",
       "      <th>week</th>\n",
       "      <th>tariff_plan</th>\n",
       "      <th>date_start</th>\n",
       "    </tr>\n",
       "  </thead>\n",
       "  <tbody>\n",
       "    <tr>\n",
       "      <th>0</th>\n",
       "      <td>166377</td>\n",
       "      <td>2019-09-02</td>\n",
       "      <td>in</td>\n",
       "      <td>False</td>\n",
       "      <td>880028</td>\n",
       "      <td>False</td>\n",
       "      <td>2</td>\n",
       "      <td>66</td>\n",
       "      <td>75</td>\n",
       "      <td>9</td>\n",
       "      <td>36</td>\n",
       "      <td>B</td>\n",
       "      <td>2019-08-01</td>\n",
       "    </tr>\n",
       "  </tbody>\n",
       "</table>\n",
       "</div>"
      ],
      "text/plain": [
       "   user_id       date direction  internal  operator_id  is_missed_call  \\\n",
       "0   166377 2019-09-02        in     False       880028           False   \n",
       "\n",
       "   calls_count  call_duration  total_call_duration  month  week tariff_plan  \\\n",
       "0            2             66                   75      9    36           B   \n",
       "\n",
       "  date_start  \n",
       "0 2019-08-01  "
      ]
     },
     "metadata": {},
     "output_type": "display_data"
    },
    {
     "name": "stdout",
     "output_type": "stream",
     "text": [
      "0 записей было пропушено при объединении таблиц\n"
     ]
    }
   ],
   "source": [
    "data = df.merge(clients, left_on = 'user_id', right_on = 'user_id')\n",
    "#display(data.head())\n",
    "display(data.head(1))\n",
    "print(data[~data['user_id'].isin(clients['user_id'])]['user_id'].count(),'записей было пропушено при объединении таблиц')"
   ]
  },
  {
   "cell_type": "markdown",
   "metadata": {},
   "source": [
    "Была создана основная таблица для вычислений путем добавления информации о тарифах из датафрейма clients в датафрейм df с данными для анализа. Выполнена проверка на наличие записей user_id таблицы df из таблицы clients. Пропусков не обнаружено. Все неоходимые для исследования записи имею нужные данные."
   ]
  },
  {
   "cell_type": "markdown",
   "metadata": {},
   "source": [
    "### Добавление функций для расчета затрат колл-центров в зависимости от тарифного плана\n"
   ]
  },
  {
   "cell_type": "markdown",
   "metadata": {},
   "source": [
    "#### Напишем функцию расчета стоимости услуг за один месяц\n",
    "\n",
    "В функции выполняется расчет затрат в зависимости от тарифного плана, предоплаченых внутренних минут, стоимости исходящих внутренних и внешних звонков согласно ТЗ"
   ]
  },
  {
   "cell_type": "code",
   "execution_count": 33,
   "metadata": {},
   "outputs": [],
   "source": [
    "def calc(row):\n",
    "    if row['tariff_plan']=='A':\n",
    "        remaining_minutes = 2000 - row['int_out_calls_dur']\n",
    "        if remaining_minutes < 0:\n",
    "            int_out_price = -1 * remaining_minutes * 0.1\n",
    "        else:\n",
    "            int_out_price = 0\n",
    "        ext_out_price = row['ext_out_calls_dur'] * 0.3\n",
    "        \n",
    "        return 4000 + int_out_price + ext_out_price + row['cnt_operator'] * 50\n",
    "    \n",
    "    elif row['tariff_plan']=='B':\n",
    "        remaining_minutes = 500 - row['int_out_calls_dur']\n",
    "        if remaining_minutes < 0:\n",
    "            int_out_price = -1 * remaining_minutes * 0.15\n",
    "        else:\n",
    "            int_out_price = 0\n",
    "        ext_out_price = row['ext_out_calls_dur'] * 0.5\n",
    "        return 2000 + int_out_price + ext_out_price + row['cnt_operator'] * 150\n",
    "    \n",
    "    else:\n",
    "        int_out_price = row['int_out_calls_dur'] * 0.3\n",
    "        ext_out_price = row['ext_out_calls_dur'] * 0.7\n",
    "        return 1000 + int_out_price + ext_out_price + row['cnt_operator'] * 300    "
   ]
  },
  {
   "cell_type": "markdown",
   "metadata": {},
   "source": [
    "#### Напишем функции расчета стоимости услуг за один месяц для каждого тарифного плана\n",
    "\n",
    "в функциях ниже выполняем расчет для всех трех тарифных планов в применени к текущей ситуации по звонкам"
   ]
  },
  {
   "cell_type": "code",
   "execution_count": 34,
   "metadata": {},
   "outputs": [],
   "source": [
    "def calc_a(row):\n",
    "    remaining_minutes = 2000 - row['int_out_calls_dur']\n",
    "    if remaining_minutes < 0:\n",
    "        int_out_price = -1 * remaining_minutes * 0.1\n",
    "    else:\n",
    "        int_out_price = 0\n",
    "    ext_out_price = row['ext_out_calls_dur'] * 0.3\n",
    "    \n",
    "    return 4000 + int_out_price + ext_out_price + row['cnt_operator'] * 50\n",
    "\n",
    "def calc_b(row):\n",
    "    remaining_minutes = 500 - row['int_out_calls_dur']\n",
    "    if remaining_minutes < 0:\n",
    "        int_out_price = -1 * remaining_minutes * 0.15\n",
    "    else:\n",
    "        int_out_price = 0\n",
    "    ext_out_price = row['ext_out_calls_dur'] * 0.5\n",
    "    return 2000 + int_out_price + ext_out_price + row['cnt_operator'] * 150\n",
    "\n",
    "def calc_c(row):\n",
    "    int_out_price = row['int_out_calls_dur'] * 0.3\n",
    "    ext_out_price = row['ext_out_calls_dur'] * 0.7\n",
    "    return 1000 + int_out_price + ext_out_price + row['cnt_operator'] * 300\n"
   ]
  },
  {
   "cell_type": "markdown",
   "metadata": {},
   "source": [
    "#### Функции для определения лучшего тарифа\n",
    "\n",
    "Ищем минимальные затраты в зависимости от ситуации и также находим какому тарифному плану эта ситуация соответсвует"
   ]
  },
  {
   "cell_type": "code",
   "execution_count": 35,
   "metadata": {},
   "outputs": [],
   "source": [
    "def best(row):\n",
    "    return min(row['tp_a'], row['tp_b'], row['tp_c'])\n",
    "\n",
    "def best_name(row):\n",
    "    if min(row['tp_a'], row['tp_b'], row['tp_c']) == row['tp_a']:\n",
    "        return 'A'\n",
    "    if min(row['tp_a'], row['tp_b'], row['tp_c']) == row['tp_b']:\n",
    "        return 'B'\n",
    "    else:\n",
    "        return 'C'"
   ]
  },
  {
   "cell_type": "markdown",
   "metadata": {},
   "source": [
    "#### Функции для определения среднего тарифа\n",
    "\n",
    "Ищем средние затраты в зависимости от ситуации, если средний тариф дороже, то оставляем текущий тариф без изменений и также находим какому тарифному плану эта ситуация соответсвует"
   ]
  },
  {
   "cell_type": "code",
   "execution_count": 36,
   "metadata": {},
   "outputs": [],
   "source": [
    "def mid_tar(row):\n",
    "    if (np.median([row['tp_a'], row['tp_b'], row['tp_c']]))<(row['current_value']):\n",
    "        return np.median([row['tp_a'], row['tp_b'], row['tp_c']])\n",
    "    else:\n",
    "        return row['current_value']\n",
    "    \n",
    "def mid_name(row):\n",
    "    if np.median([row['tp_a'], row['tp_b'], row['tp_c']]) == row['tp_a']:\n",
    "        return 'A'\n",
    "    if np.median([row['tp_a'], row['tp_b'], row['tp_c']]) == row['tp_b']:\n",
    "        return 'B'\n",
    "    else:\n",
    "        return 'C'"
   ]
  },
  {
   "cell_type": "markdown",
   "metadata": {},
   "source": [
    "### Расчет затрат на внешние и внутренние вызовы, общий уровень затрат на текущем тарифоном плане"
   ]
  },
  {
   "cell_type": "markdown",
   "metadata": {},
   "source": [
    "создадим сгруппированный по месяцам, клиентам и количеству операторов датафрейм"
   ]
  },
  {
   "cell_type": "code",
   "execution_count": 37,
   "metadata": {},
   "outputs": [
    {
     "data": {
      "text/html": [
       "<div>\n",
       "<style scoped>\n",
       "    .dataframe tbody tr th:only-of-type {\n",
       "        vertical-align: middle;\n",
       "    }\n",
       "\n",
       "    .dataframe tbody tr th {\n",
       "        vertical-align: top;\n",
       "    }\n",
       "\n",
       "    .dataframe thead th {\n",
       "        text-align: right;\n",
       "    }\n",
       "</style>\n",
       "<table border=\"1\" class=\"dataframe\">\n",
       "  <thead>\n",
       "    <tr style=\"text-align: right;\">\n",
       "      <th></th>\n",
       "      <th>month</th>\n",
       "      <th>user_id</th>\n",
       "      <th>cnt_operator</th>\n",
       "    </tr>\n",
       "  </thead>\n",
       "  <tbody>\n",
       "    <tr>\n",
       "      <th>0</th>\n",
       "      <td>9</td>\n",
       "      <td>166377</td>\n",
       "      <td>5</td>\n",
       "    </tr>\n",
       "    <tr>\n",
       "      <th>1</th>\n",
       "      <td>9</td>\n",
       "      <td>166391</td>\n",
       "      <td>2</td>\n",
       "    </tr>\n",
       "    <tr>\n",
       "      <th>2</th>\n",
       "      <td>9</td>\n",
       "      <td>166392</td>\n",
       "      <td>3</td>\n",
       "    </tr>\n",
       "    <tr>\n",
       "      <th>3</th>\n",
       "      <td>9</td>\n",
       "      <td>166399</td>\n",
       "      <td>2</td>\n",
       "    </tr>\n",
       "    <tr>\n",
       "      <th>4</th>\n",
       "      <td>9</td>\n",
       "      <td>166405</td>\n",
       "      <td>5</td>\n",
       "    </tr>\n",
       "  </tbody>\n",
       "</table>\n",
       "</div>"
      ],
      "text/plain": [
       "   month  user_id  cnt_operator\n",
       "0      9   166377             5\n",
       "1      9   166391             2\n",
       "2      9   166392             3\n",
       "3      9   166399             2\n",
       "4      9   166405             5"
      ]
     },
     "execution_count": 37,
     "metadata": {},
     "output_type": "execute_result"
    }
   ],
   "source": [
    "month_fee_crt = pd.pivot_table(data, index=['month', 'user_id'], \n",
    "                               values=['operator_id', 'total_call_duration'], \n",
    "                               aggfunc={'operator_id':'nunique'}).reset_index(drop=False)\n",
    "month_fee_crt = month_fee_crt.rename(columns={'operator_id':'cnt_operator'})\n",
    "month_fee_crt.head()"
   ]
  },
  {
   "cell_type": "markdown",
   "metadata": {},
   "source": [
    "найдем внутренние исходящие и добавим в дф"
   ]
  },
  {
   "cell_type": "code",
   "execution_count": 38,
   "metadata": {},
   "outputs": [
    {
     "data": {
      "text/html": [
       "<div>\n",
       "<style scoped>\n",
       "    .dataframe tbody tr th:only-of-type {\n",
       "        vertical-align: middle;\n",
       "    }\n",
       "\n",
       "    .dataframe tbody tr th {\n",
       "        vertical-align: top;\n",
       "    }\n",
       "\n",
       "    .dataframe thead th {\n",
       "        text-align: right;\n",
       "    }\n",
       "</style>\n",
       "<table border=\"1\" class=\"dataframe\">\n",
       "  <thead>\n",
       "    <tr style=\"text-align: right;\">\n",
       "      <th></th>\n",
       "      <th>month</th>\n",
       "      <th>user_id</th>\n",
       "      <th>cnt_operator</th>\n",
       "      <th>int_out_calls_dur</th>\n",
       "    </tr>\n",
       "  </thead>\n",
       "  <tbody>\n",
       "    <tr>\n",
       "      <th>0</th>\n",
       "      <td>9</td>\n",
       "      <td>166377</td>\n",
       "      <td>5</td>\n",
       "      <td>9.0</td>\n",
       "    </tr>\n",
       "    <tr>\n",
       "      <th>1</th>\n",
       "      <td>9</td>\n",
       "      <td>166391</td>\n",
       "      <td>2</td>\n",
       "      <td>NaN</td>\n",
       "    </tr>\n",
       "    <tr>\n",
       "      <th>2</th>\n",
       "      <td>9</td>\n",
       "      <td>166392</td>\n",
       "      <td>3</td>\n",
       "      <td>NaN</td>\n",
       "    </tr>\n",
       "    <tr>\n",
       "      <th>3</th>\n",
       "      <td>9</td>\n",
       "      <td>166399</td>\n",
       "      <td>2</td>\n",
       "      <td>NaN</td>\n",
       "    </tr>\n",
       "    <tr>\n",
       "      <th>4</th>\n",
       "      <td>9</td>\n",
       "      <td>166405</td>\n",
       "      <td>5</td>\n",
       "      <td>NaN</td>\n",
       "    </tr>\n",
       "  </tbody>\n",
       "</table>\n",
       "</div>"
      ],
      "text/plain": [
       "   month  user_id  cnt_operator  int_out_calls_dur\n",
       "0      9   166377             5                9.0\n",
       "1      9   166391             2                NaN\n",
       "2      9   166392             3                NaN\n",
       "3      9   166399             2                NaN\n",
       "4      9   166405             5                NaN"
      ]
     },
     "execution_count": 38,
     "metadata": {},
     "output_type": "execute_result"
    }
   ],
   "source": [
    "int_out_cal = (df[(df['direction'] == 'out') & (df['internal'] == True)]\n",
    "                .groupby(['month','user_id'])['total_call_duration'].sum()\n",
    "              ).reset_index(drop=False)\n",
    "int_out_cal = int_out_cal.rename(columns={'total_call_duration':'int_out_calls_dur'})\n",
    "\n",
    "month_fee_crt = month_fee_crt.merge(int_out_cal, on=['month','user_id'], how='left')\n",
    "month_fee_crt.head()"
   ]
  },
  {
   "cell_type": "markdown",
   "metadata": {},
   "source": [
    "найдем внешние исходящие и добавим в дф"
   ]
  },
  {
   "cell_type": "code",
   "execution_count": 39,
   "metadata": {},
   "outputs": [
    {
     "data": {
      "text/html": [
       "<div>\n",
       "<style scoped>\n",
       "    .dataframe tbody tr th:only-of-type {\n",
       "        vertical-align: middle;\n",
       "    }\n",
       "\n",
       "    .dataframe tbody tr th {\n",
       "        vertical-align: top;\n",
       "    }\n",
       "\n",
       "    .dataframe thead th {\n",
       "        text-align: right;\n",
       "    }\n",
       "</style>\n",
       "<table border=\"1\" class=\"dataframe\">\n",
       "  <thead>\n",
       "    <tr style=\"text-align: right;\">\n",
       "      <th></th>\n",
       "      <th>month</th>\n",
       "      <th>user_id</th>\n",
       "      <th>cnt_operator</th>\n",
       "      <th>int_out_calls_dur</th>\n",
       "      <th>ext_out_calls_dur</th>\n",
       "    </tr>\n",
       "  </thead>\n",
       "  <tbody>\n",
       "    <tr>\n",
       "      <th>0</th>\n",
       "      <td>9</td>\n",
       "      <td>166377</td>\n",
       "      <td>5</td>\n",
       "      <td>9.0</td>\n",
       "      <td>105835.0</td>\n",
       "    </tr>\n",
       "    <tr>\n",
       "      <th>1</th>\n",
       "      <td>9</td>\n",
       "      <td>166391</td>\n",
       "      <td>2</td>\n",
       "      <td>NaN</td>\n",
       "      <td>NaN</td>\n",
       "    </tr>\n",
       "    <tr>\n",
       "      <th>2</th>\n",
       "      <td>9</td>\n",
       "      <td>166392</td>\n",
       "      <td>3</td>\n",
       "      <td>NaN</td>\n",
       "      <td>NaN</td>\n",
       "    </tr>\n",
       "    <tr>\n",
       "      <th>3</th>\n",
       "      <td>9</td>\n",
       "      <td>166399</td>\n",
       "      <td>2</td>\n",
       "      <td>NaN</td>\n",
       "      <td>NaN</td>\n",
       "    </tr>\n",
       "    <tr>\n",
       "      <th>4</th>\n",
       "      <td>9</td>\n",
       "      <td>166405</td>\n",
       "      <td>5</td>\n",
       "      <td>NaN</td>\n",
       "      <td>120743.0</td>\n",
       "    </tr>\n",
       "  </tbody>\n",
       "</table>\n",
       "</div>"
      ],
      "text/plain": [
       "   month  user_id  cnt_operator  int_out_calls_dur  ext_out_calls_dur\n",
       "0      9   166377             5                9.0           105835.0\n",
       "1      9   166391             2                NaN                NaN\n",
       "2      9   166392             3                NaN                NaN\n",
       "3      9   166399             2                NaN                NaN\n",
       "4      9   166405             5                NaN           120743.0"
      ]
     },
     "execution_count": 39,
     "metadata": {},
     "output_type": "execute_result"
    }
   ],
   "source": [
    "ext_out_cal = (df[(df['direction'] == 'out') & (df['internal'] == False)]\n",
    "                .groupby(['month','user_id'])['total_call_duration'].sum()\n",
    "              ).reset_index(drop=False)\n",
    "ext_out_cal = ext_out_cal.rename(columns={'total_call_duration':'ext_out_calls_dur'})\n",
    "\n",
    "month_fee_crt = month_fee_crt.merge(ext_out_cal, on=['month','user_id'], how='left')\n",
    "month_fee_crt.head()"
   ]
  },
  {
   "cell_type": "markdown",
   "metadata": {},
   "source": [
    "добавим инфо о тарифном плане"
   ]
  },
  {
   "cell_type": "code",
   "execution_count": 40,
   "metadata": {},
   "outputs": [
    {
     "data": {
      "text/html": [
       "<div>\n",
       "<style scoped>\n",
       "    .dataframe tbody tr th:only-of-type {\n",
       "        vertical-align: middle;\n",
       "    }\n",
       "\n",
       "    .dataframe tbody tr th {\n",
       "        vertical-align: top;\n",
       "    }\n",
       "\n",
       "    .dataframe thead th {\n",
       "        text-align: right;\n",
       "    }\n",
       "</style>\n",
       "<table border=\"1\" class=\"dataframe\">\n",
       "  <thead>\n",
       "    <tr style=\"text-align: right;\">\n",
       "      <th></th>\n",
       "      <th>month</th>\n",
       "      <th>user_id</th>\n",
       "      <th>cnt_operator</th>\n",
       "      <th>int_out_calls_dur</th>\n",
       "      <th>ext_out_calls_dur</th>\n",
       "      <th>tariff_plan</th>\n",
       "    </tr>\n",
       "  </thead>\n",
       "  <tbody>\n",
       "    <tr>\n",
       "      <th>0</th>\n",
       "      <td>9</td>\n",
       "      <td>166377</td>\n",
       "      <td>5</td>\n",
       "      <td>9.0</td>\n",
       "      <td>105835.0</td>\n",
       "      <td>B</td>\n",
       "    </tr>\n",
       "    <tr>\n",
       "      <th>1</th>\n",
       "      <td>10</td>\n",
       "      <td>166377</td>\n",
       "      <td>6</td>\n",
       "      <td>5.0</td>\n",
       "      <td>99207.0</td>\n",
       "      <td>B</td>\n",
       "    </tr>\n",
       "    <tr>\n",
       "      <th>2</th>\n",
       "      <td>11</td>\n",
       "      <td>166377</td>\n",
       "      <td>5</td>\n",
       "      <td>127.0</td>\n",
       "      <td>95384.0</td>\n",
       "      <td>B</td>\n",
       "    </tr>\n",
       "    <tr>\n",
       "      <th>3</th>\n",
       "      <td>9</td>\n",
       "      <td>166391</td>\n",
       "      <td>2</td>\n",
       "      <td>NaN</td>\n",
       "      <td>NaN</td>\n",
       "      <td>C</td>\n",
       "    </tr>\n",
       "    <tr>\n",
       "      <th>4</th>\n",
       "      <td>10</td>\n",
       "      <td>166391</td>\n",
       "      <td>1</td>\n",
       "      <td>NaN</td>\n",
       "      <td>NaN</td>\n",
       "      <td>C</td>\n",
       "    </tr>\n",
       "  </tbody>\n",
       "</table>\n",
       "</div>"
      ],
      "text/plain": [
       "   month  user_id  cnt_operator  int_out_calls_dur  ext_out_calls_dur  \\\n",
       "0      9   166377             5                9.0           105835.0   \n",
       "1     10   166377             6                5.0            99207.0   \n",
       "2     11   166377             5              127.0            95384.0   \n",
       "3      9   166391             2                NaN                NaN   \n",
       "4     10   166391             1                NaN                NaN   \n",
       "\n",
       "  tariff_plan  \n",
       "0           B  \n",
       "1           B  \n",
       "2           B  \n",
       "3           C  \n",
       "4           C  "
      ]
     },
     "execution_count": 40,
     "metadata": {},
     "output_type": "execute_result"
    }
   ],
   "source": [
    "month_fee_crt = month_fee_crt.merge(clients, on = 'user_id').drop('date_start', axis=1)\n",
    "month_fee_crt.head()"
   ]
  },
  {
   "cell_type": "markdown",
   "metadata": {},
   "source": [
    "Заменим пустые значения на 0"
   ]
  },
  {
   "cell_type": "code",
   "execution_count": 41,
   "metadata": {},
   "outputs": [
    {
     "data": {
      "text/html": [
       "<div>\n",
       "<style scoped>\n",
       "    .dataframe tbody tr th:only-of-type {\n",
       "        vertical-align: middle;\n",
       "    }\n",
       "\n",
       "    .dataframe tbody tr th {\n",
       "        vertical-align: top;\n",
       "    }\n",
       "\n",
       "    .dataframe thead th {\n",
       "        text-align: right;\n",
       "    }\n",
       "</style>\n",
       "<table border=\"1\" class=\"dataframe\">\n",
       "  <thead>\n",
       "    <tr style=\"text-align: right;\">\n",
       "      <th></th>\n",
       "      <th>month</th>\n",
       "      <th>user_id</th>\n",
       "      <th>cnt_operator</th>\n",
       "      <th>int_out_calls_dur</th>\n",
       "      <th>ext_out_calls_dur</th>\n",
       "      <th>tariff_plan</th>\n",
       "    </tr>\n",
       "  </thead>\n",
       "  <tbody>\n",
       "    <tr>\n",
       "      <th>0</th>\n",
       "      <td>9</td>\n",
       "      <td>166377</td>\n",
       "      <td>5</td>\n",
       "      <td>9.0</td>\n",
       "      <td>105835.0</td>\n",
       "      <td>B</td>\n",
       "    </tr>\n",
       "    <tr>\n",
       "      <th>1</th>\n",
       "      <td>10</td>\n",
       "      <td>166377</td>\n",
       "      <td>6</td>\n",
       "      <td>5.0</td>\n",
       "      <td>99207.0</td>\n",
       "      <td>B</td>\n",
       "    </tr>\n",
       "    <tr>\n",
       "      <th>2</th>\n",
       "      <td>11</td>\n",
       "      <td>166377</td>\n",
       "      <td>5</td>\n",
       "      <td>127.0</td>\n",
       "      <td>95384.0</td>\n",
       "      <td>B</td>\n",
       "    </tr>\n",
       "    <tr>\n",
       "      <th>3</th>\n",
       "      <td>9</td>\n",
       "      <td>166391</td>\n",
       "      <td>2</td>\n",
       "      <td>0.0</td>\n",
       "      <td>0.0</td>\n",
       "      <td>C</td>\n",
       "    </tr>\n",
       "    <tr>\n",
       "      <th>4</th>\n",
       "      <td>10</td>\n",
       "      <td>166391</td>\n",
       "      <td>1</td>\n",
       "      <td>0.0</td>\n",
       "      <td>0.0</td>\n",
       "      <td>C</td>\n",
       "    </tr>\n",
       "  </tbody>\n",
       "</table>\n",
       "</div>"
      ],
      "text/plain": [
       "   month  user_id  cnt_operator  int_out_calls_dur  ext_out_calls_dur  \\\n",
       "0      9   166377             5                9.0           105835.0   \n",
       "1     10   166377             6                5.0            99207.0   \n",
       "2     11   166377             5              127.0            95384.0   \n",
       "3      9   166391             2                0.0                0.0   \n",
       "4     10   166391             1                0.0                0.0   \n",
       "\n",
       "  tariff_plan  \n",
       "0           B  \n",
       "1           B  \n",
       "2           B  \n",
       "3           C  \n",
       "4           C  "
      ]
     },
     "execution_count": 41,
     "metadata": {},
     "output_type": "execute_result"
    }
   ],
   "source": [
    "month_fee_crt = month_fee_crt.fillna(0)\n",
    "month_fee_crt.head()"
   ]
  },
  {
   "cell_type": "code",
   "execution_count": 42,
   "metadata": {},
   "outputs": [
    {
     "data": {
      "text/html": [
       "<div>\n",
       "<style scoped>\n",
       "    .dataframe tbody tr th:only-of-type {\n",
       "        vertical-align: middle;\n",
       "    }\n",
       "\n",
       "    .dataframe tbody tr th {\n",
       "        vertical-align: top;\n",
       "    }\n",
       "\n",
       "    .dataframe thead th {\n",
       "        text-align: right;\n",
       "    }\n",
       "</style>\n",
       "<table border=\"1\" class=\"dataframe\">\n",
       "  <thead>\n",
       "    <tr style=\"text-align: right;\">\n",
       "      <th></th>\n",
       "      <th>month</th>\n",
       "      <th>user_id</th>\n",
       "      <th>cnt_operator</th>\n",
       "      <th>int_out_calls_dur</th>\n",
       "      <th>ext_out_calls_dur</th>\n",
       "      <th>tariff_plan</th>\n",
       "      <th>current_value</th>\n",
       "    </tr>\n",
       "  </thead>\n",
       "  <tbody>\n",
       "    <tr>\n",
       "      <th>0</th>\n",
       "      <td>9</td>\n",
       "      <td>166377</td>\n",
       "      <td>5</td>\n",
       "      <td>9.0</td>\n",
       "      <td>105835.0</td>\n",
       "      <td>B</td>\n",
       "      <td>55667.5</td>\n",
       "    </tr>\n",
       "    <tr>\n",
       "      <th>1</th>\n",
       "      <td>10</td>\n",
       "      <td>166377</td>\n",
       "      <td>6</td>\n",
       "      <td>5.0</td>\n",
       "      <td>99207.0</td>\n",
       "      <td>B</td>\n",
       "      <td>52503.5</td>\n",
       "    </tr>\n",
       "    <tr>\n",
       "      <th>2</th>\n",
       "      <td>11</td>\n",
       "      <td>166377</td>\n",
       "      <td>5</td>\n",
       "      <td>127.0</td>\n",
       "      <td>95384.0</td>\n",
       "      <td>B</td>\n",
       "      <td>50442.0</td>\n",
       "    </tr>\n",
       "    <tr>\n",
       "      <th>3</th>\n",
       "      <td>9</td>\n",
       "      <td>166391</td>\n",
       "      <td>2</td>\n",
       "      <td>0.0</td>\n",
       "      <td>0.0</td>\n",
       "      <td>C</td>\n",
       "      <td>1600.0</td>\n",
       "    </tr>\n",
       "    <tr>\n",
       "      <th>4</th>\n",
       "      <td>10</td>\n",
       "      <td>166391</td>\n",
       "      <td>1</td>\n",
       "      <td>0.0</td>\n",
       "      <td>0.0</td>\n",
       "      <td>C</td>\n",
       "      <td>1300.0</td>\n",
       "    </tr>\n",
       "  </tbody>\n",
       "</table>\n",
       "</div>"
      ],
      "text/plain": [
       "   month  user_id  cnt_operator  int_out_calls_dur  ext_out_calls_dur  \\\n",
       "0      9   166377             5                9.0           105835.0   \n",
       "1     10   166377             6                5.0            99207.0   \n",
       "2     11   166377             5              127.0            95384.0   \n",
       "3      9   166391             2                0.0                0.0   \n",
       "4     10   166391             1                0.0                0.0   \n",
       "\n",
       "  tariff_plan  current_value  \n",
       "0           B        55667.5  \n",
       "1           B        52503.5  \n",
       "2           B        50442.0  \n",
       "3           C         1600.0  \n",
       "4           C         1300.0  "
      ]
     },
     "execution_count": 42,
     "metadata": {},
     "output_type": "execute_result"
    }
   ],
   "source": [
    "month_fee_crt['current_value'] = month_fee_crt.apply(calc, axis=1)\n",
    "month_fee_crt.head()"
   ]
  },
  {
   "cell_type": "markdown",
   "metadata": {},
   "source": [
    "### Расчет возможных затрат для колл-центров для неиспользуемых тарифных планов"
   ]
  },
  {
   "cell_type": "markdown",
   "metadata": {},
   "source": [
    "Добавим расчеты для всех тарифоных планов в датафрейм"
   ]
  },
  {
   "cell_type": "code",
   "execution_count": 43,
   "metadata": {},
   "outputs": [
    {
     "data": {
      "text/html": [
       "<div>\n",
       "<style scoped>\n",
       "    .dataframe tbody tr th:only-of-type {\n",
       "        vertical-align: middle;\n",
       "    }\n",
       "\n",
       "    .dataframe tbody tr th {\n",
       "        vertical-align: top;\n",
       "    }\n",
       "\n",
       "    .dataframe thead th {\n",
       "        text-align: right;\n",
       "    }\n",
       "</style>\n",
       "<table border=\"1\" class=\"dataframe\">\n",
       "  <thead>\n",
       "    <tr style=\"text-align: right;\">\n",
       "      <th></th>\n",
       "      <th>month</th>\n",
       "      <th>user_id</th>\n",
       "      <th>cnt_operator</th>\n",
       "      <th>int_out_calls_dur</th>\n",
       "      <th>ext_out_calls_dur</th>\n",
       "      <th>tariff_plan</th>\n",
       "      <th>current_value</th>\n",
       "      <th>tp_a</th>\n",
       "      <th>tp_b</th>\n",
       "      <th>tp_c</th>\n",
       "    </tr>\n",
       "  </thead>\n",
       "  <tbody>\n",
       "    <tr>\n",
       "      <th>0</th>\n",
       "      <td>9</td>\n",
       "      <td>166377</td>\n",
       "      <td>5</td>\n",
       "      <td>9.0</td>\n",
       "      <td>105835.0</td>\n",
       "      <td>B</td>\n",
       "      <td>55667.5</td>\n",
       "      <td>36000.5</td>\n",
       "      <td>55667.5</td>\n",
       "      <td>76587.2</td>\n",
       "    </tr>\n",
       "    <tr>\n",
       "      <th>1</th>\n",
       "      <td>10</td>\n",
       "      <td>166377</td>\n",
       "      <td>6</td>\n",
       "      <td>5.0</td>\n",
       "      <td>99207.0</td>\n",
       "      <td>B</td>\n",
       "      <td>52503.5</td>\n",
       "      <td>34062.1</td>\n",
       "      <td>52503.5</td>\n",
       "      <td>72246.4</td>\n",
       "    </tr>\n",
       "    <tr>\n",
       "      <th>2</th>\n",
       "      <td>11</td>\n",
       "      <td>166377</td>\n",
       "      <td>5</td>\n",
       "      <td>127.0</td>\n",
       "      <td>95384.0</td>\n",
       "      <td>B</td>\n",
       "      <td>50442.0</td>\n",
       "      <td>32865.2</td>\n",
       "      <td>50442.0</td>\n",
       "      <td>69306.9</td>\n",
       "    </tr>\n",
       "    <tr>\n",
       "      <th>3</th>\n",
       "      <td>9</td>\n",
       "      <td>166391</td>\n",
       "      <td>2</td>\n",
       "      <td>0.0</td>\n",
       "      <td>0.0</td>\n",
       "      <td>C</td>\n",
       "      <td>1600.0</td>\n",
       "      <td>4100.0</td>\n",
       "      <td>2300.0</td>\n",
       "      <td>1600.0</td>\n",
       "    </tr>\n",
       "    <tr>\n",
       "      <th>4</th>\n",
       "      <td>10</td>\n",
       "      <td>166391</td>\n",
       "      <td>1</td>\n",
       "      <td>0.0</td>\n",
       "      <td>0.0</td>\n",
       "      <td>C</td>\n",
       "      <td>1300.0</td>\n",
       "      <td>4050.0</td>\n",
       "      <td>2150.0</td>\n",
       "      <td>1300.0</td>\n",
       "    </tr>\n",
       "  </tbody>\n",
       "</table>\n",
       "</div>"
      ],
      "text/plain": [
       "   month  user_id  cnt_operator  int_out_calls_dur  ext_out_calls_dur  \\\n",
       "0      9   166377             5                9.0           105835.0   \n",
       "1     10   166377             6                5.0            99207.0   \n",
       "2     11   166377             5              127.0            95384.0   \n",
       "3      9   166391             2                0.0                0.0   \n",
       "4     10   166391             1                0.0                0.0   \n",
       "\n",
       "  tariff_plan  current_value     tp_a     tp_b     tp_c  \n",
       "0           B        55667.5  36000.5  55667.5  76587.2  \n",
       "1           B        52503.5  34062.1  52503.5  72246.4  \n",
       "2           B        50442.0  32865.2  50442.0  69306.9  \n",
       "3           C         1600.0   4100.0   2300.0   1600.0  \n",
       "4           C         1300.0   4050.0   2150.0   1300.0  "
      ]
     },
     "execution_count": 43,
     "metadata": {},
     "output_type": "execute_result"
    }
   ],
   "source": [
    "month_fee_crt['tp_a'] = month_fee_crt.apply(calc_a, axis=1)\n",
    "month_fee_crt['tp_b'] = month_fee_crt.apply(calc_b, axis=1)\n",
    "month_fee_crt['tp_c'] = month_fee_crt.apply(calc_c, axis=1)\n",
    "month_fee_crt.head()"
   ]
  },
  {
   "cell_type": "markdown",
   "metadata": {},
   "source": [
    "Удалим cnt_operator, int_out_calls_dur, ext_out_calls_dur столбцы уже не нужные для дальнейшего анализа"
   ]
  },
  {
   "cell_type": "code",
   "execution_count": 44,
   "metadata": {},
   "outputs": [
    {
     "data": {
      "text/html": [
       "<div>\n",
       "<style scoped>\n",
       "    .dataframe tbody tr th:only-of-type {\n",
       "        vertical-align: middle;\n",
       "    }\n",
       "\n",
       "    .dataframe tbody tr th {\n",
       "        vertical-align: top;\n",
       "    }\n",
       "\n",
       "    .dataframe thead th {\n",
       "        text-align: right;\n",
       "    }\n",
       "</style>\n",
       "<table border=\"1\" class=\"dataframe\">\n",
       "  <thead>\n",
       "    <tr style=\"text-align: right;\">\n",
       "      <th></th>\n",
       "      <th>user_id</th>\n",
       "      <th>tariff_plan</th>\n",
       "      <th>current_value</th>\n",
       "      <th>tp_a</th>\n",
       "      <th>tp_b</th>\n",
       "      <th>tp_c</th>\n",
       "    </tr>\n",
       "  </thead>\n",
       "  <tbody>\n",
       "    <tr>\n",
       "      <th>0</th>\n",
       "      <td>166377</td>\n",
       "      <td>B</td>\n",
       "      <td>55667.5</td>\n",
       "      <td>36000.5</td>\n",
       "      <td>55667.5</td>\n",
       "      <td>76587.2</td>\n",
       "    </tr>\n",
       "  </tbody>\n",
       "</table>\n",
       "</div>"
      ],
      "text/plain": [
       "   user_id tariff_plan  current_value     tp_a     tp_b     tp_c\n",
       "0   166377           B        55667.5  36000.5  55667.5  76587.2"
      ]
     },
     "execution_count": 44,
     "metadata": {},
     "output_type": "execute_result"
    }
   ],
   "source": [
    "q_fee_crt = month_fee_crt\n",
    "q_fee_crt.drop(['month','cnt_operator','int_out_calls_dur','ext_out_calls_dur'], axis=1, inplace=True)\n",
    "q_fee_crt.head(1)"
   ]
  },
  {
   "cell_type": "markdown",
   "metadata": {},
   "source": [
    "Найдем самый выгодный тариф в для каждого колл-центра за период с сентября по ноябрь"
   ]
  },
  {
   "cell_type": "code",
   "execution_count": 45,
   "metadata": {},
   "outputs": [
    {
     "data": {
      "text/html": [
       "<div>\n",
       "<style scoped>\n",
       "    .dataframe tbody tr th:only-of-type {\n",
       "        vertical-align: middle;\n",
       "    }\n",
       "\n",
       "    .dataframe tbody tr th {\n",
       "        vertical-align: top;\n",
       "    }\n",
       "\n",
       "    .dataframe thead th {\n",
       "        text-align: right;\n",
       "    }\n",
       "</style>\n",
       "<table border=\"1\" class=\"dataframe\">\n",
       "  <thead>\n",
       "    <tr style=\"text-align: right;\">\n",
       "      <th></th>\n",
       "      <th>user_id</th>\n",
       "      <th>tariff_plan</th>\n",
       "      <th>current_value</th>\n",
       "      <th>tp_a</th>\n",
       "      <th>tp_b</th>\n",
       "      <th>tp_c</th>\n",
       "    </tr>\n",
       "  </thead>\n",
       "  <tbody>\n",
       "    <tr>\n",
       "      <th>0</th>\n",
       "      <td>166377</td>\n",
       "      <td>B</td>\n",
       "      <td>158613.0</td>\n",
       "      <td>102927.8</td>\n",
       "      <td>158613.0</td>\n",
       "      <td>218140.5</td>\n",
       "    </tr>\n",
       "  </tbody>\n",
       "</table>\n",
       "</div>"
      ],
      "text/plain": [
       "   user_id tariff_plan  current_value      tp_a      tp_b      tp_c\n",
       "0   166377           B       158613.0  102927.8  158613.0  218140.5"
      ]
     },
     "execution_count": 45,
     "metadata": {},
     "output_type": "execute_result"
    }
   ],
   "source": [
    "q_fee_crt = q_fee_crt.groupby(['user_id','tariff_plan']).sum().reset_index(drop=False)\n",
    "q_fee_crt.head(1)"
   ]
  },
  {
   "cell_type": "code",
   "execution_count": 46,
   "metadata": {},
   "outputs": [
    {
     "data": {
      "text/html": [
       "<div>\n",
       "<style scoped>\n",
       "    .dataframe tbody tr th:only-of-type {\n",
       "        vertical-align: middle;\n",
       "    }\n",
       "\n",
       "    .dataframe tbody tr th {\n",
       "        vertical-align: top;\n",
       "    }\n",
       "\n",
       "    .dataframe thead th {\n",
       "        text-align: right;\n",
       "    }\n",
       "</style>\n",
       "<table border=\"1\" class=\"dataframe\">\n",
       "  <thead>\n",
       "    <tr style=\"text-align: right;\">\n",
       "      <th></th>\n",
       "      <th>user_id</th>\n",
       "      <th>tariff_plan</th>\n",
       "      <th>current_value</th>\n",
       "      <th>tp_a</th>\n",
       "      <th>tp_b</th>\n",
       "      <th>tp_c</th>\n",
       "      <th>tp_best</th>\n",
       "      <th>tp_best_name</th>\n",
       "    </tr>\n",
       "  </thead>\n",
       "  <tbody>\n",
       "    <tr>\n",
       "      <th>0</th>\n",
       "      <td>166377</td>\n",
       "      <td>B</td>\n",
       "      <td>158613.0</td>\n",
       "      <td>102927.8</td>\n",
       "      <td>158613.0</td>\n",
       "      <td>218140.5</td>\n",
       "      <td>102927.8</td>\n",
       "      <td>A</td>\n",
       "    </tr>\n",
       "  </tbody>\n",
       "</table>\n",
       "</div>"
      ],
      "text/plain": [
       "   user_id tariff_plan  current_value      tp_a      tp_b      tp_c   tp_best  \\\n",
       "0   166377           B       158613.0  102927.8  158613.0  218140.5  102927.8   \n",
       "\n",
       "  tp_best_name  \n",
       "0            A  "
      ]
     },
     "execution_count": 46,
     "metadata": {},
     "output_type": "execute_result"
    }
   ],
   "source": [
    "q_fee_crt['tp_best'] = q_fee_crt.apply(best, axis=1)\n",
    "q_fee_crt['tp_best_name'] = q_fee_crt.apply(best_name, axis=1)\n",
    "q_fee_crt.head(1)"
   ]
  },
  {
   "cell_type": "markdown",
   "metadata": {},
   "source": [
    "### Сравнение затрат текущих и *возможных минимальных*, а также расчет экономии при переходе на новый тариф"
   ]
  },
  {
   "cell_type": "markdown",
   "metadata": {},
   "source": [
    "Найдем сумму экономии средств при переходе на самый выгодный тарифный план"
   ]
  },
  {
   "cell_type": "code",
   "execution_count": 47,
   "metadata": {},
   "outputs": [
    {
     "data": {
      "text/html": [
       "<div>\n",
       "<style scoped>\n",
       "    .dataframe tbody tr th:only-of-type {\n",
       "        vertical-align: middle;\n",
       "    }\n",
       "\n",
       "    .dataframe tbody tr th {\n",
       "        vertical-align: top;\n",
       "    }\n",
       "\n",
       "    .dataframe thead th {\n",
       "        text-align: right;\n",
       "    }\n",
       "</style>\n",
       "<table border=\"1\" class=\"dataframe\">\n",
       "  <thead>\n",
       "    <tr style=\"text-align: right;\">\n",
       "      <th></th>\n",
       "      <th>user_id</th>\n",
       "      <th>tariff_plan</th>\n",
       "      <th>current_value</th>\n",
       "      <th>tp_a</th>\n",
       "      <th>tp_b</th>\n",
       "      <th>tp_c</th>\n",
       "      <th>tp_best</th>\n",
       "      <th>tp_best_name</th>\n",
       "      <th>save_money</th>\n",
       "    </tr>\n",
       "  </thead>\n",
       "  <tbody>\n",
       "    <tr>\n",
       "      <th>0</th>\n",
       "      <td>166377</td>\n",
       "      <td>B</td>\n",
       "      <td>158613.0</td>\n",
       "      <td>102927.8</td>\n",
       "      <td>158613.0</td>\n",
       "      <td>218140.5</td>\n",
       "      <td>102927.8</td>\n",
       "      <td>A</td>\n",
       "      <td>55685.2</td>\n",
       "    </tr>\n",
       "    <tr>\n",
       "      <th>1</th>\n",
       "      <td>166391</td>\n",
       "      <td>C</td>\n",
       "      <td>4500.0</td>\n",
       "      <td>12250.0</td>\n",
       "      <td>6750.0</td>\n",
       "      <td>4500.0</td>\n",
       "      <td>4500.0</td>\n",
       "      <td>C</td>\n",
       "      <td>0.0</td>\n",
       "    </tr>\n",
       "    <tr>\n",
       "      <th>2</th>\n",
       "      <td>166392</td>\n",
       "      <td>C</td>\n",
       "      <td>5700.0</td>\n",
       "      <td>12450.0</td>\n",
       "      <td>7350.0</td>\n",
       "      <td>5700.0</td>\n",
       "      <td>5700.0</td>\n",
       "      <td>C</td>\n",
       "      <td>0.0</td>\n",
       "    </tr>\n",
       "    <tr>\n",
       "      <th>3</th>\n",
       "      <td>166399</td>\n",
       "      <td>C</td>\n",
       "      <td>3200.0</td>\n",
       "      <td>8200.0</td>\n",
       "      <td>4600.0</td>\n",
       "      <td>3200.0</td>\n",
       "      <td>3200.0</td>\n",
       "      <td>C</td>\n",
       "      <td>0.0</td>\n",
       "    </tr>\n",
       "    <tr>\n",
       "      <th>4</th>\n",
       "      <td>166405</td>\n",
       "      <td>B</td>\n",
       "      <td>462494.2</td>\n",
       "      <td>284871.5</td>\n",
       "      <td>462494.2</td>\n",
       "      <td>644551.4</td>\n",
       "      <td>284871.5</td>\n",
       "      <td>A</td>\n",
       "      <td>177622.7</td>\n",
       "    </tr>\n",
       "  </tbody>\n",
       "</table>\n",
       "</div>"
      ],
      "text/plain": [
       "   user_id tariff_plan  current_value      tp_a      tp_b      tp_c   tp_best  \\\n",
       "0   166377           B       158613.0  102927.8  158613.0  218140.5  102927.8   \n",
       "1   166391           C         4500.0   12250.0    6750.0    4500.0    4500.0   \n",
       "2   166392           C         5700.0   12450.0    7350.0    5700.0    5700.0   \n",
       "3   166399           C         3200.0    8200.0    4600.0    3200.0    3200.0   \n",
       "4   166405           B       462494.2  284871.5  462494.2  644551.4  284871.5   \n",
       "\n",
       "  tp_best_name  save_money  \n",
       "0            A     55685.2  \n",
       "1            C         0.0  \n",
       "2            C         0.0  \n",
       "3            C         0.0  \n",
       "4            A    177622.7  "
      ]
     },
     "execution_count": 47,
     "metadata": {},
     "output_type": "execute_result"
    }
   ],
   "source": [
    "q_fee_crt['save_money'] = q_fee_crt['current_value'] - q_fee_crt['tp_best']\n",
    "q_fee_crt.head()"
   ]
  },
  {
   "cell_type": "markdown",
   "metadata": {},
   "source": [
    "### Сравнение выручки клиента до оптимизации тарифов и после"
   ]
  },
  {
   "cell_type": "markdown",
   "metadata": {},
   "source": [
    "#### Найдем суммарную выручку клиента для всех колл-центров"
   ]
  },
  {
   "cell_type": "code",
   "execution_count": 48,
   "metadata": {},
   "outputs": [
    {
     "data": {
      "text/plain": [
       "Текущая выручка                       17817746.0\n",
       "Выручка после оптимизации расходов    12897975.8\n",
       "dtype: float64"
      ]
     },
     "metadata": {},
     "output_type": "display_data"
    },
    {
     "name": "stdout",
     "output_type": "stream",
     "text": [
      "На 27.61% упадет выручка клиента после оптимизации расходов\n"
     ]
    }
   ],
   "source": [
    "compare = q_fee_crt[['current_value','tp_best']]\n",
    "compare = compare.rename(columns={'current_value':'Текущая выручка', \n",
    "                                  'tp_best':'Выручка после оптимизации расходов'})\n",
    "compare = compare.sum(axis=0, numeric_only=True)#.reset_index(drop=False)\n",
    "\n",
    "display(compare)\n",
    "print('На',\"{0:.2%}\".format((1-compare[1] / compare[0])), 'упадет выручка клиента после оптимизации расходов')"
   ]
  },
  {
   "cell_type": "code",
   "execution_count": 49,
   "metadata": {},
   "outputs": [
    {
     "data": {
      "image/png": "[encoded data removed]",
      "text/plain": [
       "<Figure size 720x360 with 1 Axes>"
      ]
     },
     "metadata": {
      "needs_background": "light"
     },
     "output_type": "display_data"
    }
   ],
   "source": [
    "compare.plot(kind='bar', figsize=( 10, 5))\n",
    "plt.grid()\n",
    "plt.xticks(rotation=0)\n",
    "plt.ylabel('Выручка, млн.р.')\n",
    "plt.title('Выручка клиента до и после оптимизации тарифов')\n",
    "plt.show()"
   ]
  },
  {
   "cell_type": "markdown",
   "metadata": {},
   "source": [
    "После полной оптимизации выручка ожидаемо упадет, возможно мы можем предложить клиенту что-то среднее? Тогда и клиент будет доволен и колл-центры и выручка упадет не так сильно."
   ]
  },
  {
   "cell_type": "markdown",
   "metadata": {},
   "source": [
    "#### Итоговая таблица для всех клиентов (лучший тариф)"
   ]
  },
  {
   "cell_type": "markdown",
   "metadata": {},
   "source": [
    "Построим итоговую таблицу по рекомнедации смены тарифов на основе данных (лучший тариф) за последний месяц, т.к. более ранние данный на текущий момент уже не актуальны"
   ]
  },
  {
   "cell_type": "code",
   "execution_count": 50,
   "metadata": {},
   "outputs": [
    {
     "data": {
      "text/html": [
       "<div>\n",
       "<style scoped>\n",
       "    .dataframe tbody tr th:only-of-type {\n",
       "        vertical-align: middle;\n",
       "    }\n",
       "\n",
       "    .dataframe tbody tr th {\n",
       "        vertical-align: top;\n",
       "    }\n",
       "\n",
       "    .dataframe thead th {\n",
       "        text-align: right;\n",
       "    }\n",
       "</style>\n",
       "<table border=\"1\" class=\"dataframe\">\n",
       "  <thead>\n",
       "    <tr style=\"text-align: right;\">\n",
       "      <th></th>\n",
       "      <th>Пользователь</th>\n",
       "      <th>Текущий тариф</th>\n",
       "      <th>Рекомендованный тариф</th>\n",
       "    </tr>\n",
       "  </thead>\n",
       "  <tbody>\n",
       "    <tr>\n",
       "      <th>0</th>\n",
       "      <td>166377</td>\n",
       "      <td>B</td>\n",
       "      <td>A</td>\n",
       "    </tr>\n",
       "  </tbody>\n",
       "</table>\n",
       "</div>"
      ],
      "text/plain": [
       "   Пользователь Текущий тариф Рекомендованный тариф\n",
       "0        166377             B                     A"
      ]
     },
     "metadata": {},
     "output_type": "display_data"
    }
   ],
   "source": [
    "data_report = q_fee_crt[q_fee_crt['user_id'].isin(active_usr)]\n",
    "data_report = data_report[['user_id','tariff_plan','current_value','tp_best','tp_best_name']]\n",
    "data_report = data_report.reset_index(drop=True)\n",
    "report = data_report[['user_id','tariff_plan','tp_best_name']]\n",
    "report = report.rename(columns={'user_id':'Пользователь','tariff_plan':'Текущий тариф','tp_best_name':'Рекомендованный тариф'})\n",
    "\n",
    "display(report.head(1))"
   ]
  },
  {
   "cell_type": "markdown",
   "metadata": {},
   "source": [
    "Найдем количество колл-центров которым рекомендовано сменить тарифный план на более выгодный"
   ]
  },
  {
   "cell_type": "code",
   "execution_count": 51,
   "metadata": {},
   "outputs": [
    {
     "name": "stdout",
     "output_type": "stream",
     "text": [
      "147 колл-центрам рекомендовано сменить тарифный, что составляет 56.32 % от общего количества активных пользователей\n"
     ]
    }
   ],
   "source": [
    "print(data_report[data_report['current_value']!=data_report['tp_best']]['user_id'].count(),\n",
    "      'колл-центрам рекомендовано сменить тарифный, что составляет',\n",
    "      round(data_report[data_report['current_value']!=data_report['tp_best']]['user_id'].count()\\\n",
    "       /data_report['user_id'].count()*100,2),\n",
    "      '% от общего количества активных пользователей'\n",
    "     )\n"
   ]
  },
  {
   "cell_type": "markdown",
   "metadata": {},
   "source": [
    "#### Вернемся к расчетам и найдем средний по стоимости тариф"
   ]
  },
  {
   "cell_type": "markdown",
   "metadata": {},
   "source": [
    "Найдем средний по стоимости тариф для агрегированных за квартал данных"
   ]
  },
  {
   "cell_type": "code",
   "execution_count": 52,
   "metadata": {},
   "outputs": [
    {
     "data": {
      "text/html": [
       "<div>\n",
       "<style scoped>\n",
       "    .dataframe tbody tr th:only-of-type {\n",
       "        vertical-align: middle;\n",
       "    }\n",
       "\n",
       "    .dataframe tbody tr th {\n",
       "        vertical-align: top;\n",
       "    }\n",
       "\n",
       "    .dataframe thead th {\n",
       "        text-align: right;\n",
       "    }\n",
       "</style>\n",
       "<table border=\"1\" class=\"dataframe\">\n",
       "  <thead>\n",
       "    <tr style=\"text-align: right;\">\n",
       "      <th></th>\n",
       "      <th>user_id</th>\n",
       "      <th>tariff_plan</th>\n",
       "      <th>current_value</th>\n",
       "      <th>tp_a</th>\n",
       "      <th>tp_b</th>\n",
       "      <th>tp_c</th>\n",
       "      <th>tp_best</th>\n",
       "      <th>tp_best_name</th>\n",
       "      <th>save_money</th>\n",
       "      <th>tp_mid</th>\n",
       "      <th>tp_mid_name</th>\n",
       "    </tr>\n",
       "  </thead>\n",
       "  <tbody>\n",
       "    <tr>\n",
       "      <th>0</th>\n",
       "      <td>166377</td>\n",
       "      <td>B</td>\n",
       "      <td>158613.0</td>\n",
       "      <td>102927.8</td>\n",
       "      <td>158613.0</td>\n",
       "      <td>218140.5</td>\n",
       "      <td>102927.8</td>\n",
       "      <td>A</td>\n",
       "      <td>55685.2</td>\n",
       "      <td>158613.0</td>\n",
       "      <td>B</td>\n",
       "    </tr>\n",
       "  </tbody>\n",
       "</table>\n",
       "</div>"
      ],
      "text/plain": [
       "   user_id tariff_plan  current_value      tp_a      tp_b      tp_c   tp_best  \\\n",
       "0   166377           B       158613.0  102927.8  158613.0  218140.5  102927.8   \n",
       "\n",
       "  tp_best_name  save_money    tp_mid tp_mid_name  \n",
       "0            A     55685.2  158613.0           B  "
      ]
     },
     "execution_count": 52,
     "metadata": {},
     "output_type": "execute_result"
    }
   ],
   "source": [
    "q_fee_crt['tp_mid'] = q_fee_crt.apply(mid_tar, axis=1)\n",
    "q_fee_crt['tp_mid_name'] = q_fee_crt.apply(mid_name, axis=1)\n",
    "q_fee_crt.head(1)"
   ]
  },
  {
   "cell_type": "markdown",
   "metadata": {},
   "source": [
    "Найдем переплату или экономию по среднему тарифу. Если результат будет меньше и равен 0, то для такого пользователя можем оставить все как и раньше"
   ]
  },
  {
   "cell_type": "code",
   "execution_count": 53,
   "metadata": {},
   "outputs": [
    {
     "data": {
      "text/html": [
       "<div>\n",
       "<style scoped>\n",
       "    .dataframe tbody tr th:only-of-type {\n",
       "        vertical-align: middle;\n",
       "    }\n",
       "\n",
       "    .dataframe tbody tr th {\n",
       "        vertical-align: top;\n",
       "    }\n",
       "\n",
       "    .dataframe thead th {\n",
       "        text-align: right;\n",
       "    }\n",
       "</style>\n",
       "<table border=\"1\" class=\"dataframe\">\n",
       "  <thead>\n",
       "    <tr style=\"text-align: right;\">\n",
       "      <th></th>\n",
       "      <th>user_id</th>\n",
       "      <th>tariff_plan</th>\n",
       "      <th>current_value</th>\n",
       "      <th>tp_a</th>\n",
       "      <th>tp_b</th>\n",
       "      <th>tp_c</th>\n",
       "    </tr>\n",
       "  </thead>\n",
       "  <tbody>\n",
       "    <tr>\n",
       "      <th>0</th>\n",
       "      <td>166377</td>\n",
       "      <td>B</td>\n",
       "      <td>55667.5</td>\n",
       "      <td>36000.5</td>\n",
       "      <td>55667.5</td>\n",
       "      <td>76587.2</td>\n",
       "    </tr>\n",
       "    <tr>\n",
       "      <th>1</th>\n",
       "      <td>166377</td>\n",
       "      <td>B</td>\n",
       "      <td>52503.5</td>\n",
       "      <td>34062.1</td>\n",
       "      <td>52503.5</td>\n",
       "      <td>72246.4</td>\n",
       "    </tr>\n",
       "    <tr>\n",
       "      <th>2</th>\n",
       "      <td>166377</td>\n",
       "      <td>B</td>\n",
       "      <td>50442.0</td>\n",
       "      <td>32865.2</td>\n",
       "      <td>50442.0</td>\n",
       "      <td>69306.9</td>\n",
       "    </tr>\n",
       "    <tr>\n",
       "      <th>3</th>\n",
       "      <td>166391</td>\n",
       "      <td>C</td>\n",
       "      <td>1600.0</td>\n",
       "      <td>4100.0</td>\n",
       "      <td>2300.0</td>\n",
       "      <td>1600.0</td>\n",
       "    </tr>\n",
       "    <tr>\n",
       "      <th>4</th>\n",
       "      <td>166391</td>\n",
       "      <td>C</td>\n",
       "      <td>1300.0</td>\n",
       "      <td>4050.0</td>\n",
       "      <td>2150.0</td>\n",
       "      <td>1300.0</td>\n",
       "    </tr>\n",
       "  </tbody>\n",
       "</table>\n",
       "</div>"
      ],
      "text/plain": [
       "   user_id tariff_plan  current_value     tp_a     tp_b     tp_c\n",
       "0   166377           B        55667.5  36000.5  55667.5  76587.2\n",
       "1   166377           B        52503.5  34062.1  52503.5  72246.4\n",
       "2   166377           B        50442.0  32865.2  50442.0  69306.9\n",
       "3   166391           C         1600.0   4100.0   2300.0   1600.0\n",
       "4   166391           C         1300.0   4050.0   2150.0   1300.0"
      ]
     },
     "execution_count": 53,
     "metadata": {},
     "output_type": "execute_result"
    }
   ],
   "source": [
    "\n",
    "q_fee_crt['save_money_mid'] = q_fee_crt['current_value'] - q_fee_crt['tp_mid']\n",
    "\n",
    "month_fee_crt.head()"
   ]
  },
  {
   "cell_type": "markdown",
   "metadata": {},
   "source": [
    "#### Найдем суммарную выручку клиента для всех колл-центров в случае использования средних по стоимости тарифов"
   ]
  },
  {
   "cell_type": "code",
   "execution_count": 54,
   "metadata": {},
   "outputs": [
    {
     "data": {
      "text/plain": [
       "Текущая выручка                17817746.00\n",
       "Выручка при средних тарифах    15986997.75\n",
       "dtype: float64"
      ]
     },
     "metadata": {},
     "output_type": "display_data"
    },
    {
     "name": "stdout",
     "output_type": "stream",
     "text": [
      "На 10.27% упадет выручка клиента после оптимизации расходов\n"
     ]
    }
   ],
   "source": [
    "compare_mid = q_fee_crt[['current_value','tp_mid']]\n",
    "compare_mid = compare_mid.rename(columns={'current_value':'Текущая выручка', \n",
    "                                          'tp_mid':'Выручка при средних тарифах'})\n",
    "compare_mid = compare_mid.sum(axis=0, numeric_only=True)\n",
    "\n",
    "display(compare_mid)\n",
    "print('На',\"{0:.2%}\".format((1-compare_mid[1] / compare_mid[0])), 'упадет выручка клиента после оптимизации расходов')"
   ]
  },
  {
   "cell_type": "markdown",
   "metadata": {},
   "source": [
    "Падение выручки уже меньше по сравнению лучшим тарифом почти в три раза, думаю для клиента это будет более приемлемо. Построим диаграму"
   ]
  },
  {
   "cell_type": "code",
   "execution_count": 55,
   "metadata": {},
   "outputs": [
    {
     "data": {
      "text/html": [
       "<div>\n",
       "<style scoped>\n",
       "    .dataframe tbody tr th:only-of-type {\n",
       "        vertical-align: middle;\n",
       "    }\n",
       "\n",
       "    .dataframe tbody tr th {\n",
       "        vertical-align: top;\n",
       "    }\n",
       "\n",
       "    .dataframe thead th {\n",
       "        text-align: right;\n",
       "    }\n",
       "</style>\n",
       "<table border=\"1\" class=\"dataframe\">\n",
       "  <thead>\n",
       "    <tr style=\"text-align: right;\">\n",
       "      <th></th>\n",
       "      <th>value</th>\n",
       "      <th>sum</th>\n",
       "    </tr>\n",
       "  </thead>\n",
       "  <tbody>\n",
       "    <tr>\n",
       "      <th>0</th>\n",
       "      <td>Текущая выручка</td>\n",
       "      <td>17817746.00</td>\n",
       "    </tr>\n",
       "    <tr>\n",
       "      <th>1</th>\n",
       "      <td>Выручка после оптимизации расходов</td>\n",
       "      <td>12897975.80</td>\n",
       "    </tr>\n",
       "    <tr>\n",
       "      <th>2</th>\n",
       "      <td>Выручка при средних тарифах</td>\n",
       "      <td>15986997.75</td>\n",
       "    </tr>\n",
       "  </tbody>\n",
       "</table>\n",
       "</div>"
      ],
      "text/plain": [
       "                                value          sum\n",
       "0                     Текущая выручка  17817746.00\n",
       "1  Выручка после оптимизации расходов  12897975.80\n",
       "2         Выручка при средних тарифах  15986997.75"
      ]
     },
     "execution_count": 55,
     "metadata": {},
     "output_type": "execute_result"
    }
   ],
   "source": [
    "compare_all = compare.reset_index(drop=False).append(compare_mid.reset_index(drop=False)[1:])\n",
    "compare_all = compare_all.rename(columns={'index':'value',0:'sum'}).reset_index(drop=True)\n",
    "compare_all"
   ]
  },
  {
   "cell_type": "code",
   "execution_count": 56,
   "metadata": {},
   "outputs": [
    {
     "data": {
      "image/png": "[encoded data removed]",
      "text/plain": [
       "<Figure size 1080x360 with 1 Axes>"
      ]
     },
     "metadata": {
      "needs_background": "light"
     },
     "output_type": "display_data"
    }
   ],
   "source": [
    "compare_all.plot(x='value', y='sum' ,kind='bar', figsize=( 15, 5))\n",
    "plt.grid()\n",
    "plt.xticks(rotation=0)\n",
    "plt.xlabel('Тип оптимизации')\n",
    "plt.ylabel('Выручка, млн.р.')\n",
    "plt.title('Выручка клиента до и после оптимизации тарифов')\n",
    "plt.show()"
   ]
  },
  {
   "cell_type": "markdown",
   "metadata": {},
   "source": [
    "#### Итоговая таблица для всех клиентов (средний тариф)"
   ]
  },
  {
   "cell_type": "markdown",
   "metadata": {},
   "source": [
    "Построим итоговую таблицу по рекомнедации смены тарифов на основе данных (средний тариф) за последний месяц, т.к. более ранние данные на текущий момент уже не актуальны"
   ]
  },
  {
   "cell_type": "code",
   "execution_count": 57,
   "metadata": {},
   "outputs": [
    {
     "data": {
      "text/html": [
       "<div>\n",
       "<style scoped>\n",
       "    .dataframe tbody tr th:only-of-type {\n",
       "        vertical-align: middle;\n",
       "    }\n",
       "\n",
       "    .dataframe tbody tr th {\n",
       "        vertical-align: top;\n",
       "    }\n",
       "\n",
       "    .dataframe thead th {\n",
       "        text-align: right;\n",
       "    }\n",
       "</style>\n",
       "<table border=\"1\" class=\"dataframe\">\n",
       "  <thead>\n",
       "    <tr style=\"text-align: right;\">\n",
       "      <th></th>\n",
       "      <th>Пользователь</th>\n",
       "      <th>Текущий тариф</th>\n",
       "      <th>Рекомендованный средний тариф</th>\n",
       "    </tr>\n",
       "  </thead>\n",
       "  <tbody>\n",
       "    <tr>\n",
       "      <th>0</th>\n",
       "      <td>166377</td>\n",
       "      <td>B</td>\n",
       "      <td>B</td>\n",
       "    </tr>\n",
       "  </tbody>\n",
       "</table>\n",
       "</div>"
      ],
      "text/plain": [
       "   Пользователь Текущий тариф Рекомендованный средний тариф\n",
       "0        166377             B                             B"
      ]
     },
     "metadata": {},
     "output_type": "display_data"
    }
   ],
   "source": [
    "data_report_mid = q_fee_crt[q_fee_crt['user_id'].isin(active_usr)]\n",
    "data_report_mid = data_report_mid[['user_id','tariff_plan','current_value','tp_mid','tp_mid_name']]\n",
    "data_report_mid = data_report_mid.reset_index(drop=True)\n",
    "report_mid = data_report_mid[['user_id','tariff_plan','tp_mid_name']]\n",
    "report_mid = report_mid.rename(columns={'user_id':'Пользователь','tariff_plan':'Текущий тариф',\n",
    "                                        'tp_mid_name':'Рекомендованный средний тариф'})\n",
    "\n",
    "display(report_mid.head(1))"
   ]
  },
  {
   "cell_type": "markdown",
   "metadata": {},
   "source": [
    "Найдем количество колл-центров которым рекомендовано сменить тарифный план на более выгодный"
   ]
  },
  {
   "cell_type": "code",
   "execution_count": 58,
   "metadata": {},
   "outputs": [
    {
     "name": "stdout",
     "output_type": "stream",
     "text": [
      "56 колл-центрам рекомендовано сменить тарифный, что составляет 21.46 % от общего количества активных пользователей\n"
     ]
    }
   ],
   "source": [
    "print(data_report_mid[data_report_mid['current_value']!=data_report_mid['tp_mid']]['user_id'].count(),\n",
    "      'колл-центрам рекомендовано сменить тарифный, что составляет',\n",
    "      round(data_report_mid[data_report_mid['current_value']!=data_report_mid['tp_mid']]['user_id'].count()\\\n",
    "       /data_report_mid['user_id'].count()*100,2),\n",
    "      '% от общего количества активных пользователей'\n",
    "     )"
   ]
  },
  {
   "cell_type": "markdown",
   "metadata": {},
   "source": [
    "**Вывод**\n",
    "    \n",
    "    Созданы функции для расчета возможных минимальных, средних значений в зависимости от текущей ситуации\n",
    "    Если мы предлагаем клиенту использовать самые оптимальные для колл-центров тарифы, то возникает ситуация падения выручки почти на 30%. В этом случае 147 колл-центрам рекомендовано сменить тарифный, что составляет 56.32 % от общего количества активных пользователей.\n",
    "    Лучшим решением будет предложить клиенту использовать средний по стоимости тариф. Тогда средняя выручка клиента упадет только на 9% и также клиент получит дополнительную лояльность клиентов. В этом случае 56 колл-центрам рекомендовано сменить тарифный, что составляет 21.46 % от общего количества активных пользователей.\n",
    "    "
   ]
  },
  {
   "cell_type": "markdown",
   "metadata": {},
   "source": [
    "### Посмотрим средний чек до и после оптимизации"
   ]
  },
  {
   "cell_type": "code",
   "execution_count": 59,
   "metadata": {},
   "outputs": [
    {
     "data": {
      "text/html": [
       "<div>\n",
       "<style scoped>\n",
       "    .dataframe tbody tr th:only-of-type {\n",
       "        vertical-align: middle;\n",
       "    }\n",
       "\n",
       "    .dataframe tbody tr th {\n",
       "        vertical-align: top;\n",
       "    }\n",
       "\n",
       "    .dataframe thead th {\n",
       "        text-align: right;\n",
       "    }\n",
       "</style>\n",
       "<table border=\"1\" class=\"dataframe\">\n",
       "  <thead>\n",
       "    <tr style=\"text-align: right;\">\n",
       "      <th></th>\n",
       "      <th>tp</th>\n",
       "      <th>Средний чек до оптимизации</th>\n",
       "      <th>Средний чек лучшие тарифы</th>\n",
       "      <th>Средний чек средние тарифы</th>\n",
       "    </tr>\n",
       "  </thead>\n",
       "  <tbody>\n",
       "    <tr>\n",
       "      <th>0</th>\n",
       "      <td>A</td>\n",
       "      <td>177468.65</td>\n",
       "      <td>109361.01</td>\n",
       "      <td>14597.23</td>\n",
       "    </tr>\n",
       "    <tr>\n",
       "      <th>1</th>\n",
       "      <td>B</td>\n",
       "      <td>41898.65</td>\n",
       "      <td>12172.48</td>\n",
       "      <td>57507.37</td>\n",
       "    </tr>\n",
       "    <tr>\n",
       "      <th>2</th>\n",
       "      <td>C</td>\n",
       "      <td>45125.54</td>\n",
       "      <td>4230.21</td>\n",
       "      <td>11007.67</td>\n",
       "    </tr>\n",
       "  </tbody>\n",
       "</table>\n",
       "</div>"
      ],
      "text/plain": [
       "  tp  Средний чек до оптимизации  Средний чек лучшие тарифы  \\\n",
       "0  A                   177468.65                  109361.01   \n",
       "1  B                    41898.65                   12172.48   \n",
       "2  C                    45125.54                    4230.21   \n",
       "\n",
       "   Средний чек средние тарифы  \n",
       "0                    14597.23  \n",
       "1                    57507.37  \n",
       "2                    11007.67  "
      ]
     },
     "metadata": {},
     "output_type": "display_data"
    }
   ],
   "source": [
    "average_bill_cv = q_fee_crt[['tariff_plan','current_value']]\n",
    "average_bill_cv = round(average_bill_cv.groupby(['tariff_plan']).sum()\\\n",
    "                        /average_bill_cv.groupby(['tariff_plan']).count(),2).reset_index(drop=False)\n",
    "average_bill_cv = average_bill_cv.rename(columns={'tariff_plan':'tp','current_value':'Средний чек до оптимизации'})\n",
    "\n",
    "average_bill_best = q_fee_crt[['tp_best_name','tp_best']]\n",
    "average_bill_best = round(average_bill_best.groupby(['tp_best_name']).sum()\\\n",
    "                         /average_bill_best.groupby(['tp_best_name']).count(),2).reset_index(drop=False)\n",
    "average_bill_best = average_bill_best.rename(columns={'tp_best_name':'tp','tp_best':'Средний чек лучшие тарифы'})\n",
    "\n",
    "average_bill_mid = q_fee_crt[['tp_mid_name','tp_mid']]\n",
    "average_bill_mid = round(average_bill_mid.groupby(['tp_mid_name']).sum()\\\n",
    "                         /average_bill_mid.groupby(['tp_mid_name']).count(),2).reset_index(drop=False)\n",
    "average_bill_mid = average_bill_mid.rename(columns={'tp_mid_name':'tp','tp_mid':'Средний чек средние тарифы'})\n",
    "\n",
    "average_bill_all = average_bill_cv.merge(average_bill_best, on='tp')\n",
    "average_bill_all = average_bill_all.merge(average_bill_mid, on='tp')\n",
    "display(average_bill_all)"
   ]
  },
  {
   "cell_type": "code",
   "execution_count": 60,
   "metadata": {},
   "outputs": [
    {
     "data": {
      "image/png": "[encoded data removed]",
      "text/plain": [
       "<Figure size 1080x360 with 1 Axes>"
      ]
     },
     "metadata": {
      "needs_background": "light"
     },
     "output_type": "display_data"
    }
   ],
   "source": [
    "average_bill_all.plot(x='tp',kind='bar', figsize=( 15, 5))\n",
    "plt.grid()\n",
    "plt.xticks(rotation=0)\n",
    "plt.ylabel('Стоимость, р.')\n",
    "plt.xlabel('Тарифный план')\n",
    "plt.title('Средний чек для колл-центра до и после оптимизации тарифов')\n",
    "plt.legend(loc='upper right')\n",
    "plt.show()"
   ]
  },
  {
   "cell_type": "markdown",
   "metadata": {},
   "source": [
    "**Вывод** Не смотря на то что после оптимизации тарифов выручка клиента упадет, но средний чек после оптимизации тарифов также будет меньше в случае тарифного плана А средний чек упадет почти на порядок "
   ]
  },
  {
   "cell_type": "markdown",
   "metadata": {},
   "source": [
    "Посморим на распределение активных пользователей по тарифным планам"
   ]
  },
  {
   "cell_type": "code",
   "execution_count": 61,
   "metadata": {},
   "outputs": [
    {
     "data": {
      "text/html": [
       "<div>\n",
       "<style scoped>\n",
       "    .dataframe tbody tr th:only-of-type {\n",
       "        vertical-align: middle;\n",
       "    }\n",
       "\n",
       "    .dataframe tbody tr th {\n",
       "        vertical-align: top;\n",
       "    }\n",
       "\n",
       "    .dataframe thead th {\n",
       "        text-align: right;\n",
       "    }\n",
       "</style>\n",
       "<table border=\"1\" class=\"dataframe\">\n",
       "  <thead>\n",
       "    <tr style=\"text-align: right;\">\n",
       "      <th></th>\n",
       "      <th>tariff_plan</th>\n",
       "      <th>usr_sum</th>\n",
       "    </tr>\n",
       "  </thead>\n",
       "  <tbody>\n",
       "    <tr>\n",
       "      <th>0</th>\n",
       "      <td>A</td>\n",
       "      <td>30</td>\n",
       "    </tr>\n",
       "    <tr>\n",
       "      <th>1</th>\n",
       "      <td>B</td>\n",
       "      <td>96</td>\n",
       "    </tr>\n",
       "    <tr>\n",
       "      <th>2</th>\n",
       "      <td>C</td>\n",
       "      <td>135</td>\n",
       "    </tr>\n",
       "  </tbody>\n",
       "</table>\n",
       "</div>"
      ],
      "text/plain": [
       "  tariff_plan  usr_sum\n",
       "0           A       30\n",
       "1           B       96\n",
       "2           C      135"
      ]
     },
     "execution_count": 61,
     "metadata": {},
     "output_type": "execute_result"
    }
   ],
   "source": [
    "sum_act_cl_tar = q_fee_crt[q_fee_crt['user_id'].isin(active_usr)]\\\n",
    "                                .groupby('tariff_plan').agg({'user_id':'nunique'}).reset_index()\n",
    "sum_act_cl_tar = sum_act_cl_tar.rename(columns={'user_id': 'usr_sum'})\n",
    "sum_act_cl_tar"
   ]
  },
  {
   "cell_type": "code",
   "execution_count": 62,
   "metadata": {},
   "outputs": [
    {
     "data": {
      "image/png": "[encoded data removed]",
      "text/plain": [
       "<Figure size 720x720 with 1 Axes>"
      ]
     },
     "metadata": {},
     "output_type": "display_data"
    }
   ],
   "source": [
    "sum_act_cl_tar.groupby(['tariff_plan']).sum().plot(kind='pie', y='usr_sum', figsize=(10, 10), autopct='%1.2f%%', ylabel = '')\n",
    "plt.title('Текущие доли активных клиентов на тарифных планах')\n",
    "plt.show()"
   ]
  },
  {
   "cell_type": "code",
   "execution_count": 63,
   "metadata": {},
   "outputs": [
    {
     "data": {
      "text/html": [
       "<div>\n",
       "<style scoped>\n",
       "    .dataframe tbody tr th:only-of-type {\n",
       "        vertical-align: middle;\n",
       "    }\n",
       "\n",
       "    .dataframe tbody tr th {\n",
       "        vertical-align: top;\n",
       "    }\n",
       "\n",
       "    .dataframe thead th {\n",
       "        text-align: right;\n",
       "    }\n",
       "</style>\n",
       "<table border=\"1\" class=\"dataframe\">\n",
       "  <thead>\n",
       "    <tr style=\"text-align: right;\">\n",
       "      <th></th>\n",
       "      <th>tp_best_name</th>\n",
       "      <th>usr_sum</th>\n",
       "    </tr>\n",
       "  </thead>\n",
       "  <tbody>\n",
       "    <tr>\n",
       "      <th>0</th>\n",
       "      <td>A</td>\n",
       "      <td>94</td>\n",
       "    </tr>\n",
       "    <tr>\n",
       "      <th>1</th>\n",
       "      <td>B</td>\n",
       "      <td>30</td>\n",
       "    </tr>\n",
       "    <tr>\n",
       "      <th>2</th>\n",
       "      <td>C</td>\n",
       "      <td>137</td>\n",
       "    </tr>\n",
       "  </tbody>\n",
       "</table>\n",
       "</div>"
      ],
      "text/plain": [
       "  tp_best_name  usr_sum\n",
       "0            A       94\n",
       "1            B       30\n",
       "2            C      137"
      ]
     },
     "execution_count": 63,
     "metadata": {},
     "output_type": "execute_result"
    }
   ],
   "source": [
    "sum_act_cl_tp_best = q_fee_crt[q_fee_crt['user_id'].isin(active_usr)]\\\n",
    "                        .groupby('tp_best_name').agg({'user_id':'nunique'}).reset_index()\n",
    "sum_act_cl_tp_best = sum_act_cl_tp_best.rename(columns={'user_id': 'usr_sum'})\n",
    "sum_act_cl_tp_best"
   ]
  },
  {
   "cell_type": "code",
   "execution_count": 64,
   "metadata": {},
   "outputs": [
    {
     "data": {
      "image/png": "[encoded data removed]",
      "text/plain": [
       "<Figure size 720x720 with 1 Axes>"
      ]
     },
     "metadata": {},
     "output_type": "display_data"
    }
   ],
   "source": [
    "sum_act_cl_tp_best.groupby(['tp_best_name']).sum().plot(kind='pie', y='usr_sum', figsize=(10, 10), autopct='%1.2f%%', ylabel = '')\n",
    "plt.title('Возможные доли активных клиентов на лучщих тарифных планах')\n",
    "plt.show()"
   ]
  },
  {
   "cell_type": "code",
   "execution_count": 65,
   "metadata": {},
   "outputs": [
    {
     "data": {
      "text/html": [
       "<div>\n",
       "<style scoped>\n",
       "    .dataframe tbody tr th:only-of-type {\n",
       "        vertical-align: middle;\n",
       "    }\n",
       "\n",
       "    .dataframe tbody tr th {\n",
       "        vertical-align: top;\n",
       "    }\n",
       "\n",
       "    .dataframe thead th {\n",
       "        text-align: right;\n",
       "    }\n",
       "</style>\n",
       "<table border=\"1\" class=\"dataframe\">\n",
       "  <thead>\n",
       "    <tr style=\"text-align: right;\">\n",
       "      <th></th>\n",
       "      <th>tp_mid_name</th>\n",
       "      <th>usr_sum</th>\n",
       "    </tr>\n",
       "  </thead>\n",
       "  <tbody>\n",
       "    <tr>\n",
       "      <th>0</th>\n",
       "      <td>A</td>\n",
       "      <td>13</td>\n",
       "    </tr>\n",
       "    <tr>\n",
       "      <th>1</th>\n",
       "      <td>B</td>\n",
       "      <td>232</td>\n",
       "    </tr>\n",
       "    <tr>\n",
       "      <th>2</th>\n",
       "      <td>C</td>\n",
       "      <td>16</td>\n",
       "    </tr>\n",
       "  </tbody>\n",
       "</table>\n",
       "</div>"
      ],
      "text/plain": [
       "  tp_mid_name  usr_sum\n",
       "0           A       13\n",
       "1           B      232\n",
       "2           C       16"
      ]
     },
     "execution_count": 65,
     "metadata": {},
     "output_type": "execute_result"
    }
   ],
   "source": [
    "sum_act_cl_tp_mid = q_fee_crt[q_fee_crt['user_id'].isin(active_usr)]\\\n",
    "                        .groupby('tp_mid_name').agg({'user_id':'nunique'}).reset_index()\n",
    "sum_act_cl_tp_mid = sum_act_cl_tp_mid.rename(columns={'user_id': 'usr_sum'})\n",
    "sum_act_cl_tp_mid"
   ]
  },
  {
   "cell_type": "code",
   "execution_count": 66,
   "metadata": {},
   "outputs": [
    {
     "data": {
      "image/png": "[encoded data removed]",
      "text/plain": [
       "<Figure size 720x720 with 1 Axes>"
      ]
     },
     "metadata": {},
     "output_type": "display_data"
    }
   ],
   "source": [
    "sum_act_cl_tp_mid.groupby(['tp_mid_name']).sum().plot(kind='pie', y='usr_sum', figsize=(10, 10), autopct='%1.2f%%', ylabel = '')\n",
    "plt.title('Возможные доли активных клиентов на средних тарифных планах')\n",
    "plt.show()"
   ]
  },
  {
   "cell_type": "code",
   "execution_count": 67,
   "metadata": {},
   "outputs": [
    {
     "name": "stdout",
     "output_type": "stream",
     "text": [
      "261 - активный пользователь в исходных данных\n",
      "261 - активный пользователь по данным таблицы \"Текущие доли активных клиентов на тарифных планах\"\n",
      "261 - активный пользователь по данным таблицы \"Возможные доли активных клиентов на лучщих тарифных планах\"\n",
      "261 - активный пользователь по данным таблицы \"Возможные доли активных клиентов на средних тарифных планах\"\n"
     ]
    }
   ],
   "source": [
    "print(df[df['month']==df['month'].max()]['user_id'].nunique(), '- активный пользователь в исходных данных')\n",
    "print(sum_act_cl_tar['usr_sum'].sum(),\n",
    "      '- активный пользователь по данным таблицы \"Текущие доли активных клиентов на тарифных планах\"')\n",
    "print(sum_act_cl_tp_best['usr_sum'].sum(),\n",
    "      '- активный пользователь по данным таблицы \"Возможные доли активных клиентов на лучщих тарифных планах\"')\n",
    "print(sum_act_cl_tp_mid['usr_sum'].sum(),\n",
    "      '- активный пользователь по данным таблицы \"Возможные доли активных клиентов на средних тарифных планах\"')"
   ]
  },
  {
   "cell_type": "markdown",
   "metadata": {},
   "source": [
    "## Проверка гипотез\n",
    "### Гипотеза: среднее время дозвона с тарифными планами А и В отличается"
   ]
  },
  {
   "cell_type": "markdown",
   "metadata": {},
   "source": [
    "Сформулируем гипотезы<br>\n",
    "$H_{0}$: среднее время дозвона с тарифными планами А и В равно<br>\n",
    "$H_{1}$: среднее время дозвона с тарифными планами А и В различно"
   ]
  },
  {
   "cell_type": "code",
   "execution_count": 68,
   "metadata": {},
   "outputs": [],
   "source": [
    "data['dialing_time'] = (data['total_call_duration'] - data['call_duration']) / data['calls_count']\n",
    "data_a = data[data['tariff_plan']=='A']\n",
    "data_b = data[data['tariff_plan']=='B']"
   ]
  },
  {
   "cell_type": "code",
   "execution_count": 69,
   "metadata": {},
   "outputs": [
    {
     "name": "stdout",
     "output_type": "stream",
     "text": [
      "p-значение: 0.17540924303041866\n",
      "Нельзя отвергнуть нулевую гипотезу\n"
     ]
    }
   ],
   "source": [
    "results = stats.ttest_ind(data_a['dialing_time'], data_b['dialing_time'], alternative = 'two-sided')\n",
    "alpha = 0.05\n",
    "\n",
    "print('p-значение:', results.pvalue)\n",
    "\n",
    "if (results.pvalue < alpha):\n",
    "    print('Отвергаем нулевую гипотезу')\n",
    "else:\n",
    "    print('Нельзя отвергнуть нулевую гипотезу')"
   ]
  },
  {
   "cell_type": "markdown",
   "metadata": {},
   "source": [
    "**Вывод** Нулевая гипотеза не опровергнута, следовательно среднее время дозвона с тарифными планами А и В скорее всего не отличается."
   ]
  },
  {
   "cell_type": "markdown",
   "metadata": {},
   "source": [
    "### Гипотеза: среднее время дозвона с тарифными планами А и C отличается"
   ]
  },
  {
   "cell_type": "markdown",
   "metadata": {},
   "source": [
    "Сформулируем гипотезы<br>\n",
    "$H_{0}$: среднее время дозвона с тарифными планами А и C равно<br>\n",
    "$H_{1}$: среднее время дозвона с тарифными планами А и C различно"
   ]
  },
  {
   "cell_type": "code",
   "execution_count": 70,
   "metadata": {},
   "outputs": [],
   "source": [
    "data_c = data[data['tariff_plan']=='C']"
   ]
  },
  {
   "cell_type": "code",
   "execution_count": 71,
   "metadata": {},
   "outputs": [
    {
     "name": "stdout",
     "output_type": "stream",
     "text": [
      "p-значение: 9.512816127822485e-12\n",
      "Отвергаем нулевую гипотезу\n"
     ]
    }
   ],
   "source": [
    "results = stats.ttest_ind(data_a['dialing_time'], data_c['dialing_time'], alternative = 'two-sided')\n",
    "alpha = 0.05\n",
    "\n",
    "print('p-значение:', results.pvalue)\n",
    "\n",
    "if (results.pvalue < alpha):\n",
    "    print('Отвергаем нулевую гипотезу')\n",
    "else:\n",
    "    print('Нельзя отвергнуть нулевую гипотезу')"
   ]
  },
  {
   "cell_type": "markdown",
   "metadata": {},
   "source": [
    "**Вывод** Нулевая гипотеза опровергнута, следовательно среднее время дозвона с тарифными планами А и C скорее всего отличается."
   ]
  },
  {
   "cell_type": "markdown",
   "metadata": {},
   "source": [
    "### Гипотеза: среднее время дозвона с тарифными планами B и C отличается"
   ]
  },
  {
   "cell_type": "markdown",
   "metadata": {},
   "source": [
    "Сформулируем гипотезы<br>\n",
    "$H_{0}$: среднее время дозвона с тарифными планами B и C равно<br>\n",
    "$H_{1}$: среднее время дозвона с тарифными планами B и C различно"
   ]
  },
  {
   "cell_type": "code",
   "execution_count": 72,
   "metadata": {},
   "outputs": [
    {
     "name": "stdout",
     "output_type": "stream",
     "text": [
      "p-значение: 1.9777580447512673e-16\n",
      "Отвергаем нулевую гипотезу\n"
     ]
    }
   ],
   "source": [
    "results = stats.ttest_ind(data_b['dialing_time'], data_c['dialing_time'], alternative = 'two-sided')\n",
    "alpha = 0.05\n",
    "\n",
    "print('p-значение:', results.pvalue)\n",
    "\n",
    "if (results.pvalue < alpha):\n",
    "    print('Отвергаем нулевую гипотезу')\n",
    "else:\n",
    "    print('Нельзя отвергнуть нулевую гипотезу')"
   ]
  },
  {
   "cell_type": "markdown",
   "metadata": {},
   "source": [
    "**Вывод** Нулевая гипотеза опровергнута, следовательно среднее время дозвона с тарифными планами B и C скорее всего отличается."
   ]
  },
  {
   "cell_type": "markdown",
   "metadata": {},
   "source": [
    "**Вывод по гипотезам** Тарифы A и B скорее всего имеют одинаковое среднее время дозвона в отличе от тарифа C"
   ]
  },
  {
   "cell_type": "markdown",
   "metadata": {},
   "source": [
    "## **Общий вывод**\n",
    "\n",
    "\n",
    "    1. Предобработка данных\n",
    "        -Названия столбцов в датасетах корректны\n",
    "\t\t-Датасет clients \n",
    "\t\t\tсодержит 732 строки пропусков в данных нет, \n",
    "\t\t\tдля поля date_start преобразован тип.\n",
    "\t\t-Датасет dt\n",
    "\t\t\tсодержит 53902 строки\n",
    "\t\t\tудалены явные дубликаты\n",
    "\t\t\tПропуски в \n",
    "\t\t\t\tполе internal (удалены из-за малого количества) и \n",
    "\t\t\t\toperator_id (оставлено без изменений т.к. не повлияет на рачеты, основная масса пропущеные звонки)\n",
    "\t\t\tПоля date, internal и operator_id  - преобразован тип данных\n",
    "\t\t\tпосле обработки датасет содержит 48892 строки\n",
    "\n",
    "    2. Исследовательский анализ данных\n",
    "        Обнаружены три возможных аномалии:\n",
    "             1. 3.49 звонка совершается каждую минуту в случае максимальной аномалии.\n",
    "             Складывается впечатление, что за большим количеством звонков у клиентов скрываются боты-звонилки или это входящие звонки. Если звонки исходящие, то бот не дозвонился и перешел к следующему звонку и это хорошо для оператора. Если звонки входящие, то скорее всего абонент не дождался ответа и тут колл-центр должен увеличить свою мощность, что опять же хорошо для нашего клиента. Оставляем без изменений\n",
    "             2. Аномалия call_duration - был обнаружен один аномальный с 283 записями. Этот оператор удале в силу малого количества записей.\n",
    "             3. Аномалия total_call_duration - после удаления аномалий в call_duration аномалии не обнаружены.\n",
    "\n",
    "    3. Созданы функции для расчета возможных минимальных, средних значений в зависимости от текущей ситуации\n",
    "        Если мы предлагаем клиенту использовать самые оптимальные для колл-центров тарифы, то возникает ситуация падения выручки почти на 30%. В этом случае 147 колл-центрам рекомендовано сменить тарифный, что составляет 56.32 % от общего количества активных пользователей.\n",
    "        Лучшим решением будет предложить клиенту использовать средний по стоимости тариф. Тогда средняя выручка клиента упадет только на 9% и также клиент получит дополнительную лояльность клиентов. В этом случае 59 колл-центрам будет рекомендовано сменить тарифный, что составляет 22.61 % от общего количества активных пользователей.\n",
    "        Не смотря на то что после оптимизации тарифов выручка клиента упадет, но средний чек после оптимизации тарифов также будет меньше в случае тарифного плана А средний чек упадет почти на порядок\n",
    "        В случае перевода активных клиентов на средние тарифы почти 80% клиентов будет использовать тарифный план B. Возможно имеет смысл пересмотреть тарифные планы А и С.\n",
    "    \n",
    "    4. Проверка гипотез\n",
    "        4.1 Была выдвинута гипотеза что среднее время дозвона с тарифными планами А и В равно.\n",
    "        Нулевая гипотеза не опровергнута, следовательно среднее время дозвона с тарифными планами А и В скорее всего не отличается.\n",
    "        4.2 Была выдвинута гипотеза что среднее время дозвона с тарифными планами А и C равно.\n",
    "        Нулевая гипотеза опровергнута, следовательно среднее время дозвона с тарифными планами А и C скорее всего отличается.\n",
    "        4.3 Была выдвинута гипотеза что среднее время дозвона с тарифными планами B и C равно.\n",
    "        Нулевая гипотеза опровергнута, следовательно среднее время дозвона с тарифными планами B и C скорее всего отличается.\n",
    "    Тарифы A и B скорее всего имеют одинаковое среднее время дозвона в отличе от тарифа C"
   ]
  },
  {
   "cell_type": "code",
   "execution_count": null,
   "metadata": {},
   "outputs": [],
   "source": []
  }
 ],
 "metadata": {
  "ExecuteTimeLog": [
   {
    "duration": 439,
    "start_time": "2024-09-23T11:02:23.464Z"
   },
   {
    "duration": 374,
    "start_time": "2024-09-23T11:06:14.444Z"
   },
   {
    "duration": 100,
    "start_time": "2024-09-23T11:06:19.283Z"
   },
   {
    "duration": 122,
    "start_time": "2024-09-23T11:07:31.595Z"
   },
   {
    "duration": 29,
    "start_time": "2024-09-23T11:09:19.981Z"
   },
   {
    "duration": 115,
    "start_time": "2024-09-23T11:11:19.037Z"
   },
   {
    "duration": 37,
    "start_time": "2024-09-23T11:11:25.510Z"
   },
   {
    "duration": 24,
    "start_time": "2024-09-23T11:25:56.789Z"
   },
   {
    "duration": 17,
    "start_time": "2024-09-23T11:27:03.100Z"
   },
   {
    "duration": 37,
    "start_time": "2024-09-23T11:27:30.932Z"
   },
   {
    "duration": 13,
    "start_time": "2024-09-23T11:27:52.697Z"
   },
   {
    "duration": 20,
    "start_time": "2024-09-23T11:29:05.097Z"
   },
   {
    "duration": 70,
    "start_time": "2024-09-23T13:06:35.618Z"
   },
   {
    "duration": 19,
    "start_time": "2024-09-23T13:06:58.768Z"
   },
   {
    "duration": 41,
    "start_time": "2024-09-23T13:09:10.120Z"
   },
   {
    "duration": 37,
    "start_time": "2024-09-23T13:10:11.242Z"
   },
   {
    "duration": 30,
    "start_time": "2024-09-23T13:23:41.968Z"
   },
   {
    "duration": 30,
    "start_time": "2024-09-23T13:24:24.233Z"
   },
   {
    "duration": 58,
    "start_time": "2024-09-23T13:28:20.982Z"
   },
   {
    "duration": 35,
    "start_time": "2024-09-23T13:29:15.672Z"
   },
   {
    "duration": 36,
    "start_time": "2024-09-23T13:32:03.450Z"
   },
   {
    "duration": 35,
    "start_time": "2024-09-23T13:33:12.054Z"
   },
   {
    "duration": 33,
    "start_time": "2024-09-23T13:33:34.164Z"
   },
   {
    "duration": 419,
    "start_time": "2024-09-23T13:34:18.691Z"
   },
   {
    "duration": 125,
    "start_time": "2024-09-23T13:34:19.112Z"
   },
   {
    "duration": 41,
    "start_time": "2024-09-23T13:34:19.238Z"
   },
   {
    "duration": 47,
    "start_time": "2024-09-23T13:34:19.280Z"
   },
   {
    "duration": 11,
    "start_time": "2024-09-23T13:34:19.329Z"
   },
   {
    "duration": 20,
    "start_time": "2024-09-23T13:42:50.754Z"
   },
   {
    "duration": 10,
    "start_time": "2024-09-23T13:45:13.042Z"
   },
   {
    "duration": 20,
    "start_time": "2024-09-23T13:56:05.798Z"
   },
   {
    "duration": 75,
    "start_time": "2024-09-23T14:02:36.713Z"
   },
   {
    "duration": 20,
    "start_time": "2024-09-23T14:03:05.288Z"
   },
   {
    "duration": 27,
    "start_time": "2024-09-23T14:04:32.803Z"
   },
   {
    "duration": 12,
    "start_time": "2024-09-23T14:06:09.689Z"
   },
   {
    "duration": 22,
    "start_time": "2024-09-23T14:06:18.138Z"
   },
   {
    "duration": 17,
    "start_time": "2024-09-23T14:06:43.195Z"
   },
   {
    "duration": 21,
    "start_time": "2024-09-23T14:06:56.565Z"
   },
   {
    "duration": 29,
    "start_time": "2024-09-23T14:08:04.425Z"
   },
   {
    "duration": 56,
    "start_time": "2024-09-23T14:32:21.073Z"
   },
   {
    "duration": 12,
    "start_time": "2024-09-23T14:32:38.752Z"
   },
   {
    "duration": 8,
    "start_time": "2024-09-23T14:34:44.234Z"
   },
   {
    "duration": 8,
    "start_time": "2024-09-23T14:35:06.452Z"
   },
   {
    "duration": 42,
    "start_time": "2024-09-23T14:36:19.407Z"
   },
   {
    "duration": 29,
    "start_time": "2024-09-23T14:36:23.661Z"
   },
   {
    "duration": 8,
    "start_time": "2024-09-23T14:36:34.003Z"
   },
   {
    "duration": 9,
    "start_time": "2024-09-23T14:36:48.487Z"
   },
   {
    "duration": 8,
    "start_time": "2024-09-23T14:37:14.682Z"
   },
   {
    "duration": 9,
    "start_time": "2024-09-23T14:38:56.785Z"
   },
   {
    "duration": 54,
    "start_time": "2024-09-23T14:40:19.535Z"
   },
   {
    "duration": 52,
    "start_time": "2024-09-23T14:41:01.568Z"
   },
   {
    "duration": 8,
    "start_time": "2024-09-23T14:41:15.749Z"
   },
   {
    "duration": 8,
    "start_time": "2024-09-23T14:42:25.699Z"
   },
   {
    "duration": 11,
    "start_time": "2024-09-23T14:44:03.742Z"
   },
   {
    "duration": 18,
    "start_time": "2024-09-23T14:44:41.392Z"
   },
   {
    "duration": 15,
    "start_time": "2024-09-23T14:52:29.747Z"
   },
   {
    "duration": 432,
    "start_time": "2024-09-23T15:01:13.683Z"
   },
   {
    "duration": 123,
    "start_time": "2024-09-23T15:01:14.117Z"
   },
   {
    "duration": 67,
    "start_time": "2024-09-23T15:01:14.241Z"
   },
   {
    "duration": 0,
    "start_time": "2024-09-23T15:01:14.310Z"
   },
   {
    "duration": 0,
    "start_time": "2024-09-23T15:01:14.311Z"
   },
   {
    "duration": 0,
    "start_time": "2024-09-23T15:01:14.313Z"
   },
   {
    "duration": 0,
    "start_time": "2024-09-23T15:01:14.314Z"
   },
   {
    "duration": 0,
    "start_time": "2024-09-23T15:01:14.315Z"
   },
   {
    "duration": 0,
    "start_time": "2024-09-23T15:01:14.316Z"
   },
   {
    "duration": 43,
    "start_time": "2024-09-23T15:01:52.907Z"
   },
   {
    "duration": 464,
    "start_time": "2024-09-23T15:01:59.536Z"
   },
   {
    "duration": 126,
    "start_time": "2024-09-23T15:02:00.002Z"
   },
   {
    "duration": 42,
    "start_time": "2024-09-23T15:02:00.129Z"
   },
   {
    "duration": 70,
    "start_time": "2024-09-23T15:02:00.177Z"
   },
   {
    "duration": 29,
    "start_time": "2024-09-23T15:02:00.249Z"
   },
   {
    "duration": 23,
    "start_time": "2024-09-23T15:02:00.280Z"
   },
   {
    "duration": 90,
    "start_time": "2024-09-23T15:02:00.305Z"
   },
   {
    "duration": 0,
    "start_time": "2024-09-23T15:02:00.396Z"
   },
   {
    "duration": 0,
    "start_time": "2024-09-23T15:02:00.398Z"
   },
   {
    "duration": 13,
    "start_time": "2024-09-23T15:02:14.754Z"
   },
   {
    "duration": 447,
    "start_time": "2024-09-23T15:02:23.349Z"
   },
   {
    "duration": 124,
    "start_time": "2024-09-23T15:02:23.798Z"
   },
   {
    "duration": 55,
    "start_time": "2024-09-23T15:02:23.923Z"
   },
   {
    "duration": 27,
    "start_time": "2024-09-23T15:02:23.981Z"
   },
   {
    "duration": 29,
    "start_time": "2024-09-23T15:02:24.010Z"
   },
   {
    "duration": 40,
    "start_time": "2024-09-23T15:02:24.041Z"
   },
   {
    "duration": 12,
    "start_time": "2024-09-23T15:02:24.082Z"
   },
   {
    "duration": 68,
    "start_time": "2024-09-23T15:02:24.095Z"
   },
   {
    "duration": 9,
    "start_time": "2024-09-23T15:02:24.164Z"
   },
   {
    "duration": 42,
    "start_time": "2024-09-23T15:04:58.520Z"
   },
   {
    "duration": 6,
    "start_time": "2024-09-23T15:06:28.631Z"
   },
   {
    "duration": 6,
    "start_time": "2024-09-23T15:06:58.062Z"
   },
   {
    "duration": 67,
    "start_time": "2024-09-23T15:07:42.738Z"
   },
   {
    "duration": 4,
    "start_time": "2024-09-23T15:07:50.276Z"
   },
   {
    "duration": 42,
    "start_time": "2024-09-23T15:13:30.461Z"
   },
   {
    "duration": 37,
    "start_time": "2024-09-23T15:14:23.712Z"
   },
   {
    "duration": 44,
    "start_time": "2024-09-23T15:15:31.846Z"
   },
   {
    "duration": 45,
    "start_time": "2024-09-23T15:15:55.743Z"
   },
   {
    "duration": 40,
    "start_time": "2024-09-23T15:21:44.203Z"
   },
   {
    "duration": 37,
    "start_time": "2024-09-23T15:22:09.213Z"
   },
   {
    "duration": 24,
    "start_time": "2024-09-23T15:22:20.547Z"
   },
   {
    "duration": 17,
    "start_time": "2024-09-23T15:23:05.408Z"
   },
   {
    "duration": 449,
    "start_time": "2024-09-24T06:40:53.973Z"
   },
   {
    "duration": 376,
    "start_time": "2024-09-24T06:40:54.424Z"
   },
   {
    "duration": 44,
    "start_time": "2024-09-24T06:40:54.802Z"
   },
   {
    "duration": 77,
    "start_time": "2024-09-24T06:40:54.848Z"
   },
   {
    "duration": 8,
    "start_time": "2024-09-24T06:40:54.928Z"
   },
   {
    "duration": 26,
    "start_time": "2024-09-24T06:40:54.938Z"
   },
   {
    "duration": 12,
    "start_time": "2024-09-24T06:40:54.967Z"
   },
   {
    "duration": 40,
    "start_time": "2024-09-24T06:40:54.982Z"
   },
   {
    "duration": 63,
    "start_time": "2024-09-24T06:40:55.024Z"
   },
   {
    "duration": 13,
    "start_time": "2024-09-24T06:40:55.090Z"
   },
   {
    "duration": 78,
    "start_time": "2024-09-24T06:40:55.105Z"
   },
   {
    "duration": 14,
    "start_time": "2024-09-24T06:40:55.186Z"
   },
   {
    "duration": 79,
    "start_time": "2024-09-24T06:40:55.202Z"
   },
   {
    "duration": 53,
    "start_time": "2024-09-24T06:41:52.612Z"
   },
   {
    "duration": 71,
    "start_time": "2024-09-24T06:42:33.233Z"
   },
   {
    "duration": 98,
    "start_time": "2024-09-24T06:43:19.568Z"
   },
   {
    "duration": 63,
    "start_time": "2024-09-24T06:43:28.243Z"
   },
   {
    "duration": 10,
    "start_time": "2024-09-24T06:45:27.735Z"
   },
   {
    "duration": 50,
    "start_time": "2024-09-24T06:45:51.861Z"
   },
   {
    "duration": 81,
    "start_time": "2024-09-24T06:46:13.160Z"
   },
   {
    "duration": 43,
    "start_time": "2024-09-24T06:59:44.970Z"
   },
   {
    "duration": 10,
    "start_time": "2024-09-24T07:00:43.295Z"
   },
   {
    "duration": 8,
    "start_time": "2024-09-24T07:06:21.734Z"
   },
   {
    "duration": 7,
    "start_time": "2024-09-24T07:06:42.113Z"
   },
   {
    "duration": 7,
    "start_time": "2024-09-24T07:06:59.335Z"
   },
   {
    "duration": 441,
    "start_time": "2024-09-24T07:07:17.993Z"
   },
   {
    "duration": 118,
    "start_time": "2024-09-24T07:07:18.436Z"
   },
   {
    "duration": 38,
    "start_time": "2024-09-24T07:07:18.556Z"
   },
   {
    "duration": 51,
    "start_time": "2024-09-24T07:07:18.596Z"
   },
   {
    "duration": 5,
    "start_time": "2024-09-24T07:07:18.649Z"
   },
   {
    "duration": 56,
    "start_time": "2024-09-24T07:07:18.656Z"
   },
   {
    "duration": 38,
    "start_time": "2024-09-24T07:07:18.713Z"
   },
   {
    "duration": 57,
    "start_time": "2024-09-24T07:07:18.753Z"
   },
   {
    "duration": 22,
    "start_time": "2024-09-24T07:07:18.812Z"
   },
   {
    "duration": 33,
    "start_time": "2024-09-24T07:07:18.835Z"
   },
   {
    "duration": 64,
    "start_time": "2024-09-24T07:07:18.870Z"
   },
   {
    "duration": 34,
    "start_time": "2024-09-24T07:07:18.936Z"
   },
   {
    "duration": 74,
    "start_time": "2024-09-24T07:07:18.971Z"
   },
   {
    "duration": 420,
    "start_time": "2024-09-24T07:10:19.018Z"
   },
   {
    "duration": 124,
    "start_time": "2024-09-24T07:10:19.440Z"
   },
   {
    "duration": 52,
    "start_time": "2024-09-24T07:10:19.566Z"
   },
   {
    "duration": 44,
    "start_time": "2024-09-24T07:10:19.620Z"
   },
   {
    "duration": 6,
    "start_time": "2024-09-24T07:10:19.666Z"
   },
   {
    "duration": 10,
    "start_time": "2024-09-24T07:10:19.674Z"
   },
   {
    "duration": 4,
    "start_time": "2024-09-24T07:10:19.706Z"
   },
   {
    "duration": 29,
    "start_time": "2024-09-24T07:10:19.712Z"
   },
   {
    "duration": 13,
    "start_time": "2024-09-24T07:10:19.743Z"
   },
   {
    "duration": 71,
    "start_time": "2024-09-24T07:10:19.758Z"
   },
   {
    "duration": 0,
    "start_time": "2024-09-24T07:10:19.830Z"
   },
   {
    "duration": 0,
    "start_time": "2024-09-24T07:10:19.833Z"
   },
   {
    "duration": 0,
    "start_time": "2024-09-24T07:10:19.834Z"
   },
   {
    "duration": 435,
    "start_time": "2024-09-24T07:10:34.291Z"
   },
   {
    "duration": 123,
    "start_time": "2024-09-24T07:10:34.728Z"
   },
   {
    "duration": 41,
    "start_time": "2024-09-24T07:10:34.853Z"
   },
   {
    "duration": 45,
    "start_time": "2024-09-24T07:10:34.904Z"
   },
   {
    "duration": 5,
    "start_time": "2024-09-24T07:10:34.950Z"
   },
   {
    "duration": 18,
    "start_time": "2024-09-24T07:10:34.957Z"
   },
   {
    "duration": 51,
    "start_time": "2024-09-24T07:10:34.977Z"
   },
   {
    "duration": 67,
    "start_time": "2024-09-24T07:10:35.030Z"
   },
   {
    "duration": 76,
    "start_time": "2024-09-24T07:10:35.099Z"
   },
   {
    "duration": 29,
    "start_time": "2024-09-24T07:10:35.177Z"
   },
   {
    "duration": 30,
    "start_time": "2024-09-24T07:10:35.207Z"
   },
   {
    "duration": 11,
    "start_time": "2024-09-24T07:10:35.239Z"
   },
   {
    "duration": 64,
    "start_time": "2024-09-24T07:10:35.252Z"
   },
   {
    "duration": 3,
    "start_time": "2024-09-24T07:14:22.051Z"
   },
   {
    "duration": 443,
    "start_time": "2024-09-24T07:15:30.835Z"
   },
   {
    "duration": 10,
    "start_time": "2024-09-24T07:19:37.049Z"
   },
   {
    "duration": 138,
    "start_time": "2024-09-24T07:20:05.175Z"
   },
   {
    "duration": 130,
    "start_time": "2024-09-24T07:20:53.166Z"
   },
   {
    "duration": 151,
    "start_time": "2024-09-24T07:23:35.527Z"
   },
   {
    "duration": 1638,
    "start_time": "2024-09-24T07:24:03.820Z"
   },
   {
    "duration": 168,
    "start_time": "2024-09-24T07:24:25.690Z"
   },
   {
    "duration": 171,
    "start_time": "2024-09-24T07:29:14.237Z"
   },
   {
    "duration": 160,
    "start_time": "2024-09-24T07:30:13.780Z"
   },
   {
    "duration": 159,
    "start_time": "2024-09-24T07:31:10.606Z"
   },
   {
    "duration": 172,
    "start_time": "2024-09-24T07:31:27.246Z"
   },
   {
    "duration": 164,
    "start_time": "2024-09-24T07:31:53.633Z"
   },
   {
    "duration": 528,
    "start_time": "2024-09-24T07:33:26.759Z"
   },
   {
    "duration": 1659,
    "start_time": "2024-09-24T07:33:52.704Z"
   },
   {
    "duration": 489,
    "start_time": "2024-09-24T07:34:00.894Z"
   },
   {
    "duration": 477,
    "start_time": "2024-09-24T07:34:21.961Z"
   },
   {
    "duration": 3003,
    "start_time": "2024-09-24T07:34:33.875Z"
   },
   {
    "duration": 600,
    "start_time": "2024-09-24T07:35:14.440Z"
   },
   {
    "duration": 453,
    "start_time": "2024-09-24T07:35:27.113Z"
   },
   {
    "duration": 202,
    "start_time": "2024-09-24T07:35:45.955Z"
   },
   {
    "duration": 159,
    "start_time": "2024-09-24T07:38:31.231Z"
   },
   {
    "duration": 176,
    "start_time": "2024-09-24T07:38:44.744Z"
   },
   {
    "duration": 174,
    "start_time": "2024-09-24T07:39:23.493Z"
   },
   {
    "duration": 179,
    "start_time": "2024-09-24T07:39:34.316Z"
   },
   {
    "duration": 178,
    "start_time": "2024-09-24T07:40:10.775Z"
   },
   {
    "duration": 247,
    "start_time": "2024-09-24T07:40:30.029Z"
   },
   {
    "duration": 163,
    "start_time": "2024-09-24T07:41:48.793Z"
   },
   {
    "duration": 202,
    "start_time": "2024-09-24T07:42:44.546Z"
   },
   {
    "duration": 175,
    "start_time": "2024-09-24T07:43:09.172Z"
   },
   {
    "duration": 178,
    "start_time": "2024-09-24T07:43:34.037Z"
   },
   {
    "duration": 162,
    "start_time": "2024-09-24T07:43:55.042Z"
   },
   {
    "duration": 166,
    "start_time": "2024-09-24T07:44:04.950Z"
   },
   {
    "duration": 171,
    "start_time": "2024-09-24T07:44:12.944Z"
   },
   {
    "duration": 175,
    "start_time": "2024-09-24T07:44:33.922Z"
   },
   {
    "duration": 187,
    "start_time": "2024-09-24T07:44:48.872Z"
   },
   {
    "duration": 153,
    "start_time": "2024-09-24T07:45:52.247Z"
   },
   {
    "duration": 233,
    "start_time": "2024-09-24T07:46:13.347Z"
   },
   {
    "duration": 182,
    "start_time": "2024-09-24T07:46:32.019Z"
   },
   {
    "duration": 182,
    "start_time": "2024-09-24T07:51:10.791Z"
   },
   {
    "duration": 174,
    "start_time": "2024-09-24T07:51:33.725Z"
   },
   {
    "duration": 178,
    "start_time": "2024-09-24T07:51:49.107Z"
   },
   {
    "duration": 169,
    "start_time": "2024-09-24T07:52:29.601Z"
   },
   {
    "duration": 186,
    "start_time": "2024-09-24T07:53:21.318Z"
   },
   {
    "duration": 172,
    "start_time": "2024-09-24T07:55:21.481Z"
   },
   {
    "duration": 20,
    "start_time": "2024-09-24T07:57:22.689Z"
   },
   {
    "duration": 14,
    "start_time": "2024-09-24T07:57:49.980Z"
   },
   {
    "duration": 17,
    "start_time": "2024-09-24T07:58:09.080Z"
   },
   {
    "duration": 687,
    "start_time": "2024-09-24T08:03:32.529Z"
   },
   {
    "duration": 120,
    "start_time": "2024-09-24T08:03:33.217Z"
   },
   {
    "duration": 42,
    "start_time": "2024-09-24T08:03:33.339Z"
   },
   {
    "duration": 51,
    "start_time": "2024-09-24T08:03:33.383Z"
   },
   {
    "duration": 6,
    "start_time": "2024-09-24T08:03:33.436Z"
   },
   {
    "duration": 47,
    "start_time": "2024-09-24T08:03:33.443Z"
   },
   {
    "duration": 24,
    "start_time": "2024-09-24T08:03:33.492Z"
   },
   {
    "duration": 36,
    "start_time": "2024-09-24T08:03:33.517Z"
   },
   {
    "duration": 12,
    "start_time": "2024-09-24T08:03:33.555Z"
   },
   {
    "duration": 13,
    "start_time": "2024-09-24T08:03:33.570Z"
   },
   {
    "duration": 29,
    "start_time": "2024-09-24T08:03:33.585Z"
   },
   {
    "duration": 215,
    "start_time": "2024-09-24T08:03:33.616Z"
   },
   {
    "duration": 45,
    "start_time": "2024-09-24T08:03:33.833Z"
   },
   {
    "duration": 39,
    "start_time": "2024-09-24T08:03:33.879Z"
   },
   {
    "duration": 40,
    "start_time": "2024-09-24T08:04:17.798Z"
   },
   {
    "duration": 17,
    "start_time": "2024-09-24T08:04:24.871Z"
   },
   {
    "duration": 52,
    "start_time": "2024-09-24T08:07:00.074Z"
   },
   {
    "duration": 17,
    "start_time": "2024-09-24T08:07:09.465Z"
   },
   {
    "duration": 11,
    "start_time": "2024-09-24T08:08:12.960Z"
   },
   {
    "duration": 10,
    "start_time": "2024-09-24T08:11:38.076Z"
   },
   {
    "duration": 9,
    "start_time": "2024-09-24T08:12:07.891Z"
   },
   {
    "duration": 1119,
    "start_time": "2024-09-24T09:26:07.308Z"
   },
   {
    "duration": 372,
    "start_time": "2024-09-24T09:26:39.427Z"
   },
   {
    "duration": 566,
    "start_time": "2024-09-24T09:26:57.892Z"
   },
   {
    "duration": 591,
    "start_time": "2024-09-24T09:27:18.061Z"
   },
   {
    "duration": 740,
    "start_time": "2024-09-24T09:27:26.457Z"
   },
   {
    "duration": 948,
    "start_time": "2024-09-24T09:27:45.925Z"
   },
   {
    "duration": 990,
    "start_time": "2024-09-24T09:28:06.905Z"
   },
   {
    "duration": 1032,
    "start_time": "2024-09-24T09:28:43.295Z"
   },
   {
    "duration": 961,
    "start_time": "2024-09-24T09:28:54.610Z"
   },
   {
    "duration": 307,
    "start_time": "2024-09-24T09:29:04.869Z"
   },
   {
    "duration": 296,
    "start_time": "2024-09-24T09:29:16.419Z"
   },
   {
    "duration": 1149,
    "start_time": "2024-09-24T09:29:42.824Z"
   },
   {
    "duration": 1004,
    "start_time": "2024-09-24T09:30:03.916Z"
   },
   {
    "duration": 964,
    "start_time": "2024-09-24T09:30:24.174Z"
   },
   {
    "duration": 110,
    "start_time": "2024-09-24T09:39:25.781Z"
   },
   {
    "duration": 175,
    "start_time": "2024-09-24T09:39:59.833Z"
   },
   {
    "duration": 178,
    "start_time": "2024-09-24T09:40:41.065Z"
   },
   {
    "duration": 124,
    "start_time": "2024-09-24T09:41:06.316Z"
   },
   {
    "duration": 116,
    "start_time": "2024-09-24T09:43:10.522Z"
   },
   {
    "duration": 151,
    "start_time": "2024-09-24T09:47:50.361Z"
   },
   {
    "duration": 354,
    "start_time": "2024-09-24T09:47:58.202Z"
   },
   {
    "duration": 90,
    "start_time": "2024-09-24T09:48:19.831Z"
   },
   {
    "duration": 292,
    "start_time": "2024-09-24T09:48:49.679Z"
   },
   {
    "duration": 328,
    "start_time": "2024-09-24T09:49:44.041Z"
   },
   {
    "duration": 258,
    "start_time": "2024-09-24T09:49:59.698Z"
   },
   {
    "duration": 282,
    "start_time": "2024-09-24T09:50:10.005Z"
   },
   {
    "duration": 254,
    "start_time": "2024-09-24T09:51:18.100Z"
   },
   {
    "duration": 1132,
    "start_time": "2024-09-24T09:51:43.894Z"
   },
   {
    "duration": 141,
    "start_time": "2024-09-24T09:52:36.776Z"
   },
   {
    "duration": 139,
    "start_time": "2024-09-24T09:52:44.614Z"
   },
   {
    "duration": 12,
    "start_time": "2024-09-24T09:53:52.010Z"
   },
   {
    "duration": 13,
    "start_time": "2024-09-24T09:54:19.456Z"
   },
   {
    "duration": 27,
    "start_time": "2024-09-24T09:54:37.360Z"
   },
   {
    "duration": 17,
    "start_time": "2024-09-24T09:56:11.449Z"
   },
   {
    "duration": 17,
    "start_time": "2024-09-24T09:56:33.914Z"
   },
   {
    "duration": 17,
    "start_time": "2024-09-24T09:57:03.446Z"
   },
   {
    "duration": 12,
    "start_time": "2024-09-24T09:57:25.249Z"
   },
   {
    "duration": 18,
    "start_time": "2024-09-24T09:58:38.787Z"
   },
   {
    "duration": 18,
    "start_time": "2024-09-24T10:01:07.533Z"
   },
   {
    "duration": 12,
    "start_time": "2024-09-24T10:08:35.495Z"
   },
   {
    "duration": 128,
    "start_time": "2024-09-24T10:09:14.634Z"
   },
   {
    "duration": 245,
    "start_time": "2024-09-24T10:10:08.162Z"
   },
   {
    "duration": 271,
    "start_time": "2024-09-24T10:10:32.690Z"
   },
   {
    "duration": 318,
    "start_time": "2024-09-24T10:11:14.329Z"
   },
   {
    "duration": 189,
    "start_time": "2024-09-24T10:12:03.005Z"
   },
   {
    "duration": 13,
    "start_time": "2024-09-24T10:12:24.275Z"
   },
   {
    "duration": 17,
    "start_time": "2024-09-24T10:14:28.614Z"
   },
   {
    "duration": 64,
    "start_time": "2024-09-24T10:17:41.642Z"
   },
   {
    "duration": 37,
    "start_time": "2024-09-24T10:18:35.985Z"
   },
   {
    "duration": 38,
    "start_time": "2024-09-24T10:19:08.380Z"
   },
   {
    "duration": 34,
    "start_time": "2024-09-24T10:19:20.927Z"
   },
   {
    "duration": 41,
    "start_time": "2024-09-24T10:21:52.121Z"
   },
   {
    "duration": 44,
    "start_time": "2024-09-24T10:24:03.845Z"
   },
   {
    "duration": 37,
    "start_time": "2024-09-24T10:24:13.415Z"
   },
   {
    "duration": 95,
    "start_time": "2024-09-24T10:27:56.676Z"
   },
   {
    "duration": 64,
    "start_time": "2024-09-24T10:28:09.076Z"
   },
   {
    "duration": 67,
    "start_time": "2024-09-24T10:28:35.694Z"
   },
   {
    "duration": 63,
    "start_time": "2024-09-24T10:28:45.301Z"
   },
   {
    "duration": 68,
    "start_time": "2024-09-24T10:29:00.584Z"
   },
   {
    "duration": 67,
    "start_time": "2024-09-24T10:29:19.290Z"
   },
   {
    "duration": 177,
    "start_time": "2024-09-24T10:31:31.269Z"
   },
   {
    "duration": 23,
    "start_time": "2024-09-24T10:40:34.820Z"
   },
   {
    "duration": 17,
    "start_time": "2024-09-24T10:41:22.292Z"
   },
   {
    "duration": 118,
    "start_time": "2024-09-24T10:49:38.548Z"
   },
   {
    "duration": 117,
    "start_time": "2024-09-24T10:49:56.026Z"
   },
   {
    "duration": 23,
    "start_time": "2024-09-24T10:50:08.508Z"
   },
   {
    "duration": 18,
    "start_time": "2024-09-24T10:51:59.799Z"
   },
   {
    "duration": 89,
    "start_time": "2024-09-24T10:53:50.765Z"
   },
   {
    "duration": 18,
    "start_time": "2024-09-24T10:54:05.491Z"
   },
   {
    "duration": 20,
    "start_time": "2024-09-24T10:54:43.692Z"
   },
   {
    "duration": 21,
    "start_time": "2024-09-24T10:54:51.874Z"
   },
   {
    "duration": 20,
    "start_time": "2024-09-24T10:55:31.419Z"
   },
   {
    "duration": 18,
    "start_time": "2024-09-24T10:57:06.437Z"
   },
   {
    "duration": 24,
    "start_time": "2024-09-24T10:58:04.336Z"
   },
   {
    "duration": 21,
    "start_time": "2024-09-24T10:59:39.489Z"
   },
   {
    "duration": 21,
    "start_time": "2024-09-24T11:02:30.647Z"
   },
   {
    "duration": 25,
    "start_time": "2024-09-24T11:03:59.469Z"
   },
   {
    "duration": 25,
    "start_time": "2024-09-24T11:05:19.787Z"
   },
   {
    "duration": 13,
    "start_time": "2024-09-24T11:06:08.891Z"
   },
   {
    "duration": 15,
    "start_time": "2024-09-24T11:06:22.652Z"
   },
   {
    "duration": 12,
    "start_time": "2024-09-24T11:06:46.246Z"
   },
   {
    "duration": 14,
    "start_time": "2024-09-24T11:07:51.267Z"
   },
   {
    "duration": 13,
    "start_time": "2024-09-24T11:08:12.314Z"
   },
   {
    "duration": 11,
    "start_time": "2024-09-24T11:08:50.057Z"
   },
   {
    "duration": 149,
    "start_time": "2024-09-24T11:10:01.537Z"
   },
   {
    "duration": 16,
    "start_time": "2024-09-24T11:10:46.095Z"
   },
   {
    "duration": 112,
    "start_time": "2024-09-24T11:11:29.393Z"
   },
   {
    "duration": 17,
    "start_time": "2024-09-24T11:12:54.682Z"
   },
   {
    "duration": 9,
    "start_time": "2024-09-24T11:14:09.714Z"
   },
   {
    "duration": 6,
    "start_time": "2024-09-24T11:15:42.437Z"
   },
   {
    "duration": 7,
    "start_time": "2024-09-24T11:15:54.172Z"
   },
   {
    "duration": 7,
    "start_time": "2024-09-24T11:16:35.140Z"
   },
   {
    "duration": 8,
    "start_time": "2024-09-24T11:23:14.242Z"
   },
   {
    "duration": 8,
    "start_time": "2024-09-24T11:23:34.708Z"
   },
   {
    "duration": 7,
    "start_time": "2024-09-24T11:23:43.065Z"
   },
   {
    "duration": 8,
    "start_time": "2024-09-24T11:24:28.102Z"
   },
   {
    "duration": 10,
    "start_time": "2024-09-24T11:26:38.260Z"
   },
   {
    "duration": 10,
    "start_time": "2024-09-24T11:27:23.568Z"
   },
   {
    "duration": 7,
    "start_time": "2024-09-24T11:29:00.216Z"
   },
   {
    "duration": 9,
    "start_time": "2024-09-24T11:30:21.470Z"
   },
   {
    "duration": 9,
    "start_time": "2024-09-24T11:30:38.277Z"
   },
   {
    "duration": 8,
    "start_time": "2024-09-24T11:30:56.166Z"
   },
   {
    "duration": 8,
    "start_time": "2024-09-24T11:31:46.297Z"
   },
   {
    "duration": 11,
    "start_time": "2024-09-24T11:33:33.422Z"
   },
   {
    "duration": 11,
    "start_time": "2024-09-24T11:34:01.409Z"
   },
   {
    "duration": 12,
    "start_time": "2024-09-24T11:36:59.746Z"
   },
   {
    "duration": 13,
    "start_time": "2024-09-24T11:38:09.312Z"
   },
   {
    "duration": 16,
    "start_time": "2024-09-24T11:38:29.242Z"
   },
   {
    "duration": 32,
    "start_time": "2024-09-24T11:39:24.703Z"
   },
   {
    "duration": 23,
    "start_time": "2024-09-24T11:42:21.346Z"
   },
   {
    "duration": 26,
    "start_time": "2024-09-24T11:42:46.836Z"
   },
   {
    "duration": 25,
    "start_time": "2024-09-24T11:44:03.764Z"
   },
   {
    "duration": 14,
    "start_time": "2024-09-24T11:44:29.448Z"
   },
   {
    "duration": 17,
    "start_time": "2024-09-24T11:44:55.608Z"
   },
   {
    "duration": 12,
    "start_time": "2024-09-24T11:45:49.554Z"
   },
   {
    "duration": 111,
    "start_time": "2024-09-24T11:55:53.178Z"
   },
   {
    "duration": 129,
    "start_time": "2024-09-24T11:56:04.146Z"
   },
   {
    "duration": 131,
    "start_time": "2024-09-24T11:58:05.611Z"
   },
   {
    "duration": 138,
    "start_time": "2024-09-24T11:59:10.153Z"
   },
   {
    "duration": 144,
    "start_time": "2024-09-24T11:59:19.933Z"
   },
   {
    "duration": 160,
    "start_time": "2024-09-24T11:59:33.398Z"
   },
   {
    "duration": 820,
    "start_time": "2024-09-24T17:41:22.782Z"
   },
   {
    "duration": 332,
    "start_time": "2024-09-24T17:41:23.604Z"
   },
   {
    "duration": 37,
    "start_time": "2024-09-24T17:41:23.937Z"
   },
   {
    "duration": 40,
    "start_time": "2024-09-24T17:41:23.975Z"
   },
   {
    "duration": 5,
    "start_time": "2024-09-24T17:41:24.017Z"
   },
   {
    "duration": 5,
    "start_time": "2024-09-24T17:41:24.023Z"
   },
   {
    "duration": 4,
    "start_time": "2024-09-24T17:41:24.029Z"
   },
   {
    "duration": 23,
    "start_time": "2024-09-24T17:41:24.034Z"
   },
   {
    "duration": 10,
    "start_time": "2024-09-24T17:41:24.058Z"
   },
   {
    "duration": 110,
    "start_time": "2024-09-24T17:41:24.070Z"
   },
   {
    "duration": 41,
    "start_time": "2024-09-24T17:41:24.181Z"
   },
   {
    "duration": 7,
    "start_time": "2024-09-24T17:41:24.223Z"
   },
   {
    "duration": 252,
    "start_time": "2024-09-24T17:41:24.231Z"
   },
   {
    "duration": 904,
    "start_time": "2024-09-24T17:41:24.486Z"
   },
   {
    "duration": 162,
    "start_time": "2024-09-24T17:41:25.392Z"
   },
   {
    "duration": 7,
    "start_time": "2024-09-24T17:41:25.556Z"
   },
   {
    "duration": 129,
    "start_time": "2024-09-24T17:41:25.565Z"
   },
   {
    "duration": 8,
    "start_time": "2024-09-24T17:42:10.052Z"
   },
   {
    "duration": 7,
    "start_time": "2024-09-24T17:42:34.504Z"
   },
   {
    "duration": 7,
    "start_time": "2024-09-24T17:44:20.933Z"
   },
   {
    "duration": 7,
    "start_time": "2024-09-24T17:44:29.323Z"
   },
   {
    "duration": 7,
    "start_time": "2024-09-24T17:44:33.997Z"
   },
   {
    "duration": 8,
    "start_time": "2024-09-24T17:44:49.859Z"
   },
   {
    "duration": 8,
    "start_time": "2024-09-24T17:45:03.789Z"
   },
   {
    "duration": 8,
    "start_time": "2024-09-24T17:45:09.644Z"
   },
   {
    "duration": 7,
    "start_time": "2024-09-24T17:45:16.341Z"
   },
   {
    "duration": 7,
    "start_time": "2024-09-24T17:45:38.966Z"
   },
   {
    "duration": 62,
    "start_time": "2024-09-24T17:46:20.636Z"
   },
   {
    "duration": 7,
    "start_time": "2024-09-24T17:46:29.016Z"
   },
   {
    "duration": 8,
    "start_time": "2024-09-24T17:46:37.650Z"
   },
   {
    "duration": 9,
    "start_time": "2024-09-24T17:47:11.713Z"
   },
   {
    "duration": 7,
    "start_time": "2024-09-24T17:47:20.886Z"
   },
   {
    "duration": 8,
    "start_time": "2024-09-24T17:47:29.156Z"
   },
   {
    "duration": 10,
    "start_time": "2024-09-24T17:47:42.457Z"
   },
   {
    "duration": 8,
    "start_time": "2024-09-24T17:47:48.174Z"
   },
   {
    "duration": 8,
    "start_time": "2024-09-24T17:47:53.181Z"
   },
   {
    "duration": 9,
    "start_time": "2024-09-24T17:48:24.537Z"
   },
   {
    "duration": 11,
    "start_time": "2024-09-24T17:49:33.199Z"
   },
   {
    "duration": 100,
    "start_time": "2024-09-24T17:50:29.426Z"
   },
   {
    "duration": 104,
    "start_time": "2024-09-24T17:51:06.804Z"
   },
   {
    "duration": 121,
    "start_time": "2024-09-24T17:51:40.802Z"
   },
   {
    "duration": 115,
    "start_time": "2024-09-24T17:51:49.596Z"
   },
   {
    "duration": 113,
    "start_time": "2024-09-24T17:51:58.968Z"
   },
   {
    "duration": 117,
    "start_time": "2024-09-24T17:54:37.672Z"
   },
   {
    "duration": 175,
    "start_time": "2024-09-24T17:57:46.197Z"
   },
   {
    "duration": 120,
    "start_time": "2024-09-24T17:58:16.139Z"
   },
   {
    "duration": 125,
    "start_time": "2024-09-24T17:58:29.611Z"
   },
   {
    "duration": 175,
    "start_time": "2024-09-24T17:59:00.702Z"
   },
   {
    "duration": 14,
    "start_time": "2024-09-24T18:02:18.769Z"
   },
   {
    "duration": 14,
    "start_time": "2024-09-24T18:08:31.065Z"
   },
   {
    "duration": 580,
    "start_time": "2024-09-24T18:08:36.236Z"
   },
   {
    "duration": 116,
    "start_time": "2024-09-24T18:08:36.817Z"
   },
   {
    "duration": 46,
    "start_time": "2024-09-24T18:08:36.935Z"
   },
   {
    "duration": 51,
    "start_time": "2024-09-24T18:08:36.983Z"
   },
   {
    "duration": 5,
    "start_time": "2024-09-24T18:08:37.036Z"
   },
   {
    "duration": 5,
    "start_time": "2024-09-24T18:08:37.042Z"
   },
   {
    "duration": 36,
    "start_time": "2024-09-24T18:08:37.048Z"
   },
   {
    "duration": 84,
    "start_time": "2024-09-24T18:08:37.085Z"
   },
   {
    "duration": 13,
    "start_time": "2024-09-24T18:08:37.170Z"
   },
   {
    "duration": 17,
    "start_time": "2024-09-24T18:08:37.186Z"
   },
   {
    "duration": 23,
    "start_time": "2024-09-24T18:08:37.205Z"
   },
   {
    "duration": 8,
    "start_time": "2024-09-24T18:08:37.229Z"
   },
   {
    "duration": 288,
    "start_time": "2024-09-24T18:08:37.239Z"
   },
   {
    "duration": 878,
    "start_time": "2024-09-24T18:08:37.529Z"
   },
   {
    "duration": 154,
    "start_time": "2024-09-24T18:08:38.408Z"
   },
   {
    "duration": 9,
    "start_time": "2024-09-24T18:08:38.563Z"
   },
   {
    "duration": 164,
    "start_time": "2024-09-24T18:08:38.573Z"
   },
   {
    "duration": 17,
    "start_time": "2024-09-24T18:08:38.738Z"
   },
   {
    "duration": 10,
    "start_time": "2024-09-24T18:10:51.838Z"
   },
   {
    "duration": 716,
    "start_time": "2024-09-24T18:10:56.549Z"
   },
   {
    "duration": 130,
    "start_time": "2024-09-24T18:10:57.267Z"
   },
   {
    "duration": 46,
    "start_time": "2024-09-24T18:10:57.399Z"
   },
   {
    "duration": 41,
    "start_time": "2024-09-24T18:10:57.446Z"
   },
   {
    "duration": 5,
    "start_time": "2024-09-24T18:10:57.489Z"
   },
   {
    "duration": 30,
    "start_time": "2024-09-24T18:10:57.495Z"
   },
   {
    "duration": 10,
    "start_time": "2024-09-24T18:10:57.527Z"
   },
   {
    "duration": 32,
    "start_time": "2024-09-24T18:10:57.539Z"
   },
   {
    "duration": 13,
    "start_time": "2024-09-24T18:10:57.573Z"
   },
   {
    "duration": 13,
    "start_time": "2024-09-24T18:10:57.589Z"
   },
   {
    "duration": 35,
    "start_time": "2024-09-24T18:10:57.604Z"
   },
   {
    "duration": 9,
    "start_time": "2024-09-24T18:10:57.641Z"
   },
   {
    "duration": 259,
    "start_time": "2024-09-24T18:10:57.652Z"
   },
   {
    "duration": 920,
    "start_time": "2024-09-24T18:10:57.912Z"
   },
   {
    "duration": 156,
    "start_time": "2024-09-24T18:10:58.834Z"
   },
   {
    "duration": 8,
    "start_time": "2024-09-24T18:10:58.992Z"
   },
   {
    "duration": 148,
    "start_time": "2024-09-24T18:10:59.007Z"
   },
   {
    "duration": 10,
    "start_time": "2024-09-24T18:10:59.157Z"
   },
   {
    "duration": 76,
    "start_time": "2024-09-24T18:12:16.469Z"
   },
   {
    "duration": 20,
    "start_time": "2024-09-24T18:12:56.277Z"
   },
   {
    "duration": 20,
    "start_time": "2024-09-24T18:25:44.026Z"
   },
   {
    "duration": 13,
    "start_time": "2024-09-24T18:33:38.766Z"
   },
   {
    "duration": 8,
    "start_time": "2024-09-24T18:45:38.248Z"
   },
   {
    "duration": 12,
    "start_time": "2024-09-24T18:46:30.623Z"
   },
   {
    "duration": 624,
    "start_time": "2024-09-24T18:46:46.815Z"
   },
   {
    "duration": 121,
    "start_time": "2024-09-24T18:46:47.442Z"
   },
   {
    "duration": 55,
    "start_time": "2024-09-24T18:46:47.564Z"
   },
   {
    "duration": 137,
    "start_time": "2024-09-24T18:46:47.621Z"
   },
   {
    "duration": 6,
    "start_time": "2024-09-24T18:46:47.760Z"
   },
   {
    "duration": 22,
    "start_time": "2024-09-24T18:46:47.768Z"
   },
   {
    "duration": 32,
    "start_time": "2024-09-24T18:46:47.791Z"
   },
   {
    "duration": 24,
    "start_time": "2024-09-24T18:46:47.825Z"
   },
   {
    "duration": 10,
    "start_time": "2024-09-24T18:46:47.851Z"
   },
   {
    "duration": 12,
    "start_time": "2024-09-24T18:46:47.863Z"
   },
   {
    "duration": 23,
    "start_time": "2024-09-24T18:46:47.876Z"
   },
   {
    "duration": 11,
    "start_time": "2024-09-24T18:46:47.901Z"
   },
   {
    "duration": 263,
    "start_time": "2024-09-24T18:46:47.913Z"
   },
   {
    "duration": 886,
    "start_time": "2024-09-24T18:46:48.178Z"
   },
   {
    "duration": 171,
    "start_time": "2024-09-24T18:46:49.066Z"
   },
   {
    "duration": 9,
    "start_time": "2024-09-24T18:46:49.239Z"
   },
   {
    "duration": 136,
    "start_time": "2024-09-24T18:46:49.250Z"
   },
   {
    "duration": 3,
    "start_time": "2024-09-24T18:46:49.387Z"
   },
   {
    "duration": 95,
    "start_time": "2024-09-24T18:46:49.391Z"
   },
   {
    "duration": 2,
    "start_time": "2024-09-24T18:49:31.946Z"
   },
   {
    "duration": 51,
    "start_time": "2024-09-25T05:17:45.951Z"
   },
   {
    "duration": 864,
    "start_time": "2024-09-25T05:18:14.038Z"
   },
   {
    "duration": 690,
    "start_time": "2024-09-25T05:18:21.624Z"
   },
   {
    "duration": 439,
    "start_time": "2024-09-25T05:18:22.315Z"
   },
   {
    "duration": 40,
    "start_time": "2024-09-25T05:18:22.756Z"
   },
   {
    "duration": 50,
    "start_time": "2024-09-25T05:18:22.798Z"
   },
   {
    "duration": 6,
    "start_time": "2024-09-25T05:18:22.850Z"
   },
   {
    "duration": 7,
    "start_time": "2024-09-25T05:18:22.858Z"
   },
   {
    "duration": 4,
    "start_time": "2024-09-25T05:18:22.867Z"
   },
   {
    "duration": 71,
    "start_time": "2024-09-25T05:18:22.873Z"
   },
   {
    "duration": 15,
    "start_time": "2024-09-25T05:18:22.945Z"
   },
   {
    "duration": 16,
    "start_time": "2024-09-25T05:18:22.963Z"
   },
   {
    "duration": 56,
    "start_time": "2024-09-25T05:18:22.980Z"
   },
   {
    "duration": 8,
    "start_time": "2024-09-25T05:18:23.038Z"
   },
   {
    "duration": 303,
    "start_time": "2024-09-25T05:18:23.047Z"
   },
   {
    "duration": 1090,
    "start_time": "2024-09-25T05:18:23.352Z"
   },
   {
    "duration": 205,
    "start_time": "2024-09-25T05:18:24.443Z"
   },
   {
    "duration": 10,
    "start_time": "2024-09-25T05:18:24.650Z"
   },
   {
    "duration": 194,
    "start_time": "2024-09-25T05:18:24.662Z"
   },
   {
    "duration": 90,
    "start_time": "2024-09-25T05:18:24.858Z"
   },
   {
    "duration": 0,
    "start_time": "2024-09-25T05:18:24.949Z"
   },
   {
    "duration": 12,
    "start_time": "2024-09-25T05:19:02.693Z"
   },
   {
    "duration": 8,
    "start_time": "2024-09-25T05:23:19.792Z"
   },
   {
    "duration": 3,
    "start_time": "2024-09-25T05:23:46.003Z"
   },
   {
    "duration": 22,
    "start_time": "2024-09-25T05:23:56.223Z"
   },
   {
    "duration": 23,
    "start_time": "2024-09-25T05:24:47.621Z"
   },
   {
    "duration": 589,
    "start_time": "2024-09-25T05:25:47.585Z"
   },
   {
    "duration": 132,
    "start_time": "2024-09-25T05:25:48.176Z"
   },
   {
    "duration": 46,
    "start_time": "2024-09-25T05:25:48.309Z"
   },
   {
    "duration": 43,
    "start_time": "2024-09-25T05:25:48.357Z"
   },
   {
    "duration": 5,
    "start_time": "2024-09-25T05:25:48.403Z"
   },
   {
    "duration": 53,
    "start_time": "2024-09-25T05:25:48.410Z"
   },
   {
    "duration": 7,
    "start_time": "2024-09-25T05:25:48.465Z"
   },
   {
    "duration": 30,
    "start_time": "2024-09-25T05:25:48.474Z"
   },
   {
    "duration": 14,
    "start_time": "2024-09-25T05:25:48.506Z"
   },
   {
    "duration": 25,
    "start_time": "2024-09-25T05:25:48.522Z"
   },
   {
    "duration": 22,
    "start_time": "2024-09-25T05:25:48.549Z"
   },
   {
    "duration": 8,
    "start_time": "2024-09-25T05:25:48.573Z"
   },
   {
    "duration": 313,
    "start_time": "2024-09-25T05:25:48.582Z"
   },
   {
    "duration": 1096,
    "start_time": "2024-09-25T05:25:48.897Z"
   },
   {
    "duration": 201,
    "start_time": "2024-09-25T05:25:49.994Z"
   },
   {
    "duration": 14,
    "start_time": "2024-09-25T05:25:50.197Z"
   },
   {
    "duration": 156,
    "start_time": "2024-09-25T05:25:50.213Z"
   },
   {
    "duration": 17,
    "start_time": "2024-09-25T05:25:50.370Z"
   },
   {
    "duration": 3,
    "start_time": "2024-09-25T05:25:50.388Z"
   },
   {
    "duration": 21,
    "start_time": "2024-09-25T05:27:20.187Z"
   },
   {
    "duration": 194,
    "start_time": "2024-09-25T05:28:26.153Z"
   },
   {
    "duration": 117,
    "start_time": "2024-09-25T05:29:45.242Z"
   },
   {
    "duration": 22,
    "start_time": "2024-09-25T05:30:39.718Z"
   },
   {
    "duration": 714,
    "start_time": "2024-09-25T05:30:51.041Z"
   },
   {
    "duration": 132,
    "start_time": "2024-09-25T05:30:51.757Z"
   },
   {
    "duration": 60,
    "start_time": "2024-09-25T05:30:51.890Z"
   },
   {
    "duration": 48,
    "start_time": "2024-09-25T05:30:51.952Z"
   },
   {
    "duration": 6,
    "start_time": "2024-09-25T05:30:52.001Z"
   },
   {
    "duration": 11,
    "start_time": "2024-09-25T05:30:52.025Z"
   },
   {
    "duration": 4,
    "start_time": "2024-09-25T05:30:52.042Z"
   },
   {
    "duration": 27,
    "start_time": "2024-09-25T05:30:52.049Z"
   },
   {
    "duration": 13,
    "start_time": "2024-09-25T05:30:52.078Z"
   },
   {
    "duration": 50,
    "start_time": "2024-09-25T05:30:52.093Z"
   },
   {
    "duration": 28,
    "start_time": "2024-09-25T05:30:52.145Z"
   },
   {
    "duration": 14,
    "start_time": "2024-09-25T05:30:52.175Z"
   },
   {
    "duration": 297,
    "start_time": "2024-09-25T05:30:52.191Z"
   },
   {
    "duration": 1103,
    "start_time": "2024-09-25T05:30:52.490Z"
   },
   {
    "duration": 197,
    "start_time": "2024-09-25T05:30:53.595Z"
   },
   {
    "duration": 10,
    "start_time": "2024-09-25T05:30:53.794Z"
   },
   {
    "duration": 162,
    "start_time": "2024-09-25T05:30:53.806Z"
   },
   {
    "duration": 14,
    "start_time": "2024-09-25T05:30:53.970Z"
   },
   {
    "duration": 213,
    "start_time": "2024-09-25T05:30:53.986Z"
   },
   {
    "duration": 11,
    "start_time": "2024-09-25T05:30:54.201Z"
   },
   {
    "duration": 637,
    "start_time": "2024-09-25T05:31:31.887Z"
   },
   {
    "duration": 132,
    "start_time": "2024-09-25T05:31:32.531Z"
   },
   {
    "duration": 60,
    "start_time": "2024-09-25T05:31:32.667Z"
   },
   {
    "duration": 46,
    "start_time": "2024-09-25T05:31:32.738Z"
   },
   {
    "duration": 6,
    "start_time": "2024-09-25T05:31:32.786Z"
   },
   {
    "duration": 5,
    "start_time": "2024-09-25T05:31:32.794Z"
   },
   {
    "duration": 14,
    "start_time": "2024-09-25T05:31:32.801Z"
   },
   {
    "duration": 32,
    "start_time": "2024-09-25T05:31:32.828Z"
   },
   {
    "duration": 14,
    "start_time": "2024-09-25T05:31:32.862Z"
   },
   {
    "duration": 17,
    "start_time": "2024-09-25T05:31:32.878Z"
   },
   {
    "duration": 56,
    "start_time": "2024-09-25T05:31:32.896Z"
   },
   {
    "duration": 16,
    "start_time": "2024-09-25T05:31:32.954Z"
   },
   {
    "duration": 280,
    "start_time": "2024-09-25T05:31:32.972Z"
   },
   {
    "duration": 1116,
    "start_time": "2024-09-25T05:31:33.253Z"
   },
   {
    "duration": 192,
    "start_time": "2024-09-25T05:31:34.371Z"
   },
   {
    "duration": 11,
    "start_time": "2024-09-25T05:31:34.565Z"
   },
   {
    "duration": 167,
    "start_time": "2024-09-25T05:31:34.578Z"
   },
   {
    "duration": 27,
    "start_time": "2024-09-25T05:31:34.746Z"
   },
   {
    "duration": 217,
    "start_time": "2024-09-25T05:31:34.774Z"
   },
   {
    "duration": 11,
    "start_time": "2024-09-25T05:31:34.993Z"
   },
   {
    "duration": 687,
    "start_time": "2024-09-25T05:32:25.045Z"
   },
   {
    "duration": 126,
    "start_time": "2024-09-25T05:32:25.734Z"
   },
   {
    "duration": 41,
    "start_time": "2024-09-25T05:32:25.862Z"
   },
   {
    "duration": 66,
    "start_time": "2024-09-25T05:32:25.906Z"
   },
   {
    "duration": 6,
    "start_time": "2024-09-25T05:32:25.974Z"
   },
   {
    "duration": 6,
    "start_time": "2024-09-25T05:32:25.982Z"
   },
   {
    "duration": 5,
    "start_time": "2024-09-25T05:32:25.990Z"
   },
   {
    "duration": 32,
    "start_time": "2024-09-25T05:32:26.025Z"
   },
   {
    "duration": 13,
    "start_time": "2024-09-25T05:32:26.058Z"
   },
   {
    "duration": 15,
    "start_time": "2024-09-25T05:32:26.073Z"
   },
   {
    "duration": 57,
    "start_time": "2024-09-25T05:32:26.090Z"
   },
   {
    "duration": 9,
    "start_time": "2024-09-25T05:32:26.149Z"
   },
   {
    "duration": 289,
    "start_time": "2024-09-25T05:32:26.160Z"
   },
   {
    "duration": 1054,
    "start_time": "2024-09-25T05:32:26.450Z"
   },
   {
    "duration": 194,
    "start_time": "2024-09-25T05:32:27.506Z"
   },
   {
    "duration": 10,
    "start_time": "2024-09-25T05:32:27.701Z"
   },
   {
    "duration": 138,
    "start_time": "2024-09-25T05:32:27.725Z"
   },
   {
    "duration": 26,
    "start_time": "2024-09-25T05:32:27.864Z"
   },
   {
    "duration": 48,
    "start_time": "2024-09-25T05:32:27.892Z"
   },
   {
    "duration": 21,
    "start_time": "2024-09-25T05:32:27.942Z"
   },
   {
    "duration": 649,
    "start_time": "2024-09-25T05:37:25.853Z"
   },
   {
    "duration": 121,
    "start_time": "2024-09-25T05:37:26.504Z"
   },
   {
    "duration": 40,
    "start_time": "2024-09-25T05:37:26.626Z"
   },
   {
    "duration": 44,
    "start_time": "2024-09-25T05:37:26.668Z"
   },
   {
    "duration": 7,
    "start_time": "2024-09-25T05:37:26.726Z"
   },
   {
    "duration": 22,
    "start_time": "2024-09-25T05:37:26.735Z"
   },
   {
    "duration": 4,
    "start_time": "2024-09-25T05:37:26.759Z"
   },
   {
    "duration": 30,
    "start_time": "2024-09-25T05:37:26.764Z"
   },
   {
    "duration": 34,
    "start_time": "2024-09-25T05:37:26.796Z"
   },
   {
    "duration": 16,
    "start_time": "2024-09-25T05:37:26.832Z"
   },
   {
    "duration": 23,
    "start_time": "2024-09-25T05:37:26.849Z"
   },
   {
    "duration": 8,
    "start_time": "2024-09-25T05:37:26.873Z"
   },
   {
    "duration": 316,
    "start_time": "2024-09-25T05:37:26.883Z"
   },
   {
    "duration": 1056,
    "start_time": "2024-09-25T05:37:27.201Z"
   },
   {
    "duration": 204,
    "start_time": "2024-09-25T05:37:28.259Z"
   },
   {
    "duration": 11,
    "start_time": "2024-09-25T05:37:28.465Z"
   },
   {
    "duration": 159,
    "start_time": "2024-09-25T05:37:28.478Z"
   },
   {
    "duration": 29,
    "start_time": "2024-09-25T05:37:28.639Z"
   },
   {
    "duration": 256,
    "start_time": "2024-09-25T05:37:28.670Z"
   },
   {
    "duration": 14,
    "start_time": "2024-09-25T05:37:28.928Z"
   },
   {
    "duration": 697,
    "start_time": "2024-09-25T05:38:41.396Z"
   },
   {
    "duration": 125,
    "start_time": "2024-09-25T05:38:42.095Z"
   },
   {
    "duration": 42,
    "start_time": "2024-09-25T05:38:42.221Z"
   },
   {
    "duration": 61,
    "start_time": "2024-09-25T05:38:42.265Z"
   },
   {
    "duration": 6,
    "start_time": "2024-09-25T05:38:42.327Z"
   },
   {
    "duration": 5,
    "start_time": "2024-09-25T05:38:42.335Z"
   },
   {
    "duration": 10,
    "start_time": "2024-09-25T05:38:42.342Z"
   },
   {
    "duration": 32,
    "start_time": "2024-09-25T05:38:42.354Z"
   },
   {
    "duration": 14,
    "start_time": "2024-09-25T05:38:42.426Z"
   },
   {
    "duration": 33,
    "start_time": "2024-09-25T05:38:42.443Z"
   },
   {
    "duration": 53,
    "start_time": "2024-09-25T05:38:42.478Z"
   },
   {
    "duration": 11,
    "start_time": "2024-09-25T05:38:42.533Z"
   },
   {
    "duration": 286,
    "start_time": "2024-09-25T05:38:42.546Z"
   },
   {
    "duration": 1058,
    "start_time": "2024-09-25T05:38:42.833Z"
   },
   {
    "duration": 201,
    "start_time": "2024-09-25T05:38:43.893Z"
   },
   {
    "duration": 12,
    "start_time": "2024-09-25T05:38:44.096Z"
   },
   {
    "duration": 144,
    "start_time": "2024-09-25T05:38:44.125Z"
   },
   {
    "duration": 28,
    "start_time": "2024-09-25T05:38:44.271Z"
   },
   {
    "duration": 202,
    "start_time": "2024-09-25T05:38:44.301Z"
   },
   {
    "duration": 22,
    "start_time": "2024-09-25T05:38:44.505Z"
   },
   {
    "duration": 702,
    "start_time": "2024-09-25T05:39:17.245Z"
   },
   {
    "duration": 137,
    "start_time": "2024-09-25T05:39:17.949Z"
   },
   {
    "duration": 70,
    "start_time": "2024-09-25T05:39:18.088Z"
   },
   {
    "duration": 74,
    "start_time": "2024-09-25T05:39:18.161Z"
   },
   {
    "duration": 9,
    "start_time": "2024-09-25T05:39:18.241Z"
   },
   {
    "duration": 9,
    "start_time": "2024-09-25T05:39:18.252Z"
   },
   {
    "duration": 6,
    "start_time": "2024-09-25T05:39:18.263Z"
   },
   {
    "duration": 68,
    "start_time": "2024-09-25T05:39:18.272Z"
   },
   {
    "duration": 15,
    "start_time": "2024-09-25T05:39:18.342Z"
   },
   {
    "duration": 15,
    "start_time": "2024-09-25T05:39:18.360Z"
   },
   {
    "duration": 25,
    "start_time": "2024-09-25T05:39:18.376Z"
   },
   {
    "duration": 42,
    "start_time": "2024-09-25T05:39:18.403Z"
   },
   {
    "duration": 323,
    "start_time": "2024-09-25T05:39:18.448Z"
   },
   {
    "duration": 1314,
    "start_time": "2024-09-25T05:39:18.774Z"
   },
   {
    "duration": 255,
    "start_time": "2024-09-25T05:39:20.090Z"
   },
   {
    "duration": 18,
    "start_time": "2024-09-25T05:39:20.352Z"
   },
   {
    "duration": 153,
    "start_time": "2024-09-25T05:39:20.373Z"
   },
   {
    "duration": 37,
    "start_time": "2024-09-25T05:39:20.530Z"
   },
   {
    "duration": 212,
    "start_time": "2024-09-25T05:39:20.569Z"
   },
   {
    "duration": 12,
    "start_time": "2024-09-25T05:39:20.783Z"
   },
   {
    "duration": 704,
    "start_time": "2024-09-25T05:44:39.627Z"
   },
   {
    "duration": 126,
    "start_time": "2024-09-25T05:44:40.333Z"
   },
   {
    "duration": 43,
    "start_time": "2024-09-25T05:44:40.461Z"
   },
   {
    "duration": 59,
    "start_time": "2024-09-25T05:44:40.506Z"
   },
   {
    "duration": 5,
    "start_time": "2024-09-25T05:44:40.567Z"
   },
   {
    "duration": 8,
    "start_time": "2024-09-25T05:44:40.574Z"
   },
   {
    "duration": 4,
    "start_time": "2024-09-25T05:44:40.583Z"
   },
   {
    "duration": 53,
    "start_time": "2024-09-25T05:44:40.589Z"
   },
   {
    "duration": 13,
    "start_time": "2024-09-25T05:44:40.644Z"
   },
   {
    "duration": 15,
    "start_time": "2024-09-25T05:44:40.659Z"
   },
   {
    "duration": 54,
    "start_time": "2024-09-25T05:44:40.675Z"
   },
   {
    "duration": 8,
    "start_time": "2024-09-25T05:44:40.731Z"
   },
   {
    "duration": 298,
    "start_time": "2024-09-25T05:44:40.740Z"
   },
   {
    "duration": 1076,
    "start_time": "2024-09-25T05:44:41.039Z"
   },
   {
    "duration": 190,
    "start_time": "2024-09-25T05:44:42.116Z"
   },
   {
    "duration": 23,
    "start_time": "2024-09-25T05:44:42.308Z"
   },
   {
    "duration": 148,
    "start_time": "2024-09-25T05:44:42.333Z"
   },
   {
    "duration": 44,
    "start_time": "2024-09-25T05:44:42.483Z"
   },
   {
    "duration": 27,
    "start_time": "2024-09-25T05:44:42.529Z"
   },
   {
    "duration": 20,
    "start_time": "2024-09-25T05:44:42.557Z"
   },
   {
    "duration": 168,
    "start_time": "2024-09-25T05:46:20.086Z"
   },
   {
    "duration": 154,
    "start_time": "2024-09-25T05:46:27.562Z"
   },
   {
    "duration": 140,
    "start_time": "2024-09-25T05:46:59.846Z"
   },
   {
    "duration": 17,
    "start_time": "2024-09-25T05:47:51.962Z"
   },
   {
    "duration": 16,
    "start_time": "2024-09-25T05:48:16.018Z"
   },
   {
    "duration": 117,
    "start_time": "2024-09-25T05:48:59.734Z"
   },
   {
    "duration": 160,
    "start_time": "2024-09-25T05:52:40.189Z"
   },
   {
    "duration": 146,
    "start_time": "2024-09-25T05:53:33.566Z"
   },
   {
    "duration": 17,
    "start_time": "2024-09-25T05:56:46.368Z"
   },
   {
    "duration": 17,
    "start_time": "2024-09-25T05:57:52.801Z"
   },
   {
    "duration": 633,
    "start_time": "2024-09-25T05:58:22.973Z"
   },
   {
    "duration": 122,
    "start_time": "2024-09-25T05:58:23.608Z"
   },
   {
    "duration": 41,
    "start_time": "2024-09-25T05:58:23.731Z"
   },
   {
    "duration": 56,
    "start_time": "2024-09-25T05:58:23.774Z"
   },
   {
    "duration": 6,
    "start_time": "2024-09-25T05:58:23.832Z"
   },
   {
    "duration": 5,
    "start_time": "2024-09-25T05:58:23.839Z"
   },
   {
    "duration": 6,
    "start_time": "2024-09-25T05:58:23.846Z"
   },
   {
    "duration": 29,
    "start_time": "2024-09-25T05:58:23.853Z"
   },
   {
    "duration": 46,
    "start_time": "2024-09-25T05:58:23.883Z"
   },
   {
    "duration": 15,
    "start_time": "2024-09-25T05:58:23.931Z"
   },
   {
    "duration": 61,
    "start_time": "2024-09-25T05:58:23.948Z"
   },
   {
    "duration": 7,
    "start_time": "2024-09-25T05:58:24.011Z"
   },
   {
    "duration": 264,
    "start_time": "2024-09-25T05:58:24.019Z"
   },
   {
    "duration": 1052,
    "start_time": "2024-09-25T05:58:24.285Z"
   },
   {
    "duration": 194,
    "start_time": "2024-09-25T05:58:25.338Z"
   },
   {
    "duration": 11,
    "start_time": "2024-09-25T05:58:25.534Z"
   },
   {
    "duration": 149,
    "start_time": "2024-09-25T05:58:25.546Z"
   },
   {
    "duration": 31,
    "start_time": "2024-09-25T05:58:25.697Z"
   },
   {
    "duration": 19,
    "start_time": "2024-09-25T05:58:25.730Z"
   },
   {
    "duration": 147,
    "start_time": "2024-09-25T05:58:25.750Z"
   },
   {
    "duration": 28,
    "start_time": "2024-09-25T05:58:25.899Z"
   },
   {
    "duration": 16,
    "start_time": "2024-09-25T05:58:25.928Z"
   },
   {
    "duration": 124,
    "start_time": "2024-09-25T05:58:48.714Z"
   },
   {
    "duration": 690,
    "start_time": "2024-09-25T06:02:03.003Z"
   },
   {
    "duration": 125,
    "start_time": "2024-09-25T06:02:03.695Z"
   },
   {
    "duration": 42,
    "start_time": "2024-09-25T06:02:03.822Z"
   },
   {
    "duration": 44,
    "start_time": "2024-09-25T06:02:03.866Z"
   },
   {
    "duration": 6,
    "start_time": "2024-09-25T06:02:03.925Z"
   },
   {
    "duration": 10,
    "start_time": "2024-09-25T06:02:03.932Z"
   },
   {
    "duration": 67,
    "start_time": "2024-09-25T06:02:03.943Z"
   },
   {
    "duration": 32,
    "start_time": "2024-09-25T06:02:04.011Z"
   },
   {
    "duration": 12,
    "start_time": "2024-09-25T06:02:04.045Z"
   },
   {
    "duration": 18,
    "start_time": "2024-09-25T06:02:04.060Z"
   },
   {
    "duration": 46,
    "start_time": "2024-09-25T06:02:04.080Z"
   },
   {
    "duration": 8,
    "start_time": "2024-09-25T06:02:04.127Z"
   },
   {
    "duration": 277,
    "start_time": "2024-09-25T06:02:04.137Z"
   },
   {
    "duration": 1106,
    "start_time": "2024-09-25T06:02:04.425Z"
   },
   {
    "duration": 193,
    "start_time": "2024-09-25T06:02:05.532Z"
   },
   {
    "duration": 11,
    "start_time": "2024-09-25T06:02:05.727Z"
   },
   {
    "duration": 162,
    "start_time": "2024-09-25T06:02:05.739Z"
   },
   {
    "duration": 28,
    "start_time": "2024-09-25T06:02:05.903Z"
   },
   {
    "duration": 24,
    "start_time": "2024-09-25T06:02:05.933Z"
   },
   {
    "duration": 160,
    "start_time": "2024-09-25T06:02:05.958Z"
   },
   {
    "duration": 20,
    "start_time": "2024-09-25T06:02:06.125Z"
   },
   {
    "duration": 16,
    "start_time": "2024-09-25T06:02:06.147Z"
   },
   {
    "duration": 13,
    "start_time": "2024-09-25T06:02:26.691Z"
   },
   {
    "duration": 24,
    "start_time": "2024-09-25T06:03:09.199Z"
   },
   {
    "duration": 79,
    "start_time": "2024-09-25T06:34:39.707Z"
   },
   {
    "duration": 679,
    "start_time": "2024-09-25T06:34:59.097Z"
   },
   {
    "duration": 694,
    "start_time": "2024-09-25T06:35:12.460Z"
   },
   {
    "duration": 134,
    "start_time": "2024-09-25T06:35:13.156Z"
   },
   {
    "duration": 47,
    "start_time": "2024-09-25T06:35:13.292Z"
   },
   {
    "duration": 48,
    "start_time": "2024-09-25T06:35:13.341Z"
   },
   {
    "duration": 5,
    "start_time": "2024-09-25T06:35:13.391Z"
   },
   {
    "duration": 10,
    "start_time": "2024-09-25T06:35:13.398Z"
   },
   {
    "duration": 8,
    "start_time": "2024-09-25T06:35:13.433Z"
   },
   {
    "duration": 28,
    "start_time": "2024-09-25T06:35:13.443Z"
   },
   {
    "duration": 14,
    "start_time": "2024-09-25T06:35:13.472Z"
   },
   {
    "duration": 41,
    "start_time": "2024-09-25T06:35:13.489Z"
   },
   {
    "duration": 32,
    "start_time": "2024-09-25T06:35:13.533Z"
   },
   {
    "duration": 56,
    "start_time": "2024-09-25T06:35:13.567Z"
   },
   {
    "duration": 296,
    "start_time": "2024-09-25T06:35:13.624Z"
   },
   {
    "duration": 1109,
    "start_time": "2024-09-25T06:35:13.927Z"
   },
   {
    "duration": 196,
    "start_time": "2024-09-25T06:35:15.038Z"
   },
   {
    "duration": 12,
    "start_time": "2024-09-25T06:35:15.237Z"
   },
   {
    "duration": 157,
    "start_time": "2024-09-25T06:35:15.251Z"
   },
   {
    "duration": 699,
    "start_time": "2024-09-25T06:35:15.410Z"
   },
   {
    "duration": 29,
    "start_time": "2024-09-25T06:35:16.111Z"
   },
   {
    "duration": 130,
    "start_time": "2024-09-25T06:35:16.142Z"
   },
   {
    "duration": 13,
    "start_time": "2024-09-25T06:35:16.274Z"
   },
   {
    "duration": 45,
    "start_time": "2024-09-25T06:35:16.289Z"
   },
   {
    "duration": 708,
    "start_time": "2024-09-25T06:37:28.830Z"
   },
   {
    "duration": 141,
    "start_time": "2024-09-25T06:37:29.540Z"
   },
   {
    "duration": 52,
    "start_time": "2024-09-25T06:37:29.683Z"
   },
   {
    "duration": 45,
    "start_time": "2024-09-25T06:37:29.739Z"
   },
   {
    "duration": 52,
    "start_time": "2024-09-25T06:37:29.786Z"
   },
   {
    "duration": 5,
    "start_time": "2024-09-25T06:37:29.840Z"
   },
   {
    "duration": 5,
    "start_time": "2024-09-25T06:37:29.847Z"
   },
   {
    "duration": 27,
    "start_time": "2024-09-25T06:37:29.853Z"
   },
   {
    "duration": 14,
    "start_time": "2024-09-25T06:37:29.882Z"
   },
   {
    "duration": 46,
    "start_time": "2024-09-25T06:37:29.897Z"
   },
   {
    "duration": 23,
    "start_time": "2024-09-25T06:37:29.944Z"
   },
   {
    "duration": 7,
    "start_time": "2024-09-25T06:37:29.968Z"
   },
   {
    "duration": 326,
    "start_time": "2024-09-25T06:37:29.977Z"
   },
   {
    "duration": 1105,
    "start_time": "2024-09-25T06:37:30.305Z"
   },
   {
    "duration": 190,
    "start_time": "2024-09-25T06:37:31.411Z"
   },
   {
    "duration": 9,
    "start_time": "2024-09-25T06:37:31.603Z"
   },
   {
    "duration": 175,
    "start_time": "2024-09-25T06:37:31.614Z"
   },
   {
    "duration": 704,
    "start_time": "2024-09-25T06:37:31.791Z"
   },
   {
    "duration": 13,
    "start_time": "2024-09-25T06:37:32.497Z"
   },
   {
    "duration": 164,
    "start_time": "2024-09-25T06:37:32.512Z"
   },
   {
    "duration": 764,
    "start_time": "2024-09-25T06:37:32.678Z"
   },
   {
    "duration": 23,
    "start_time": "2024-09-25T06:37:33.444Z"
   },
   {
    "duration": 895,
    "start_time": "2024-09-25T09:42:47.098Z"
   },
   {
    "duration": 411,
    "start_time": "2024-09-25T09:42:47.995Z"
   },
   {
    "duration": 56,
    "start_time": "2024-09-25T09:42:48.407Z"
   },
   {
    "duration": 50,
    "start_time": "2024-09-25T09:42:48.464Z"
   },
   {
    "duration": 6,
    "start_time": "2024-09-25T09:42:48.520Z"
   },
   {
    "duration": 22,
    "start_time": "2024-09-25T09:42:48.528Z"
   },
   {
    "duration": 5,
    "start_time": "2024-09-25T09:42:48.552Z"
   },
   {
    "duration": 31,
    "start_time": "2024-09-25T09:42:48.558Z"
   },
   {
    "duration": 41,
    "start_time": "2024-09-25T09:42:48.591Z"
   },
   {
    "duration": 24,
    "start_time": "2024-09-25T09:42:48.634Z"
   },
   {
    "duration": 31,
    "start_time": "2024-09-25T09:42:48.660Z"
   },
   {
    "duration": 36,
    "start_time": "2024-09-25T09:42:48.693Z"
   },
   {
    "duration": 289,
    "start_time": "2024-09-25T09:42:48.732Z"
   },
   {
    "duration": 1096,
    "start_time": "2024-09-25T09:42:49.024Z"
   },
   {
    "duration": 206,
    "start_time": "2024-09-25T09:42:50.122Z"
   },
   {
    "duration": 12,
    "start_time": "2024-09-25T09:42:50.330Z"
   },
   {
    "duration": 169,
    "start_time": "2024-09-25T09:42:50.344Z"
   },
   {
    "duration": 681,
    "start_time": "2024-09-25T09:42:50.521Z"
   },
   {
    "duration": 23,
    "start_time": "2024-09-25T09:42:51.204Z"
   },
   {
    "duration": 151,
    "start_time": "2024-09-25T09:42:51.229Z"
   },
   {
    "duration": 797,
    "start_time": "2024-09-25T09:42:51.382Z"
   },
   {
    "duration": 25,
    "start_time": "2024-09-25T09:42:52.181Z"
   },
   {
    "duration": 61,
    "start_time": "2024-09-26T07:48:02.093Z"
   },
   {
    "duration": 9,
    "start_time": "2024-09-26T07:48:36.013Z"
   },
   {
    "duration": 796,
    "start_time": "2024-09-26T07:48:54.871Z"
   },
   {
    "duration": 371,
    "start_time": "2024-09-26T07:48:55.669Z"
   },
   {
    "duration": 39,
    "start_time": "2024-09-26T07:48:56.041Z"
   },
   {
    "duration": 43,
    "start_time": "2024-09-26T07:48:56.082Z"
   },
   {
    "duration": 6,
    "start_time": "2024-09-26T07:48:56.126Z"
   },
   {
    "duration": 24,
    "start_time": "2024-09-26T07:48:56.133Z"
   },
   {
    "duration": 5,
    "start_time": "2024-09-26T07:48:56.158Z"
   },
   {
    "duration": 36,
    "start_time": "2024-09-26T07:48:56.164Z"
   },
   {
    "duration": 14,
    "start_time": "2024-09-26T07:48:56.201Z"
   },
   {
    "duration": 36,
    "start_time": "2024-09-26T07:48:56.218Z"
   },
   {
    "duration": 23,
    "start_time": "2024-09-26T07:48:56.256Z"
   },
   {
    "duration": 10,
    "start_time": "2024-09-26T07:48:56.291Z"
   },
   {
    "duration": 287,
    "start_time": "2024-09-26T07:48:56.304Z"
   },
   {
    "duration": 1034,
    "start_time": "2024-09-26T07:48:56.592Z"
   },
   {
    "duration": 12,
    "start_time": "2024-09-26T07:48:57.628Z"
   },
   {
    "duration": 18,
    "start_time": "2024-09-26T07:48:57.653Z"
   },
   {
    "duration": 714,
    "start_time": "2024-09-26T07:48:57.673Z"
   },
   {
    "duration": 13,
    "start_time": "2024-09-26T07:48:58.388Z"
   },
   {
    "duration": 138,
    "start_time": "2024-09-26T07:48:58.403Z"
   },
   {
    "duration": 680,
    "start_time": "2024-09-26T07:48:58.542Z"
   },
   {
    "duration": 34,
    "start_time": "2024-09-26T07:48:59.224Z"
   },
   {
    "duration": 19,
    "start_time": "2024-09-26T07:49:18.288Z"
   },
   {
    "duration": 20,
    "start_time": "2024-09-26T07:50:47.424Z"
   },
   {
    "duration": 562,
    "start_time": "2024-09-26T08:11:39.925Z"
   },
   {
    "duration": 48,
    "start_time": "2024-09-26T08:11:57.059Z"
   },
   {
    "duration": 657,
    "start_time": "2024-09-26T08:12:19.126Z"
   },
   {
    "duration": 123,
    "start_time": "2024-09-26T08:12:19.785Z"
   },
   {
    "duration": 47,
    "start_time": "2024-09-26T08:12:19.909Z"
   },
   {
    "duration": 42,
    "start_time": "2024-09-26T08:12:19.958Z"
   },
   {
    "duration": 5,
    "start_time": "2024-09-26T08:12:20.002Z"
   },
   {
    "duration": 18,
    "start_time": "2024-09-26T08:12:20.008Z"
   },
   {
    "duration": 13,
    "start_time": "2024-09-26T08:12:20.028Z"
   },
   {
    "duration": 26,
    "start_time": "2024-09-26T08:12:20.053Z"
   },
   {
    "duration": 12,
    "start_time": "2024-09-26T08:12:20.080Z"
   },
   {
    "duration": 14,
    "start_time": "2024-09-26T08:12:20.094Z"
   },
   {
    "duration": 49,
    "start_time": "2024-09-26T08:12:20.109Z"
   },
   {
    "duration": 7,
    "start_time": "2024-09-26T08:12:20.159Z"
   },
   {
    "duration": 469,
    "start_time": "2024-09-26T08:12:20.168Z"
   },
   {
    "duration": 282,
    "start_time": "2024-09-26T08:12:20.641Z"
   },
   {
    "duration": 1029,
    "start_time": "2024-09-26T08:12:20.926Z"
   },
   {
    "duration": 10,
    "start_time": "2024-09-26T08:12:21.957Z"
   },
   {
    "duration": 16,
    "start_time": "2024-09-26T08:12:21.969Z"
   },
   {
    "duration": 727,
    "start_time": "2024-09-26T08:12:21.986Z"
   },
   {
    "duration": 13,
    "start_time": "2024-09-26T08:12:22.714Z"
   },
   {
    "duration": 137,
    "start_time": "2024-09-26T08:12:22.728Z"
   },
   {
    "duration": 695,
    "start_time": "2024-09-26T08:12:22.866Z"
   },
   {
    "duration": 22,
    "start_time": "2024-09-26T08:12:23.562Z"
   },
   {
    "duration": 18,
    "start_time": "2024-09-26T08:17:12.676Z"
   },
   {
    "duration": 74,
    "start_time": "2024-09-26T08:18:51.580Z"
   },
   {
    "duration": 8,
    "start_time": "2024-09-26T08:19:17.121Z"
   },
   {
    "duration": 23,
    "start_time": "2024-09-26T08:19:39.149Z"
   },
   {
    "duration": 16,
    "start_time": "2024-09-26T08:20:14.557Z"
   },
   {
    "duration": 21,
    "start_time": "2024-09-26T08:21:30.283Z"
   },
   {
    "duration": 19,
    "start_time": "2024-09-26T08:21:43.137Z"
   },
   {
    "duration": 19,
    "start_time": "2024-09-26T08:22:41.989Z"
   },
   {
    "duration": 25,
    "start_time": "2024-09-26T08:24:11.054Z"
   },
   {
    "duration": 13,
    "start_time": "2024-09-26T08:27:12.429Z"
   },
   {
    "duration": 31,
    "start_time": "2024-09-26T08:27:23.328Z"
   },
   {
    "duration": 34,
    "start_time": "2024-09-26T08:28:00.370Z"
   },
   {
    "duration": 155,
    "start_time": "2024-09-26T08:29:54.391Z"
   },
   {
    "duration": 609,
    "start_time": "2024-09-26T08:32:18.968Z"
   },
   {
    "duration": 118,
    "start_time": "2024-09-26T08:32:19.579Z"
   },
   {
    "duration": 38,
    "start_time": "2024-09-26T08:32:19.699Z"
   },
   {
    "duration": 55,
    "start_time": "2024-09-26T08:32:19.738Z"
   },
   {
    "duration": 6,
    "start_time": "2024-09-26T08:32:19.795Z"
   },
   {
    "duration": 10,
    "start_time": "2024-09-26T08:32:19.802Z"
   },
   {
    "duration": 8,
    "start_time": "2024-09-26T08:32:19.814Z"
   },
   {
    "duration": 51,
    "start_time": "2024-09-26T08:32:19.824Z"
   },
   {
    "duration": 14,
    "start_time": "2024-09-26T08:32:19.877Z"
   },
   {
    "duration": 22,
    "start_time": "2024-09-26T08:32:19.893Z"
   },
   {
    "duration": 55,
    "start_time": "2024-09-26T08:32:19.917Z"
   },
   {
    "duration": 10,
    "start_time": "2024-09-26T08:32:19.974Z"
   },
   {
    "duration": 489,
    "start_time": "2024-09-26T08:32:19.986Z"
   },
   {
    "duration": 276,
    "start_time": "2024-09-26T08:32:20.478Z"
   },
   {
    "duration": 1049,
    "start_time": "2024-09-26T08:32:20.755Z"
   },
   {
    "duration": 20,
    "start_time": "2024-09-26T08:32:21.806Z"
   },
   {
    "duration": 39,
    "start_time": "2024-09-26T08:32:21.828Z"
   },
   {
    "duration": 20,
    "start_time": "2024-09-26T08:32:21.868Z"
   },
   {
    "duration": 227,
    "start_time": "2024-09-26T08:32:21.890Z"
   },
   {
    "duration": 40,
    "start_time": "2024-09-26T08:32:22.119Z"
   },
   {
    "duration": 706,
    "start_time": "2024-09-26T08:32:22.161Z"
   },
   {
    "duration": 12,
    "start_time": "2024-09-26T08:32:22.869Z"
   },
   {
    "duration": 132,
    "start_time": "2024-09-26T08:32:22.883Z"
   },
   {
    "duration": 686,
    "start_time": "2024-09-26T08:32:23.017Z"
   },
   {
    "duration": 24,
    "start_time": "2024-09-26T08:32:23.704Z"
   },
   {
    "duration": 131,
    "start_time": "2024-09-26T08:33:44.146Z"
   },
   {
    "duration": 134,
    "start_time": "2024-09-26T08:34:10.083Z"
   },
   {
    "duration": 142,
    "start_time": "2024-09-26T08:34:27.502Z"
   },
   {
    "duration": 118,
    "start_time": "2024-09-26T08:34:53.646Z"
   },
   {
    "duration": 114,
    "start_time": "2024-09-26T08:35:19.874Z"
   },
   {
    "duration": 121,
    "start_time": "2024-09-26T08:35:39.559Z"
   },
   {
    "duration": 127,
    "start_time": "2024-09-26T08:35:48.536Z"
   },
   {
    "duration": 141,
    "start_time": "2024-09-26T08:36:39.637Z"
   },
   {
    "duration": 144,
    "start_time": "2024-09-26T08:36:51.342Z"
   },
   {
    "duration": 204,
    "start_time": "2024-09-26T08:37:10.484Z"
   },
   {
    "duration": 141,
    "start_time": "2024-09-26T08:37:24.091Z"
   },
   {
    "duration": 855,
    "start_time": "2024-09-26T12:18:01.991Z"
   },
   {
    "duration": 468,
    "start_time": "2024-09-26T12:18:02.848Z"
   },
   {
    "duration": 39,
    "start_time": "2024-09-26T12:18:03.318Z"
   },
   {
    "duration": 56,
    "start_time": "2024-09-26T12:18:03.359Z"
   },
   {
    "duration": 6,
    "start_time": "2024-09-26T12:18:03.417Z"
   },
   {
    "duration": 20,
    "start_time": "2024-09-26T12:18:03.425Z"
   },
   {
    "duration": 20,
    "start_time": "2024-09-26T12:18:03.447Z"
   },
   {
    "duration": 49,
    "start_time": "2024-09-26T12:18:03.469Z"
   },
   {
    "duration": 13,
    "start_time": "2024-09-26T12:18:03.519Z"
   },
   {
    "duration": 17,
    "start_time": "2024-09-26T12:18:03.534Z"
   },
   {
    "duration": 25,
    "start_time": "2024-09-26T12:18:03.553Z"
   },
   {
    "duration": 69,
    "start_time": "2024-09-26T12:18:03.579Z"
   },
   {
    "duration": 442,
    "start_time": "2024-09-26T12:18:03.650Z"
   },
   {
    "duration": 253,
    "start_time": "2024-09-26T12:18:04.094Z"
   },
   {
    "duration": 1041,
    "start_time": "2024-09-26T12:18:04.348Z"
   },
   {
    "duration": 29,
    "start_time": "2024-09-26T12:18:05.390Z"
   },
   {
    "duration": 57,
    "start_time": "2024-09-26T12:18:05.421Z"
   },
   {
    "duration": 18,
    "start_time": "2024-09-26T12:18:05.480Z"
   },
   {
    "duration": 222,
    "start_time": "2024-09-26T12:18:05.500Z"
   },
   {
    "duration": 26,
    "start_time": "2024-09-26T12:18:05.724Z"
   },
   {
    "duration": 613,
    "start_time": "2024-09-26T12:18:05.752Z"
   },
   {
    "duration": 13,
    "start_time": "2024-09-26T12:18:06.367Z"
   },
   {
    "duration": 160,
    "start_time": "2024-09-26T12:18:06.382Z"
   },
   {
    "duration": 668,
    "start_time": "2024-09-26T12:18:06.543Z"
   },
   {
    "duration": 22,
    "start_time": "2024-09-26T12:18:07.212Z"
   },
   {
    "duration": 30,
    "start_time": "2024-09-26T12:18:45.307Z"
   },
   {
    "duration": 87,
    "start_time": "2024-09-26T12:20:26.721Z"
   },
   {
    "duration": 7,
    "start_time": "2024-09-26T12:25:12.072Z"
   },
   {
    "duration": 2,
    "start_time": "2024-09-26T12:25:56.559Z"
   },
   {
    "duration": 650,
    "start_time": "2024-09-26T12:26:16.405Z"
   },
   {
    "duration": 128,
    "start_time": "2024-09-26T12:26:17.057Z"
   },
   {
    "duration": 44,
    "start_time": "2024-09-26T12:26:17.187Z"
   },
   {
    "duration": 41,
    "start_time": "2024-09-26T12:26:17.232Z"
   },
   {
    "duration": 5,
    "start_time": "2024-09-26T12:26:17.275Z"
   },
   {
    "duration": 31,
    "start_time": "2024-09-26T12:26:17.281Z"
   },
   {
    "duration": 30,
    "start_time": "2024-09-26T12:26:17.321Z"
   },
   {
    "duration": 30,
    "start_time": "2024-09-26T12:26:17.353Z"
   },
   {
    "duration": 14,
    "start_time": "2024-09-26T12:26:17.385Z"
   },
   {
    "duration": 25,
    "start_time": "2024-09-26T12:26:17.400Z"
   },
   {
    "duration": 21,
    "start_time": "2024-09-26T12:26:17.427Z"
   },
   {
    "duration": 7,
    "start_time": "2024-09-26T12:26:17.450Z"
   },
   {
    "duration": 491,
    "start_time": "2024-09-26T12:26:17.458Z"
   },
   {
    "duration": 271,
    "start_time": "2024-09-26T12:26:17.952Z"
   },
   {
    "duration": 1035,
    "start_time": "2024-09-26T12:26:18.225Z"
   },
   {
    "duration": 21,
    "start_time": "2024-09-26T12:26:19.261Z"
   },
   {
    "duration": 48,
    "start_time": "2024-09-26T12:26:19.283Z"
   },
   {
    "duration": 96,
    "start_time": "2024-09-26T12:26:19.333Z"
   },
   {
    "duration": 0,
    "start_time": "2024-09-26T12:26:19.431Z"
   },
   {
    "duration": 0,
    "start_time": "2024-09-26T12:26:19.432Z"
   },
   {
    "duration": 0,
    "start_time": "2024-09-26T12:26:19.434Z"
   },
   {
    "duration": 0,
    "start_time": "2024-09-26T12:26:19.435Z"
   },
   {
    "duration": 0,
    "start_time": "2024-09-26T12:26:19.436Z"
   },
   {
    "duration": 0,
    "start_time": "2024-09-26T12:26:19.438Z"
   },
   {
    "duration": 0,
    "start_time": "2024-09-26T12:26:19.439Z"
   },
   {
    "duration": 20,
    "start_time": "2024-09-26T12:26:28.953Z"
   },
   {
    "duration": 15,
    "start_time": "2024-09-26T12:26:32.622Z"
   },
   {
    "duration": 7,
    "start_time": "2024-09-26T12:26:44.483Z"
   },
   {
    "duration": 7,
    "start_time": "2024-09-26T12:26:51.593Z"
   },
   {
    "duration": 17,
    "start_time": "2024-09-26T12:27:47.071Z"
   },
   {
    "duration": 8,
    "start_time": "2024-09-26T12:29:04.544Z"
   },
   {
    "duration": 17,
    "start_time": "2024-09-26T12:29:18.072Z"
   },
   {
    "duration": 221,
    "start_time": "2024-09-26T12:29:58.329Z"
   },
   {
    "duration": 10,
    "start_time": "2024-09-26T12:33:18.076Z"
   },
   {
    "duration": 191,
    "start_time": "2024-09-26T12:33:31.876Z"
   },
   {
    "duration": 15,
    "start_time": "2024-09-26T12:40:42.554Z"
   },
   {
    "duration": 53,
    "start_time": "2024-09-26T12:40:51.425Z"
   },
   {
    "duration": 689,
    "start_time": "2024-09-27T07:06:55.055Z"
   },
   {
    "duration": 331,
    "start_time": "2024-09-27T07:06:55.746Z"
   },
   {
    "duration": 35,
    "start_time": "2024-09-27T07:06:56.078Z"
   },
   {
    "duration": 40,
    "start_time": "2024-09-27T07:06:56.115Z"
   },
   {
    "duration": 27,
    "start_time": "2024-09-27T07:06:56.157Z"
   },
   {
    "duration": 5,
    "start_time": "2024-09-27T07:06:56.185Z"
   },
   {
    "duration": 6,
    "start_time": "2024-09-27T07:06:56.191Z"
   },
   {
    "duration": 27,
    "start_time": "2024-09-27T07:06:56.199Z"
   },
   {
    "duration": 10,
    "start_time": "2024-09-27T07:06:56.227Z"
   },
   {
    "duration": 12,
    "start_time": "2024-09-27T07:06:56.239Z"
   },
   {
    "duration": 76,
    "start_time": "2024-09-27T07:06:56.252Z"
   },
   {
    "duration": 7,
    "start_time": "2024-09-27T07:06:56.329Z"
   },
   {
    "duration": 465,
    "start_time": "2024-09-27T07:06:56.337Z"
   },
   {
    "duration": 263,
    "start_time": "2024-09-27T07:06:56.804Z"
   },
   {
    "duration": 882,
    "start_time": "2024-09-27T07:06:57.068Z"
   },
   {
    "duration": 18,
    "start_time": "2024-09-27T07:06:57.952Z"
   },
   {
    "duration": 20,
    "start_time": "2024-09-27T07:06:57.972Z"
   },
   {
    "duration": 17,
    "start_time": "2024-09-27T07:06:58.007Z"
   },
   {
    "duration": 101,
    "start_time": "2024-09-27T07:06:58.026Z"
   },
   {
    "duration": 21,
    "start_time": "2024-09-27T07:06:58.128Z"
   },
   {
    "duration": 585,
    "start_time": "2024-09-27T07:06:58.151Z"
   },
   {
    "duration": 12,
    "start_time": "2024-09-27T07:06:58.738Z"
   },
   {
    "duration": 119,
    "start_time": "2024-09-27T07:06:58.751Z"
   },
   {
    "duration": 594,
    "start_time": "2024-09-27T07:06:58.871Z"
   },
   {
    "duration": 19,
    "start_time": "2024-09-27T07:06:59.466Z"
   },
   {
    "duration": 15,
    "start_time": "2024-09-27T07:13:19.993Z"
   },
   {
    "duration": 19,
    "start_time": "2024-09-27T07:13:44.921Z"
   },
   {
    "duration": 173,
    "start_time": "2024-09-27T07:19:24.403Z"
   },
   {
    "duration": 23,
    "start_time": "2024-09-27T07:19:59.009Z"
   },
   {
    "duration": 21,
    "start_time": "2024-09-27T07:20:16.219Z"
   },
   {
    "duration": 25,
    "start_time": "2024-09-27T07:20:31.191Z"
   },
   {
    "duration": 19,
    "start_time": "2024-09-27T07:20:51.881Z"
   },
   {
    "duration": 638,
    "start_time": "2024-09-27T07:22:40.781Z"
   },
   {
    "duration": 111,
    "start_time": "2024-09-27T07:22:41.421Z"
   },
   {
    "duration": 47,
    "start_time": "2024-09-27T07:22:41.533Z"
   },
   {
    "duration": 65,
    "start_time": "2024-09-27T07:22:41.582Z"
   },
   {
    "duration": 7,
    "start_time": "2024-09-27T07:22:41.649Z"
   },
   {
    "duration": 12,
    "start_time": "2024-09-27T07:22:41.658Z"
   },
   {
    "duration": 7,
    "start_time": "2024-09-27T07:22:41.671Z"
   },
   {
    "duration": 49,
    "start_time": "2024-09-27T07:22:41.680Z"
   },
   {
    "duration": 15,
    "start_time": "2024-09-27T07:22:41.730Z"
   },
   {
    "duration": 20,
    "start_time": "2024-09-27T07:22:41.746Z"
   },
   {
    "duration": 24,
    "start_time": "2024-09-27T07:22:41.768Z"
   },
   {
    "duration": 7,
    "start_time": "2024-09-27T07:22:41.807Z"
   },
   {
    "duration": 557,
    "start_time": "2024-09-27T07:22:41.815Z"
   },
   {
    "duration": 259,
    "start_time": "2024-09-27T07:22:42.375Z"
   },
   {
    "duration": 922,
    "start_time": "2024-09-27T07:22:42.635Z"
   },
   {
    "duration": 19,
    "start_time": "2024-09-27T07:22:43.559Z"
   },
   {
    "duration": 31,
    "start_time": "2024-09-27T07:22:43.579Z"
   },
   {
    "duration": 60,
    "start_time": "2024-09-27T07:22:43.612Z"
   },
   {
    "duration": 0,
    "start_time": "2024-09-27T07:22:43.673Z"
   },
   {
    "duration": 0,
    "start_time": "2024-09-27T07:22:43.675Z"
   },
   {
    "duration": 0,
    "start_time": "2024-09-27T07:22:43.675Z"
   },
   {
    "duration": 0,
    "start_time": "2024-09-27T07:22:43.677Z"
   },
   {
    "duration": 0,
    "start_time": "2024-09-27T07:22:43.677Z"
   },
   {
    "duration": 0,
    "start_time": "2024-09-27T07:22:43.679Z"
   },
   {
    "duration": 0,
    "start_time": "2024-09-27T07:22:43.679Z"
   },
   {
    "duration": 21,
    "start_time": "2024-09-27T07:22:59.437Z"
   },
   {
    "duration": 18,
    "start_time": "2024-09-27T07:24:38.669Z"
   },
   {
    "duration": 25,
    "start_time": "2024-09-27T07:25:04.048Z"
   },
   {
    "duration": 18,
    "start_time": "2024-09-27T07:25:33.626Z"
   },
   {
    "duration": 71,
    "start_time": "2024-09-27T07:31:17.387Z"
   },
   {
    "duration": 80,
    "start_time": "2024-09-27T07:31:38.543Z"
   },
   {
    "duration": 19,
    "start_time": "2024-09-27T07:38:47.139Z"
   },
   {
    "duration": 25,
    "start_time": "2024-09-27T07:39:14.761Z"
   },
   {
    "duration": 23,
    "start_time": "2024-09-27T07:39:22.156Z"
   },
   {
    "duration": 21,
    "start_time": "2024-09-27T07:40:00.085Z"
   },
   {
    "duration": 17,
    "start_time": "2024-09-27T07:40:59.088Z"
   },
   {
    "duration": 67,
    "start_time": "2024-09-27T07:41:39.669Z"
   },
   {
    "duration": 21,
    "start_time": "2024-09-27T07:44:34.181Z"
   },
   {
    "duration": 24,
    "start_time": "2024-09-27T07:44:54.893Z"
   },
   {
    "duration": 33,
    "start_time": "2024-09-27T07:48:37.415Z"
   },
   {
    "duration": 32,
    "start_time": "2024-09-27T07:49:03.057Z"
   },
   {
    "duration": 32,
    "start_time": "2024-09-27T07:50:03.093Z"
   },
   {
    "duration": 36,
    "start_time": "2024-09-27T07:50:27.330Z"
   },
   {
    "duration": 25,
    "start_time": "2024-09-27T07:50:57.861Z"
   },
   {
    "duration": 135,
    "start_time": "2024-09-27T08:21:24.036Z"
   },
   {
    "duration": 180,
    "start_time": "2024-09-27T08:23:32.017Z"
   },
   {
    "duration": 745,
    "start_time": "2024-09-27T08:25:10.085Z"
   },
   {
    "duration": 623,
    "start_time": "2024-09-27T08:39:27.267Z"
   },
   {
    "duration": 117,
    "start_time": "2024-09-27T08:39:27.891Z"
   },
   {
    "duration": 40,
    "start_time": "2024-09-27T08:39:28.009Z"
   },
   {
    "duration": 39,
    "start_time": "2024-09-27T08:39:28.051Z"
   },
   {
    "duration": 16,
    "start_time": "2024-09-27T08:39:28.092Z"
   },
   {
    "duration": 140,
    "start_time": "2024-09-27T08:39:28.109Z"
   },
   {
    "duration": 9,
    "start_time": "2024-09-27T08:39:28.250Z"
   },
   {
    "duration": 36,
    "start_time": "2024-09-27T08:39:28.260Z"
   },
   {
    "duration": 10,
    "start_time": "2024-09-27T08:39:28.298Z"
   },
   {
    "duration": 18,
    "start_time": "2024-09-27T08:39:28.309Z"
   },
   {
    "duration": 16,
    "start_time": "2024-09-27T08:39:28.329Z"
   },
   {
    "duration": 6,
    "start_time": "2024-09-27T08:39:28.347Z"
   },
   {
    "duration": 429,
    "start_time": "2024-09-27T08:39:28.354Z"
   },
   {
    "duration": 237,
    "start_time": "2024-09-27T08:39:28.786Z"
   },
   {
    "duration": 933,
    "start_time": "2024-09-27T08:39:29.024Z"
   },
   {
    "duration": 20,
    "start_time": "2024-09-27T08:39:29.958Z"
   },
   {
    "duration": 91,
    "start_time": "2024-09-27T08:39:29.979Z"
   },
   {
    "duration": 26,
    "start_time": "2024-09-27T08:39:30.072Z"
   },
   {
    "duration": 138,
    "start_time": "2024-09-27T08:39:30.099Z"
   },
   {
    "duration": 0,
    "start_time": "2024-09-27T08:39:30.238Z"
   },
   {
    "duration": 0,
    "start_time": "2024-09-27T08:39:30.240Z"
   },
   {
    "duration": 0,
    "start_time": "2024-09-27T08:39:30.241Z"
   },
   {
    "duration": 0,
    "start_time": "2024-09-27T08:39:30.242Z"
   },
   {
    "duration": 0,
    "start_time": "2024-09-27T08:39:30.243Z"
   },
   {
    "duration": 0,
    "start_time": "2024-09-27T08:39:30.286Z"
   },
   {
    "duration": 28,
    "start_time": "2024-09-27T08:41:07.783Z"
   },
   {
    "duration": 6,
    "start_time": "2024-09-27T08:41:53.135Z"
   },
   {
    "duration": 760,
    "start_time": "2024-09-27T08:42:05.772Z"
   },
   {
    "duration": 25,
    "start_time": "2024-09-27T09:19:10.995Z"
   },
   {
    "duration": 25,
    "start_time": "2024-09-27T09:19:25.537Z"
   },
   {
    "duration": 581,
    "start_time": "2024-09-27T09:21:27.009Z"
   },
   {
    "duration": 108,
    "start_time": "2024-09-27T09:21:27.591Z"
   },
   {
    "duration": 50,
    "start_time": "2024-09-27T09:21:27.700Z"
   },
   {
    "duration": 42,
    "start_time": "2024-09-27T09:21:27.752Z"
   },
   {
    "duration": 12,
    "start_time": "2024-09-27T09:21:27.795Z"
   },
   {
    "duration": 5,
    "start_time": "2024-09-27T09:21:27.808Z"
   },
   {
    "duration": 8,
    "start_time": "2024-09-27T09:21:27.815Z"
   },
   {
    "duration": 22,
    "start_time": "2024-09-27T09:21:27.824Z"
   },
   {
    "duration": 10,
    "start_time": "2024-09-27T09:21:27.848Z"
   },
   {
    "duration": 11,
    "start_time": "2024-09-27T09:21:27.859Z"
   },
   {
    "duration": 49,
    "start_time": "2024-09-27T09:21:27.872Z"
   },
   {
    "duration": 56,
    "start_time": "2024-09-27T09:21:27.923Z"
   },
   {
    "duration": 471,
    "start_time": "2024-09-27T09:21:27.981Z"
   },
   {
    "duration": 238,
    "start_time": "2024-09-27T09:21:28.454Z"
   },
   {
    "duration": 887,
    "start_time": "2024-09-27T09:21:28.694Z"
   },
   {
    "duration": 25,
    "start_time": "2024-09-27T09:21:29.583Z"
   },
   {
    "duration": 21,
    "start_time": "2024-09-27T09:21:29.609Z"
   },
   {
    "duration": 101,
    "start_time": "2024-09-27T09:21:29.631Z"
   },
   {
    "duration": 6,
    "start_time": "2024-09-27T09:21:29.733Z"
   },
   {
    "duration": 1078,
    "start_time": "2024-09-27T09:21:29.741Z"
   },
   {
    "duration": 0,
    "start_time": "2024-09-27T09:21:30.820Z"
   },
   {
    "duration": 0,
    "start_time": "2024-09-27T09:21:30.821Z"
   },
   {
    "duration": 0,
    "start_time": "2024-09-27T09:21:30.822Z"
   },
   {
    "duration": 0,
    "start_time": "2024-09-27T09:21:30.823Z"
   },
   {
    "duration": 5,
    "start_time": "2024-09-27T09:22:17.586Z"
   },
   {
    "duration": 6,
    "start_time": "2024-09-27T09:22:58.642Z"
   },
   {
    "duration": 5,
    "start_time": "2024-09-27T09:24:19.449Z"
   },
   {
    "duration": 57,
    "start_time": "2024-09-27T09:25:31.614Z"
   },
   {
    "duration": 84,
    "start_time": "2024-09-27T09:26:00.249Z"
   },
   {
    "duration": 6,
    "start_time": "2024-09-27T09:26:20.269Z"
   },
   {
    "duration": 7,
    "start_time": "2024-09-27T09:30:42.101Z"
   },
   {
    "duration": 13,
    "start_time": "2024-09-27T09:31:58.293Z"
   },
   {
    "duration": 8,
    "start_time": "2024-09-27T09:32:23.052Z"
   },
   {
    "duration": 7,
    "start_time": "2024-09-27T09:33:10.189Z"
   },
   {
    "duration": 7,
    "start_time": "2024-09-27T09:34:45.635Z"
   },
   {
    "duration": 23,
    "start_time": "2024-09-27T09:36:51.786Z"
   },
   {
    "duration": 10,
    "start_time": "2024-09-27T09:37:45.777Z"
   },
   {
    "duration": 8,
    "start_time": "2024-09-27T09:42:02.078Z"
   },
   {
    "duration": 4,
    "start_time": "2024-09-27T09:44:01.382Z"
   },
   {
    "duration": 1268,
    "start_time": "2024-09-27T09:49:52.536Z"
   },
   {
    "duration": 24,
    "start_time": "2024-09-27T09:50:04.637Z"
   },
   {
    "duration": 21,
    "start_time": "2024-09-27T09:52:25.658Z"
   },
   {
    "duration": 9,
    "start_time": "2024-09-27T09:52:29.906Z"
   },
   {
    "duration": 4,
    "start_time": "2024-09-27T09:52:39.541Z"
   },
   {
    "duration": 15,
    "start_time": "2024-09-27T09:52:48.836Z"
   },
   {
    "duration": 12,
    "start_time": "2024-09-27T09:53:08.740Z"
   },
   {
    "duration": 6,
    "start_time": "2024-09-27T09:54:09.700Z"
   },
   {
    "duration": 10,
    "start_time": "2024-09-27T09:54:26.323Z"
   },
   {
    "duration": 16,
    "start_time": "2024-09-27T09:54:57.148Z"
   },
   {
    "duration": 6,
    "start_time": "2024-09-27T09:56:09.011Z"
   },
   {
    "duration": 7,
    "start_time": "2024-09-27T09:56:17.316Z"
   },
   {
    "duration": 6,
    "start_time": "2024-09-27T09:56:58.079Z"
   },
   {
    "duration": 7,
    "start_time": "2024-09-27T09:58:55.531Z"
   },
   {
    "duration": 7,
    "start_time": "2024-09-27T09:59:56.222Z"
   },
   {
    "duration": 5,
    "start_time": "2024-09-27T10:06:05.500Z"
   },
   {
    "duration": 606,
    "start_time": "2024-09-27T10:06:11.312Z"
   },
   {
    "duration": 106,
    "start_time": "2024-09-27T10:06:11.920Z"
   },
   {
    "duration": 34,
    "start_time": "2024-09-27T10:06:12.027Z"
   },
   {
    "duration": 53,
    "start_time": "2024-09-27T10:06:12.062Z"
   },
   {
    "duration": 5,
    "start_time": "2024-09-27T10:06:12.118Z"
   },
   {
    "duration": 44,
    "start_time": "2024-09-27T10:06:12.124Z"
   },
   {
    "duration": 9,
    "start_time": "2024-09-27T10:06:12.170Z"
   },
   {
    "duration": 42,
    "start_time": "2024-09-27T10:06:12.180Z"
   },
   {
    "duration": 9,
    "start_time": "2024-09-27T10:06:12.224Z"
   },
   {
    "duration": 12,
    "start_time": "2024-09-27T10:06:12.234Z"
   },
   {
    "duration": 35,
    "start_time": "2024-09-27T10:06:12.247Z"
   },
   {
    "duration": 12,
    "start_time": "2024-09-27T10:06:12.283Z"
   },
   {
    "duration": 453,
    "start_time": "2024-09-27T10:06:12.297Z"
   },
   {
    "duration": 234,
    "start_time": "2024-09-27T10:06:12.752Z"
   },
   {
    "duration": 913,
    "start_time": "2024-09-27T10:06:12.987Z"
   },
   {
    "duration": 18,
    "start_time": "2024-09-27T10:06:13.906Z"
   },
   {
    "duration": 19,
    "start_time": "2024-09-27T10:06:13.925Z"
   },
   {
    "duration": 75,
    "start_time": "2024-09-27T10:06:13.946Z"
   },
   {
    "duration": 5,
    "start_time": "2024-09-27T10:06:14.022Z"
   },
   {
    "duration": 64,
    "start_time": "2024-09-27T10:06:14.028Z"
   },
   {
    "duration": 11,
    "start_time": "2024-09-27T10:06:14.093Z"
   },
   {
    "duration": 39,
    "start_time": "2024-09-27T10:06:14.106Z"
   },
   {
    "duration": 70,
    "start_time": "2024-09-27T10:06:14.146Z"
   },
   {
    "duration": 6,
    "start_time": "2024-09-27T10:06:14.218Z"
   },
   {
    "duration": 15,
    "start_time": "2024-09-27T10:06:14.225Z"
   },
   {
    "duration": 7,
    "start_time": "2024-09-27T10:06:14.242Z"
   },
   {
    "duration": 5,
    "start_time": "2024-09-27T10:06:14.251Z"
   },
   {
    "duration": 24,
    "start_time": "2024-09-27T10:07:51.520Z"
   },
   {
    "duration": 14,
    "start_time": "2024-09-27T10:08:06.391Z"
   },
   {
    "duration": 9,
    "start_time": "2024-09-27T10:08:15.870Z"
   },
   {
    "duration": 13,
    "start_time": "2024-09-27T10:08:24.858Z"
   },
   {
    "duration": 13,
    "start_time": "2024-09-27T10:08:58.793Z"
   },
   {
    "duration": 542,
    "start_time": "2024-09-27T10:09:28.154Z"
   },
   {
    "duration": 104,
    "start_time": "2024-09-27T10:09:28.697Z"
   },
   {
    "duration": 34,
    "start_time": "2024-09-27T10:09:28.802Z"
   },
   {
    "duration": 131,
    "start_time": "2024-09-27T10:09:28.838Z"
   },
   {
    "duration": 5,
    "start_time": "2024-09-27T10:09:28.970Z"
   },
   {
    "duration": 7,
    "start_time": "2024-09-27T10:09:28.976Z"
   },
   {
    "duration": 4,
    "start_time": "2024-09-27T10:09:28.984Z"
   },
   {
    "duration": 25,
    "start_time": "2024-09-27T10:09:28.989Z"
   },
   {
    "duration": 9,
    "start_time": "2024-09-27T10:09:29.014Z"
   },
   {
    "duration": 10,
    "start_time": "2024-09-27T10:09:29.025Z"
   },
   {
    "duration": 27,
    "start_time": "2024-09-27T10:09:29.036Z"
   },
   {
    "duration": 38,
    "start_time": "2024-09-27T10:09:29.065Z"
   },
   {
    "duration": 470,
    "start_time": "2024-09-27T10:09:29.105Z"
   },
   {
    "duration": 246,
    "start_time": "2024-09-27T10:09:29.577Z"
   },
   {
    "duration": 888,
    "start_time": "2024-09-27T10:09:29.824Z"
   },
   {
    "duration": 19,
    "start_time": "2024-09-27T10:09:30.713Z"
   },
   {
    "duration": 24,
    "start_time": "2024-09-27T10:09:30.734Z"
   },
   {
    "duration": 78,
    "start_time": "2024-09-27T10:09:30.760Z"
   },
   {
    "duration": 4,
    "start_time": "2024-09-27T10:09:30.840Z"
   },
   {
    "duration": 104,
    "start_time": "2024-09-27T10:09:30.845Z"
   },
   {
    "duration": 26,
    "start_time": "2024-09-27T10:09:30.950Z"
   },
   {
    "duration": 27,
    "start_time": "2024-09-27T10:09:30.977Z"
   },
   {
    "duration": 9,
    "start_time": "2024-09-27T10:09:31.005Z"
   },
   {
    "duration": 12,
    "start_time": "2024-09-27T10:09:31.015Z"
   },
   {
    "duration": 29,
    "start_time": "2024-09-27T10:09:31.028Z"
   },
   {
    "duration": 9,
    "start_time": "2024-09-27T10:09:31.058Z"
   },
   {
    "duration": 11,
    "start_time": "2024-09-27T10:09:31.068Z"
   },
   {
    "duration": 4,
    "start_time": "2024-09-27T10:10:36.464Z"
   },
   {
    "duration": 600,
    "start_time": "2024-09-27T10:11:05.610Z"
   },
   {
    "duration": 108,
    "start_time": "2024-09-27T10:11:06.212Z"
   },
   {
    "duration": 36,
    "start_time": "2024-09-27T10:11:06.322Z"
   },
   {
    "duration": 50,
    "start_time": "2024-09-27T10:11:06.360Z"
   },
   {
    "duration": 127,
    "start_time": "2024-09-27T10:11:06.411Z"
   },
   {
    "duration": 23,
    "start_time": "2024-09-27T10:11:06.539Z"
   },
   {
    "duration": 45,
    "start_time": "2024-09-27T10:11:06.563Z"
   },
   {
    "duration": 51,
    "start_time": "2024-09-27T10:11:06.609Z"
   },
   {
    "duration": 77,
    "start_time": "2024-09-27T10:11:06.661Z"
   },
   {
    "duration": 61,
    "start_time": "2024-09-27T10:11:06.741Z"
   },
   {
    "duration": 181,
    "start_time": "2024-09-27T10:11:06.804Z"
   },
   {
    "duration": 21,
    "start_time": "2024-09-27T10:11:06.986Z"
   },
   {
    "duration": 469,
    "start_time": "2024-09-27T10:11:07.008Z"
   },
   {
    "duration": 292,
    "start_time": "2024-09-27T10:11:07.478Z"
   },
   {
    "duration": 875,
    "start_time": "2024-09-27T10:11:07.772Z"
   },
   {
    "duration": 20,
    "start_time": "2024-09-27T10:11:08.648Z"
   },
   {
    "duration": 20,
    "start_time": "2024-09-27T10:11:08.670Z"
   },
   {
    "duration": 61,
    "start_time": "2024-09-27T10:11:08.706Z"
   },
   {
    "duration": 4,
    "start_time": "2024-09-27T10:11:08.769Z"
   },
   {
    "duration": 25,
    "start_time": "2024-09-27T10:11:08.774Z"
   },
   {
    "duration": 162,
    "start_time": "2024-09-27T10:11:08.800Z"
   },
   {
    "duration": 21,
    "start_time": "2024-09-27T10:11:08.964Z"
   },
   {
    "duration": 8,
    "start_time": "2024-09-27T10:11:08.986Z"
   },
   {
    "duration": 4,
    "start_time": "2024-09-27T10:11:08.996Z"
   },
   {
    "duration": 23,
    "start_time": "2024-09-27T10:11:09.001Z"
   },
   {
    "duration": 20,
    "start_time": "2024-09-27T10:11:09.026Z"
   },
   {
    "duration": 6,
    "start_time": "2024-09-27T10:11:09.047Z"
   },
   {
    "duration": 12,
    "start_time": "2024-09-27T10:11:30.814Z"
   },
   {
    "duration": 10,
    "start_time": "2024-09-27T10:11:38.161Z"
   },
   {
    "duration": 87,
    "start_time": "2024-09-27T10:12:02.546Z"
   },
   {
    "duration": 13,
    "start_time": "2024-09-27T10:12:12.282Z"
   },
   {
    "duration": 18,
    "start_time": "2024-09-27T10:14:02.601Z"
   },
   {
    "duration": 21,
    "start_time": "2024-09-27T10:14:18.654Z"
   },
   {
    "duration": 22,
    "start_time": "2024-09-27T10:14:48.243Z"
   },
   {
    "duration": 21,
    "start_time": "2024-09-27T10:19:13.459Z"
   },
   {
    "duration": 16,
    "start_time": "2024-09-27T10:19:31.775Z"
   },
   {
    "duration": 21,
    "start_time": "2024-09-27T10:19:39.758Z"
   },
   {
    "duration": 7,
    "start_time": "2024-09-27T10:21:45.729Z"
   },
   {
    "duration": 8,
    "start_time": "2024-09-27T10:22:20.427Z"
   },
   {
    "duration": 515,
    "start_time": "2024-09-27T10:22:29.359Z"
   },
   {
    "duration": 105,
    "start_time": "2024-09-27T10:22:29.875Z"
   },
   {
    "duration": 35,
    "start_time": "2024-09-27T10:22:29.981Z"
   },
   {
    "duration": 40,
    "start_time": "2024-09-27T10:22:30.018Z"
   },
   {
    "duration": 9,
    "start_time": "2024-09-27T10:22:30.059Z"
   },
   {
    "duration": 31,
    "start_time": "2024-09-27T10:22:30.070Z"
   },
   {
    "duration": 23,
    "start_time": "2024-09-27T10:22:30.102Z"
   },
   {
    "duration": 49,
    "start_time": "2024-09-27T10:22:30.127Z"
   },
   {
    "duration": 62,
    "start_time": "2024-09-27T10:22:30.178Z"
   },
   {
    "duration": 91,
    "start_time": "2024-09-27T10:22:30.242Z"
   },
   {
    "duration": 58,
    "start_time": "2024-09-27T10:22:30.334Z"
   },
   {
    "duration": 21,
    "start_time": "2024-09-27T10:22:30.394Z"
   },
   {
    "duration": 486,
    "start_time": "2024-09-27T10:22:30.416Z"
   },
   {
    "duration": 274,
    "start_time": "2024-09-27T10:22:30.903Z"
   },
   {
    "duration": 889,
    "start_time": "2024-09-27T10:22:31.178Z"
   },
   {
    "duration": 20,
    "start_time": "2024-09-27T10:22:32.069Z"
   },
   {
    "duration": 35,
    "start_time": "2024-09-27T10:22:32.091Z"
   },
   {
    "duration": 84,
    "start_time": "2024-09-27T10:22:32.128Z"
   },
   {
    "duration": 4,
    "start_time": "2024-09-27T10:22:32.213Z"
   },
   {
    "duration": 25,
    "start_time": "2024-09-27T10:22:32.219Z"
   },
   {
    "duration": 119,
    "start_time": "2024-09-27T10:22:32.246Z"
   },
   {
    "duration": 34,
    "start_time": "2024-09-27T10:22:32.366Z"
   },
   {
    "duration": 16,
    "start_time": "2024-09-27T10:22:32.401Z"
   },
   {
    "duration": 131,
    "start_time": "2024-09-27T10:22:32.418Z"
   },
   {
    "duration": 45,
    "start_time": "2024-09-27T10:22:32.551Z"
   },
   {
    "duration": 10,
    "start_time": "2024-09-27T10:22:32.597Z"
   },
   {
    "duration": 38,
    "start_time": "2024-09-27T10:22:32.609Z"
   },
   {
    "duration": 620,
    "start_time": "2024-09-27T10:26:04.396Z"
   },
   {
    "duration": 118,
    "start_time": "2024-09-27T10:26:05.018Z"
   },
   {
    "duration": 39,
    "start_time": "2024-09-27T10:26:05.138Z"
   },
   {
    "duration": 57,
    "start_time": "2024-09-27T10:26:05.178Z"
   },
   {
    "duration": 5,
    "start_time": "2024-09-27T10:26:05.237Z"
   },
   {
    "duration": 37,
    "start_time": "2024-09-27T10:26:05.243Z"
   },
   {
    "duration": 13,
    "start_time": "2024-09-27T10:26:05.282Z"
   },
   {
    "duration": 36,
    "start_time": "2024-09-27T10:26:05.297Z"
   },
   {
    "duration": 10,
    "start_time": "2024-09-27T10:26:05.335Z"
   },
   {
    "duration": 19,
    "start_time": "2024-09-27T10:26:05.347Z"
   },
   {
    "duration": 29,
    "start_time": "2024-09-27T10:26:05.367Z"
   },
   {
    "duration": 28,
    "start_time": "2024-09-27T10:26:05.397Z"
   },
   {
    "duration": 476,
    "start_time": "2024-09-27T10:26:05.427Z"
   },
   {
    "duration": 270,
    "start_time": "2024-09-27T10:26:05.906Z"
   },
   {
    "duration": 930,
    "start_time": "2024-09-27T10:26:06.177Z"
   },
   {
    "duration": 19,
    "start_time": "2024-09-27T10:26:07.108Z"
   },
   {
    "duration": 30,
    "start_time": "2024-09-27T10:26:07.129Z"
   },
   {
    "duration": 96,
    "start_time": "2024-09-27T10:26:07.161Z"
   },
   {
    "duration": 4,
    "start_time": "2024-09-27T10:26:07.259Z"
   },
   {
    "duration": 24,
    "start_time": "2024-09-27T10:26:07.265Z"
   },
   {
    "duration": 25,
    "start_time": "2024-09-27T10:26:07.290Z"
   },
   {
    "duration": 35,
    "start_time": "2024-09-27T10:26:07.317Z"
   },
   {
    "duration": 11,
    "start_time": "2024-09-27T10:26:07.354Z"
   },
   {
    "duration": 15,
    "start_time": "2024-09-27T10:26:07.367Z"
   },
   {
    "duration": 46,
    "start_time": "2024-09-27T10:26:07.384Z"
   },
   {
    "duration": 587,
    "start_time": "2024-09-27T10:27:41.496Z"
   },
   {
    "duration": 105,
    "start_time": "2024-09-27T10:27:42.084Z"
   },
   {
    "duration": 36,
    "start_time": "2024-09-27T10:27:42.191Z"
   },
   {
    "duration": 36,
    "start_time": "2024-09-27T10:27:42.228Z"
   },
   {
    "duration": 5,
    "start_time": "2024-09-27T10:27:42.266Z"
   },
   {
    "duration": 61,
    "start_time": "2024-09-27T10:27:42.272Z"
   },
   {
    "duration": 5,
    "start_time": "2024-09-27T10:27:42.335Z"
   },
   {
    "duration": 26,
    "start_time": "2024-09-27T10:27:42.341Z"
   },
   {
    "duration": 9,
    "start_time": "2024-09-27T10:27:42.368Z"
   },
   {
    "duration": 10,
    "start_time": "2024-09-27T10:27:42.379Z"
   },
   {
    "duration": 20,
    "start_time": "2024-09-27T10:27:42.390Z"
   },
   {
    "duration": 6,
    "start_time": "2024-09-27T10:27:42.411Z"
   },
   {
    "duration": 462,
    "start_time": "2024-09-27T10:27:42.418Z"
   },
   {
    "duration": 257,
    "start_time": "2024-09-27T10:27:42.882Z"
   },
   {
    "duration": 881,
    "start_time": "2024-09-27T10:27:43.140Z"
   },
   {
    "duration": 19,
    "start_time": "2024-09-27T10:27:44.022Z"
   },
   {
    "duration": 20,
    "start_time": "2024-09-27T10:27:44.042Z"
   },
   {
    "duration": 77,
    "start_time": "2024-09-27T10:27:44.063Z"
   },
   {
    "duration": 4,
    "start_time": "2024-09-27T10:27:44.141Z"
   },
   {
    "duration": 10,
    "start_time": "2024-09-27T10:27:44.146Z"
   },
   {
    "duration": 10,
    "start_time": "2024-09-27T10:27:44.157Z"
   },
   {
    "duration": 14,
    "start_time": "2024-09-27T10:27:44.168Z"
   },
   {
    "duration": 26,
    "start_time": "2024-09-27T10:27:44.183Z"
   },
   {
    "duration": 4,
    "start_time": "2024-09-27T10:27:44.211Z"
   },
   {
    "duration": 195,
    "start_time": "2024-09-27T10:27:44.216Z"
   },
   {
    "duration": 620,
    "start_time": "2024-09-27T10:28:02.779Z"
   },
   {
    "duration": 106,
    "start_time": "2024-09-27T10:28:03.401Z"
   },
   {
    "duration": 34,
    "start_time": "2024-09-27T10:28:03.508Z"
   },
   {
    "duration": 39,
    "start_time": "2024-09-27T10:28:03.543Z"
   },
   {
    "duration": 5,
    "start_time": "2024-09-27T10:28:03.584Z"
   },
   {
    "duration": 24,
    "start_time": "2024-09-27T10:28:03.607Z"
   },
   {
    "duration": 13,
    "start_time": "2024-09-27T10:28:03.633Z"
   },
   {
    "duration": 94,
    "start_time": "2024-09-27T10:28:03.648Z"
   },
   {
    "duration": 22,
    "start_time": "2024-09-27T10:28:03.743Z"
   },
   {
    "duration": 11,
    "start_time": "2024-09-27T10:28:03.766Z"
   },
   {
    "duration": 44,
    "start_time": "2024-09-27T10:28:03.778Z"
   },
   {
    "duration": 19,
    "start_time": "2024-09-27T10:28:03.823Z"
   },
   {
    "duration": 436,
    "start_time": "2024-09-27T10:28:03.844Z"
   },
   {
    "duration": 259,
    "start_time": "2024-09-27T10:28:04.282Z"
   },
   {
    "duration": 929,
    "start_time": "2024-09-27T10:28:04.542Z"
   },
   {
    "duration": 20,
    "start_time": "2024-09-27T10:28:05.473Z"
   },
   {
    "duration": 33,
    "start_time": "2024-09-27T10:28:05.494Z"
   },
   {
    "duration": 81,
    "start_time": "2024-09-27T10:28:05.528Z"
   },
   {
    "duration": 5,
    "start_time": "2024-09-27T10:28:05.610Z"
   },
   {
    "duration": 11,
    "start_time": "2024-09-27T10:28:05.617Z"
   },
   {
    "duration": 21,
    "start_time": "2024-09-27T10:28:05.630Z"
   },
   {
    "duration": 38,
    "start_time": "2024-09-27T10:28:05.652Z"
   },
   {
    "duration": 84,
    "start_time": "2024-09-27T10:28:05.691Z"
   },
   {
    "duration": 58,
    "start_time": "2024-09-27T10:28:05.776Z"
   },
   {
    "duration": 43,
    "start_time": "2024-09-27T10:28:05.835Z"
   },
   {
    "duration": 15,
    "start_time": "2024-09-27T10:28:05.879Z"
   },
   {
    "duration": 27,
    "start_time": "2024-09-27T10:28:05.895Z"
   },
   {
    "duration": 18,
    "start_time": "2024-09-27T10:28:05.923Z"
   },
   {
    "duration": 88,
    "start_time": "2024-09-27T10:34:50.374Z"
   },
   {
    "duration": 455,
    "start_time": "2024-09-27T10:35:21.593Z"
   },
   {
    "duration": 718,
    "start_time": "2024-09-27T10:35:28.235Z"
   },
   {
    "duration": 863,
    "start_time": "2024-09-27T10:35:56.346Z"
   },
   {
    "duration": 887,
    "start_time": "2024-09-27T10:36:06.987Z"
   },
   {
    "duration": 729,
    "start_time": "2024-09-27T10:36:46.076Z"
   },
   {
    "duration": 689,
    "start_time": "2024-09-27T10:37:23.706Z"
   },
   {
    "duration": 249,
    "start_time": "2024-09-27T10:37:51.488Z"
   },
   {
    "duration": 191,
    "start_time": "2024-09-27T10:38:39.591Z"
   },
   {
    "duration": 260,
    "start_time": "2024-09-27T10:38:47.646Z"
   },
   {
    "duration": 183,
    "start_time": "2024-09-27T10:39:40.059Z"
   },
   {
    "duration": 49,
    "start_time": "2024-09-27T10:41:14.366Z"
   },
   {
    "duration": 203,
    "start_time": "2024-09-27T10:41:22.951Z"
   },
   {
    "duration": 187,
    "start_time": "2024-09-27T10:41:42.338Z"
   },
   {
    "duration": 196,
    "start_time": "2024-09-27T10:42:04.780Z"
   },
   {
    "duration": 344,
    "start_time": "2024-09-27T10:42:18.892Z"
   },
   {
    "duration": 314,
    "start_time": "2024-09-27T10:42:33.014Z"
   },
   {
    "duration": 378,
    "start_time": "2024-09-27T10:42:48.658Z"
   },
   {
    "duration": 297,
    "start_time": "2024-09-27T10:42:59.534Z"
   },
   {
    "duration": 313,
    "start_time": "2024-09-27T10:43:12.727Z"
   },
   {
    "duration": 320,
    "start_time": "2024-09-27T10:43:22.628Z"
   },
   {
    "duration": 303,
    "start_time": "2024-09-27T10:43:34.619Z"
   },
   {
    "duration": 309,
    "start_time": "2024-09-27T10:43:44.362Z"
   },
   {
    "duration": 439,
    "start_time": "2024-09-27T10:45:38.206Z"
   },
   {
    "duration": 104,
    "start_time": "2024-09-27T10:46:57.146Z"
   },
   {
    "duration": 85,
    "start_time": "2024-09-27T10:47:28.419Z"
   },
   {
    "duration": 117,
    "start_time": "2024-09-27T10:47:47.731Z"
   },
   {
    "duration": 131,
    "start_time": "2024-09-27T10:48:08.930Z"
   },
   {
    "duration": 109,
    "start_time": "2024-09-27T10:48:25.547Z"
   },
   {
    "duration": 147,
    "start_time": "2024-09-27T10:49:25.991Z"
   },
   {
    "duration": 4,
    "start_time": "2024-09-27T10:50:40.529Z"
   },
   {
    "duration": 20,
    "start_time": "2024-09-27T11:15:56.043Z"
   },
   {
    "duration": 12,
    "start_time": "2024-09-27T11:46:16.492Z"
   },
   {
    "duration": 14,
    "start_time": "2024-09-27T11:48:30.477Z"
   },
   {
    "duration": 1431,
    "start_time": "2024-09-28T06:43:07.161Z"
   },
   {
    "duration": 482,
    "start_time": "2024-09-28T06:43:08.594Z"
   },
   {
    "duration": 50,
    "start_time": "2024-09-28T06:43:09.078Z"
   },
   {
    "duration": 47,
    "start_time": "2024-09-28T06:43:09.131Z"
   },
   {
    "duration": 7,
    "start_time": "2024-09-28T06:43:09.180Z"
   },
   {
    "duration": 30,
    "start_time": "2024-09-28T06:43:09.189Z"
   },
   {
    "duration": 5,
    "start_time": "2024-09-28T06:43:09.227Z"
   },
   {
    "duration": 30,
    "start_time": "2024-09-28T06:43:09.234Z"
   },
   {
    "duration": 13,
    "start_time": "2024-09-28T06:43:09.265Z"
   },
   {
    "duration": 39,
    "start_time": "2024-09-28T06:43:09.281Z"
   },
   {
    "duration": 23,
    "start_time": "2024-09-28T06:43:09.321Z"
   },
   {
    "duration": 7,
    "start_time": "2024-09-28T06:43:09.346Z"
   },
   {
    "duration": 535,
    "start_time": "2024-09-28T06:43:09.355Z"
   },
   {
    "duration": 284,
    "start_time": "2024-09-28T06:43:09.891Z"
   },
   {
    "duration": 1182,
    "start_time": "2024-09-28T06:43:10.176Z"
   },
   {
    "duration": 23,
    "start_time": "2024-09-28T06:43:11.360Z"
   },
   {
    "duration": 56,
    "start_time": "2024-09-28T06:43:11.385Z"
   },
   {
    "duration": 34,
    "start_time": "2024-09-28T06:43:11.443Z"
   },
   {
    "duration": 5,
    "start_time": "2024-09-28T06:43:11.479Z"
   },
   {
    "duration": 36,
    "start_time": "2024-09-28T06:43:11.486Z"
   },
   {
    "duration": 13,
    "start_time": "2024-09-28T06:43:11.524Z"
   },
   {
    "duration": 18,
    "start_time": "2024-09-28T06:43:11.539Z"
   },
   {
    "duration": 10,
    "start_time": "2024-09-28T06:43:11.558Z"
   },
   {
    "duration": 5,
    "start_time": "2024-09-28T06:43:11.570Z"
   },
   {
    "duration": 72,
    "start_time": "2024-09-28T06:43:11.576Z"
   },
   {
    "duration": 204,
    "start_time": "2024-09-28T06:43:11.650Z"
   },
   {
    "duration": 12,
    "start_time": "2024-09-28T06:43:11.856Z"
   },
   {
    "duration": 12,
    "start_time": "2024-09-28T06:43:11.872Z"
   },
   {
    "duration": 75,
    "start_time": "2024-09-28T06:43:11.886Z"
   },
   {
    "duration": 11,
    "start_time": "2024-09-28T06:43:11.962Z"
   },
   {
    "duration": 11,
    "start_time": "2024-09-28T06:48:03.441Z"
   },
   {
    "duration": 73,
    "start_time": "2024-09-28T07:02:15.008Z"
   },
   {
    "duration": 32,
    "start_time": "2024-09-28T07:03:51.353Z"
   },
   {
    "duration": 21,
    "start_time": "2024-09-28T07:04:57.631Z"
   },
   {
    "duration": 33,
    "start_time": "2024-09-28T07:05:27.851Z"
   },
   {
    "duration": 32,
    "start_time": "2024-09-28T07:12:12.158Z"
   },
   {
    "duration": 112,
    "start_time": "2024-09-28T07:12:49.190Z"
   },
   {
    "duration": 10,
    "start_time": "2024-09-28T07:12:54.254Z"
   },
   {
    "duration": 34,
    "start_time": "2024-09-28T07:12:58.746Z"
   },
   {
    "duration": 73,
    "start_time": "2024-09-28T07:14:38.714Z"
   },
   {
    "duration": 1230,
    "start_time": "2024-09-28T07:17:12.524Z"
   },
   {
    "duration": 131,
    "start_time": "2024-09-28T07:17:13.756Z"
   },
   {
    "duration": 39,
    "start_time": "2024-09-28T07:17:13.889Z"
   },
   {
    "duration": 46,
    "start_time": "2024-09-28T07:17:13.929Z"
   },
   {
    "duration": 6,
    "start_time": "2024-09-28T07:17:13.976Z"
   },
   {
    "duration": 13,
    "start_time": "2024-09-28T07:17:13.984Z"
   },
   {
    "duration": 5,
    "start_time": "2024-09-28T07:17:14.014Z"
   },
   {
    "duration": 33,
    "start_time": "2024-09-28T07:17:14.021Z"
   },
   {
    "duration": 68,
    "start_time": "2024-09-28T07:17:14.056Z"
   },
   {
    "duration": 14,
    "start_time": "2024-09-28T07:17:14.125Z"
   },
   {
    "duration": 30,
    "start_time": "2024-09-28T07:17:14.141Z"
   },
   {
    "duration": 8,
    "start_time": "2024-09-28T07:17:14.173Z"
   },
   {
    "duration": 483,
    "start_time": "2024-09-28T07:17:14.183Z"
   },
   {
    "duration": 260,
    "start_time": "2024-09-28T07:17:14.669Z"
   },
   {
    "duration": 1086,
    "start_time": "2024-09-28T07:17:14.931Z"
   },
   {
    "duration": 22,
    "start_time": "2024-09-28T07:17:16.018Z"
   },
   {
    "duration": 86,
    "start_time": "2024-09-28T07:17:16.042Z"
   },
   {
    "duration": 31,
    "start_time": "2024-09-28T07:17:16.130Z"
   },
   {
    "duration": 5,
    "start_time": "2024-09-28T07:17:16.163Z"
   },
   {
    "duration": 9,
    "start_time": "2024-09-28T07:17:16.170Z"
   },
   {
    "duration": 9,
    "start_time": "2024-09-28T07:17:16.180Z"
   },
   {
    "duration": 18,
    "start_time": "2024-09-28T07:17:16.215Z"
   },
   {
    "duration": 10,
    "start_time": "2024-09-28T07:17:16.235Z"
   },
   {
    "duration": 22,
    "start_time": "2024-09-28T07:17:16.246Z"
   },
   {
    "duration": 72,
    "start_time": "2024-09-28T07:17:16.270Z"
   },
   {
    "duration": 159,
    "start_time": "2024-09-28T07:17:16.343Z"
   },
   {
    "duration": 18,
    "start_time": "2024-09-28T07:17:16.504Z"
   },
   {
    "duration": 11,
    "start_time": "2024-09-28T07:17:16.523Z"
   },
   {
    "duration": 23,
    "start_time": "2024-09-28T07:17:16.536Z"
   },
   {
    "duration": 11,
    "start_time": "2024-09-28T07:17:16.561Z"
   },
   {
    "duration": 70,
    "start_time": "2024-09-28T07:17:16.573Z"
   },
   {
    "duration": 58,
    "start_time": "2024-09-28T07:17:16.645Z"
   },
   {
    "duration": 0,
    "start_time": "2024-09-28T07:17:16.705Z"
   },
   {
    "duration": 52,
    "start_time": "2024-09-28T07:17:42.034Z"
   },
   {
    "duration": 57,
    "start_time": "2024-09-28T07:17:53.888Z"
   },
   {
    "duration": 48,
    "start_time": "2024-09-28T07:18:08.554Z"
   },
   {
    "duration": 53,
    "start_time": "2024-09-28T07:18:13.129Z"
   },
   {
    "duration": 1151,
    "start_time": "2024-09-28T07:18:19.286Z"
   },
   {
    "duration": 127,
    "start_time": "2024-09-28T07:18:20.439Z"
   },
   {
    "duration": 40,
    "start_time": "2024-09-28T07:18:20.567Z"
   },
   {
    "duration": 47,
    "start_time": "2024-09-28T07:18:20.609Z"
   },
   {
    "duration": 6,
    "start_time": "2024-09-28T07:18:20.658Z"
   },
   {
    "duration": 28,
    "start_time": "2024-09-28T07:18:20.665Z"
   },
   {
    "duration": 25,
    "start_time": "2024-09-28T07:18:20.694Z"
   },
   {
    "duration": 43,
    "start_time": "2024-09-28T07:18:20.721Z"
   },
   {
    "duration": 13,
    "start_time": "2024-09-28T07:18:20.766Z"
   },
   {
    "duration": 23,
    "start_time": "2024-09-28T07:18:20.781Z"
   },
   {
    "duration": 75,
    "start_time": "2024-09-28T07:18:20.805Z"
   },
   {
    "duration": 20,
    "start_time": "2024-09-28T07:18:20.881Z"
   },
   {
    "duration": 498,
    "start_time": "2024-09-28T07:18:20.902Z"
   },
   {
    "duration": 248,
    "start_time": "2024-09-28T07:18:21.401Z"
   },
   {
    "duration": 1033,
    "start_time": "2024-09-28T07:18:21.650Z"
   },
   {
    "duration": 34,
    "start_time": "2024-09-28T07:18:22.684Z"
   },
   {
    "duration": 24,
    "start_time": "2024-09-28T07:18:22.720Z"
   },
   {
    "duration": 27,
    "start_time": "2024-09-28T07:18:22.746Z"
   },
   {
    "duration": 5,
    "start_time": "2024-09-28T07:18:22.774Z"
   },
   {
    "duration": 35,
    "start_time": "2024-09-28T07:18:22.781Z"
   },
   {
    "duration": 8,
    "start_time": "2024-09-28T07:18:22.818Z"
   },
   {
    "duration": 76,
    "start_time": "2024-09-28T07:18:22.827Z"
   },
   {
    "duration": 14,
    "start_time": "2024-09-28T07:18:22.905Z"
   },
   {
    "duration": 8,
    "start_time": "2024-09-28T07:18:22.921Z"
   },
   {
    "duration": 28,
    "start_time": "2024-09-28T07:18:22.931Z"
   },
   {
    "duration": 173,
    "start_time": "2024-09-28T07:18:22.961Z"
   },
   {
    "duration": 9,
    "start_time": "2024-09-28T07:18:23.136Z"
   },
   {
    "duration": 9,
    "start_time": "2024-09-28T07:18:23.148Z"
   },
   {
    "duration": 24,
    "start_time": "2024-09-28T07:18:23.158Z"
   },
   {
    "duration": 40,
    "start_time": "2024-09-28T07:18:23.185Z"
   },
   {
    "duration": 68,
    "start_time": "2024-09-28T07:18:23.227Z"
   },
   {
    "duration": 56,
    "start_time": "2024-09-28T07:18:23.297Z"
   },
   {
    "duration": 0,
    "start_time": "2024-09-28T07:18:23.355Z"
   },
   {
    "duration": 11,
    "start_time": "2024-09-28T07:19:18.196Z"
   },
   {
    "duration": 35,
    "start_time": "2024-09-28T07:19:22.958Z"
   },
   {
    "duration": 30,
    "start_time": "2024-09-28T07:19:33.584Z"
   },
   {
    "duration": 29,
    "start_time": "2024-09-28T07:20:16.529Z"
   },
   {
    "duration": 462,
    "start_time": "2024-09-28T07:27:11.717Z"
   },
   {
    "duration": 1047,
    "start_time": "2024-09-28T07:27:57.216Z"
   },
   {
    "duration": 24,
    "start_time": "2024-09-28T07:33:46.281Z"
   },
   {
    "duration": 23,
    "start_time": "2024-09-28T07:48:35.877Z"
   },
   {
    "duration": 22,
    "start_time": "2024-09-28T07:50:55.470Z"
   },
   {
    "duration": 60,
    "start_time": "2024-09-28T07:57:32.761Z"
   },
   {
    "duration": 58,
    "start_time": "2024-09-28T07:57:47.870Z"
   },
   {
    "duration": 16,
    "start_time": "2024-09-28T07:58:01.032Z"
   },
   {
    "duration": 22,
    "start_time": "2024-09-28T07:58:12.421Z"
   },
   {
    "duration": 15,
    "start_time": "2024-09-28T07:58:50.186Z"
   },
   {
    "duration": 16,
    "start_time": "2024-09-28T07:59:38.662Z"
   },
   {
    "duration": 16,
    "start_time": "2024-09-28T07:59:44.408Z"
   },
   {
    "duration": 18,
    "start_time": "2024-09-28T07:59:58.724Z"
   },
   {
    "duration": 18,
    "start_time": "2024-09-28T08:00:03.081Z"
   },
   {
    "duration": 66,
    "start_time": "2024-09-28T08:01:43.464Z"
   },
   {
    "duration": 11,
    "start_time": "2024-09-28T08:02:01.639Z"
   },
   {
    "duration": 13,
    "start_time": "2024-09-28T08:03:09.377Z"
   },
   {
    "duration": 22,
    "start_time": "2024-09-28T08:04:54.241Z"
   },
   {
    "duration": 21,
    "start_time": "2024-09-28T08:04:59.899Z"
   },
   {
    "duration": 24,
    "start_time": "2024-09-28T08:07:45.856Z"
   },
   {
    "duration": 24,
    "start_time": "2024-09-28T08:08:10.783Z"
   },
   {
    "duration": 1161,
    "start_time": "2024-09-28T08:08:20.578Z"
   },
   {
    "duration": 130,
    "start_time": "2024-09-28T08:08:21.741Z"
   },
   {
    "duration": 50,
    "start_time": "2024-09-28T08:08:21.872Z"
   },
   {
    "duration": 45,
    "start_time": "2024-09-28T08:08:21.924Z"
   },
   {
    "duration": 6,
    "start_time": "2024-09-28T08:08:21.970Z"
   },
   {
    "duration": 7,
    "start_time": "2024-09-28T08:08:21.978Z"
   },
   {
    "duration": 5,
    "start_time": "2024-09-28T08:08:21.986Z"
   },
   {
    "duration": 30,
    "start_time": "2024-09-28T08:08:22.016Z"
   },
   {
    "duration": 14,
    "start_time": "2024-09-28T08:08:22.047Z"
   },
   {
    "duration": 15,
    "start_time": "2024-09-28T08:08:22.064Z"
   },
   {
    "duration": 54,
    "start_time": "2024-09-28T08:08:22.081Z"
   },
   {
    "duration": 8,
    "start_time": "2024-09-28T08:08:22.137Z"
   },
   {
    "duration": 491,
    "start_time": "2024-09-28T08:08:22.147Z"
   },
   {
    "duration": 283,
    "start_time": "2024-09-28T08:08:22.640Z"
   },
   {
    "duration": 1043,
    "start_time": "2024-09-28T08:08:22.925Z"
   },
   {
    "duration": 23,
    "start_time": "2024-09-28T08:08:23.970Z"
   },
   {
    "duration": 42,
    "start_time": "2024-09-28T08:08:23.995Z"
   },
   {
    "duration": 30,
    "start_time": "2024-09-28T08:08:24.039Z"
   },
   {
    "duration": 5,
    "start_time": "2024-09-28T08:08:24.070Z"
   },
   {
    "duration": 10,
    "start_time": "2024-09-28T08:08:24.077Z"
   },
   {
    "duration": 9,
    "start_time": "2024-09-28T08:08:24.115Z"
   },
   {
    "duration": 27,
    "start_time": "2024-09-28T08:08:24.125Z"
   },
   {
    "duration": 10,
    "start_time": "2024-09-28T08:08:24.153Z"
   },
   {
    "duration": 5,
    "start_time": "2024-09-28T08:08:24.164Z"
   },
   {
    "duration": 45,
    "start_time": "2024-09-28T08:08:24.171Z"
   },
   {
    "duration": 163,
    "start_time": "2024-09-28T08:08:24.218Z"
   },
   {
    "duration": 8,
    "start_time": "2024-09-28T08:08:24.383Z"
   },
   {
    "duration": 24,
    "start_time": "2024-09-28T08:08:24.394Z"
   },
   {
    "duration": 24,
    "start_time": "2024-09-28T08:08:24.419Z"
   },
   {
    "duration": 10,
    "start_time": "2024-09-28T08:08:24.445Z"
   },
   {
    "duration": 44,
    "start_time": "2024-09-28T08:08:24.457Z"
   },
   {
    "duration": 59,
    "start_time": "2024-09-28T08:08:24.503Z"
   },
   {
    "duration": 0,
    "start_time": "2024-09-28T08:08:24.564Z"
   },
   {
    "duration": 0,
    "start_time": "2024-09-28T08:08:24.565Z"
   },
   {
    "duration": 0,
    "start_time": "2024-09-28T08:08:24.566Z"
   },
   {
    "duration": 1166,
    "start_time": "2024-09-28T08:08:54.782Z"
   },
   {
    "duration": 131,
    "start_time": "2024-09-28T08:08:55.950Z"
   },
   {
    "duration": 44,
    "start_time": "2024-09-28T08:08:56.083Z"
   },
   {
    "duration": 45,
    "start_time": "2024-09-28T08:08:56.129Z"
   },
   {
    "duration": 6,
    "start_time": "2024-09-28T08:08:56.177Z"
   },
   {
    "duration": 31,
    "start_time": "2024-09-28T08:08:56.185Z"
   },
   {
    "duration": 5,
    "start_time": "2024-09-28T08:08:56.218Z"
   },
   {
    "duration": 32,
    "start_time": "2024-09-28T08:08:56.224Z"
   },
   {
    "duration": 77,
    "start_time": "2024-09-28T08:08:56.257Z"
   },
   {
    "duration": 14,
    "start_time": "2024-09-28T08:08:56.335Z"
   },
   {
    "duration": 26,
    "start_time": "2024-09-28T08:08:56.351Z"
   },
   {
    "duration": 8,
    "start_time": "2024-09-28T08:08:56.379Z"
   },
   {
    "duration": 488,
    "start_time": "2024-09-28T08:08:56.388Z"
   },
   {
    "duration": 262,
    "start_time": "2024-09-28T08:08:56.879Z"
   },
   {
    "duration": 1081,
    "start_time": "2024-09-28T08:08:57.143Z"
   },
   {
    "duration": 23,
    "start_time": "2024-09-28T08:08:58.226Z"
   },
   {
    "duration": 27,
    "start_time": "2024-09-28T08:08:58.251Z"
   },
   {
    "duration": 63,
    "start_time": "2024-09-28T08:08:58.280Z"
   },
   {
    "duration": 5,
    "start_time": "2024-09-28T08:08:58.345Z"
   },
   {
    "duration": 12,
    "start_time": "2024-09-28T08:08:58.352Z"
   },
   {
    "duration": 8,
    "start_time": "2024-09-28T08:08:58.366Z"
   },
   {
    "duration": 42,
    "start_time": "2024-09-28T08:08:58.376Z"
   },
   {
    "duration": 10,
    "start_time": "2024-09-28T08:08:58.420Z"
   },
   {
    "duration": 4,
    "start_time": "2024-09-28T08:08:58.432Z"
   },
   {
    "duration": 25,
    "start_time": "2024-09-28T08:08:58.437Z"
   },
   {
    "duration": 181,
    "start_time": "2024-09-28T08:08:58.464Z"
   },
   {
    "duration": 8,
    "start_time": "2024-09-28T08:08:58.647Z"
   },
   {
    "duration": 8,
    "start_time": "2024-09-28T08:08:58.657Z"
   },
   {
    "duration": 24,
    "start_time": "2024-09-28T08:08:58.667Z"
   },
   {
    "duration": 13,
    "start_time": "2024-09-28T08:08:58.715Z"
   },
   {
    "duration": 35,
    "start_time": "2024-09-28T08:08:58.729Z"
   },
   {
    "duration": 50,
    "start_time": "2024-09-28T08:08:58.766Z"
   },
   {
    "duration": 22,
    "start_time": "2024-09-28T08:08:58.818Z"
   },
   {
    "duration": 24,
    "start_time": "2024-09-28T08:08:58.842Z"
   },
   {
    "duration": 14,
    "start_time": "2024-09-28T08:12:04.119Z"
   },
   {
    "duration": 11,
    "start_time": "2024-09-28T08:14:48.522Z"
   },
   {
    "duration": 98,
    "start_time": "2024-09-28T08:42:11.606Z"
   },
   {
    "duration": 6,
    "start_time": "2024-09-28T08:42:25.636Z"
   },
   {
    "duration": 17,
    "start_time": "2024-09-28T08:42:28.446Z"
   },
   {
    "duration": 7,
    "start_time": "2024-09-28T08:45:13.689Z"
   },
   {
    "duration": 28,
    "start_time": "2024-09-28T08:45:17.480Z"
   },
   {
    "duration": 5,
    "start_time": "2024-09-28T08:52:17.998Z"
   },
   {
    "duration": 39,
    "start_time": "2024-09-28T08:53:43.547Z"
   },
   {
    "duration": 51,
    "start_time": "2024-09-28T08:53:53.366Z"
   },
   {
    "duration": 44,
    "start_time": "2024-09-28T08:54:41.984Z"
   },
   {
    "duration": 1223,
    "start_time": "2024-09-28T09:04:49.448Z"
   },
   {
    "duration": 129,
    "start_time": "2024-09-28T09:04:50.672Z"
   },
   {
    "duration": 40,
    "start_time": "2024-09-28T09:04:50.803Z"
   },
   {
    "duration": 44,
    "start_time": "2024-09-28T09:04:50.844Z"
   },
   {
    "duration": 6,
    "start_time": "2024-09-28T09:04:50.890Z"
   },
   {
    "duration": 111,
    "start_time": "2024-09-28T09:04:50.898Z"
   },
   {
    "duration": 11,
    "start_time": "2024-09-28T09:04:51.011Z"
   },
   {
    "duration": 38,
    "start_time": "2024-09-28T09:04:51.023Z"
   },
   {
    "duration": 13,
    "start_time": "2024-09-28T09:04:51.062Z"
   },
   {
    "duration": 23,
    "start_time": "2024-09-28T09:04:51.076Z"
   },
   {
    "duration": 28,
    "start_time": "2024-09-28T09:04:51.101Z"
   },
   {
    "duration": 8,
    "start_time": "2024-09-28T09:04:51.130Z"
   },
   {
    "duration": 481,
    "start_time": "2024-09-28T09:04:51.139Z"
   },
   {
    "duration": 268,
    "start_time": "2024-09-28T09:04:51.623Z"
   },
   {
    "duration": 1123,
    "start_time": "2024-09-28T09:04:51.892Z"
   },
   {
    "duration": 27,
    "start_time": "2024-09-28T09:04:53.017Z"
   },
   {
    "duration": 24,
    "start_time": "2024-09-28T09:04:53.046Z"
   },
   {
    "duration": 53,
    "start_time": "2024-09-28T09:04:53.072Z"
   },
   {
    "duration": 6,
    "start_time": "2024-09-28T09:04:53.127Z"
   },
   {
    "duration": 15,
    "start_time": "2024-09-28T09:04:53.134Z"
   },
   {
    "duration": 12,
    "start_time": "2024-09-28T09:04:53.151Z"
   },
   {
    "duration": 18,
    "start_time": "2024-09-28T09:04:53.165Z"
   },
   {
    "duration": 36,
    "start_time": "2024-09-28T09:04:53.185Z"
   },
   {
    "duration": 6,
    "start_time": "2024-09-28T09:04:53.223Z"
   },
   {
    "duration": 100,
    "start_time": "2024-09-28T09:04:53.231Z"
   },
   {
    "duration": 171,
    "start_time": "2024-09-28T09:04:53.332Z"
   },
   {
    "duration": 11,
    "start_time": "2024-09-28T09:04:53.505Z"
   },
   {
    "duration": 72,
    "start_time": "2024-09-28T09:04:53.518Z"
   },
   {
    "duration": 36,
    "start_time": "2024-09-28T09:04:53.591Z"
   },
   {
    "duration": 9,
    "start_time": "2024-09-28T09:04:53.629Z"
   },
   {
    "duration": 29,
    "start_time": "2024-09-28T09:04:53.640Z"
   },
   {
    "duration": 47,
    "start_time": "2024-09-28T09:04:53.670Z"
   },
   {
    "duration": 21,
    "start_time": "2024-09-28T09:04:53.718Z"
   },
   {
    "duration": 43,
    "start_time": "2024-09-28T09:04:53.740Z"
   },
   {
    "duration": 26,
    "start_time": "2024-09-28T09:04:53.784Z"
   },
   {
    "duration": 24,
    "start_time": "2024-09-28T09:04:53.812Z"
   },
   {
    "duration": 56,
    "start_time": "2024-09-28T09:04:53.837Z"
   },
   {
    "duration": 55,
    "start_time": "2024-09-28T09:04:53.894Z"
   },
   {
    "duration": 50,
    "start_time": "2024-09-28T09:04:53.950Z"
   },
   {
    "duration": 27,
    "start_time": "2024-09-28T09:07:06.734Z"
   },
   {
    "duration": 47,
    "start_time": "2024-09-28T09:10:10.473Z"
   },
   {
    "duration": 50,
    "start_time": "2024-09-28T09:10:35.035Z"
   },
   {
    "duration": 4,
    "start_time": "2024-09-28T09:11:55.268Z"
   },
   {
    "duration": 44,
    "start_time": "2024-09-28T09:12:05.231Z"
   },
   {
    "duration": 17,
    "start_time": "2024-09-28T09:15:21.721Z"
   },
   {
    "duration": 110,
    "start_time": "2024-09-28T10:31:07.141Z"
   },
   {
    "duration": 15,
    "start_time": "2024-09-28T10:31:45.810Z"
   },
   {
    "duration": 13,
    "start_time": "2024-09-28T10:41:16.928Z"
   },
   {
    "duration": 10158,
    "start_time": "2024-09-28T10:42:33.613Z"
   },
   {
    "duration": 13,
    "start_time": "2024-09-28T10:45:20.641Z"
   },
   {
    "duration": 12,
    "start_time": "2024-09-28T10:45:39.085Z"
   },
   {
    "duration": 12,
    "start_time": "2024-09-28T10:45:55.570Z"
   },
   {
    "duration": 161,
    "start_time": "2024-09-28T10:46:04.143Z"
   },
   {
    "duration": 8,
    "start_time": "2024-09-28T10:50:23.871Z"
   },
   {
    "duration": 13,
    "start_time": "2024-09-28T10:50:45.692Z"
   },
   {
    "duration": 12,
    "start_time": "2024-09-28T10:52:11.098Z"
   },
   {
    "duration": 847,
    "start_time": "2024-09-28T10:52:25.421Z"
   },
   {
    "duration": 329,
    "start_time": "2024-09-28T10:52:39.135Z"
   },
   {
    "duration": 180,
    "start_time": "2024-09-28T10:56:25.599Z"
   },
   {
    "duration": 768,
    "start_time": "2024-09-28T11:02:49.166Z"
   },
   {
    "duration": 19,
    "start_time": "2024-09-28T11:03:10.402Z"
   },
   {
    "duration": 809,
    "start_time": "2024-09-28T11:03:42.528Z"
   },
   {
    "duration": 17,
    "start_time": "2024-09-28T11:03:56.281Z"
   },
   {
    "duration": 13,
    "start_time": "2024-09-28T11:04:18.021Z"
   },
   {
    "duration": 13,
    "start_time": "2024-09-28T11:04:41.429Z"
   },
   {
    "duration": 175,
    "start_time": "2024-09-28T11:05:20.009Z"
   },
   {
    "duration": 11,
    "start_time": "2024-09-28T11:06:59.740Z"
   },
   {
    "duration": 14,
    "start_time": "2024-09-28T11:07:09.677Z"
   },
   {
    "duration": 11,
    "start_time": "2024-09-28T11:07:38.645Z"
   },
   {
    "duration": 14,
    "start_time": "2024-09-28T11:08:26.675Z"
   },
   {
    "duration": 170,
    "start_time": "2024-09-28T11:08:39.490Z"
   },
   {
    "duration": 15,
    "start_time": "2024-09-28T11:26:18.329Z"
   },
   {
    "duration": 15,
    "start_time": "2024-09-28T11:27:30.504Z"
   },
   {
    "duration": 15,
    "start_time": "2024-09-28T11:30:36.548Z"
   },
   {
    "duration": 21,
    "start_time": "2024-09-28T11:39:56.924Z"
   },
   {
    "duration": 14,
    "start_time": "2024-09-28T11:41:09.425Z"
   },
   {
    "duration": 16,
    "start_time": "2024-09-28T11:41:35.374Z"
   },
   {
    "duration": 16,
    "start_time": "2024-09-28T11:42:27.388Z"
   },
   {
    "duration": 20,
    "start_time": "2024-09-28T11:48:34.307Z"
   },
   {
    "duration": 20,
    "start_time": "2024-09-28T11:49:02.836Z"
   },
   {
    "duration": 12,
    "start_time": "2024-09-28T11:52:13.673Z"
   },
   {
    "duration": 218,
    "start_time": "2024-09-28T11:53:18.940Z"
   },
   {
    "duration": 214,
    "start_time": "2024-09-28T11:53:49.439Z"
   },
   {
    "duration": 223,
    "start_time": "2024-09-28T11:55:12.317Z"
   },
   {
    "duration": 17,
    "start_time": "2024-09-28T11:56:48.504Z"
   },
   {
    "duration": 51,
    "start_time": "2024-09-28T11:56:55.480Z"
   },
   {
    "duration": 217,
    "start_time": "2024-09-28T11:58:00.718Z"
   },
   {
    "duration": 80,
    "start_time": "2024-09-28T11:59:54.657Z"
   },
   {
    "duration": 12,
    "start_time": "2024-09-28T12:00:09.785Z"
   },
   {
    "duration": 16,
    "start_time": "2024-09-28T12:00:40.139Z"
   },
   {
    "duration": 8,
    "start_time": "2024-09-28T12:01:18.920Z"
   },
   {
    "duration": 6,
    "start_time": "2024-09-28T12:04:55.899Z"
   },
   {
    "duration": 6,
    "start_time": "2024-09-28T12:05:59.450Z"
   },
   {
    "duration": 7,
    "start_time": "2024-09-28T12:06:29.882Z"
   },
   {
    "duration": 11,
    "start_time": "2024-09-28T12:07:15.253Z"
   },
   {
    "duration": 963,
    "start_time": "2024-09-28T12:07:47.472Z"
   },
   {
    "duration": 1108,
    "start_time": "2024-09-28T12:07:55.428Z"
   },
   {
    "duration": 132,
    "start_time": "2024-09-28T12:07:56.538Z"
   },
   {
    "duration": 47,
    "start_time": "2024-09-28T12:07:56.671Z"
   },
   {
    "duration": 51,
    "start_time": "2024-09-28T12:07:56.720Z"
   },
   {
    "duration": 8,
    "start_time": "2024-09-28T12:07:56.773Z"
   },
   {
    "duration": 6,
    "start_time": "2024-09-28T12:07:56.782Z"
   },
   {
    "duration": 27,
    "start_time": "2024-09-28T12:07:56.790Z"
   },
   {
    "duration": 25,
    "start_time": "2024-09-28T12:07:56.819Z"
   },
   {
    "duration": 12,
    "start_time": "2024-09-28T12:07:56.845Z"
   },
   {
    "duration": 14,
    "start_time": "2024-09-28T12:07:56.860Z"
   },
   {
    "duration": 52,
    "start_time": "2024-09-28T12:07:56.875Z"
   },
   {
    "duration": 8,
    "start_time": "2024-09-28T12:07:56.928Z"
   },
   {
    "duration": 509,
    "start_time": "2024-09-28T12:07:56.937Z"
   },
   {
    "duration": 256,
    "start_time": "2024-09-28T12:07:57.447Z"
   },
   {
    "duration": 1053,
    "start_time": "2024-09-28T12:07:57.704Z"
   },
   {
    "duration": 21,
    "start_time": "2024-09-28T12:07:58.759Z"
   },
   {
    "duration": 43,
    "start_time": "2024-09-28T12:07:58.782Z"
   },
   {
    "duration": 27,
    "start_time": "2024-09-28T12:07:58.827Z"
   },
   {
    "duration": 5,
    "start_time": "2024-09-28T12:07:58.855Z"
   },
   {
    "duration": 8,
    "start_time": "2024-09-28T12:07:58.862Z"
   },
   {
    "duration": 18,
    "start_time": "2024-09-28T12:07:58.871Z"
   },
   {
    "duration": 41,
    "start_time": "2024-09-28T12:07:58.891Z"
   },
   {
    "duration": 9,
    "start_time": "2024-09-28T12:07:58.934Z"
   },
   {
    "duration": 4,
    "start_time": "2024-09-28T12:07:58.945Z"
   },
   {
    "duration": 24,
    "start_time": "2024-09-28T12:07:58.951Z"
   },
   {
    "duration": 185,
    "start_time": "2024-09-28T12:07:58.977Z"
   },
   {
    "duration": 9,
    "start_time": "2024-09-28T12:07:59.164Z"
   },
   {
    "duration": 15,
    "start_time": "2024-09-28T12:07:59.176Z"
   },
   {
    "duration": 39,
    "start_time": "2024-09-28T12:07:59.193Z"
   },
   {
    "duration": 5,
    "start_time": "2024-09-28T12:07:59.234Z"
   },
   {
    "duration": 5,
    "start_time": "2024-09-28T12:07:59.241Z"
   },
   {
    "duration": 63,
    "start_time": "2024-09-28T12:07:59.247Z"
   },
   {
    "duration": 37,
    "start_time": "2024-09-28T12:07:59.312Z"
   },
   {
    "duration": 20,
    "start_time": "2024-09-28T12:07:59.351Z"
   },
   {
    "duration": 24,
    "start_time": "2024-09-28T12:07:59.373Z"
   },
   {
    "duration": 22,
    "start_time": "2024-09-28T12:07:59.399Z"
   },
   {
    "duration": 11,
    "start_time": "2024-09-28T12:07:59.422Z"
   },
   {
    "duration": 26,
    "start_time": "2024-09-28T12:07:59.434Z"
   },
   {
    "duration": 63,
    "start_time": "2024-09-28T12:07:59.462Z"
   },
   {
    "duration": 43,
    "start_time": "2024-09-28T12:07:59.526Z"
   },
   {
    "duration": 15,
    "start_time": "2024-09-28T12:07:59.571Z"
   },
   {
    "duration": 35,
    "start_time": "2024-09-28T12:07:59.588Z"
   },
   {
    "duration": 14,
    "start_time": "2024-09-28T12:07:59.625Z"
   },
   {
    "duration": 213,
    "start_time": "2024-09-28T12:07:59.641Z"
   },
   {
    "duration": 5,
    "start_time": "2024-09-28T12:07:59.855Z"
   },
   {
    "duration": 13,
    "start_time": "2024-09-28T12:07:59.861Z"
   },
   {
    "duration": 17,
    "start_time": "2024-09-28T12:07:59.875Z"
   },
   {
    "duration": 10,
    "start_time": "2024-09-28T12:08:47.471Z"
   },
   {
    "duration": 101,
    "start_time": "2024-09-28T12:11:57.821Z"
   },
   {
    "duration": 1192,
    "start_time": "2024-09-28T12:12:05.312Z"
   },
   {
    "duration": 129,
    "start_time": "2024-09-28T12:12:06.505Z"
   },
   {
    "duration": 39,
    "start_time": "2024-09-28T12:12:06.636Z"
   },
   {
    "duration": 60,
    "start_time": "2024-09-28T12:12:06.677Z"
   },
   {
    "duration": 5,
    "start_time": "2024-09-28T12:12:06.739Z"
   },
   {
    "duration": 21,
    "start_time": "2024-09-28T12:12:06.745Z"
   },
   {
    "duration": 23,
    "start_time": "2024-09-28T12:12:06.767Z"
   },
   {
    "duration": 26,
    "start_time": "2024-09-28T12:12:06.792Z"
   },
   {
    "duration": 12,
    "start_time": "2024-09-28T12:12:06.819Z"
   },
   {
    "duration": 26,
    "start_time": "2024-09-28T12:12:06.834Z"
   },
   {
    "duration": 42,
    "start_time": "2024-09-28T12:12:06.861Z"
   },
   {
    "duration": 7,
    "start_time": "2024-09-28T12:12:06.905Z"
   },
   {
    "duration": 500,
    "start_time": "2024-09-28T12:12:06.914Z"
   },
   {
    "duration": 264,
    "start_time": "2024-09-28T12:12:07.415Z"
   },
   {
    "duration": 1062,
    "start_time": "2024-09-28T12:12:07.681Z"
   },
   {
    "duration": 20,
    "start_time": "2024-09-28T12:12:08.745Z"
   },
   {
    "duration": 24,
    "start_time": "2024-09-28T12:12:08.767Z"
   },
   {
    "duration": 48,
    "start_time": "2024-09-28T12:12:08.793Z"
   },
   {
    "duration": 5,
    "start_time": "2024-09-28T12:12:08.843Z"
   },
   {
    "duration": 21,
    "start_time": "2024-09-28T12:12:08.849Z"
   },
   {
    "duration": 13,
    "start_time": "2024-09-28T12:12:08.871Z"
   },
   {
    "duration": 31,
    "start_time": "2024-09-28T12:12:08.885Z"
   },
   {
    "duration": 10,
    "start_time": "2024-09-28T12:12:08.917Z"
   },
   {
    "duration": 4,
    "start_time": "2024-09-28T12:12:08.928Z"
   },
   {
    "duration": 33,
    "start_time": "2024-09-28T12:12:08.933Z"
   },
   {
    "duration": 173,
    "start_time": "2024-09-28T12:12:08.968Z"
   },
   {
    "duration": 9,
    "start_time": "2024-09-28T12:12:09.142Z"
   },
   {
    "duration": 8,
    "start_time": "2024-09-28T12:12:09.154Z"
   },
   {
    "duration": 23,
    "start_time": "2024-09-28T12:12:09.164Z"
   },
   {
    "duration": 30,
    "start_time": "2024-09-28T12:12:09.189Z"
   },
   {
    "duration": 7,
    "start_time": "2024-09-28T12:12:09.221Z"
   },
   {
    "duration": 5,
    "start_time": "2024-09-28T12:12:09.229Z"
   },
   {
    "duration": 27,
    "start_time": "2024-09-28T12:12:09.236Z"
   },
   {
    "duration": 18,
    "start_time": "2024-09-28T12:12:09.265Z"
   },
   {
    "duration": 76,
    "start_time": "2024-09-28T12:12:09.285Z"
   },
   {
    "duration": 13,
    "start_time": "2024-09-28T12:12:09.363Z"
   },
   {
    "duration": 22,
    "start_time": "2024-09-28T12:12:09.378Z"
   },
   {
    "duration": 25,
    "start_time": "2024-09-28T12:12:09.402Z"
   },
   {
    "duration": 46,
    "start_time": "2024-09-28T12:12:09.428Z"
   },
   {
    "duration": 60,
    "start_time": "2024-09-28T12:12:09.475Z"
   },
   {
    "duration": 16,
    "start_time": "2024-09-28T12:12:09.536Z"
   },
   {
    "duration": 14,
    "start_time": "2024-09-28T12:12:09.554Z"
   },
   {
    "duration": 19,
    "start_time": "2024-09-28T12:12:09.569Z"
   },
   {
    "duration": 215,
    "start_time": "2024-09-28T12:12:09.589Z"
   },
   {
    "duration": 12,
    "start_time": "2024-09-28T12:12:09.805Z"
   },
   {
    "duration": 23,
    "start_time": "2024-09-28T12:12:09.819Z"
   },
   {
    "duration": 102,
    "start_time": "2024-09-28T12:12:09.844Z"
   },
   {
    "duration": 18,
    "start_time": "2024-09-28T12:12:30.604Z"
   },
   {
    "duration": 1217,
    "start_time": "2024-09-28T12:12:36.927Z"
   },
   {
    "duration": 127,
    "start_time": "2024-09-28T12:12:38.146Z"
   },
   {
    "duration": 40,
    "start_time": "2024-09-28T12:12:38.275Z"
   },
   {
    "duration": 43,
    "start_time": "2024-09-28T12:12:38.317Z"
   },
   {
    "duration": 6,
    "start_time": "2024-09-28T12:12:38.361Z"
   },
   {
    "duration": 6,
    "start_time": "2024-09-28T12:12:38.368Z"
   },
   {
    "duration": 5,
    "start_time": "2024-09-28T12:12:38.376Z"
   },
   {
    "duration": 54,
    "start_time": "2024-09-28T12:12:38.382Z"
   },
   {
    "duration": 13,
    "start_time": "2024-09-28T12:12:38.437Z"
   },
   {
    "duration": 17,
    "start_time": "2024-09-28T12:12:38.453Z"
   },
   {
    "duration": 49,
    "start_time": "2024-09-28T12:12:38.471Z"
   },
   {
    "duration": 8,
    "start_time": "2024-09-28T12:12:38.521Z"
   },
   {
    "duration": 465,
    "start_time": "2024-09-28T12:12:38.530Z"
   },
   {
    "duration": 246,
    "start_time": "2024-09-28T12:12:38.996Z"
   },
   {
    "duration": 1038,
    "start_time": "2024-09-28T12:12:39.244Z"
   },
   {
    "duration": 31,
    "start_time": "2024-09-28T12:12:40.284Z"
   },
   {
    "duration": 28,
    "start_time": "2024-09-28T12:12:40.317Z"
   },
   {
    "duration": 30,
    "start_time": "2024-09-28T12:12:40.346Z"
   },
   {
    "duration": 5,
    "start_time": "2024-09-28T12:12:40.378Z"
   },
   {
    "duration": 36,
    "start_time": "2024-09-28T12:12:40.385Z"
   },
   {
    "duration": 13,
    "start_time": "2024-09-28T12:12:40.423Z"
   },
   {
    "duration": 19,
    "start_time": "2024-09-28T12:12:40.437Z"
   },
   {
    "duration": 11,
    "start_time": "2024-09-28T12:12:40.457Z"
   },
   {
    "duration": 5,
    "start_time": "2024-09-28T12:12:40.469Z"
   },
   {
    "duration": 49,
    "start_time": "2024-09-28T12:12:40.475Z"
   },
   {
    "duration": 163,
    "start_time": "2024-09-28T12:12:40.525Z"
   },
   {
    "duration": 8,
    "start_time": "2024-09-28T12:12:40.690Z"
   },
   {
    "duration": 10,
    "start_time": "2024-09-28T12:12:40.714Z"
   },
   {
    "duration": 23,
    "start_time": "2024-09-28T12:12:40.725Z"
   },
   {
    "duration": 5,
    "start_time": "2024-09-28T12:12:40.749Z"
   },
   {
    "duration": 11,
    "start_time": "2024-09-28T12:12:40.755Z"
   },
   {
    "duration": 5,
    "start_time": "2024-09-28T12:12:40.768Z"
   },
   {
    "duration": 47,
    "start_time": "2024-09-28T12:12:40.774Z"
   },
   {
    "duration": 20,
    "start_time": "2024-09-28T12:12:40.823Z"
   },
   {
    "duration": 22,
    "start_time": "2024-09-28T12:12:40.844Z"
   },
   {
    "duration": 13,
    "start_time": "2024-09-28T12:12:40.868Z"
   },
   {
    "duration": 34,
    "start_time": "2024-09-28T12:12:40.882Z"
   },
   {
    "duration": 29,
    "start_time": "2024-09-28T12:12:40.918Z"
   },
   {
    "duration": 56,
    "start_time": "2024-09-28T12:12:40.949Z"
   },
   {
    "duration": 41,
    "start_time": "2024-09-28T12:12:41.006Z"
   },
   {
    "duration": 14,
    "start_time": "2024-09-28T12:12:41.048Z"
   },
   {
    "duration": 19,
    "start_time": "2024-09-28T12:12:41.063Z"
   },
   {
    "duration": 32,
    "start_time": "2024-09-28T12:12:41.083Z"
   },
   {
    "duration": 196,
    "start_time": "2024-09-28T12:12:41.117Z"
   },
   {
    "duration": 5,
    "start_time": "2024-09-28T12:12:41.315Z"
   },
   {
    "duration": 36,
    "start_time": "2024-09-28T12:12:41.321Z"
   },
   {
    "duration": 97,
    "start_time": "2024-09-28T12:12:41.358Z"
   },
   {
    "duration": 7,
    "start_time": "2024-09-28T12:13:06.595Z"
   },
   {
    "duration": 11,
    "start_time": "2024-09-28T12:13:41.984Z"
   },
   {
    "duration": 12,
    "start_time": "2024-09-28T12:14:55.076Z"
   },
   {
    "duration": 6,
    "start_time": "2024-09-28T12:15:37.635Z"
   },
   {
    "duration": 15,
    "start_time": "2024-09-28T12:15:51.152Z"
   },
   {
    "duration": 12,
    "start_time": "2024-09-28T12:16:05.560Z"
   },
   {
    "duration": 12,
    "start_time": "2024-09-28T12:16:17.964Z"
   },
   {
    "duration": 14,
    "start_time": "2024-09-28T12:16:46.164Z"
   },
   {
    "duration": 9,
    "start_time": "2024-09-28T12:17:50.826Z"
   },
   {
    "duration": 12,
    "start_time": "2024-09-28T12:18:10.840Z"
   },
   {
    "duration": 10,
    "start_time": "2024-09-28T12:18:25.844Z"
   },
   {
    "duration": 12,
    "start_time": "2024-09-28T12:20:23.844Z"
   },
   {
    "duration": 14,
    "start_time": "2024-09-28T12:25:32.353Z"
   },
   {
    "duration": 61,
    "start_time": "2024-09-28T12:28:35.006Z"
   },
   {
    "duration": 8,
    "start_time": "2024-09-28T12:29:23.535Z"
   },
   {
    "duration": 15,
    "start_time": "2024-09-28T12:29:34.969Z"
   },
   {
    "duration": 21,
    "start_time": "2024-09-28T12:30:49.418Z"
   },
   {
    "duration": 20,
    "start_time": "2024-09-28T12:31:02.764Z"
   },
   {
    "duration": 3,
    "start_time": "2024-09-28T14:16:25.062Z"
   },
   {
    "duration": 3,
    "start_time": "2024-09-28T14:18:07.710Z"
   },
   {
    "duration": 19,
    "start_time": "2024-09-28T14:20:16.408Z"
   },
   {
    "duration": 3,
    "start_time": "2024-09-28T14:21:16.359Z"
   },
   {
    "duration": 92,
    "start_time": "2024-09-28T14:21:23.790Z"
   },
   {
    "duration": 2,
    "start_time": "2024-09-28T14:21:58.159Z"
   },
   {
    "duration": 77,
    "start_time": "2024-09-28T14:22:10.348Z"
   },
   {
    "duration": 1085,
    "start_time": "2024-09-28T14:22:37.744Z"
   },
   {
    "duration": 128,
    "start_time": "2024-09-28T14:22:38.831Z"
   },
   {
    "duration": 42,
    "start_time": "2024-09-28T14:22:38.960Z"
   },
   {
    "duration": 43,
    "start_time": "2024-09-28T14:22:39.015Z"
   },
   {
    "duration": 6,
    "start_time": "2024-09-28T14:22:39.060Z"
   },
   {
    "duration": 5,
    "start_time": "2024-09-28T14:22:39.067Z"
   },
   {
    "duration": 3,
    "start_time": "2024-09-28T14:22:39.074Z"
   },
   {
    "duration": 57,
    "start_time": "2024-09-28T14:22:39.079Z"
   },
   {
    "duration": 13,
    "start_time": "2024-09-28T14:22:39.137Z"
   },
   {
    "duration": 17,
    "start_time": "2024-09-28T14:22:39.152Z"
   },
   {
    "duration": 24,
    "start_time": "2024-09-28T14:22:39.171Z"
   },
   {
    "duration": 8,
    "start_time": "2024-09-28T14:22:39.216Z"
   },
   {
    "duration": 476,
    "start_time": "2024-09-28T14:22:39.225Z"
   },
   {
    "duration": 260,
    "start_time": "2024-09-28T14:22:39.702Z"
   },
   {
    "duration": 1031,
    "start_time": "2024-09-28T14:22:39.963Z"
   },
   {
    "duration": 31,
    "start_time": "2024-09-28T14:22:40.995Z"
   },
   {
    "duration": 24,
    "start_time": "2024-09-28T14:22:41.028Z"
   },
   {
    "duration": 27,
    "start_time": "2024-09-28T14:22:41.054Z"
   },
   {
    "duration": 5,
    "start_time": "2024-09-28T14:22:41.083Z"
   },
   {
    "duration": 9,
    "start_time": "2024-09-28T14:22:41.115Z"
   },
   {
    "duration": 10,
    "start_time": "2024-09-28T14:22:41.125Z"
   },
   {
    "duration": 19,
    "start_time": "2024-09-28T14:22:41.136Z"
   },
   {
    "duration": 10,
    "start_time": "2024-09-28T14:22:41.157Z"
   },
   {
    "duration": 4,
    "start_time": "2024-09-28T14:22:41.170Z"
   },
   {
    "duration": 26,
    "start_time": "2024-09-28T14:22:41.216Z"
   },
   {
    "duration": 173,
    "start_time": "2024-09-28T14:22:41.244Z"
   },
   {
    "duration": 8,
    "start_time": "2024-09-28T14:22:41.419Z"
   },
   {
    "duration": 9,
    "start_time": "2024-09-28T14:22:41.431Z"
   },
   {
    "duration": 26,
    "start_time": "2024-09-28T14:22:41.441Z"
   },
   {
    "duration": 5,
    "start_time": "2024-09-28T14:22:41.468Z"
   },
   {
    "duration": 9,
    "start_time": "2024-09-28T14:22:41.475Z"
   },
   {
    "duration": 31,
    "start_time": "2024-09-28T14:22:41.485Z"
   },
   {
    "duration": 4,
    "start_time": "2024-09-28T14:22:41.518Z"
   },
   {
    "duration": 25,
    "start_time": "2024-09-28T14:22:41.524Z"
   },
   {
    "duration": 21,
    "start_time": "2024-09-28T14:22:41.551Z"
   },
   {
    "duration": 49,
    "start_time": "2024-09-28T14:22:41.573Z"
   },
   {
    "duration": 14,
    "start_time": "2024-09-28T14:22:41.623Z"
   },
   {
    "duration": 10,
    "start_time": "2024-09-28T14:22:41.639Z"
   },
   {
    "duration": 33,
    "start_time": "2024-09-28T14:22:41.650Z"
   },
   {
    "duration": 69,
    "start_time": "2024-09-28T14:22:41.685Z"
   },
   {
    "duration": 46,
    "start_time": "2024-09-28T14:22:41.755Z"
   },
   {
    "duration": 26,
    "start_time": "2024-09-28T14:22:41.803Z"
   },
   {
    "duration": 37,
    "start_time": "2024-09-28T14:22:41.830Z"
   },
   {
    "duration": 18,
    "start_time": "2024-09-28T14:22:41.868Z"
   },
   {
    "duration": 202,
    "start_time": "2024-09-28T14:22:41.888Z"
   },
   {
    "duration": 12,
    "start_time": "2024-09-28T14:22:42.092Z"
   },
   {
    "duration": 15,
    "start_time": "2024-09-28T14:22:42.105Z"
   },
   {
    "duration": 177,
    "start_time": "2024-09-28T14:22:42.121Z"
   },
   {
    "duration": 0,
    "start_time": "2024-09-28T14:22:42.300Z"
   },
   {
    "duration": 17,
    "start_time": "2024-09-28T14:23:50.197Z"
   },
   {
    "duration": 77,
    "start_time": "2024-09-28T14:24:04.120Z"
   },
   {
    "duration": 57,
    "start_time": "2024-09-28T14:33:25.506Z"
   },
   {
    "duration": 15,
    "start_time": "2024-09-28T14:37:50.611Z"
   },
   {
    "duration": 15,
    "start_time": "2024-09-28T14:38:22.349Z"
   },
   {
    "duration": 1169,
    "start_time": "2024-09-28T14:38:28.395Z"
   },
   {
    "duration": 126,
    "start_time": "2024-09-28T14:38:29.566Z"
   },
   {
    "duration": 40,
    "start_time": "2024-09-28T14:38:29.694Z"
   },
   {
    "duration": 42,
    "start_time": "2024-09-28T14:38:29.735Z"
   },
   {
    "duration": 6,
    "start_time": "2024-09-28T14:38:29.779Z"
   },
   {
    "duration": 7,
    "start_time": "2024-09-28T14:38:29.786Z"
   },
   {
    "duration": 22,
    "start_time": "2024-09-28T14:38:29.795Z"
   },
   {
    "duration": 25,
    "start_time": "2024-09-28T14:38:29.819Z"
   },
   {
    "duration": 12,
    "start_time": "2024-09-28T14:38:29.845Z"
   },
   {
    "duration": 92,
    "start_time": "2024-09-28T14:38:29.859Z"
   },
   {
    "duration": 22,
    "start_time": "2024-09-28T14:38:29.953Z"
   },
   {
    "duration": 7,
    "start_time": "2024-09-28T14:38:29.976Z"
   },
   {
    "duration": 479,
    "start_time": "2024-09-28T14:38:29.984Z"
   },
   {
    "duration": 275,
    "start_time": "2024-09-28T14:38:30.466Z"
   },
   {
    "duration": 1049,
    "start_time": "2024-09-28T14:38:30.743Z"
   },
   {
    "duration": 29,
    "start_time": "2024-09-28T14:38:31.794Z"
   },
   {
    "duration": 29,
    "start_time": "2024-09-28T14:38:31.824Z"
   },
   {
    "duration": 83,
    "start_time": "2024-09-28T14:38:31.855Z"
   },
   {
    "duration": 5,
    "start_time": "2024-09-28T14:38:31.940Z"
   },
   {
    "duration": 25,
    "start_time": "2024-09-28T14:38:31.946Z"
   },
   {
    "duration": 14,
    "start_time": "2024-09-28T14:38:31.973Z"
   },
   {
    "duration": 26,
    "start_time": "2024-09-28T14:38:31.989Z"
   },
   {
    "duration": 10,
    "start_time": "2024-09-28T14:38:32.017Z"
   },
   {
    "duration": 17,
    "start_time": "2024-09-28T14:38:32.028Z"
   },
   {
    "duration": 29,
    "start_time": "2024-09-28T14:38:32.047Z"
   },
   {
    "duration": 160,
    "start_time": "2024-09-28T14:38:32.078Z"
   },
   {
    "duration": 9,
    "start_time": "2024-09-28T14:38:32.239Z"
   },
   {
    "duration": 27,
    "start_time": "2024-09-28T14:38:32.249Z"
   },
   {
    "duration": 24,
    "start_time": "2024-09-28T14:38:32.278Z"
   },
   {
    "duration": 13,
    "start_time": "2024-09-28T14:38:32.304Z"
   },
   {
    "duration": 29,
    "start_time": "2024-09-28T14:38:32.319Z"
   },
   {
    "duration": 15,
    "start_time": "2024-09-28T14:38:32.350Z"
   },
   {
    "duration": 5,
    "start_time": "2024-09-28T14:38:32.366Z"
   },
   {
    "duration": 31,
    "start_time": "2024-09-28T14:38:32.373Z"
   },
   {
    "duration": 28,
    "start_time": "2024-09-28T14:38:32.406Z"
   },
   {
    "duration": 31,
    "start_time": "2024-09-28T14:38:32.436Z"
   },
   {
    "duration": 13,
    "start_time": "2024-09-28T14:38:32.469Z"
   },
   {
    "duration": 9,
    "start_time": "2024-09-28T14:38:32.484Z"
   },
   {
    "duration": 148,
    "start_time": "2024-09-28T14:38:32.495Z"
   },
   {
    "duration": 58,
    "start_time": "2024-09-28T14:38:32.646Z"
   },
   {
    "duration": 43,
    "start_time": "2024-09-28T14:38:32.708Z"
   },
   {
    "duration": 14,
    "start_time": "2024-09-28T14:38:32.752Z"
   },
   {
    "duration": 43,
    "start_time": "2024-09-28T14:38:32.768Z"
   },
   {
    "duration": 28,
    "start_time": "2024-09-28T14:38:32.812Z"
   },
   {
    "duration": 225,
    "start_time": "2024-09-28T14:38:32.841Z"
   },
   {
    "duration": 13,
    "start_time": "2024-09-28T14:38:33.068Z"
   },
   {
    "duration": 7,
    "start_time": "2024-09-28T14:38:33.083Z"
   },
   {
    "duration": 72,
    "start_time": "2024-09-28T14:38:33.091Z"
   },
   {
    "duration": 15,
    "start_time": "2024-09-28T14:38:33.165Z"
   },
   {
    "duration": 39,
    "start_time": "2024-09-28T14:38:33.181Z"
   },
   {
    "duration": 913,
    "start_time": "2024-09-28T14:42:18.455Z"
   },
   {
    "duration": 784,
    "start_time": "2024-09-28T14:42:52.160Z"
   },
   {
    "duration": 11,
    "start_time": "2024-09-28T14:43:51.516Z"
   },
   {
    "duration": 17,
    "start_time": "2024-09-28T14:48:42.635Z"
   },
   {
    "duration": 71,
    "start_time": "2024-09-28T14:49:35.566Z"
   },
   {
    "duration": 17,
    "start_time": "2024-09-28T14:49:54.646Z"
   },
   {
    "duration": 24,
    "start_time": "2024-09-28T14:50:32.794Z"
   },
   {
    "duration": 4,
    "start_time": "2024-09-28T14:51:07.864Z"
   },
   {
    "duration": 1210,
    "start_time": "2024-09-28T14:51:28.710Z"
   },
   {
    "duration": 129,
    "start_time": "2024-09-28T14:51:29.921Z"
   },
   {
    "duration": 39,
    "start_time": "2024-09-28T14:51:30.051Z"
   },
   {
    "duration": 62,
    "start_time": "2024-09-28T14:51:30.092Z"
   },
   {
    "duration": 5,
    "start_time": "2024-09-28T14:51:30.156Z"
   },
   {
    "duration": 32,
    "start_time": "2024-09-28T14:51:30.163Z"
   },
   {
    "duration": 24,
    "start_time": "2024-09-28T14:51:30.196Z"
   },
   {
    "duration": 49,
    "start_time": "2024-09-28T14:51:30.221Z"
   },
   {
    "duration": 44,
    "start_time": "2024-09-28T14:51:30.272Z"
   },
   {
    "duration": 19,
    "start_time": "2024-09-28T14:51:30.319Z"
   },
   {
    "duration": 43,
    "start_time": "2024-09-28T14:51:30.339Z"
   },
   {
    "duration": 8,
    "start_time": "2024-09-28T14:51:30.384Z"
   },
   {
    "duration": 460,
    "start_time": "2024-09-28T14:51:30.393Z"
   },
   {
    "duration": 268,
    "start_time": "2024-09-28T14:51:30.854Z"
   },
   {
    "duration": 1029,
    "start_time": "2024-09-28T14:51:31.123Z"
   },
   {
    "duration": 21,
    "start_time": "2024-09-28T14:51:32.153Z"
   },
   {
    "duration": 41,
    "start_time": "2024-09-28T14:51:32.176Z"
   },
   {
    "duration": 27,
    "start_time": "2024-09-28T14:51:32.218Z"
   },
   {
    "duration": 5,
    "start_time": "2024-09-28T14:51:32.246Z"
   },
   {
    "duration": 13,
    "start_time": "2024-09-28T14:51:32.252Z"
   },
   {
    "duration": 16,
    "start_time": "2024-09-28T14:51:32.267Z"
   },
   {
    "duration": 39,
    "start_time": "2024-09-28T14:51:32.285Z"
   },
   {
    "duration": 36,
    "start_time": "2024-09-28T14:51:32.326Z"
   },
   {
    "duration": 5,
    "start_time": "2024-09-28T14:51:32.364Z"
   },
   {
    "duration": 29,
    "start_time": "2024-09-28T14:51:32.371Z"
   },
   {
    "duration": 174,
    "start_time": "2024-09-28T14:51:32.402Z"
   },
   {
    "duration": 10,
    "start_time": "2024-09-28T14:51:32.577Z"
   },
   {
    "duration": 109,
    "start_time": "2024-09-28T14:51:32.590Z"
   },
   {
    "duration": 22,
    "start_time": "2024-09-28T14:51:32.701Z"
   },
   {
    "duration": 5,
    "start_time": "2024-09-28T14:51:32.725Z"
   },
   {
    "duration": 20,
    "start_time": "2024-09-28T14:51:32.731Z"
   },
   {
    "duration": 19,
    "start_time": "2024-09-28T14:51:32.753Z"
   },
   {
    "duration": 13,
    "start_time": "2024-09-28T14:51:32.773Z"
   },
   {
    "duration": 25,
    "start_time": "2024-09-28T14:51:32.788Z"
   },
   {
    "duration": 19,
    "start_time": "2024-09-28T14:51:32.814Z"
   },
   {
    "duration": 23,
    "start_time": "2024-09-28T14:51:32.834Z"
   },
   {
    "duration": 13,
    "start_time": "2024-09-28T14:51:32.859Z"
   },
   {
    "duration": 19,
    "start_time": "2024-09-28T14:51:32.873Z"
   },
   {
    "duration": 49,
    "start_time": "2024-09-28T14:51:32.894Z"
   },
   {
    "duration": 75,
    "start_time": "2024-09-28T14:51:32.945Z"
   },
   {
    "duration": 41,
    "start_time": "2024-09-28T14:51:33.022Z"
   },
   {
    "duration": 30,
    "start_time": "2024-09-28T14:51:33.064Z"
   },
   {
    "duration": 33,
    "start_time": "2024-09-28T14:51:33.095Z"
   },
   {
    "duration": 27,
    "start_time": "2024-09-28T14:51:33.129Z"
   },
   {
    "duration": 183,
    "start_time": "2024-09-28T14:51:33.158Z"
   },
   {
    "duration": 12,
    "start_time": "2024-09-28T14:51:33.342Z"
   },
   {
    "duration": 13,
    "start_time": "2024-09-28T14:51:33.355Z"
   },
   {
    "duration": 80,
    "start_time": "2024-09-28T14:51:33.369Z"
   },
   {
    "duration": 14,
    "start_time": "2024-09-28T14:51:33.450Z"
   },
   {
    "duration": 12,
    "start_time": "2024-09-28T14:51:33.466Z"
   },
   {
    "duration": 895,
    "start_time": "2024-09-28T14:52:42.956Z"
   },
   {
    "duration": 15,
    "start_time": "2024-09-28T14:53:05.268Z"
   },
   {
    "duration": 17,
    "start_time": "2024-09-28T14:57:21.526Z"
   },
   {
    "duration": 14,
    "start_time": "2024-09-28T14:58:53.676Z"
   },
   {
    "duration": 17,
    "start_time": "2024-09-28T15:01:13.676Z"
   },
   {
    "duration": 15,
    "start_time": "2024-09-28T15:01:35.597Z"
   },
   {
    "duration": 284,
    "start_time": "2024-09-28T15:01:59.769Z"
   },
   {
    "duration": 15,
    "start_time": "2024-09-28T15:02:22.074Z"
   },
   {
    "duration": 197,
    "start_time": "2024-09-28T15:02:35.458Z"
   },
   {
    "duration": 1117,
    "start_time": "2024-09-28T15:03:19.064Z"
   },
   {
    "duration": 128,
    "start_time": "2024-09-28T15:03:20.183Z"
   },
   {
    "duration": 42,
    "start_time": "2024-09-28T15:03:20.312Z"
   },
   {
    "duration": 44,
    "start_time": "2024-09-28T15:03:20.356Z"
   },
   {
    "duration": 19,
    "start_time": "2024-09-28T15:03:20.401Z"
   },
   {
    "duration": 16,
    "start_time": "2024-09-28T15:03:20.421Z"
   },
   {
    "duration": 21,
    "start_time": "2024-09-28T15:03:20.439Z"
   },
   {
    "duration": 43,
    "start_time": "2024-09-28T15:03:20.462Z"
   },
   {
    "duration": 27,
    "start_time": "2024-09-28T15:03:20.507Z"
   },
   {
    "duration": 26,
    "start_time": "2024-09-28T15:03:20.536Z"
   },
   {
    "duration": 38,
    "start_time": "2024-09-28T15:03:20.564Z"
   },
   {
    "duration": 13,
    "start_time": "2024-09-28T15:03:20.604Z"
   },
   {
    "duration": 482,
    "start_time": "2024-09-28T15:03:20.618Z"
   },
   {
    "duration": 269,
    "start_time": "2024-09-28T15:03:21.102Z"
   },
   {
    "duration": 1021,
    "start_time": "2024-09-28T15:03:21.372Z"
   },
   {
    "duration": 34,
    "start_time": "2024-09-28T15:03:22.395Z"
   },
   {
    "duration": 26,
    "start_time": "2024-09-28T15:03:22.431Z"
   },
   {
    "duration": 30,
    "start_time": "2024-09-28T15:03:22.458Z"
   },
   {
    "duration": 6,
    "start_time": "2024-09-28T15:03:22.516Z"
   },
   {
    "duration": 16,
    "start_time": "2024-09-28T15:03:22.523Z"
   },
   {
    "duration": 8,
    "start_time": "2024-09-28T15:03:22.540Z"
   },
   {
    "duration": 17,
    "start_time": "2024-09-28T15:03:22.550Z"
   },
   {
    "duration": 9,
    "start_time": "2024-09-28T15:03:22.569Z"
   },
   {
    "duration": 4,
    "start_time": "2024-09-28T15:03:22.579Z"
   },
   {
    "duration": 50,
    "start_time": "2024-09-28T15:03:22.584Z"
   },
   {
    "duration": 160,
    "start_time": "2024-09-28T15:03:22.636Z"
   },
   {
    "duration": 18,
    "start_time": "2024-09-28T15:03:22.798Z"
   },
   {
    "duration": 9,
    "start_time": "2024-09-28T15:03:22.819Z"
   },
   {
    "duration": 29,
    "start_time": "2024-09-28T15:03:22.829Z"
   },
   {
    "duration": 6,
    "start_time": "2024-09-28T15:03:22.859Z"
   },
   {
    "duration": 5,
    "start_time": "2024-09-28T15:03:22.866Z"
   },
   {
    "duration": 4,
    "start_time": "2024-09-28T15:03:22.872Z"
   },
   {
    "duration": 42,
    "start_time": "2024-09-28T15:03:22.878Z"
   },
   {
    "duration": 33,
    "start_time": "2024-09-28T15:03:22.922Z"
   },
   {
    "duration": 21,
    "start_time": "2024-09-28T15:03:22.957Z"
   },
   {
    "duration": 40,
    "start_time": "2024-09-28T15:03:22.980Z"
   },
   {
    "duration": 14,
    "start_time": "2024-09-28T15:03:23.021Z"
   },
   {
    "duration": 10,
    "start_time": "2024-09-28T15:03:23.036Z"
   },
   {
    "duration": 27,
    "start_time": "2024-09-28T15:03:23.047Z"
   },
   {
    "duration": 77,
    "start_time": "2024-09-28T15:03:23.075Z"
   },
   {
    "duration": 45,
    "start_time": "2024-09-28T15:03:23.153Z"
   },
   {
    "duration": 29,
    "start_time": "2024-09-28T15:03:23.200Z"
   },
   {
    "duration": 15,
    "start_time": "2024-09-28T15:03:23.230Z"
   },
   {
    "duration": 13,
    "start_time": "2024-09-28T15:03:23.247Z"
   },
   {
    "duration": 213,
    "start_time": "2024-09-28T15:03:23.261Z"
   },
   {
    "duration": 12,
    "start_time": "2024-09-28T15:03:23.475Z"
   },
   {
    "duration": 7,
    "start_time": "2024-09-28T15:03:23.488Z"
   },
   {
    "duration": 82,
    "start_time": "2024-09-28T15:03:23.496Z"
   },
   {
    "duration": 15,
    "start_time": "2024-09-28T15:03:23.579Z"
   },
   {
    "duration": 35,
    "start_time": "2024-09-28T15:03:23.596Z"
   },
   {
    "duration": 30,
    "start_time": "2024-09-28T15:03:23.632Z"
   },
   {
    "duration": 272,
    "start_time": "2024-09-28T15:03:23.663Z"
   },
   {
    "duration": 184,
    "start_time": "2024-09-28T15:04:51.886Z"
   },
   {
    "duration": 22,
    "start_time": "2024-09-28T15:09:46.196Z"
   },
   {
    "duration": 4,
    "start_time": "2024-09-28T15:13:29.621Z"
   },
   {
    "duration": 145,
    "start_time": "2024-09-28T15:14:17.571Z"
   },
   {
    "duration": 1199,
    "start_time": "2024-09-28T15:14:25.647Z"
   },
   {
    "duration": 130,
    "start_time": "2024-09-28T15:14:26.848Z"
   },
   {
    "duration": 41,
    "start_time": "2024-09-28T15:14:26.980Z"
   },
   {
    "duration": 45,
    "start_time": "2024-09-28T15:14:27.023Z"
   },
   {
    "duration": 6,
    "start_time": "2024-09-28T15:14:27.069Z"
   },
   {
    "duration": 6,
    "start_time": "2024-09-28T15:14:27.077Z"
   },
   {
    "duration": 32,
    "start_time": "2024-09-28T15:14:27.084Z"
   },
   {
    "duration": 27,
    "start_time": "2024-09-28T15:14:27.117Z"
   },
   {
    "duration": 12,
    "start_time": "2024-09-28T15:14:27.146Z"
   },
   {
    "duration": 14,
    "start_time": "2024-09-28T15:14:27.160Z"
   },
   {
    "duration": 49,
    "start_time": "2024-09-28T15:14:27.176Z"
   },
   {
    "duration": 7,
    "start_time": "2024-09-28T15:14:27.227Z"
   },
   {
    "duration": 499,
    "start_time": "2024-09-28T15:14:27.235Z"
   },
   {
    "duration": 252,
    "start_time": "2024-09-28T15:14:27.736Z"
   },
   {
    "duration": 1029,
    "start_time": "2024-09-28T15:14:27.989Z"
   },
   {
    "duration": 20,
    "start_time": "2024-09-28T15:14:29.020Z"
   },
   {
    "duration": 23,
    "start_time": "2024-09-28T15:14:29.042Z"
   },
   {
    "duration": 52,
    "start_time": "2024-09-28T15:14:29.067Z"
   },
   {
    "duration": 5,
    "start_time": "2024-09-28T15:14:29.120Z"
   },
   {
    "duration": 9,
    "start_time": "2024-09-28T15:14:29.126Z"
   },
   {
    "duration": 16,
    "start_time": "2024-09-28T15:14:29.136Z"
   },
   {
    "duration": 26,
    "start_time": "2024-09-28T15:14:29.153Z"
   },
   {
    "duration": 9,
    "start_time": "2024-09-28T15:14:29.181Z"
   },
   {
    "duration": 24,
    "start_time": "2024-09-28T15:14:29.191Z"
   },
   {
    "duration": 25,
    "start_time": "2024-09-28T15:14:29.217Z"
   },
   {
    "duration": 165,
    "start_time": "2024-09-28T15:14:29.244Z"
   },
   {
    "duration": 9,
    "start_time": "2024-09-28T15:14:29.414Z"
   },
   {
    "duration": 8,
    "start_time": "2024-09-28T15:14:29.426Z"
   },
   {
    "duration": 21,
    "start_time": "2024-09-28T15:14:29.436Z"
   },
   {
    "duration": 5,
    "start_time": "2024-09-28T15:14:29.459Z"
   },
   {
    "duration": 4,
    "start_time": "2024-09-28T15:14:29.465Z"
   },
   {
    "duration": 4,
    "start_time": "2024-09-28T15:14:29.471Z"
   },
   {
    "duration": 39,
    "start_time": "2024-09-28T15:14:29.476Z"
   },
   {
    "duration": 25,
    "start_time": "2024-09-28T15:14:29.517Z"
   },
   {
    "duration": 20,
    "start_time": "2024-09-28T15:14:29.543Z"
   },
   {
    "duration": 22,
    "start_time": "2024-09-28T15:14:29.564Z"
   },
   {
    "duration": 39,
    "start_time": "2024-09-28T15:14:29.588Z"
   },
   {
    "duration": 9,
    "start_time": "2024-09-28T15:14:29.628Z"
   },
   {
    "duration": 41,
    "start_time": "2024-09-28T15:14:29.639Z"
   },
   {
    "duration": 50,
    "start_time": "2024-09-28T15:14:29.681Z"
   },
   {
    "duration": 43,
    "start_time": "2024-09-28T15:14:29.732Z"
   },
   {
    "duration": 14,
    "start_time": "2024-09-28T15:14:29.776Z"
   },
   {
    "duration": 29,
    "start_time": "2024-09-28T15:14:29.792Z"
   },
   {
    "duration": 14,
    "start_time": "2024-09-28T15:14:29.823Z"
   },
   {
    "duration": 191,
    "start_time": "2024-09-28T15:14:29.838Z"
   },
   {
    "duration": 11,
    "start_time": "2024-09-28T15:14:30.031Z"
   },
   {
    "duration": 43,
    "start_time": "2024-09-28T15:14:30.044Z"
   },
   {
    "duration": 156,
    "start_time": "2024-09-28T15:14:30.089Z"
   },
   {
    "duration": 17,
    "start_time": "2024-09-28T15:14:30.247Z"
   },
   {
    "duration": 35,
    "start_time": "2024-09-28T15:14:30.265Z"
   },
   {
    "duration": 24,
    "start_time": "2024-09-28T15:14:30.301Z"
   },
   {
    "duration": 281,
    "start_time": "2024-09-28T15:14:30.327Z"
   },
   {
    "duration": 11,
    "start_time": "2024-09-28T15:14:30.609Z"
   },
   {
    "duration": 112,
    "start_time": "2024-09-28T15:14:51.017Z"
   },
   {
    "duration": 11,
    "start_time": "2024-09-28T15:15:45.539Z"
   },
   {
    "duration": 12,
    "start_time": "2024-09-28T15:17:02.074Z"
   },
   {
    "duration": 14,
    "start_time": "2024-09-28T15:17:18.649Z"
   },
   {
    "duration": 6,
    "start_time": "2024-09-28T15:19:33.251Z"
   },
   {
    "duration": 5,
    "start_time": "2024-09-28T15:29:36.509Z"
   },
   {
    "duration": 1411,
    "start_time": "2024-09-29T11:47:08.135Z"
   },
   {
    "duration": 475,
    "start_time": "2024-09-29T11:47:09.549Z"
   },
   {
    "duration": 41,
    "start_time": "2024-09-29T11:47:10.026Z"
   },
   {
    "duration": 43,
    "start_time": "2024-09-29T11:47:10.069Z"
   },
   {
    "duration": 6,
    "start_time": "2024-09-29T11:47:10.126Z"
   },
   {
    "duration": 25,
    "start_time": "2024-09-29T11:47:10.134Z"
   },
   {
    "duration": 4,
    "start_time": "2024-09-29T11:47:10.161Z"
   },
   {
    "duration": 33,
    "start_time": "2024-09-29T11:47:10.166Z"
   },
   {
    "duration": 32,
    "start_time": "2024-09-29T11:47:10.202Z"
   },
   {
    "duration": 15,
    "start_time": "2024-09-29T11:47:10.236Z"
   },
   {
    "duration": 21,
    "start_time": "2024-09-29T11:47:10.253Z"
   },
   {
    "duration": 7,
    "start_time": "2024-09-29T11:47:10.275Z"
   },
   {
    "duration": 495,
    "start_time": "2024-09-29T11:47:10.284Z"
   },
   {
    "duration": 296,
    "start_time": "2024-09-29T11:47:10.782Z"
   },
   {
    "duration": 1069,
    "start_time": "2024-09-29T11:47:11.080Z"
   },
   {
    "duration": 22,
    "start_time": "2024-09-29T11:47:12.150Z"
   },
   {
    "duration": 25,
    "start_time": "2024-09-29T11:47:12.174Z"
   },
   {
    "duration": 51,
    "start_time": "2024-09-29T11:47:12.200Z"
   },
   {
    "duration": 6,
    "start_time": "2024-09-29T11:47:12.253Z"
   },
   {
    "duration": 7,
    "start_time": "2024-09-29T11:47:12.261Z"
   },
   {
    "duration": 12,
    "start_time": "2024-09-29T11:47:12.270Z"
   },
   {
    "duration": 50,
    "start_time": "2024-09-29T11:47:12.284Z"
   },
   {
    "duration": 10,
    "start_time": "2024-09-29T11:47:12.336Z"
   },
   {
    "duration": 5,
    "start_time": "2024-09-29T11:47:12.347Z"
   },
   {
    "duration": 26,
    "start_time": "2024-09-29T11:47:12.353Z"
   },
   {
    "duration": 191,
    "start_time": "2024-09-29T11:47:12.381Z"
   },
   {
    "duration": 9,
    "start_time": "2024-09-29T11:47:12.574Z"
   },
   {
    "duration": 9,
    "start_time": "2024-09-29T11:47:12.584Z"
   },
   {
    "duration": 50,
    "start_time": "2024-09-29T11:47:12.594Z"
   },
   {
    "duration": 5,
    "start_time": "2024-09-29T11:47:12.646Z"
   },
   {
    "duration": 6,
    "start_time": "2024-09-29T11:47:12.652Z"
   },
   {
    "duration": 4,
    "start_time": "2024-09-29T11:47:12.659Z"
   },
   {
    "duration": 23,
    "start_time": "2024-09-29T11:47:12.665Z"
   },
   {
    "duration": 36,
    "start_time": "2024-09-29T11:47:12.690Z"
   },
   {
    "duration": 22,
    "start_time": "2024-09-29T11:47:12.728Z"
   },
   {
    "duration": 23,
    "start_time": "2024-09-29T11:47:12.751Z"
   },
   {
    "duration": 14,
    "start_time": "2024-09-29T11:47:12.776Z"
   },
   {
    "duration": 38,
    "start_time": "2024-09-29T11:47:12.792Z"
   },
   {
    "duration": 29,
    "start_time": "2024-09-29T11:47:12.832Z"
   },
   {
    "duration": 46,
    "start_time": "2024-09-29T11:47:12.863Z"
   },
   {
    "duration": 48,
    "start_time": "2024-09-29T11:47:12.925Z"
   },
   {
    "duration": 16,
    "start_time": "2024-09-29T11:47:12.974Z"
   },
   {
    "duration": 34,
    "start_time": "2024-09-29T11:47:12.992Z"
   },
   {
    "duration": 15,
    "start_time": "2024-09-29T11:47:13.028Z"
   },
   {
    "duration": 205,
    "start_time": "2024-09-29T11:47:13.045Z"
   },
   {
    "duration": 11,
    "start_time": "2024-09-29T11:47:13.251Z"
   },
   {
    "duration": 12,
    "start_time": "2024-09-29T11:47:13.264Z"
   },
   {
    "duration": 259,
    "start_time": "2024-09-29T11:47:13.277Z"
   },
   {
    "duration": 16,
    "start_time": "2024-09-29T11:47:13.538Z"
   },
   {
    "duration": 20,
    "start_time": "2024-09-29T11:47:13.556Z"
   },
   {
    "duration": 15,
    "start_time": "2024-09-29T11:47:13.577Z"
   },
   {
    "duration": 289,
    "start_time": "2024-09-29T11:47:13.593Z"
   },
   {
    "duration": 11,
    "start_time": "2024-09-29T11:47:13.883Z"
   },
   {
    "duration": 903,
    "start_time": "2024-09-29T11:47:13.896Z"
   },
   {
    "duration": 1227,
    "start_time": "2024-09-29T11:48:35.522Z"
   },
   {
    "duration": 131,
    "start_time": "2024-09-29T11:48:36.752Z"
   },
   {
    "duration": 51,
    "start_time": "2024-09-29T11:48:36.885Z"
   },
   {
    "duration": 47,
    "start_time": "2024-09-29T11:48:36.938Z"
   },
   {
    "duration": 6,
    "start_time": "2024-09-29T11:48:36.988Z"
   },
   {
    "duration": 31,
    "start_time": "2024-09-29T11:48:36.996Z"
   },
   {
    "duration": 11,
    "start_time": "2024-09-29T11:48:37.029Z"
   },
   {
    "duration": 27,
    "start_time": "2024-09-29T11:48:37.042Z"
   },
   {
    "duration": 13,
    "start_time": "2024-09-29T11:48:37.071Z"
   },
   {
    "duration": 42,
    "start_time": "2024-09-29T11:48:37.087Z"
   },
   {
    "duration": 23,
    "start_time": "2024-09-29T11:48:37.131Z"
   },
   {
    "duration": 8,
    "start_time": "2024-09-29T11:48:37.156Z"
   },
   {
    "duration": 487,
    "start_time": "2024-09-29T11:48:37.166Z"
   },
   {
    "duration": 263,
    "start_time": "2024-09-29T11:48:37.656Z"
   },
   {
    "duration": 1074,
    "start_time": "2024-09-29T11:48:37.924Z"
   },
   {
    "duration": 35,
    "start_time": "2024-09-29T11:48:39.000Z"
   },
   {
    "duration": 26,
    "start_time": "2024-09-29T11:48:39.036Z"
   },
   {
    "duration": 29,
    "start_time": "2024-09-29T11:48:39.064Z"
   },
   {
    "duration": 31,
    "start_time": "2024-09-29T11:48:39.095Z"
   },
   {
    "duration": 8,
    "start_time": "2024-09-29T11:48:39.128Z"
   },
   {
    "duration": 8,
    "start_time": "2024-09-29T11:48:39.138Z"
   },
   {
    "duration": 17,
    "start_time": "2024-09-29T11:48:39.147Z"
   },
   {
    "duration": 10,
    "start_time": "2024-09-29T11:48:39.166Z"
   },
   {
    "duration": 6,
    "start_time": "2024-09-29T11:48:39.177Z"
   },
   {
    "duration": 26,
    "start_time": "2024-09-29T11:48:39.225Z"
   },
   {
    "duration": 174,
    "start_time": "2024-09-29T11:48:39.253Z"
   },
   {
    "duration": 9,
    "start_time": "2024-09-29T11:48:39.428Z"
   },
   {
    "duration": 8,
    "start_time": "2024-09-29T11:48:39.439Z"
   },
   {
    "duration": 22,
    "start_time": "2024-09-29T11:48:39.449Z"
   },
   {
    "duration": 5,
    "start_time": "2024-09-29T11:48:39.473Z"
   },
   {
    "duration": 5,
    "start_time": "2024-09-29T11:48:39.479Z"
   },
   {
    "duration": 3,
    "start_time": "2024-09-29T11:48:39.486Z"
   },
   {
    "duration": 5,
    "start_time": "2024-09-29T11:48:39.526Z"
   },
   {
    "duration": 33,
    "start_time": "2024-09-29T11:48:39.532Z"
   },
   {
    "duration": 27,
    "start_time": "2024-09-29T11:48:39.566Z"
   },
   {
    "duration": 49,
    "start_time": "2024-09-29T11:48:39.595Z"
   },
   {
    "duration": 15,
    "start_time": "2024-09-29T11:48:39.646Z"
   },
   {
    "duration": 9,
    "start_time": "2024-09-29T11:48:39.663Z"
   },
   {
    "duration": 111,
    "start_time": "2024-09-29T11:48:39.674Z"
   },
   {
    "duration": 49,
    "start_time": "2024-09-29T11:48:39.786Z"
   },
   {
    "duration": 47,
    "start_time": "2024-09-29T11:48:39.839Z"
   },
   {
    "duration": 16,
    "start_time": "2024-09-29T11:48:39.888Z"
   },
   {
    "duration": 15,
    "start_time": "2024-09-29T11:48:39.925Z"
   },
   {
    "duration": 16,
    "start_time": "2024-09-29T11:48:39.942Z"
   },
   {
    "duration": 214,
    "start_time": "2024-09-29T11:48:39.959Z"
   },
   {
    "duration": 15,
    "start_time": "2024-09-29T11:48:40.175Z"
   },
   {
    "duration": 33,
    "start_time": "2024-09-29T11:48:40.192Z"
   },
   {
    "duration": 153,
    "start_time": "2024-09-29T11:48:40.228Z"
   },
   {
    "duration": 16,
    "start_time": "2024-09-29T11:48:40.382Z"
   },
   {
    "duration": 27,
    "start_time": "2024-09-29T11:48:40.400Z"
   },
   {
    "duration": 14,
    "start_time": "2024-09-29T11:48:40.428Z"
   },
   {
    "duration": 286,
    "start_time": "2024-09-29T11:48:40.443Z"
   },
   {
    "duration": 113,
    "start_time": "2024-09-29T11:48:40.731Z"
   },
   {
    "duration": 0,
    "start_time": "2024-09-29T11:48:40.846Z"
   },
   {
    "duration": 11,
    "start_time": "2024-09-29T11:49:19.810Z"
   },
   {
    "duration": 803,
    "start_time": "2024-09-29T11:49:24.867Z"
   },
   {
    "duration": 13,
    "start_time": "2024-09-29T11:49:57.812Z"
   },
   {
    "duration": 807,
    "start_time": "2024-09-29T11:50:32.323Z"
   },
   {
    "duration": 13,
    "start_time": "2024-09-29T11:51:22.199Z"
   },
   {
    "duration": 7,
    "start_time": "2024-09-29T11:51:44.571Z"
   },
   {
    "duration": 18,
    "start_time": "2024-09-29T11:53:22.648Z"
   },
   {
    "duration": 28,
    "start_time": "2024-09-29T12:00:11.067Z"
   },
   {
    "duration": 13,
    "start_time": "2024-09-29T12:00:32.365Z"
   },
   {
    "duration": 11,
    "start_time": "2024-09-29T12:03:13.438Z"
   },
   {
    "duration": 826,
    "start_time": "2024-09-29T12:10:07.651Z"
   },
   {
    "duration": 25,
    "start_time": "2024-09-29T12:10:22.192Z"
   },
   {
    "duration": 26,
    "start_time": "2024-09-29T12:12:15.922Z"
   },
   {
    "duration": 27,
    "start_time": "2024-09-29T12:12:40.477Z"
   },
   {
    "duration": 24,
    "start_time": "2024-09-29T12:13:16.010Z"
   },
   {
    "duration": 23,
    "start_time": "2024-09-29T12:13:50.750Z"
   },
   {
    "duration": 29,
    "start_time": "2024-09-29T12:14:18.424Z"
   },
   {
    "duration": 31,
    "start_time": "2024-09-29T12:14:47.645Z"
   },
   {
    "duration": 15,
    "start_time": "2024-09-29T12:14:57.888Z"
   },
   {
    "duration": 9,
    "start_time": "2024-09-29T12:15:44.282Z"
   },
   {
    "duration": 2,
    "start_time": "2024-09-29T12:16:26.861Z"
   },
   {
    "duration": 6,
    "start_time": "2024-09-29T12:16:33.428Z"
   },
   {
    "duration": 11,
    "start_time": "2024-09-29T12:17:34.202Z"
   },
   {
    "duration": 9,
    "start_time": "2024-09-29T12:17:47.260Z"
   },
   {
    "duration": 10,
    "start_time": "2024-09-29T12:17:59.258Z"
   },
   {
    "duration": 17,
    "start_time": "2024-09-29T12:20:06.802Z"
   },
   {
    "duration": 6,
    "start_time": "2024-09-29T12:20:08.286Z"
   },
   {
    "duration": 56,
    "start_time": "2024-09-29T12:22:21.985Z"
   },
   {
    "duration": 13,
    "start_time": "2024-09-29T12:35:33.315Z"
   },
   {
    "duration": 25,
    "start_time": "2024-09-29T12:36:01.759Z"
   },
   {
    "duration": 14,
    "start_time": "2024-09-29T12:36:58.710Z"
   },
   {
    "duration": 24,
    "start_time": "2024-09-29T12:37:19.397Z"
   },
   {
    "duration": 11,
    "start_time": "2024-09-29T12:42:41.224Z"
   },
   {
    "duration": 12,
    "start_time": "2024-09-29T12:43:02.427Z"
   },
   {
    "duration": 10,
    "start_time": "2024-09-29T12:43:13.624Z"
   },
   {
    "duration": 27,
    "start_time": "2024-09-29T12:43:20.922Z"
   },
   {
    "duration": 29,
    "start_time": "2024-09-29T12:43:32.830Z"
   },
   {
    "duration": 11,
    "start_time": "2024-09-29T12:44:17.837Z"
   },
   {
    "duration": 12,
    "start_time": "2024-09-29T12:44:33.138Z"
   },
   {
    "duration": 12,
    "start_time": "2024-09-29T12:49:02.838Z"
   },
   {
    "duration": 24,
    "start_time": "2024-09-29T12:52:36.010Z"
   },
   {
    "duration": 18,
    "start_time": "2024-09-29T12:53:43.469Z"
   },
   {
    "duration": 13,
    "start_time": "2024-09-29T12:55:03.455Z"
   },
   {
    "duration": 16,
    "start_time": "2024-09-29T12:56:31.239Z"
   },
   {
    "duration": 19,
    "start_time": "2024-09-29T12:57:30.163Z"
   },
   {
    "duration": 17,
    "start_time": "2024-09-29T12:58:08.218Z"
   },
   {
    "duration": 16,
    "start_time": "2024-09-29T12:59:12.330Z"
   },
   {
    "duration": 13,
    "start_time": "2024-09-29T12:59:22.981Z"
   },
   {
    "duration": 14,
    "start_time": "2024-09-29T12:59:30.562Z"
   },
   {
    "duration": 86,
    "start_time": "2024-09-29T12:59:44.174Z"
   },
   {
    "duration": 14,
    "start_time": "2024-09-29T12:59:54.870Z"
   },
   {
    "duration": 17,
    "start_time": "2024-09-29T13:00:09.594Z"
   },
   {
    "duration": 98,
    "start_time": "2024-09-29T13:00:29.564Z"
   },
   {
    "duration": 15,
    "start_time": "2024-09-29T13:00:49.017Z"
   },
   {
    "duration": 13,
    "start_time": "2024-09-29T13:00:59.239Z"
   },
   {
    "duration": 12,
    "start_time": "2024-09-29T13:01:07.214Z"
   },
   {
    "duration": 9,
    "start_time": "2024-09-29T13:01:18.313Z"
   },
   {
    "duration": 12,
    "start_time": "2024-09-29T13:02:30.670Z"
   },
   {
    "duration": 18,
    "start_time": "2024-09-29T13:02:46.538Z"
   },
   {
    "duration": 14,
    "start_time": "2024-09-29T13:03:00.657Z"
   },
   {
    "duration": 16,
    "start_time": "2024-09-29T13:03:19.225Z"
   },
   {
    "duration": 17,
    "start_time": "2024-09-29T13:03:29.302Z"
   },
   {
    "duration": 19,
    "start_time": "2024-09-29T13:03:38.226Z"
   },
   {
    "duration": 15,
    "start_time": "2024-09-29T13:04:07.631Z"
   },
   {
    "duration": 22,
    "start_time": "2024-09-29T13:05:41.560Z"
   },
   {
    "duration": 28,
    "start_time": "2024-09-29T13:06:31.821Z"
   },
   {
    "duration": 32,
    "start_time": "2024-09-29T13:08:16.002Z"
   },
   {
    "duration": 37,
    "start_time": "2024-09-29T13:10:38.488Z"
   },
   {
    "duration": 55,
    "start_time": "2024-09-29T13:12:05.696Z"
   },
   {
    "duration": 35,
    "start_time": "2024-09-29T13:12:16.161Z"
   },
   {
    "duration": 36,
    "start_time": "2024-09-29T13:13:08.773Z"
   },
   {
    "duration": 35,
    "start_time": "2024-09-29T13:13:28.308Z"
   },
   {
    "duration": 33,
    "start_time": "2024-09-29T13:15:17.175Z"
   },
   {
    "duration": 198,
    "start_time": "2024-09-29T13:18:10.444Z"
   },
   {
    "duration": 189,
    "start_time": "2024-09-29T13:18:31.212Z"
   },
   {
    "duration": 193,
    "start_time": "2024-09-29T13:20:23.885Z"
   },
   {
    "duration": 85,
    "start_time": "2024-09-29T17:25:38.049Z"
   },
   {
    "duration": 1475,
    "start_time": "2024-09-29T17:25:51.992Z"
   },
   {
    "duration": 390,
    "start_time": "2024-09-29T17:25:53.469Z"
   },
   {
    "duration": 67,
    "start_time": "2024-09-29T17:25:53.861Z"
   },
   {
    "duration": 47,
    "start_time": "2024-09-29T17:25:53.931Z"
   },
   {
    "duration": 7,
    "start_time": "2024-09-29T17:25:53.980Z"
   },
   {
    "duration": 7,
    "start_time": "2024-09-29T17:25:53.989Z"
   },
   {
    "duration": 4,
    "start_time": "2024-09-29T17:25:54.021Z"
   },
   {
    "duration": 39,
    "start_time": "2024-09-29T17:25:54.027Z"
   },
   {
    "duration": 23,
    "start_time": "2024-09-29T17:25:54.068Z"
   },
   {
    "duration": 25,
    "start_time": "2024-09-29T17:25:54.121Z"
   },
   {
    "duration": 32,
    "start_time": "2024-09-29T17:25:54.148Z"
   },
   {
    "duration": 9,
    "start_time": "2024-09-29T17:25:54.182Z"
   },
   {
    "duration": 533,
    "start_time": "2024-09-29T17:25:54.192Z"
   },
   {
    "duration": 305,
    "start_time": "2024-09-29T17:25:54.727Z"
   },
   {
    "duration": 1308,
    "start_time": "2024-09-29T17:25:55.034Z"
   },
   {
    "duration": 29,
    "start_time": "2024-09-29T17:25:56.345Z"
   },
   {
    "duration": 48,
    "start_time": "2024-09-29T17:25:56.376Z"
   },
   {
    "duration": 37,
    "start_time": "2024-09-29T17:25:56.426Z"
   },
   {
    "duration": 8,
    "start_time": "2024-09-29T17:25:56.465Z"
   },
   {
    "duration": 18,
    "start_time": "2024-09-29T17:25:56.475Z"
   },
   {
    "duration": 10,
    "start_time": "2024-09-29T17:25:56.522Z"
   },
   {
    "duration": 31,
    "start_time": "2024-09-29T17:25:56.536Z"
   },
   {
    "duration": 72,
    "start_time": "2024-09-29T17:25:56.569Z"
   },
   {
    "duration": 9,
    "start_time": "2024-09-29T17:25:56.643Z"
   },
   {
    "duration": 38,
    "start_time": "2024-09-29T17:25:56.655Z"
   },
   {
    "duration": 197,
    "start_time": "2024-09-29T17:25:56.695Z"
   },
   {
    "duration": 9,
    "start_time": "2024-09-29T17:25:56.894Z"
   },
   {
    "duration": 10,
    "start_time": "2024-09-29T17:25:56.920Z"
   },
   {
    "duration": 26,
    "start_time": "2024-09-29T17:25:56.931Z"
   },
   {
    "duration": 6,
    "start_time": "2024-09-29T17:25:56.958Z"
   },
   {
    "duration": 11,
    "start_time": "2024-09-29T17:25:56.966Z"
   },
   {
    "duration": 5,
    "start_time": "2024-09-29T17:25:56.978Z"
   },
   {
    "duration": 39,
    "start_time": "2024-09-29T17:25:56.985Z"
   },
   {
    "duration": 44,
    "start_time": "2024-09-29T17:25:57.025Z"
   },
   {
    "duration": 22,
    "start_time": "2024-09-29T17:25:57.071Z"
   },
   {
    "duration": 30,
    "start_time": "2024-09-29T17:25:57.095Z"
   },
   {
    "duration": 20,
    "start_time": "2024-09-29T17:25:57.127Z"
   },
   {
    "duration": 15,
    "start_time": "2024-09-29T17:25:57.149Z"
   },
   {
    "duration": 68,
    "start_time": "2024-09-29T17:25:57.166Z"
   },
   {
    "duration": 63,
    "start_time": "2024-09-29T17:25:57.236Z"
   },
   {
    "duration": 63,
    "start_time": "2024-09-29T17:25:57.301Z"
   },
   {
    "duration": 17,
    "start_time": "2024-09-29T17:25:57.365Z"
   },
   {
    "duration": 38,
    "start_time": "2024-09-29T17:25:57.384Z"
   },
   {
    "duration": 15,
    "start_time": "2024-09-29T17:25:57.424Z"
   },
   {
    "duration": 209,
    "start_time": "2024-09-29T17:25:57.441Z"
   },
   {
    "duration": 13,
    "start_time": "2024-09-29T17:25:57.652Z"
   },
   {
    "duration": 25,
    "start_time": "2024-09-29T17:25:57.667Z"
   },
   {
    "duration": 229,
    "start_time": "2024-09-29T17:25:57.694Z"
   },
   {
    "duration": 18,
    "start_time": "2024-09-29T17:25:57.925Z"
   },
   {
    "duration": 20,
    "start_time": "2024-09-29T17:25:57.945Z"
   },
   {
    "duration": 51,
    "start_time": "2024-09-29T17:25:57.967Z"
   },
   {
    "duration": 319,
    "start_time": "2024-09-29T17:25:58.019Z"
   },
   {
    "duration": 13,
    "start_time": "2024-09-29T17:25:58.340Z"
   },
   {
    "duration": 9,
    "start_time": "2024-09-29T17:25:58.356Z"
   },
   {
    "duration": 93,
    "start_time": "2024-09-29T17:25:58.367Z"
   },
   {
    "duration": 263,
    "start_time": "2024-09-29T17:25:58.462Z"
   },
   {
    "duration": 18,
    "start_time": "2024-09-29T17:25:58.727Z"
   },
   {
    "duration": 7,
    "start_time": "2024-09-29T17:25:58.746Z"
   },
   {
    "duration": 20,
    "start_time": "2024-09-29T17:29:16.067Z"
   },
   {
    "duration": 18,
    "start_time": "2024-09-29T17:31:56.904Z"
   },
   {
    "duration": 220,
    "start_time": "2024-09-29T17:31:59.925Z"
   },
   {
    "duration": 289,
    "start_time": "2024-09-29T17:32:26.830Z"
   },
   {
    "duration": 24,
    "start_time": "2024-09-29T17:33:43.868Z"
   },
   {
    "duration": 13,
    "start_time": "2024-09-29T17:35:50.150Z"
   },
   {
    "duration": 213,
    "start_time": "2024-09-29T17:35:58.617Z"
   },
   {
    "duration": 26,
    "start_time": "2024-09-29T17:36:58.854Z"
   },
   {
    "duration": 13,
    "start_time": "2024-09-29T17:37:36.294Z"
   },
   {
    "duration": 202,
    "start_time": "2024-09-29T17:38:31.950Z"
   },
   {
    "duration": 189,
    "start_time": "2024-09-29T17:39:07.754Z"
   },
   {
    "duration": 17,
    "start_time": "2024-09-29T17:40:42.969Z"
   },
   {
    "duration": 186,
    "start_time": "2024-09-29T17:41:41.947Z"
   },
   {
    "duration": 209,
    "start_time": "2024-09-29T17:41:57.034Z"
   },
   {
    "duration": 198,
    "start_time": "2024-09-29T18:10:55.534Z"
   },
   {
    "duration": 205,
    "start_time": "2024-09-29T18:11:16.987Z"
   },
   {
    "duration": 176,
    "start_time": "2024-09-29T18:14:21.970Z"
   },
   {
    "duration": 219,
    "start_time": "2024-09-29T18:14:38.144Z"
   },
   {
    "duration": 1242,
    "start_time": "2024-09-29T18:41:25.819Z"
   },
   {
    "duration": 122,
    "start_time": "2024-09-29T18:41:27.063Z"
   },
   {
    "duration": 47,
    "start_time": "2024-09-29T18:41:27.187Z"
   },
   {
    "duration": 46,
    "start_time": "2024-09-29T18:41:27.236Z"
   },
   {
    "duration": 7,
    "start_time": "2024-09-29T18:41:27.283Z"
   },
   {
    "duration": 32,
    "start_time": "2024-09-29T18:41:27.291Z"
   },
   {
    "duration": 6,
    "start_time": "2024-09-29T18:41:27.325Z"
   },
   {
    "duration": 27,
    "start_time": "2024-09-29T18:41:27.332Z"
   },
   {
    "duration": 13,
    "start_time": "2024-09-29T18:41:27.361Z"
   },
   {
    "duration": 44,
    "start_time": "2024-09-29T18:41:27.377Z"
   },
   {
    "duration": 22,
    "start_time": "2024-09-29T18:41:27.423Z"
   },
   {
    "duration": 8,
    "start_time": "2024-09-29T18:41:27.447Z"
   },
   {
    "duration": 493,
    "start_time": "2024-09-29T18:41:27.457Z"
   },
   {
    "duration": 269,
    "start_time": "2024-09-29T18:41:27.952Z"
   },
   {
    "duration": 1102,
    "start_time": "2024-09-29T18:41:28.223Z"
   },
   {
    "duration": 23,
    "start_time": "2024-09-29T18:41:29.328Z"
   },
   {
    "duration": 30,
    "start_time": "2024-09-29T18:41:29.353Z"
   },
   {
    "duration": 63,
    "start_time": "2024-09-29T18:41:29.385Z"
   },
   {
    "duration": 7,
    "start_time": "2024-09-29T18:41:29.450Z"
   },
   {
    "duration": 9,
    "start_time": "2024-09-29T18:41:29.459Z"
   },
   {
    "duration": 10,
    "start_time": "2024-09-29T18:41:29.470Z"
   },
   {
    "duration": 53,
    "start_time": "2024-09-29T18:41:29.482Z"
   },
   {
    "duration": 11,
    "start_time": "2024-09-29T18:41:29.537Z"
   },
   {
    "duration": 5,
    "start_time": "2024-09-29T18:41:29.550Z"
   },
   {
    "duration": 27,
    "start_time": "2024-09-29T18:41:29.557Z"
   },
   {
    "duration": 180,
    "start_time": "2024-09-29T18:41:29.620Z"
   },
   {
    "duration": 8,
    "start_time": "2024-09-29T18:41:29.802Z"
   },
   {
    "duration": 32,
    "start_time": "2024-09-29T18:41:29.823Z"
   },
   {
    "duration": 36,
    "start_time": "2024-09-29T18:41:29.856Z"
   },
   {
    "duration": 5,
    "start_time": "2024-09-29T18:41:29.894Z"
   },
   {
    "duration": 31,
    "start_time": "2024-09-29T18:41:29.900Z"
   },
   {
    "duration": 32,
    "start_time": "2024-09-29T18:41:29.933Z"
   },
   {
    "duration": 5,
    "start_time": "2024-09-29T18:41:29.966Z"
   },
   {
    "duration": 32,
    "start_time": "2024-09-29T18:41:29.972Z"
   },
   {
    "duration": 22,
    "start_time": "2024-09-29T18:41:30.005Z"
   },
   {
    "duration": 77,
    "start_time": "2024-09-29T18:41:30.029Z"
   },
   {
    "duration": 40,
    "start_time": "2024-09-29T18:41:30.107Z"
   },
   {
    "duration": 24,
    "start_time": "2024-09-29T18:41:30.148Z"
   },
   {
    "duration": 53,
    "start_time": "2024-09-29T18:41:30.174Z"
   },
   {
    "duration": 57,
    "start_time": "2024-09-29T18:41:30.229Z"
   },
   {
    "duration": 46,
    "start_time": "2024-09-29T18:41:30.288Z"
   },
   {
    "duration": 16,
    "start_time": "2024-09-29T18:41:30.336Z"
   },
   {
    "duration": 43,
    "start_time": "2024-09-29T18:41:30.354Z"
   },
   {
    "duration": 37,
    "start_time": "2024-09-29T18:41:30.399Z"
   },
   {
    "duration": 192,
    "start_time": "2024-09-29T18:41:30.438Z"
   },
   {
    "duration": 12,
    "start_time": "2024-09-29T18:41:30.631Z"
   },
   {
    "duration": 29,
    "start_time": "2024-09-29T18:41:30.644Z"
   },
   {
    "duration": 167,
    "start_time": "2024-09-29T18:41:30.675Z"
   },
   {
    "duration": 18,
    "start_time": "2024-09-29T18:41:30.844Z"
   },
   {
    "duration": 27,
    "start_time": "2024-09-29T18:41:30.864Z"
   },
   {
    "duration": 29,
    "start_time": "2024-09-29T18:41:30.893Z"
   },
   {
    "duration": 289,
    "start_time": "2024-09-29T18:41:30.924Z"
   },
   {
    "duration": 15,
    "start_time": "2024-09-29T18:41:31.215Z"
   },
   {
    "duration": 25,
    "start_time": "2024-09-29T18:41:31.232Z"
   },
   {
    "duration": 40,
    "start_time": "2024-09-29T18:41:31.259Z"
   },
   {
    "duration": 205,
    "start_time": "2024-09-29T18:41:31.301Z"
   },
   {
    "duration": 22,
    "start_time": "2024-09-29T18:41:31.508Z"
   },
   {
    "duration": 202,
    "start_time": "2024-09-29T18:41:31.531Z"
   },
   {
    "duration": 13,
    "start_time": "2024-09-29T18:41:31.735Z"
   },
   {
    "duration": 214,
    "start_time": "2024-09-29T18:41:31.751Z"
   },
   {
    "duration": 12,
    "start_time": "2024-09-29T18:41:31.967Z"
   },
   {
    "duration": 236,
    "start_time": "2024-09-29T18:41:31.981Z"
   },
   {
    "duration": 19,
    "start_time": "2024-09-29T18:41:32.219Z"
   },
   {
    "duration": 6,
    "start_time": "2024-09-29T18:41:32.240Z"
   },
   {
    "duration": 1435,
    "start_time": "2024-09-30T09:09:22.221Z"
   },
   {
    "duration": 479,
    "start_time": "2024-09-30T09:09:23.659Z"
   },
   {
    "duration": 41,
    "start_time": "2024-09-30T09:09:24.139Z"
   },
   {
    "duration": 52,
    "start_time": "2024-09-30T09:09:24.183Z"
   },
   {
    "duration": 6,
    "start_time": "2024-09-30T09:09:24.237Z"
   },
   {
    "duration": 8,
    "start_time": "2024-09-30T09:09:24.244Z"
   },
   {
    "duration": 21,
    "start_time": "2024-09-30T09:09:24.253Z"
   },
   {
    "duration": 44,
    "start_time": "2024-09-30T09:09:24.276Z"
   },
   {
    "duration": 74,
    "start_time": "2024-09-30T09:09:24.321Z"
   },
   {
    "duration": 17,
    "start_time": "2024-09-30T09:09:24.398Z"
   },
   {
    "duration": 30,
    "start_time": "2024-09-30T09:09:24.416Z"
   },
   {
    "duration": 7,
    "start_time": "2024-09-30T09:09:24.448Z"
   },
   {
    "duration": 483,
    "start_time": "2024-09-30T09:09:24.457Z"
   },
   {
    "duration": 277,
    "start_time": "2024-09-30T09:09:24.942Z"
   },
   {
    "duration": 1049,
    "start_time": "2024-09-30T09:09:25.220Z"
   },
   {
    "duration": 22,
    "start_time": "2024-09-30T09:09:26.270Z"
   },
   {
    "duration": 39,
    "start_time": "2024-09-30T09:09:26.293Z"
   },
   {
    "duration": 77,
    "start_time": "2024-09-30T09:09:26.333Z"
   },
   {
    "duration": 5,
    "start_time": "2024-09-30T09:09:26.412Z"
   },
   {
    "duration": 13,
    "start_time": "2024-09-30T09:09:26.419Z"
   },
   {
    "duration": 14,
    "start_time": "2024-09-30T09:09:26.434Z"
   },
   {
    "duration": 24,
    "start_time": "2024-09-30T09:09:26.449Z"
   },
   {
    "duration": 17,
    "start_time": "2024-09-30T09:09:26.474Z"
   },
   {
    "duration": 10,
    "start_time": "2024-09-30T09:09:26.493Z"
   },
   {
    "duration": 31,
    "start_time": "2024-09-30T09:09:26.504Z"
   },
   {
    "duration": 160,
    "start_time": "2024-09-30T09:09:26.537Z"
   },
   {
    "duration": 17,
    "start_time": "2024-09-30T09:09:26.699Z"
   },
   {
    "duration": 32,
    "start_time": "2024-09-30T09:09:26.720Z"
   },
   {
    "duration": 25,
    "start_time": "2024-09-30T09:09:26.754Z"
   },
   {
    "duration": 5,
    "start_time": "2024-09-30T09:09:26.781Z"
   },
   {
    "duration": 5,
    "start_time": "2024-09-30T09:09:26.787Z"
   },
   {
    "duration": 7,
    "start_time": "2024-09-30T09:09:26.793Z"
   },
   {
    "duration": 15,
    "start_time": "2024-09-30T09:09:26.801Z"
   },
   {
    "duration": 25,
    "start_time": "2024-09-30T09:09:26.818Z"
   },
   {
    "duration": 20,
    "start_time": "2024-09-30T09:09:26.845Z"
   },
   {
    "duration": 89,
    "start_time": "2024-09-30T09:09:26.867Z"
   },
   {
    "duration": 13,
    "start_time": "2024-09-30T09:09:26.957Z"
   },
   {
    "duration": 10,
    "start_time": "2024-09-30T09:09:26.972Z"
   },
   {
    "duration": 30,
    "start_time": "2024-09-30T09:09:26.983Z"
   },
   {
    "duration": 46,
    "start_time": "2024-09-30T09:09:27.014Z"
   },
   {
    "duration": 54,
    "start_time": "2024-09-30T09:09:27.062Z"
   },
   {
    "duration": 17,
    "start_time": "2024-09-30T09:09:27.117Z"
   },
   {
    "duration": 30,
    "start_time": "2024-09-30T09:09:27.135Z"
   },
   {
    "duration": 28,
    "start_time": "2024-09-30T09:09:27.166Z"
   },
   {
    "duration": 222,
    "start_time": "2024-09-30T09:09:27.196Z"
   },
   {
    "duration": 12,
    "start_time": "2024-09-30T09:09:27.419Z"
   },
   {
    "duration": 12,
    "start_time": "2024-09-30T09:09:27.432Z"
   },
   {
    "duration": 161,
    "start_time": "2024-09-30T09:09:27.446Z"
   },
   {
    "duration": 20,
    "start_time": "2024-09-30T09:09:27.608Z"
   },
   {
    "duration": 15,
    "start_time": "2024-09-30T09:09:27.630Z"
   },
   {
    "duration": 13,
    "start_time": "2024-09-30T09:09:27.647Z"
   },
   {
    "duration": 287,
    "start_time": "2024-09-30T09:09:27.661Z"
   },
   {
    "duration": 11,
    "start_time": "2024-09-30T09:09:27.950Z"
   },
   {
    "duration": 9,
    "start_time": "2024-09-30T09:09:27.963Z"
   },
   {
    "duration": 49,
    "start_time": "2024-09-30T09:09:27.973Z"
   },
   {
    "duration": 197,
    "start_time": "2024-09-30T09:09:28.023Z"
   },
   {
    "duration": 12,
    "start_time": "2024-09-30T09:09:28.222Z"
   },
   {
    "duration": 199,
    "start_time": "2024-09-30T09:09:28.236Z"
   },
   {
    "duration": 13,
    "start_time": "2024-09-30T09:09:28.437Z"
   },
   {
    "duration": 200,
    "start_time": "2024-09-30T09:09:28.452Z"
   },
   {
    "duration": 13,
    "start_time": "2024-09-30T09:09:28.654Z"
   },
   {
    "duration": 216,
    "start_time": "2024-09-30T09:09:28.669Z"
   },
   {
    "duration": 28,
    "start_time": "2024-09-30T09:09:28.887Z"
   },
   {
    "duration": 9,
    "start_time": "2024-09-30T09:09:28.917Z"
   },
   {
    "duration": 231,
    "start_time": "2024-09-30T09:11:16.678Z"
   },
   {
    "duration": 390,
    "start_time": "2024-09-30T09:13:54.631Z"
   },
   {
    "duration": 364,
    "start_time": "2024-09-30T09:16:41.188Z"
   },
   {
    "duration": 8,
    "start_time": "2024-09-30T09:18:32.585Z"
   },
   {
    "duration": 7,
    "start_time": "2024-09-30T09:18:43.726Z"
   },
   {
    "duration": 10,
    "start_time": "2024-09-30T09:22:45.260Z"
   },
   {
    "duration": 7,
    "start_time": "2024-09-30T09:23:12.699Z"
   },
   {
    "duration": 7,
    "start_time": "2024-09-30T09:23:18.507Z"
   },
   {
    "duration": 7,
    "start_time": "2024-09-30T09:23:25.479Z"
   },
   {
    "duration": 8,
    "start_time": "2024-09-30T09:23:30.570Z"
   },
   {
    "duration": 18,
    "start_time": "2024-09-30T09:23:51.087Z"
   },
   {
    "duration": 24,
    "start_time": "2024-09-30T09:24:06.141Z"
   },
   {
    "duration": 66,
    "start_time": "2024-09-30T09:24:52.321Z"
   },
   {
    "duration": 57,
    "start_time": "2024-09-30T09:26:51.007Z"
   },
   {
    "duration": 57,
    "start_time": "2024-09-30T09:27:00.904Z"
   },
   {
    "duration": 152,
    "start_time": "2024-09-30T09:27:35.931Z"
   },
   {
    "duration": 60,
    "start_time": "2024-09-30T09:29:12.743Z"
   },
   {
    "duration": 62,
    "start_time": "2024-09-30T09:29:35.909Z"
   },
   {
    "duration": 61,
    "start_time": "2024-09-30T09:32:02.963Z"
   },
   {
    "duration": 62,
    "start_time": "2024-09-30T09:32:16.131Z"
   },
   {
    "duration": 14,
    "start_time": "2024-09-30T09:35:08.491Z"
   },
   {
    "duration": 71,
    "start_time": "2024-09-30T09:35:55.669Z"
   },
   {
    "duration": 70,
    "start_time": "2024-09-30T09:36:47.413Z"
   },
   {
    "duration": 78,
    "start_time": "2024-09-30T09:37:17.755Z"
   },
   {
    "duration": 8,
    "start_time": "2024-09-30T09:37:39.749Z"
   },
   {
    "duration": 19,
    "start_time": "2024-09-30T09:47:44.943Z"
   },
   {
    "duration": 197,
    "start_time": "2024-09-30T09:49:29.138Z"
   },
   {
    "duration": 51,
    "start_time": "2024-09-30T09:50:44.886Z"
   },
   {
    "duration": 398,
    "start_time": "2024-09-30T09:52:01.266Z"
   },
   {
    "duration": 12,
    "start_time": "2024-09-30T09:53:54.702Z"
   },
   {
    "duration": 1283,
    "start_time": "2024-09-30T09:55:15.282Z"
   },
   {
    "duration": 133,
    "start_time": "2024-09-30T09:55:16.567Z"
   },
   {
    "duration": 43,
    "start_time": "2024-09-30T09:55:16.701Z"
   },
   {
    "duration": 47,
    "start_time": "2024-09-30T09:55:16.746Z"
   },
   {
    "duration": 6,
    "start_time": "2024-09-30T09:55:16.815Z"
   },
   {
    "duration": 23,
    "start_time": "2024-09-30T09:55:16.822Z"
   },
   {
    "duration": 14,
    "start_time": "2024-09-30T09:55:16.847Z"
   },
   {
    "duration": 40,
    "start_time": "2024-09-30T09:55:16.862Z"
   },
   {
    "duration": 51,
    "start_time": "2024-09-30T09:55:16.904Z"
   },
   {
    "duration": 28,
    "start_time": "2024-09-30T09:55:16.957Z"
   },
   {
    "duration": 23,
    "start_time": "2024-09-30T09:55:16.987Z"
   },
   {
    "duration": 8,
    "start_time": "2024-09-30T09:55:17.012Z"
   },
   {
    "duration": 522,
    "start_time": "2024-09-30T09:55:17.022Z"
   },
   {
    "duration": 314,
    "start_time": "2024-09-30T09:55:17.548Z"
   },
   {
    "duration": 1097,
    "start_time": "2024-09-30T09:55:17.864Z"
   },
   {
    "duration": 23,
    "start_time": "2024-09-30T09:55:18.963Z"
   },
   {
    "duration": 44,
    "start_time": "2024-09-30T09:55:18.987Z"
   },
   {
    "duration": 27,
    "start_time": "2024-09-30T09:55:19.032Z"
   },
   {
    "duration": 5,
    "start_time": "2024-09-30T09:55:19.061Z"
   },
   {
    "duration": 105,
    "start_time": "2024-09-30T09:55:19.068Z"
   },
   {
    "duration": 12,
    "start_time": "2024-09-30T09:55:19.175Z"
   },
   {
    "duration": 22,
    "start_time": "2024-09-30T09:55:19.189Z"
   },
   {
    "duration": 13,
    "start_time": "2024-09-30T09:55:19.214Z"
   },
   {
    "duration": 5,
    "start_time": "2024-09-30T09:55:19.229Z"
   },
   {
    "duration": 29,
    "start_time": "2024-09-30T09:55:19.236Z"
   },
   {
    "duration": 181,
    "start_time": "2024-09-30T09:55:19.267Z"
   },
   {
    "duration": 18,
    "start_time": "2024-09-30T09:55:19.450Z"
   },
   {
    "duration": 247,
    "start_time": "2024-09-30T09:55:19.470Z"
   },
   {
    "duration": 70,
    "start_time": "2024-09-30T09:55:19.718Z"
   },
   {
    "duration": 7,
    "start_time": "2024-09-30T09:55:19.789Z"
   },
   {
    "duration": 9,
    "start_time": "2024-09-30T09:55:19.815Z"
   },
   {
    "duration": 116,
    "start_time": "2024-09-30T09:55:19.825Z"
   },
   {
    "duration": 5,
    "start_time": "2024-09-30T09:55:19.942Z"
   },
   {
    "duration": 7,
    "start_time": "2024-09-30T09:55:19.949Z"
   },
   {
    "duration": 5,
    "start_time": "2024-09-30T09:55:19.958Z"
   },
   {
    "duration": 6,
    "start_time": "2024-09-30T09:55:19.965Z"
   },
   {
    "duration": 44,
    "start_time": "2024-09-30T09:55:19.973Z"
   },
   {
    "duration": 21,
    "start_time": "2024-09-30T09:55:20.019Z"
   },
   {
    "duration": 41,
    "start_time": "2024-09-30T09:55:20.041Z"
   },
   {
    "duration": 14,
    "start_time": "2024-09-30T09:55:20.084Z"
   },
   {
    "duration": 10,
    "start_time": "2024-09-30T09:55:20.115Z"
   },
   {
    "duration": 47,
    "start_time": "2024-09-30T09:55:20.127Z"
   },
   {
    "duration": 62,
    "start_time": "2024-09-30T09:55:20.175Z"
   },
   {
    "duration": 80,
    "start_time": "2024-09-30T09:55:20.239Z"
   },
   {
    "duration": 19,
    "start_time": "2024-09-30T09:55:20.321Z"
   },
   {
    "duration": 28,
    "start_time": "2024-09-30T09:55:20.341Z"
   },
   {
    "duration": 31,
    "start_time": "2024-09-30T09:55:20.370Z"
   },
   {
    "duration": 202,
    "start_time": "2024-09-30T09:55:20.402Z"
   },
   {
    "duration": 16,
    "start_time": "2024-09-30T09:55:20.605Z"
   },
   {
    "duration": 26,
    "start_time": "2024-09-30T09:55:20.622Z"
   },
   {
    "duration": 171,
    "start_time": "2024-09-30T09:55:20.650Z"
   },
   {
    "duration": 16,
    "start_time": "2024-09-30T09:55:20.822Z"
   },
   {
    "duration": 31,
    "start_time": "2024-09-30T09:55:20.840Z"
   },
   {
    "duration": 19,
    "start_time": "2024-09-30T09:55:20.872Z"
   },
   {
    "duration": 384,
    "start_time": "2024-09-30T09:55:20.892Z"
   },
   {
    "duration": 41,
    "start_time": "2024-09-30T09:55:21.278Z"
   },
   {
    "duration": 6,
    "start_time": "2024-09-30T09:55:21.321Z"
   },
   {
    "duration": 34,
    "start_time": "2024-09-30T09:55:21.329Z"
   },
   {
    "duration": 269,
    "start_time": "2024-09-30T09:55:21.365Z"
   },
   {
    "duration": 13,
    "start_time": "2024-09-30T09:55:21.635Z"
   },
   {
    "duration": 200,
    "start_time": "2024-09-30T09:55:21.650Z"
   },
   {
    "duration": 13,
    "start_time": "2024-09-30T09:55:21.851Z"
   },
   {
    "duration": 201,
    "start_time": "2024-09-30T09:55:21.866Z"
   },
   {
    "duration": 13,
    "start_time": "2024-09-30T09:55:22.069Z"
   },
   {
    "duration": 234,
    "start_time": "2024-09-30T09:55:22.084Z"
   },
   {
    "duration": 19,
    "start_time": "2024-09-30T09:55:22.320Z"
   },
   {
    "duration": 6,
    "start_time": "2024-09-30T09:55:22.341Z"
   },
   {
    "duration": 24,
    "start_time": "2024-09-30T09:56:21.296Z"
   },
   {
    "duration": 18,
    "start_time": "2024-09-30T09:57:47.089Z"
   },
   {
    "duration": 100,
    "start_time": "2024-09-30T09:59:08.448Z"
   },
   {
    "duration": 14,
    "start_time": "2024-09-30T09:59:18.145Z"
   },
   {
    "duration": 17,
    "start_time": "2024-09-30T10:00:32.822Z"
   },
   {
    "duration": 11,
    "start_time": "2024-09-30T10:00:52.059Z"
   },
   {
    "duration": 14,
    "start_time": "2024-09-30T10:01:11.607Z"
   },
   {
    "duration": 12,
    "start_time": "2024-09-30T10:02:39.126Z"
   },
   {
    "duration": 16,
    "start_time": "2024-09-30T10:02:47.672Z"
   },
   {
    "duration": 11,
    "start_time": "2024-09-30T10:02:54.034Z"
   },
   {
    "duration": 12,
    "start_time": "2024-09-30T10:03:04.566Z"
   },
   {
    "duration": 16,
    "start_time": "2024-09-30T10:04:23.108Z"
   },
   {
    "duration": 14,
    "start_time": "2024-09-30T10:04:35.714Z"
   },
   {
    "duration": 16,
    "start_time": "2024-09-30T10:05:01.887Z"
   },
   {
    "duration": 18,
    "start_time": "2024-09-30T10:05:15.469Z"
   },
   {
    "duration": 2112,
    "start_time": "2024-09-30T10:06:11.787Z"
   },
   {
    "duration": 507,
    "start_time": "2024-09-30T10:07:52.558Z"
   },
   {
    "duration": 442,
    "start_time": "2024-09-30T10:09:45.983Z"
   },
   {
    "duration": 21,
    "start_time": "2024-09-30T10:16:53.993Z"
   },
   {
    "duration": 8,
    "start_time": "2024-09-30T10:21:24.092Z"
   },
   {
    "duration": 7,
    "start_time": "2024-09-30T10:21:41.340Z"
   },
   {
    "duration": 17,
    "start_time": "2024-09-30T10:53:16.787Z"
   },
   {
    "duration": 215,
    "start_time": "2024-09-30T10:54:04.694Z"
   },
   {
    "duration": 189,
    "start_time": "2024-09-30T10:55:08.467Z"
   },
   {
    "duration": 13,
    "start_time": "2024-09-30T10:57:04.144Z"
   },
   {
    "duration": 175,
    "start_time": "2024-09-30T11:00:47.967Z"
   },
   {
    "duration": 125,
    "start_time": "2024-09-30T11:01:03.514Z"
   },
   {
    "duration": 177,
    "start_time": "2024-09-30T11:02:02.022Z"
   },
   {
    "duration": 202,
    "start_time": "2024-09-30T11:02:32.380Z"
   },
   {
    "duration": 314,
    "start_time": "2024-09-30T11:02:41.461Z"
   },
   {
    "duration": 182,
    "start_time": "2024-09-30T11:03:57.243Z"
   },
   {
    "duration": 204,
    "start_time": "2024-09-30T11:04:23.436Z"
   },
   {
    "duration": 282,
    "start_time": "2024-09-30T11:04:44.595Z"
   },
   {
    "duration": 287,
    "start_time": "2024-09-30T11:05:13.120Z"
   },
   {
    "duration": 129,
    "start_time": "2024-09-30T11:06:20.952Z"
   },
   {
    "duration": 121,
    "start_time": "2024-09-30T11:06:37.771Z"
   },
   {
    "duration": 19,
    "start_time": "2024-09-30T11:08:06.705Z"
   },
   {
    "duration": 17,
    "start_time": "2024-09-30T11:08:16.862Z"
   },
   {
    "duration": 18,
    "start_time": "2024-09-30T11:08:24.482Z"
   },
   {
    "duration": 208,
    "start_time": "2024-09-30T11:08:42.932Z"
   },
   {
    "duration": 178,
    "start_time": "2024-09-30T11:08:52.354Z"
   },
   {
    "duration": 319,
    "start_time": "2024-09-30T11:10:23.057Z"
   },
   {
    "duration": 239,
    "start_time": "2024-09-30T11:10:54.442Z"
   },
   {
    "duration": 18,
    "start_time": "2024-09-30T11:11:23.713Z"
   },
   {
    "duration": 158,
    "start_time": "2024-09-30T11:12:58.694Z"
   },
   {
    "duration": 9,
    "start_time": "2024-09-30T11:14:55.669Z"
   },
   {
    "duration": 8,
    "start_time": "2024-09-30T11:15:03.550Z"
   },
   {
    "duration": 20,
    "start_time": "2024-09-30T11:15:16.003Z"
   },
   {
    "duration": 19,
    "start_time": "2024-09-30T11:15:39.758Z"
   },
   {
    "duration": 30,
    "start_time": "2024-09-30T11:25:27.624Z"
   },
   {
    "duration": 26,
    "start_time": "2024-09-30T11:25:32.417Z"
   },
   {
    "duration": 35,
    "start_time": "2024-09-30T11:32:26.404Z"
   },
   {
    "duration": 1414,
    "start_time": "2024-09-30T14:01:33.728Z"
   },
   {
    "duration": 476,
    "start_time": "2024-09-30T14:01:35.144Z"
   },
   {
    "duration": 40,
    "start_time": "2024-09-30T14:01:35.622Z"
   },
   {
    "duration": 141,
    "start_time": "2024-09-30T14:01:35.664Z"
   },
   {
    "duration": 6,
    "start_time": "2024-09-30T14:01:35.808Z"
   },
   {
    "duration": 31,
    "start_time": "2024-09-30T14:01:35.815Z"
   },
   {
    "duration": 25,
    "start_time": "2024-09-30T14:01:35.848Z"
   },
   {
    "duration": 29,
    "start_time": "2024-09-30T14:01:35.874Z"
   },
   {
    "duration": 13,
    "start_time": "2024-09-30T14:01:35.905Z"
   },
   {
    "duration": 46,
    "start_time": "2024-09-30T14:01:35.919Z"
   },
   {
    "duration": 36,
    "start_time": "2024-09-30T14:01:35.967Z"
   },
   {
    "duration": 8,
    "start_time": "2024-09-30T14:01:36.004Z"
   },
   {
    "duration": 515,
    "start_time": "2024-09-30T14:01:36.013Z"
   },
   {
    "duration": 251,
    "start_time": "2024-09-30T14:01:36.531Z"
   },
   {
    "duration": 1083,
    "start_time": "2024-09-30T14:01:36.784Z"
   },
   {
    "duration": 22,
    "start_time": "2024-09-30T14:01:37.869Z"
   },
   {
    "duration": 46,
    "start_time": "2024-09-30T14:01:37.893Z"
   },
   {
    "duration": 31,
    "start_time": "2024-09-30T14:01:37.940Z"
   },
   {
    "duration": 6,
    "start_time": "2024-09-30T14:01:37.972Z"
   },
   {
    "duration": 10,
    "start_time": "2024-09-30T14:01:37.979Z"
   },
   {
    "duration": 8,
    "start_time": "2024-09-30T14:01:38.015Z"
   },
   {
    "duration": 95,
    "start_time": "2024-09-30T14:01:38.025Z"
   },
   {
    "duration": 22,
    "start_time": "2024-09-30T14:01:38.122Z"
   },
   {
    "duration": 5,
    "start_time": "2024-09-30T14:01:38.145Z"
   },
   {
    "duration": 41,
    "start_time": "2024-09-30T14:01:38.151Z"
   },
   {
    "duration": 175,
    "start_time": "2024-09-30T14:01:38.193Z"
   },
   {
    "duration": 18,
    "start_time": "2024-09-30T14:01:38.370Z"
   },
   {
    "duration": 259,
    "start_time": "2024-09-30T14:01:38.390Z"
   },
   {
    "duration": 9,
    "start_time": "2024-09-30T14:01:38.651Z"
   },
   {
    "duration": 21,
    "start_time": "2024-09-30T14:01:38.662Z"
   },
   {
    "duration": 137,
    "start_time": "2024-09-30T14:01:38.685Z"
   },
   {
    "duration": 5,
    "start_time": "2024-09-30T14:01:38.824Z"
   },
   {
    "duration": 12,
    "start_time": "2024-09-30T14:01:38.831Z"
   },
   {
    "duration": 8,
    "start_time": "2024-09-30T14:01:38.844Z"
   },
   {
    "duration": 11,
    "start_time": "2024-09-30T14:01:38.854Z"
   },
   {
    "duration": 30,
    "start_time": "2024-09-30T14:01:38.866Z"
   },
   {
    "duration": 31,
    "start_time": "2024-09-30T14:01:38.898Z"
   },
   {
    "duration": 73,
    "start_time": "2024-09-30T14:01:38.930Z"
   },
   {
    "duration": 50,
    "start_time": "2024-09-30T14:01:39.004Z"
   },
   {
    "duration": 52,
    "start_time": "2024-09-30T14:01:39.056Z"
   },
   {
    "duration": 36,
    "start_time": "2024-09-30T14:01:39.112Z"
   },
   {
    "duration": 47,
    "start_time": "2024-09-30T14:01:39.149Z"
   },
   {
    "duration": 53,
    "start_time": "2024-09-30T14:01:39.197Z"
   },
   {
    "duration": 16,
    "start_time": "2024-09-30T14:01:39.251Z"
   },
   {
    "duration": 17,
    "start_time": "2024-09-30T14:01:39.268Z"
   },
   {
    "duration": 36,
    "start_time": "2024-09-30T14:01:39.287Z"
   },
   {
    "duration": 191,
    "start_time": "2024-09-30T14:01:39.324Z"
   },
   {
    "duration": 11,
    "start_time": "2024-09-30T14:01:39.517Z"
   },
   {
    "duration": 7,
    "start_time": "2024-09-30T14:01:39.530Z"
   },
   {
    "duration": 163,
    "start_time": "2024-09-30T14:01:39.538Z"
   },
   {
    "duration": 21,
    "start_time": "2024-09-30T14:01:39.703Z"
   },
   {
    "duration": 44,
    "start_time": "2024-09-30T14:01:39.726Z"
   },
   {
    "duration": 14,
    "start_time": "2024-09-30T14:01:39.771Z"
   },
   {
    "duration": 202,
    "start_time": "2024-09-30T14:01:39.787Z"
   },
   {
    "duration": 13,
    "start_time": "2024-09-30T14:01:39.990Z"
   },
   {
    "duration": 85,
    "start_time": "2024-09-30T14:01:40.016Z"
   },
   {
    "duration": 42,
    "start_time": "2024-09-30T14:01:40.103Z"
   },
   {
    "duration": 205,
    "start_time": "2024-09-30T14:01:40.147Z"
   },
   {
    "duration": 13,
    "start_time": "2024-09-30T14:01:40.354Z"
   },
   {
    "duration": 233,
    "start_time": "2024-09-30T14:01:40.369Z"
   },
   {
    "duration": 19,
    "start_time": "2024-09-30T14:01:40.604Z"
   },
   {
    "duration": 211,
    "start_time": "2024-09-30T14:01:40.625Z"
   },
   {
    "duration": 11,
    "start_time": "2024-09-30T14:01:40.838Z"
   },
   {
    "duration": 206,
    "start_time": "2024-09-30T14:01:40.851Z"
   },
   {
    "duration": 18,
    "start_time": "2024-09-30T14:01:41.058Z"
   },
   {
    "duration": 6,
    "start_time": "2024-09-30T14:01:41.077Z"
   },
   {
    "duration": 38,
    "start_time": "2024-09-30T14:02:29.820Z"
   },
   {
    "duration": 21,
    "start_time": "2024-09-30T14:02:58.824Z"
   },
   {
    "duration": 19,
    "start_time": "2024-09-30T14:03:38.306Z"
   },
   {
    "duration": 124,
    "start_time": "2024-09-30T14:04:02.884Z"
   },
   {
    "duration": 21,
    "start_time": "2024-09-30T14:04:45.760Z"
   },
   {
    "duration": 28,
    "start_time": "2024-09-30T14:05:25.440Z"
   },
   {
    "duration": 28,
    "start_time": "2024-09-30T14:08:12.960Z"
   },
   {
    "duration": 17,
    "start_time": "2024-09-30T14:17:04.439Z"
   },
   {
    "duration": 20,
    "start_time": "2024-09-30T14:17:41.367Z"
   },
   {
    "duration": 27,
    "start_time": "2024-09-30T14:20:44.024Z"
   },
   {
    "duration": 20,
    "start_time": "2024-09-30T14:21:08.936Z"
   },
   {
    "duration": 20,
    "start_time": "2024-09-30T14:21:46.128Z"
   },
   {
    "duration": 23,
    "start_time": "2024-09-30T14:22:56.045Z"
   },
   {
    "duration": 26,
    "start_time": "2024-09-30T14:23:40.959Z"
   },
   {
    "duration": 31,
    "start_time": "2024-09-30T14:26:50.439Z"
   },
   {
    "duration": 24,
    "start_time": "2024-09-30T14:28:31.035Z"
   },
   {
    "duration": 45,
    "start_time": "2024-09-30T19:59:50.472Z"
   },
   {
    "duration": 1236,
    "start_time": "2024-09-30T19:59:56.307Z"
   },
   {
    "duration": 419,
    "start_time": "2024-09-30T19:59:57.545Z"
   },
   {
    "duration": 37,
    "start_time": "2024-09-30T19:59:57.965Z"
   },
   {
    "duration": 56,
    "start_time": "2024-09-30T19:59:58.003Z"
   },
   {
    "duration": 16,
    "start_time": "2024-09-30T19:59:58.060Z"
   },
   {
    "duration": 5,
    "start_time": "2024-09-30T19:59:58.077Z"
   },
   {
    "duration": 5,
    "start_time": "2024-09-30T19:59:58.084Z"
   },
   {
    "duration": 30,
    "start_time": "2024-09-30T19:59:58.090Z"
   },
   {
    "duration": 12,
    "start_time": "2024-09-30T19:59:58.121Z"
   },
   {
    "duration": 25,
    "start_time": "2024-09-30T19:59:58.135Z"
   },
   {
    "duration": 20,
    "start_time": "2024-09-30T19:59:58.162Z"
   },
   {
    "duration": 7,
    "start_time": "2024-09-30T19:59:58.183Z"
   },
   {
    "duration": 438,
    "start_time": "2024-09-30T19:59:58.191Z"
   },
   {
    "duration": 232,
    "start_time": "2024-09-30T19:59:58.630Z"
   },
   {
    "duration": 948,
    "start_time": "2024-09-30T19:59:58.863Z"
   },
   {
    "duration": 20,
    "start_time": "2024-09-30T19:59:59.814Z"
   },
   {
    "duration": 36,
    "start_time": "2024-09-30T19:59:59.836Z"
   },
   {
    "duration": 67,
    "start_time": "2024-09-30T19:59:59.874Z"
   },
   {
    "duration": 5,
    "start_time": "2024-09-30T19:59:59.943Z"
   },
   {
    "duration": 17,
    "start_time": "2024-09-30T19:59:59.949Z"
   },
   {
    "duration": 9,
    "start_time": "2024-09-30T19:59:59.967Z"
   },
   {
    "duration": 16,
    "start_time": "2024-09-30T19:59:59.977Z"
   },
   {
    "duration": 68,
    "start_time": "2024-09-30T19:59:59.996Z"
   },
   {
    "duration": 61,
    "start_time": "2024-09-30T20:00:00.066Z"
   },
   {
    "duration": 47,
    "start_time": "2024-09-30T20:00:00.129Z"
   },
   {
    "duration": 142,
    "start_time": "2024-09-30T20:00:00.177Z"
   },
   {
    "duration": 16,
    "start_time": "2024-09-30T20:00:00.321Z"
   },
   {
    "duration": 286,
    "start_time": "2024-09-30T20:00:00.340Z"
   },
   {
    "duration": 35,
    "start_time": "2024-09-30T20:00:00.627Z"
   },
   {
    "duration": 7,
    "start_time": "2024-09-30T20:00:00.664Z"
   },
   {
    "duration": 13,
    "start_time": "2024-09-30T20:00:00.672Z"
   },
   {
    "duration": 42,
    "start_time": "2024-09-30T20:00:00.687Z"
   },
   {
    "duration": 5,
    "start_time": "2024-09-30T20:00:00.730Z"
   },
   {
    "duration": 16,
    "start_time": "2024-09-30T20:00:00.737Z"
   },
   {
    "duration": 15,
    "start_time": "2024-09-30T20:00:00.755Z"
   },
   {
    "duration": 7,
    "start_time": "2024-09-30T20:00:00.771Z"
   },
   {
    "duration": 32,
    "start_time": "2024-09-30T20:00:00.780Z"
   },
   {
    "duration": 18,
    "start_time": "2024-09-30T20:00:00.813Z"
   },
   {
    "duration": 23,
    "start_time": "2024-09-30T20:00:00.833Z"
   },
   {
    "duration": 12,
    "start_time": "2024-09-30T20:00:00.857Z"
   },
   {
    "duration": 9,
    "start_time": "2024-09-30T20:00:00.870Z"
   },
   {
    "duration": 44,
    "start_time": "2024-09-30T20:00:00.880Z"
   },
   {
    "duration": 41,
    "start_time": "2024-09-30T20:00:00.925Z"
   },
   {
    "duration": 37,
    "start_time": "2024-09-30T20:00:00.967Z"
   },
   {
    "duration": 80,
    "start_time": "2024-09-30T20:00:01.005Z"
   },
   {
    "duration": 30,
    "start_time": "2024-09-30T20:00:01.086Z"
   },
   {
    "duration": 17,
    "start_time": "2024-09-30T20:00:01.118Z"
   },
   {
    "duration": 172,
    "start_time": "2024-09-30T20:00:01.136Z"
   },
   {
    "duration": 10,
    "start_time": "2024-09-30T20:00:01.310Z"
   },
   {
    "duration": 37,
    "start_time": "2024-09-30T20:00:01.322Z"
   },
   {
    "duration": 122,
    "start_time": "2024-09-30T20:00:01.360Z"
   },
   {
    "duration": 15,
    "start_time": "2024-09-30T20:00:01.483Z"
   },
   {
    "duration": 26,
    "start_time": "2024-09-30T20:00:01.500Z"
   },
   {
    "duration": 12,
    "start_time": "2024-09-30T20:00:01.528Z"
   },
   {
    "duration": 178,
    "start_time": "2024-09-30T20:00:01.541Z"
   },
   {
    "duration": 11,
    "start_time": "2024-09-30T20:00:01.721Z"
   },
   {
    "duration": 23,
    "start_time": "2024-09-30T20:00:01.734Z"
   },
   {
    "duration": 29,
    "start_time": "2024-09-30T20:00:01.758Z"
   },
   {
    "duration": 181,
    "start_time": "2024-09-30T20:00:01.789Z"
   },
   {
    "duration": 11,
    "start_time": "2024-09-30T20:00:01.971Z"
   },
   {
    "duration": 244,
    "start_time": "2024-09-30T20:00:01.983Z"
   },
   {
    "duration": 11,
    "start_time": "2024-09-30T20:00:02.229Z"
   },
   {
    "duration": 182,
    "start_time": "2024-09-30T20:00:02.242Z"
   },
   {
    "duration": 11,
    "start_time": "2024-09-30T20:00:02.425Z"
   },
   {
    "duration": 309,
    "start_time": "2024-09-30T20:00:02.437Z"
   },
   {
    "duration": 16,
    "start_time": "2024-09-30T20:00:02.751Z"
   },
   {
    "duration": 5,
    "start_time": "2024-09-30T20:00:02.769Z"
   },
   {
    "duration": 96,
    "start_time": "2024-09-30T20:01:19.833Z"
   },
   {
    "duration": 7,
    "start_time": "2024-09-30T20:01:27.337Z"
   },
   {
    "duration": 50,
    "start_time": "2024-09-30T20:01:52.192Z"
   },
   {
    "duration": 8,
    "start_time": "2024-09-30T20:02:12.791Z"
   },
   {
    "duration": 7,
    "start_time": "2024-09-30T20:02:37.303Z"
   },
   {
    "duration": 1096,
    "start_time": "2024-09-30T20:27:53.758Z"
   },
   {
    "duration": 115,
    "start_time": "2024-09-30T20:27:54.856Z"
   },
   {
    "duration": 36,
    "start_time": "2024-09-30T20:27:54.972Z"
   },
   {
    "duration": 53,
    "start_time": "2024-09-30T20:27:55.010Z"
   },
   {
    "duration": 6,
    "start_time": "2024-09-30T20:27:55.064Z"
   },
   {
    "duration": 6,
    "start_time": "2024-09-30T20:27:55.071Z"
   },
   {
    "duration": 5,
    "start_time": "2024-09-30T20:27:55.078Z"
   },
   {
    "duration": 26,
    "start_time": "2024-09-30T20:27:55.084Z"
   },
   {
    "duration": 50,
    "start_time": "2024-09-30T20:27:55.112Z"
   },
   {
    "duration": 14,
    "start_time": "2024-09-30T20:27:55.165Z"
   },
   {
    "duration": 20,
    "start_time": "2024-09-30T20:27:55.180Z"
   },
   {
    "duration": 8,
    "start_time": "2024-09-30T20:27:55.202Z"
   },
   {
    "duration": 442,
    "start_time": "2024-09-30T20:27:55.211Z"
   },
   {
    "duration": 250,
    "start_time": "2024-09-30T20:27:55.655Z"
   },
   {
    "duration": 952,
    "start_time": "2024-09-30T20:27:55.907Z"
   },
   {
    "duration": 20,
    "start_time": "2024-09-30T20:27:56.861Z"
   },
   {
    "duration": 24,
    "start_time": "2024-09-30T20:27:56.883Z"
   },
   {
    "duration": 48,
    "start_time": "2024-09-30T20:27:56.908Z"
   },
   {
    "duration": 5,
    "start_time": "2024-09-30T20:27:56.958Z"
   },
   {
    "duration": 8,
    "start_time": "2024-09-30T20:27:56.964Z"
   },
   {
    "duration": 8,
    "start_time": "2024-09-30T20:27:56.973Z"
   },
   {
    "duration": 16,
    "start_time": "2024-09-30T20:27:56.982Z"
   },
   {
    "duration": 10,
    "start_time": "2024-09-30T20:27:56.999Z"
   },
   {
    "duration": 44,
    "start_time": "2024-09-30T20:27:57.010Z"
   },
   {
    "duration": 23,
    "start_time": "2024-09-30T20:27:57.056Z"
   },
   {
    "duration": 162,
    "start_time": "2024-09-30T20:27:57.081Z"
   },
   {
    "duration": 20,
    "start_time": "2024-09-30T20:27:57.245Z"
   },
   {
    "duration": 226,
    "start_time": "2024-09-30T20:27:57.268Z"
   },
   {
    "duration": 25,
    "start_time": "2024-09-30T20:27:57.496Z"
   },
   {
    "duration": 7,
    "start_time": "2024-09-30T20:27:57.522Z"
   },
   {
    "duration": 26,
    "start_time": "2024-09-30T20:27:57.530Z"
   },
   {
    "duration": 28,
    "start_time": "2024-09-30T20:27:57.558Z"
   },
   {
    "duration": 88,
    "start_time": "2024-09-30T20:27:57.587Z"
   },
   {
    "duration": 58,
    "start_time": "2024-09-30T20:27:57.677Z"
   },
   {
    "duration": 7,
    "start_time": "2024-09-30T20:27:57.736Z"
   },
   {
    "duration": 5,
    "start_time": "2024-09-30T20:27:57.744Z"
   },
   {
    "duration": 19,
    "start_time": "2024-09-30T20:27:57.750Z"
   },
   {
    "duration": 18,
    "start_time": "2024-09-30T20:27:57.771Z"
   },
   {
    "duration": 21,
    "start_time": "2024-09-30T20:27:57.790Z"
   },
   {
    "duration": 12,
    "start_time": "2024-09-30T20:27:57.812Z"
   },
   {
    "duration": 9,
    "start_time": "2024-09-30T20:27:57.825Z"
   },
   {
    "duration": 37,
    "start_time": "2024-09-30T20:27:57.836Z"
   },
   {
    "duration": 40,
    "start_time": "2024-09-30T20:27:57.874Z"
   },
   {
    "duration": 11,
    "start_time": "2024-09-30T20:27:57.915Z"
   },
   {
    "duration": 75,
    "start_time": "2024-09-30T20:27:57.951Z"
   },
   {
    "duration": 12,
    "start_time": "2024-09-30T20:27:58.028Z"
   },
   {
    "duration": 13,
    "start_time": "2024-09-30T20:27:58.041Z"
   },
   {
    "duration": 183,
    "start_time": "2024-09-30T20:27:58.056Z"
   },
   {
    "duration": 15,
    "start_time": "2024-09-30T20:27:58.241Z"
   },
   {
    "duration": 8,
    "start_time": "2024-09-30T20:27:58.257Z"
   },
   {
    "duration": 129,
    "start_time": "2024-09-30T20:27:58.267Z"
   },
   {
    "duration": 14,
    "start_time": "2024-09-30T20:27:58.398Z"
   },
   {
    "duration": 33,
    "start_time": "2024-09-30T20:27:58.413Z"
   },
   {
    "duration": 12,
    "start_time": "2024-09-30T20:27:58.447Z"
   },
   {
    "duration": 177,
    "start_time": "2024-09-30T20:27:58.461Z"
   },
   {
    "duration": 15,
    "start_time": "2024-09-30T20:27:58.640Z"
   },
   {
    "duration": 6,
    "start_time": "2024-09-30T20:27:58.656Z"
   },
   {
    "duration": 33,
    "start_time": "2024-09-30T20:27:58.663Z"
   },
   {
    "duration": 191,
    "start_time": "2024-09-30T20:27:58.697Z"
   },
   {
    "duration": 11,
    "start_time": "2024-09-30T20:27:58.890Z"
   },
   {
    "duration": 183,
    "start_time": "2024-09-30T20:27:58.903Z"
   },
   {
    "duration": 10,
    "start_time": "2024-09-30T20:27:59.087Z"
   },
   {
    "duration": 217,
    "start_time": "2024-09-30T20:27:59.099Z"
   },
   {
    "duration": 12,
    "start_time": "2024-09-30T20:27:59.317Z"
   },
   {
    "duration": 199,
    "start_time": "2024-09-30T20:27:59.330Z"
   },
   {
    "duration": 15,
    "start_time": "2024-09-30T20:27:59.530Z"
   },
   {
    "duration": 6,
    "start_time": "2024-09-30T20:27:59.552Z"
   },
   {
    "duration": 24,
    "start_time": "2024-09-30T20:31:45.353Z"
   },
   {
    "duration": 99,
    "start_time": "2024-09-30T20:32:10.330Z"
   },
   {
    "duration": 12,
    "start_time": "2024-09-30T20:32:28.086Z"
   },
   {
    "duration": 1055,
    "start_time": "2024-09-30T20:32:41.392Z"
   },
   {
    "duration": 120,
    "start_time": "2024-09-30T20:32:42.448Z"
   },
   {
    "duration": 37,
    "start_time": "2024-09-30T20:32:42.571Z"
   },
   {
    "duration": 61,
    "start_time": "2024-09-30T20:32:42.610Z"
   },
   {
    "duration": 5,
    "start_time": "2024-09-30T20:32:42.673Z"
   },
   {
    "duration": 6,
    "start_time": "2024-09-30T20:32:42.679Z"
   },
   {
    "duration": 5,
    "start_time": "2024-09-30T20:32:42.686Z"
   },
   {
    "duration": 26,
    "start_time": "2024-09-30T20:32:42.692Z"
   },
   {
    "duration": 34,
    "start_time": "2024-09-30T20:32:42.719Z"
   },
   {
    "duration": 14,
    "start_time": "2024-09-30T20:32:42.754Z"
   },
   {
    "duration": 19,
    "start_time": "2024-09-30T20:32:42.769Z"
   },
   {
    "duration": 7,
    "start_time": "2024-09-30T20:32:42.789Z"
   },
   {
    "duration": 440,
    "start_time": "2024-09-30T20:32:42.799Z"
   },
   {
    "duration": 233,
    "start_time": "2024-09-30T20:32:43.240Z"
   },
   {
    "duration": 978,
    "start_time": "2024-09-30T20:32:43.475Z"
   },
   {
    "duration": 20,
    "start_time": "2024-09-30T20:32:44.454Z"
   },
   {
    "duration": 21,
    "start_time": "2024-09-30T20:32:44.475Z"
   },
   {
    "duration": 26,
    "start_time": "2024-09-30T20:32:44.497Z"
   },
   {
    "duration": 39,
    "start_time": "2024-09-30T20:32:44.524Z"
   },
   {
    "duration": 24,
    "start_time": "2024-09-30T20:32:44.564Z"
   },
   {
    "duration": 67,
    "start_time": "2024-09-30T20:32:44.589Z"
   },
   {
    "duration": 16,
    "start_time": "2024-09-30T20:32:44.657Z"
   },
   {
    "duration": 9,
    "start_time": "2024-09-30T20:32:44.674Z"
   },
   {
    "duration": 4,
    "start_time": "2024-09-30T20:32:44.684Z"
   },
   {
    "duration": 23,
    "start_time": "2024-09-30T20:32:44.690Z"
   },
   {
    "duration": 172,
    "start_time": "2024-09-30T20:32:44.714Z"
   },
   {
    "duration": 16,
    "start_time": "2024-09-30T20:32:44.887Z"
   },
   {
    "duration": 218,
    "start_time": "2024-09-30T20:32:44.904Z"
   },
   {
    "duration": 35,
    "start_time": "2024-09-30T20:32:45.124Z"
   },
   {
    "duration": 33,
    "start_time": "2024-09-30T20:32:45.160Z"
   },
   {
    "duration": 10,
    "start_time": "2024-09-30T20:32:45.194Z"
   },
   {
    "duration": 49,
    "start_time": "2024-09-30T20:32:45.205Z"
   },
   {
    "duration": 75,
    "start_time": "2024-09-30T20:32:45.256Z"
   },
   {
    "duration": 15,
    "start_time": "2024-09-30T20:32:45.333Z"
   },
   {
    "duration": 31,
    "start_time": "2024-09-30T20:32:45.349Z"
   },
   {
    "duration": 8,
    "start_time": "2024-09-30T20:32:45.382Z"
   },
   {
    "duration": 37,
    "start_time": "2024-09-30T20:32:45.392Z"
   },
   {
    "duration": 20,
    "start_time": "2024-09-30T20:32:45.431Z"
   },
   {
    "duration": 27,
    "start_time": "2024-09-30T20:32:45.453Z"
   },
   {
    "duration": 12,
    "start_time": "2024-09-30T20:32:45.484Z"
   },
   {
    "duration": 13,
    "start_time": "2024-09-30T20:32:45.497Z"
   },
   {
    "duration": 22,
    "start_time": "2024-09-30T20:32:45.511Z"
   },
   {
    "duration": 52,
    "start_time": "2024-09-30T20:32:45.534Z"
   },
   {
    "duration": 11,
    "start_time": "2024-09-30T20:32:45.587Z"
   },
   {
    "duration": 17,
    "start_time": "2024-09-30T20:32:45.599Z"
   },
   {
    "duration": 61,
    "start_time": "2024-09-30T20:32:45.617Z"
   },
   {
    "duration": 13,
    "start_time": "2024-09-30T20:32:45.679Z"
   },
   {
    "duration": 55,
    "start_time": "2024-09-30T20:32:45.693Z"
   },
   {
    "duration": 181,
    "start_time": "2024-09-30T20:32:45.750Z"
   },
   {
    "duration": 10,
    "start_time": "2024-09-30T20:32:45.933Z"
   },
   {
    "duration": 67,
    "start_time": "2024-09-30T20:32:45.951Z"
   },
   {
    "duration": 139,
    "start_time": "2024-09-30T20:32:46.019Z"
   },
   {
    "duration": 15,
    "start_time": "2024-09-30T20:32:46.159Z"
   },
   {
    "duration": 26,
    "start_time": "2024-09-30T20:32:46.176Z"
   },
   {
    "duration": 14,
    "start_time": "2024-09-30T20:32:46.204Z"
   },
   {
    "duration": 188,
    "start_time": "2024-09-30T20:32:46.219Z"
   },
   {
    "duration": 11,
    "start_time": "2024-09-30T20:32:46.409Z"
   },
   {
    "duration": 6,
    "start_time": "2024-09-30T20:32:46.421Z"
   },
   {
    "duration": 47,
    "start_time": "2024-09-30T20:32:46.428Z"
   },
   {
    "duration": 190,
    "start_time": "2024-09-30T20:32:46.477Z"
   },
   {
    "duration": 11,
    "start_time": "2024-09-30T20:32:46.668Z"
   },
   {
    "duration": 185,
    "start_time": "2024-09-30T20:32:46.680Z"
   },
   {
    "duration": 11,
    "start_time": "2024-09-30T20:32:46.866Z"
   },
   {
    "duration": 184,
    "start_time": "2024-09-30T20:32:46.878Z"
   },
   {
    "duration": 11,
    "start_time": "2024-09-30T20:32:47.063Z"
   },
   {
    "duration": 202,
    "start_time": "2024-09-30T20:32:47.076Z"
   },
   {
    "duration": 16,
    "start_time": "2024-09-30T20:32:47.279Z"
   },
   {
    "duration": 6,
    "start_time": "2024-09-30T20:32:47.297Z"
   },
   {
    "duration": 41,
    "start_time": "2024-09-30T20:33:16.779Z"
   },
   {
    "duration": 1074,
    "start_time": "2024-09-30T20:34:07.975Z"
   },
   {
    "duration": 117,
    "start_time": "2024-09-30T20:34:09.051Z"
   },
   {
    "duration": 38,
    "start_time": "2024-09-30T20:34:09.169Z"
   },
   {
    "duration": 57,
    "start_time": "2024-09-30T20:34:09.209Z"
   },
   {
    "duration": 5,
    "start_time": "2024-09-30T20:34:09.267Z"
   },
   {
    "duration": 7,
    "start_time": "2024-09-30T20:34:09.274Z"
   },
   {
    "duration": 23,
    "start_time": "2024-09-30T20:34:09.283Z"
   },
   {
    "duration": 39,
    "start_time": "2024-09-30T20:34:09.307Z"
   },
   {
    "duration": 11,
    "start_time": "2024-09-30T20:34:09.347Z"
   },
   {
    "duration": 13,
    "start_time": "2024-09-30T20:34:09.361Z"
   },
   {
    "duration": 20,
    "start_time": "2024-09-30T20:34:09.376Z"
   },
   {
    "duration": 8,
    "start_time": "2024-09-30T20:34:09.397Z"
   },
   {
    "duration": 446,
    "start_time": "2024-09-30T20:34:09.406Z"
   },
   {
    "duration": 237,
    "start_time": "2024-09-30T20:34:09.853Z"
   },
   {
    "duration": 973,
    "start_time": "2024-09-30T20:34:10.091Z"
   },
   {
    "duration": 20,
    "start_time": "2024-09-30T20:34:11.065Z"
   },
   {
    "duration": 22,
    "start_time": "2024-09-30T20:34:11.087Z"
   },
   {
    "duration": 46,
    "start_time": "2024-09-30T20:34:11.110Z"
   },
   {
    "duration": 4,
    "start_time": "2024-09-30T20:34:11.158Z"
   },
   {
    "duration": 30,
    "start_time": "2024-09-30T20:34:11.163Z"
   },
   {
    "duration": 9,
    "start_time": "2024-09-30T20:34:11.194Z"
   },
   {
    "duration": 15,
    "start_time": "2024-09-30T20:34:11.204Z"
   },
   {
    "duration": 9,
    "start_time": "2024-09-30T20:34:11.220Z"
   },
   {
    "duration": 4,
    "start_time": "2024-09-30T20:34:11.230Z"
   },
   {
    "duration": 23,
    "start_time": "2024-09-30T20:34:11.251Z"
   },
   {
    "duration": 152,
    "start_time": "2024-09-30T20:34:11.276Z"
   },
   {
    "duration": 22,
    "start_time": "2024-09-30T20:34:11.430Z"
   },
   {
    "duration": 209,
    "start_time": "2024-09-30T20:34:11.456Z"
   },
   {
    "duration": 26,
    "start_time": "2024-09-30T20:34:11.666Z"
   },
   {
    "duration": 47,
    "start_time": "2024-09-30T20:34:11.693Z"
   },
   {
    "duration": 14,
    "start_time": "2024-09-30T20:34:11.741Z"
   },
   {
    "duration": 28,
    "start_time": "2024-09-30T20:34:11.756Z"
   },
   {
    "duration": 89,
    "start_time": "2024-09-30T20:34:11.785Z"
   },
   {
    "duration": 5,
    "start_time": "2024-09-30T20:34:11.875Z"
   },
   {
    "duration": 5,
    "start_time": "2024-09-30T20:34:11.881Z"
   },
   {
    "duration": 6,
    "start_time": "2024-09-30T20:34:11.887Z"
   },
   {
    "duration": 19,
    "start_time": "2024-09-30T20:34:11.894Z"
   },
   {
    "duration": 48,
    "start_time": "2024-09-30T20:34:11.915Z"
   },
   {
    "duration": 58,
    "start_time": "2024-09-30T20:34:11.964Z"
   },
   {
    "duration": 12,
    "start_time": "2024-09-30T20:34:12.023Z"
   },
   {
    "duration": 9,
    "start_time": "2024-09-30T20:34:12.036Z"
   },
   {
    "duration": 22,
    "start_time": "2024-09-30T20:34:12.046Z"
   },
   {
    "duration": 52,
    "start_time": "2024-09-30T20:34:12.070Z"
   },
   {
    "duration": 41,
    "start_time": "2024-09-30T20:34:12.124Z"
   },
   {
    "duration": 106,
    "start_time": "2024-09-30T20:34:12.167Z"
   },
   {
    "duration": 0,
    "start_time": "2024-09-30T20:34:12.274Z"
   },
   {
    "duration": 0,
    "start_time": "2024-09-30T20:34:12.275Z"
   },
   {
    "duration": 0,
    "start_time": "2024-09-30T20:34:12.276Z"
   },
   {
    "duration": 0,
    "start_time": "2024-09-30T20:34:12.277Z"
   },
   {
    "duration": 0,
    "start_time": "2024-09-30T20:34:12.278Z"
   },
   {
    "duration": 0,
    "start_time": "2024-09-30T20:34:12.279Z"
   },
   {
    "duration": 0,
    "start_time": "2024-09-30T20:34:12.279Z"
   },
   {
    "duration": 0,
    "start_time": "2024-09-30T20:34:12.281Z"
   },
   {
    "duration": 0,
    "start_time": "2024-09-30T20:34:12.281Z"
   },
   {
    "duration": 0,
    "start_time": "2024-09-30T20:34:12.282Z"
   },
   {
    "duration": 0,
    "start_time": "2024-09-30T20:34:12.283Z"
   },
   {
    "duration": 0,
    "start_time": "2024-09-30T20:34:12.284Z"
   },
   {
    "duration": 0,
    "start_time": "2024-09-30T20:34:12.285Z"
   },
   {
    "duration": 0,
    "start_time": "2024-09-30T20:34:12.285Z"
   },
   {
    "duration": 0,
    "start_time": "2024-09-30T20:34:12.286Z"
   },
   {
    "duration": 0,
    "start_time": "2024-09-30T20:34:12.287Z"
   },
   {
    "duration": 0,
    "start_time": "2024-09-30T20:34:12.288Z"
   },
   {
    "duration": 0,
    "start_time": "2024-09-30T20:34:12.289Z"
   },
   {
    "duration": 0,
    "start_time": "2024-09-30T20:34:12.290Z"
   },
   {
    "duration": 0,
    "start_time": "2024-09-30T20:34:12.291Z"
   },
   {
    "duration": 0,
    "start_time": "2024-09-30T20:34:12.292Z"
   },
   {
    "duration": 0,
    "start_time": "2024-09-30T20:34:12.293Z"
   },
   {
    "duration": 0,
    "start_time": "2024-09-30T20:34:12.293Z"
   },
   {
    "duration": 27,
    "start_time": "2024-09-30T20:37:39.171Z"
   },
   {
    "duration": 28,
    "start_time": "2024-09-30T20:38:45.441Z"
   },
   {
    "duration": 1129,
    "start_time": "2024-09-30T20:41:36.816Z"
   },
   {
    "duration": 116,
    "start_time": "2024-09-30T20:41:37.947Z"
   },
   {
    "duration": 38,
    "start_time": "2024-09-30T20:41:38.064Z"
   },
   {
    "duration": 58,
    "start_time": "2024-09-30T20:41:38.104Z"
   },
   {
    "duration": 5,
    "start_time": "2024-09-30T20:41:38.165Z"
   },
   {
    "duration": 22,
    "start_time": "2024-09-30T20:41:38.172Z"
   },
   {
    "duration": 4,
    "start_time": "2024-09-30T20:41:38.196Z"
   },
   {
    "duration": 25,
    "start_time": "2024-09-30T20:41:38.202Z"
   },
   {
    "duration": 28,
    "start_time": "2024-09-30T20:41:38.228Z"
   },
   {
    "duration": 13,
    "start_time": "2024-09-30T20:41:38.258Z"
   },
   {
    "duration": 20,
    "start_time": "2024-09-30T20:41:38.272Z"
   },
   {
    "duration": 6,
    "start_time": "2024-09-30T20:41:38.293Z"
   },
   {
    "duration": 441,
    "start_time": "2024-09-30T20:41:38.301Z"
   },
   {
    "duration": 239,
    "start_time": "2024-09-30T20:41:38.744Z"
   },
   {
    "duration": 986,
    "start_time": "2024-09-30T20:41:38.985Z"
   },
   {
    "duration": 19,
    "start_time": "2024-09-30T20:41:39.972Z"
   },
   {
    "duration": 53,
    "start_time": "2024-09-30T20:41:39.992Z"
   },
   {
    "duration": 26,
    "start_time": "2024-09-30T20:41:40.046Z"
   },
   {
    "duration": 6,
    "start_time": "2024-09-30T20:41:40.074Z"
   },
   {
    "duration": 7,
    "start_time": "2024-09-30T20:41:40.081Z"
   },
   {
    "duration": 13,
    "start_time": "2024-09-30T20:41:40.090Z"
   },
   {
    "duration": 16,
    "start_time": "2024-09-30T20:41:40.104Z"
   },
   {
    "duration": 34,
    "start_time": "2024-09-30T20:41:40.121Z"
   },
   {
    "duration": 39,
    "start_time": "2024-09-30T20:41:40.156Z"
   },
   {
    "duration": 22,
    "start_time": "2024-09-30T20:41:40.196Z"
   },
   {
    "duration": 143,
    "start_time": "2024-09-30T20:41:40.220Z"
   },
   {
    "duration": 17,
    "start_time": "2024-09-30T20:41:40.364Z"
   },
   {
    "duration": 235,
    "start_time": "2024-09-30T20:41:40.382Z"
   },
   {
    "duration": 36,
    "start_time": "2024-09-30T20:41:40.619Z"
   },
   {
    "duration": 25,
    "start_time": "2024-09-30T20:41:40.656Z"
   },
   {
    "duration": 8,
    "start_time": "2024-09-30T20:41:40.683Z"
   },
   {
    "duration": 29,
    "start_time": "2024-09-30T20:41:40.692Z"
   },
   {
    "duration": 86,
    "start_time": "2024-09-30T20:41:40.722Z"
   },
   {
    "duration": 8,
    "start_time": "2024-09-30T20:41:40.810Z"
   },
   {
    "duration": 8,
    "start_time": "2024-09-30T20:41:40.820Z"
   },
   {
    "duration": 4,
    "start_time": "2024-09-30T20:41:40.829Z"
   },
   {
    "duration": 27,
    "start_time": "2024-09-30T20:41:40.835Z"
   },
   {
    "duration": 20,
    "start_time": "2024-09-30T20:41:40.864Z"
   },
   {
    "duration": 21,
    "start_time": "2024-09-30T20:41:40.885Z"
   },
   {
    "duration": 11,
    "start_time": "2024-09-30T20:41:40.908Z"
   },
   {
    "duration": 33,
    "start_time": "2024-09-30T20:41:40.923Z"
   },
   {
    "duration": 23,
    "start_time": "2024-09-30T20:41:40.958Z"
   },
   {
    "duration": 38,
    "start_time": "2024-09-30T20:41:40.982Z"
   },
   {
    "duration": 111,
    "start_time": "2024-09-30T20:41:41.021Z"
   },
   {
    "duration": 0,
    "start_time": "2024-09-30T20:41:41.134Z"
   },
   {
    "duration": 0,
    "start_time": "2024-09-30T20:41:41.135Z"
   },
   {
    "duration": 0,
    "start_time": "2024-09-30T20:41:41.136Z"
   },
   {
    "duration": 0,
    "start_time": "2024-09-30T20:41:41.137Z"
   },
   {
    "duration": 0,
    "start_time": "2024-09-30T20:41:41.138Z"
   },
   {
    "duration": 0,
    "start_time": "2024-09-30T20:41:41.152Z"
   },
   {
    "duration": 0,
    "start_time": "2024-09-30T20:41:41.153Z"
   },
   {
    "duration": 0,
    "start_time": "2024-09-30T20:41:41.154Z"
   },
   {
    "duration": 0,
    "start_time": "2024-09-30T20:41:41.155Z"
   },
   {
    "duration": 0,
    "start_time": "2024-09-30T20:41:41.156Z"
   },
   {
    "duration": 0,
    "start_time": "2024-09-30T20:41:41.157Z"
   },
   {
    "duration": 0,
    "start_time": "2024-09-30T20:41:41.158Z"
   },
   {
    "duration": 0,
    "start_time": "2024-09-30T20:41:41.159Z"
   },
   {
    "duration": 0,
    "start_time": "2024-09-30T20:41:41.160Z"
   },
   {
    "duration": 0,
    "start_time": "2024-09-30T20:41:41.161Z"
   },
   {
    "duration": 0,
    "start_time": "2024-09-30T20:41:41.162Z"
   },
   {
    "duration": 0,
    "start_time": "2024-09-30T20:41:41.163Z"
   },
   {
    "duration": 0,
    "start_time": "2024-09-30T20:41:41.164Z"
   },
   {
    "duration": 0,
    "start_time": "2024-09-30T20:41:41.165Z"
   },
   {
    "duration": 0,
    "start_time": "2024-09-30T20:41:41.166Z"
   },
   {
    "duration": 0,
    "start_time": "2024-09-30T20:41:41.167Z"
   },
   {
    "duration": 0,
    "start_time": "2024-09-30T20:41:41.168Z"
   },
   {
    "duration": 0,
    "start_time": "2024-09-30T20:41:41.169Z"
   },
   {
    "duration": 0,
    "start_time": "2024-09-30T20:41:41.170Z"
   },
   {
    "duration": 15,
    "start_time": "2024-09-30T20:42:34.461Z"
   },
   {
    "duration": 1118,
    "start_time": "2024-09-30T20:43:25.626Z"
   },
   {
    "duration": 115,
    "start_time": "2024-09-30T20:43:26.746Z"
   },
   {
    "duration": 35,
    "start_time": "2024-09-30T20:43:26.863Z"
   },
   {
    "duration": 57,
    "start_time": "2024-09-30T20:43:26.900Z"
   },
   {
    "duration": 5,
    "start_time": "2024-09-30T20:43:26.958Z"
   },
   {
    "duration": 8,
    "start_time": "2024-09-30T20:43:26.964Z"
   },
   {
    "duration": 7,
    "start_time": "2024-09-30T20:43:26.974Z"
   },
   {
    "duration": 24,
    "start_time": "2024-09-30T20:43:26.982Z"
   },
   {
    "duration": 11,
    "start_time": "2024-09-30T20:43:27.008Z"
   },
   {
    "duration": 14,
    "start_time": "2024-09-30T20:43:27.051Z"
   },
   {
    "duration": 33,
    "start_time": "2024-09-30T20:43:27.067Z"
   },
   {
    "duration": 7,
    "start_time": "2024-09-30T20:43:27.101Z"
   },
   {
    "duration": 435,
    "start_time": "2024-09-30T20:43:27.109Z"
   },
   {
    "duration": 229,
    "start_time": "2024-09-30T20:43:27.546Z"
   },
   {
    "duration": 942,
    "start_time": "2024-09-30T20:43:27.776Z"
   },
   {
    "duration": 20,
    "start_time": "2024-09-30T20:43:28.719Z"
   },
   {
    "duration": 34,
    "start_time": "2024-09-30T20:43:28.741Z"
   },
   {
    "duration": 30,
    "start_time": "2024-09-30T20:43:28.776Z"
   },
   {
    "duration": 5,
    "start_time": "2024-09-30T20:43:28.807Z"
   },
   {
    "duration": 10,
    "start_time": "2024-09-30T20:43:28.813Z"
   },
   {
    "duration": 14,
    "start_time": "2024-09-30T20:43:28.851Z"
   },
   {
    "duration": 22,
    "start_time": "2024-09-30T20:43:28.866Z"
   },
   {
    "duration": 10,
    "start_time": "2024-09-30T20:43:28.889Z"
   },
   {
    "duration": 5,
    "start_time": "2024-09-30T20:43:28.900Z"
   },
   {
    "duration": 27,
    "start_time": "2024-09-30T20:43:28.907Z"
   },
   {
    "duration": 170,
    "start_time": "2024-09-30T20:43:28.936Z"
   },
   {
    "duration": 16,
    "start_time": "2024-09-30T20:43:29.107Z"
   },
   {
    "duration": 233,
    "start_time": "2024-09-30T20:43:29.126Z"
   },
   {
    "duration": 25,
    "start_time": "2024-09-30T20:43:29.361Z"
   },
   {
    "duration": 7,
    "start_time": "2024-09-30T20:43:29.387Z"
   },
   {
    "duration": 6,
    "start_time": "2024-09-30T20:43:29.395Z"
   },
   {
    "duration": 31,
    "start_time": "2024-09-30T20:43:29.402Z"
   },
   {
    "duration": 74,
    "start_time": "2024-09-30T20:43:29.452Z"
   },
   {
    "duration": 5,
    "start_time": "2024-09-30T20:43:29.527Z"
   },
   {
    "duration": 5,
    "start_time": "2024-09-30T20:43:29.533Z"
   },
   {
    "duration": 12,
    "start_time": "2024-09-30T20:43:29.552Z"
   },
   {
    "duration": 17,
    "start_time": "2024-09-30T20:43:29.566Z"
   },
   {
    "duration": 18,
    "start_time": "2024-09-30T20:43:29.585Z"
   },
   {
    "duration": 19,
    "start_time": "2024-09-30T20:43:29.604Z"
   },
   {
    "duration": 37,
    "start_time": "2024-09-30T20:43:29.624Z"
   },
   {
    "duration": 10,
    "start_time": "2024-09-30T20:43:29.664Z"
   },
   {
    "duration": 22,
    "start_time": "2024-09-30T20:43:29.675Z"
   },
   {
    "duration": 119,
    "start_time": "2024-09-30T20:43:29.698Z"
   },
   {
    "duration": 13,
    "start_time": "2024-09-30T20:43:29.818Z"
   },
   {
    "duration": 54,
    "start_time": "2024-09-30T20:43:29.833Z"
   },
   {
    "duration": 0,
    "start_time": "2024-09-30T20:43:29.888Z"
   },
   {
    "duration": 0,
    "start_time": "2024-09-30T20:43:29.889Z"
   },
   {
    "duration": 0,
    "start_time": "2024-09-30T20:43:29.890Z"
   },
   {
    "duration": 0,
    "start_time": "2024-09-30T20:43:29.891Z"
   },
   {
    "duration": 0,
    "start_time": "2024-09-30T20:43:29.892Z"
   },
   {
    "duration": 0,
    "start_time": "2024-09-30T20:43:29.893Z"
   },
   {
    "duration": 0,
    "start_time": "2024-09-30T20:43:29.894Z"
   },
   {
    "duration": 0,
    "start_time": "2024-09-30T20:43:29.895Z"
   },
   {
    "duration": 0,
    "start_time": "2024-09-30T20:43:29.896Z"
   },
   {
    "duration": 0,
    "start_time": "2024-09-30T20:43:29.897Z"
   },
   {
    "duration": 0,
    "start_time": "2024-09-30T20:43:29.898Z"
   },
   {
    "duration": 0,
    "start_time": "2024-09-30T20:43:29.899Z"
   },
   {
    "duration": 0,
    "start_time": "2024-09-30T20:43:29.900Z"
   },
   {
    "duration": 0,
    "start_time": "2024-09-30T20:43:29.901Z"
   },
   {
    "duration": 0,
    "start_time": "2024-09-30T20:43:29.902Z"
   },
   {
    "duration": 0,
    "start_time": "2024-09-30T20:43:29.903Z"
   },
   {
    "duration": 0,
    "start_time": "2024-09-30T20:43:29.904Z"
   },
   {
    "duration": 0,
    "start_time": "2024-09-30T20:43:29.905Z"
   },
   {
    "duration": 0,
    "start_time": "2024-09-30T20:43:29.906Z"
   },
   {
    "duration": 0,
    "start_time": "2024-09-30T20:43:29.907Z"
   },
   {
    "duration": 0,
    "start_time": "2024-09-30T20:43:29.907Z"
   },
   {
    "duration": 0,
    "start_time": "2024-09-30T20:43:29.909Z"
   },
   {
    "duration": 0,
    "start_time": "2024-09-30T20:43:29.909Z"
   },
   {
    "duration": 103,
    "start_time": "2024-09-30T20:43:58.150Z"
   },
   {
    "duration": 1134,
    "start_time": "2024-09-30T20:44:26.345Z"
   },
   {
    "duration": 114,
    "start_time": "2024-09-30T20:44:27.481Z"
   },
   {
    "duration": 36,
    "start_time": "2024-09-30T20:44:27.597Z"
   },
   {
    "duration": 43,
    "start_time": "2024-09-30T20:44:27.635Z"
   },
   {
    "duration": 5,
    "start_time": "2024-09-30T20:44:27.680Z"
   },
   {
    "duration": 12,
    "start_time": "2024-09-30T20:44:27.687Z"
   },
   {
    "duration": 85,
    "start_time": "2024-09-30T20:44:27.701Z"
   },
   {
    "duration": 25,
    "start_time": "2024-09-30T20:44:27.787Z"
   },
   {
    "duration": 12,
    "start_time": "2024-09-30T20:44:27.813Z"
   },
   {
    "duration": 13,
    "start_time": "2024-09-30T20:44:27.826Z"
   },
   {
    "duration": 20,
    "start_time": "2024-09-30T20:44:27.840Z"
   },
   {
    "duration": 7,
    "start_time": "2024-09-30T20:44:27.861Z"
   },
   {
    "duration": 457,
    "start_time": "2024-09-30T20:44:27.870Z"
   },
   {
    "duration": 247,
    "start_time": "2024-09-30T20:44:28.331Z"
   },
   {
    "duration": 983,
    "start_time": "2024-09-30T20:44:28.580Z"
   },
   {
    "duration": 21,
    "start_time": "2024-09-30T20:44:29.565Z"
   },
   {
    "duration": 33,
    "start_time": "2024-09-30T20:44:29.589Z"
   },
   {
    "duration": 61,
    "start_time": "2024-09-30T20:44:29.624Z"
   },
   {
    "duration": 5,
    "start_time": "2024-09-30T20:44:29.687Z"
   },
   {
    "duration": 85,
    "start_time": "2024-09-30T20:44:29.694Z"
   },
   {
    "duration": 8,
    "start_time": "2024-09-30T20:44:29.780Z"
   },
   {
    "duration": 16,
    "start_time": "2024-09-30T20:44:29.789Z"
   },
   {
    "duration": 9,
    "start_time": "2024-09-30T20:44:29.807Z"
   },
   {
    "duration": 6,
    "start_time": "2024-09-30T20:44:29.817Z"
   },
   {
    "duration": 28,
    "start_time": "2024-09-30T20:44:29.825Z"
   },
   {
    "duration": 159,
    "start_time": "2024-09-30T20:44:29.854Z"
   },
   {
    "duration": 17,
    "start_time": "2024-09-30T20:44:30.015Z"
   },
   {
    "duration": 235,
    "start_time": "2024-09-30T20:44:30.033Z"
   },
   {
    "duration": 25,
    "start_time": "2024-09-30T20:44:30.270Z"
   },
   {
    "duration": 7,
    "start_time": "2024-09-30T20:44:30.297Z"
   },
   {
    "duration": 22,
    "start_time": "2024-09-30T20:44:30.305Z"
   },
   {
    "duration": 60,
    "start_time": "2024-09-30T20:44:30.328Z"
   },
   {
    "duration": 76,
    "start_time": "2024-09-30T20:44:30.390Z"
   },
   {
    "duration": 11,
    "start_time": "2024-09-30T20:44:30.468Z"
   },
   {
    "duration": 47,
    "start_time": "2024-09-30T20:44:30.481Z"
   },
   {
    "duration": 99,
    "start_time": "2024-09-30T20:44:30.529Z"
   },
   {
    "duration": 99,
    "start_time": "2024-09-30T20:44:30.630Z"
   },
   {
    "duration": 20,
    "start_time": "2024-09-30T20:44:30.731Z"
   },
   {
    "duration": 23,
    "start_time": "2024-09-30T20:44:30.753Z"
   },
   {
    "duration": 13,
    "start_time": "2024-09-30T20:44:30.777Z"
   },
   {
    "duration": 10,
    "start_time": "2024-09-30T20:44:30.794Z"
   },
   {
    "duration": 35,
    "start_time": "2024-09-30T20:44:30.805Z"
   },
   {
    "duration": 49,
    "start_time": "2024-09-30T20:44:30.851Z"
   },
   {
    "duration": 10,
    "start_time": "2024-09-30T20:44:30.901Z"
   },
   {
    "duration": 49,
    "start_time": "2024-09-30T20:44:30.912Z"
   },
   {
    "duration": 0,
    "start_time": "2024-09-30T20:44:30.962Z"
   },
   {
    "duration": 0,
    "start_time": "2024-09-30T20:44:30.964Z"
   },
   {
    "duration": 0,
    "start_time": "2024-09-30T20:44:30.965Z"
   },
   {
    "duration": 0,
    "start_time": "2024-09-30T20:44:30.966Z"
   },
   {
    "duration": 0,
    "start_time": "2024-09-30T20:44:30.967Z"
   },
   {
    "duration": 0,
    "start_time": "2024-09-30T20:44:30.968Z"
   },
   {
    "duration": 0,
    "start_time": "2024-09-30T20:44:30.969Z"
   },
   {
    "duration": 0,
    "start_time": "2024-09-30T20:44:30.970Z"
   },
   {
    "duration": 0,
    "start_time": "2024-09-30T20:44:30.971Z"
   },
   {
    "duration": 0,
    "start_time": "2024-09-30T20:44:30.972Z"
   },
   {
    "duration": 0,
    "start_time": "2024-09-30T20:44:30.973Z"
   },
   {
    "duration": 0,
    "start_time": "2024-09-30T20:44:30.974Z"
   },
   {
    "duration": 0,
    "start_time": "2024-09-30T20:44:30.975Z"
   },
   {
    "duration": 0,
    "start_time": "2024-09-30T20:44:30.976Z"
   },
   {
    "duration": 0,
    "start_time": "2024-09-30T20:44:30.977Z"
   },
   {
    "duration": 0,
    "start_time": "2024-09-30T20:44:30.978Z"
   },
   {
    "duration": 0,
    "start_time": "2024-09-30T20:44:30.978Z"
   },
   {
    "duration": 0,
    "start_time": "2024-09-30T20:44:30.979Z"
   },
   {
    "duration": 0,
    "start_time": "2024-09-30T20:44:30.980Z"
   },
   {
    "duration": 0,
    "start_time": "2024-09-30T20:44:30.981Z"
   },
   {
    "duration": 0,
    "start_time": "2024-09-30T20:44:30.982Z"
   },
   {
    "duration": 0,
    "start_time": "2024-09-30T20:44:30.983Z"
   },
   {
    "duration": 0,
    "start_time": "2024-09-30T20:44:30.984Z"
   },
   {
    "duration": 16,
    "start_time": "2024-09-30T20:45:12.105Z"
   },
   {
    "duration": 13,
    "start_time": "2024-09-30T20:46:48.127Z"
   },
   {
    "duration": 29,
    "start_time": "2024-09-30T20:47:30.723Z"
   },
   {
    "duration": 21,
    "start_time": "2024-09-30T20:48:14.870Z"
   },
   {
    "duration": 1160,
    "start_time": "2024-09-30T20:52:14.692Z"
   },
   {
    "duration": 116,
    "start_time": "2024-09-30T20:52:15.854Z"
   },
   {
    "duration": 37,
    "start_time": "2024-09-30T20:52:15.971Z"
   },
   {
    "duration": 72,
    "start_time": "2024-09-30T20:52:16.011Z"
   },
   {
    "duration": 7,
    "start_time": "2024-09-30T20:52:16.085Z"
   },
   {
    "duration": 6,
    "start_time": "2024-09-30T20:52:16.093Z"
   },
   {
    "duration": 5,
    "start_time": "2024-09-30T20:52:16.100Z"
   },
   {
    "duration": 54,
    "start_time": "2024-09-30T20:52:16.107Z"
   },
   {
    "duration": 13,
    "start_time": "2024-09-30T20:52:16.163Z"
   },
   {
    "duration": 51,
    "start_time": "2024-09-30T20:52:16.179Z"
   },
   {
    "duration": 22,
    "start_time": "2024-09-30T20:52:16.232Z"
   },
   {
    "duration": 8,
    "start_time": "2024-09-30T20:52:16.256Z"
   },
   {
    "duration": 440,
    "start_time": "2024-09-30T20:52:16.265Z"
   },
   {
    "duration": 247,
    "start_time": "2024-09-30T20:52:16.706Z"
   },
   {
    "duration": 956,
    "start_time": "2024-09-30T20:52:16.954Z"
   },
   {
    "duration": 21,
    "start_time": "2024-09-30T20:52:17.912Z"
   },
   {
    "duration": 38,
    "start_time": "2024-09-30T20:52:17.934Z"
   },
   {
    "duration": 27,
    "start_time": "2024-09-30T20:52:17.974Z"
   },
   {
    "duration": 45,
    "start_time": "2024-09-30T20:52:18.002Z"
   },
   {
    "duration": 15,
    "start_time": "2024-09-30T20:52:18.048Z"
   },
   {
    "duration": 16,
    "start_time": "2024-09-30T20:52:18.065Z"
   },
   {
    "duration": 20,
    "start_time": "2024-09-30T20:52:18.083Z"
   },
   {
    "duration": 10,
    "start_time": "2024-09-30T20:52:18.104Z"
   },
   {
    "duration": 5,
    "start_time": "2024-09-30T20:52:18.116Z"
   },
   {
    "duration": 38,
    "start_time": "2024-09-30T20:52:18.123Z"
   },
   {
    "duration": 154,
    "start_time": "2024-09-30T20:52:18.162Z"
   },
   {
    "duration": 17,
    "start_time": "2024-09-30T20:52:18.318Z"
   },
   {
    "duration": 217,
    "start_time": "2024-09-30T20:52:18.352Z"
   },
   {
    "duration": 27,
    "start_time": "2024-09-30T20:52:18.570Z"
   },
   {
    "duration": 34,
    "start_time": "2024-09-30T20:52:18.598Z"
   },
   {
    "duration": 8,
    "start_time": "2024-09-30T20:52:18.634Z"
   },
   {
    "duration": 98,
    "start_time": "2024-09-30T20:52:18.643Z"
   },
   {
    "duration": 77,
    "start_time": "2024-09-30T20:52:18.743Z"
   },
   {
    "duration": 9,
    "start_time": "2024-09-30T20:52:18.821Z"
   },
   {
    "duration": 9,
    "start_time": "2024-09-30T20:52:18.831Z"
   },
   {
    "duration": 13,
    "start_time": "2024-09-30T20:52:18.841Z"
   },
   {
    "duration": 25,
    "start_time": "2024-09-30T20:52:18.856Z"
   },
   {
    "duration": 19,
    "start_time": "2024-09-30T20:52:18.883Z"
   },
   {
    "duration": 31,
    "start_time": "2024-09-30T20:52:18.904Z"
   },
   {
    "duration": 26,
    "start_time": "2024-09-30T20:52:18.937Z"
   },
   {
    "duration": 10,
    "start_time": "2024-09-30T20:52:18.965Z"
   },
   {
    "duration": 31,
    "start_time": "2024-09-30T20:52:18.976Z"
   },
   {
    "duration": 62,
    "start_time": "2024-09-30T20:52:19.008Z"
   },
   {
    "duration": 11,
    "start_time": "2024-09-30T20:52:19.072Z"
   },
   {
    "duration": 12,
    "start_time": "2024-09-30T20:52:19.085Z"
   },
   {
    "duration": 22,
    "start_time": "2024-09-30T20:52:19.099Z"
   },
   {
    "duration": 40,
    "start_time": "2024-09-30T20:52:19.123Z"
   },
   {
    "duration": 49,
    "start_time": "2024-09-30T20:52:19.165Z"
   },
   {
    "duration": 0,
    "start_time": "2024-09-30T20:52:19.216Z"
   },
   {
    "duration": 0,
    "start_time": "2024-09-30T20:52:19.217Z"
   },
   {
    "duration": 0,
    "start_time": "2024-09-30T20:52:19.218Z"
   },
   {
    "duration": 0,
    "start_time": "2024-09-30T20:52:19.220Z"
   },
   {
    "duration": 1,
    "start_time": "2024-09-30T20:52:19.221Z"
   },
   {
    "duration": 0,
    "start_time": "2024-09-30T20:52:19.223Z"
   },
   {
    "duration": 0,
    "start_time": "2024-09-30T20:52:19.224Z"
   },
   {
    "duration": 0,
    "start_time": "2024-09-30T20:52:19.225Z"
   },
   {
    "duration": 0,
    "start_time": "2024-09-30T20:52:19.227Z"
   },
   {
    "duration": 0,
    "start_time": "2024-09-30T20:52:19.228Z"
   },
   {
    "duration": 0,
    "start_time": "2024-09-30T20:52:19.229Z"
   },
   {
    "duration": 0,
    "start_time": "2024-09-30T20:52:19.231Z"
   },
   {
    "duration": 0,
    "start_time": "2024-09-30T20:52:19.232Z"
   },
   {
    "duration": 0,
    "start_time": "2024-09-30T20:52:19.233Z"
   },
   {
    "duration": 1,
    "start_time": "2024-09-30T20:52:19.234Z"
   },
   {
    "duration": 0,
    "start_time": "2024-09-30T20:52:19.236Z"
   },
   {
    "duration": 0,
    "start_time": "2024-09-30T20:52:19.237Z"
   },
   {
    "duration": 0,
    "start_time": "2024-09-30T20:52:19.238Z"
   },
   {
    "duration": 0,
    "start_time": "2024-09-30T20:52:19.240Z"
   },
   {
    "duration": 0,
    "start_time": "2024-09-30T20:52:19.241Z"
   },
   {
    "duration": 97,
    "start_time": "2024-09-30T20:54:13.559Z"
   },
   {
    "duration": 13,
    "start_time": "2024-09-30T20:57:05.027Z"
   },
   {
    "duration": 13,
    "start_time": "2024-09-30T20:57:32.288Z"
   },
   {
    "duration": 13,
    "start_time": "2024-09-30T21:02:22.214Z"
   },
   {
    "duration": 6,
    "start_time": "2024-09-30T21:02:55.907Z"
   },
   {
    "duration": 10,
    "start_time": "2024-09-30T21:05:54.288Z"
   },
   {
    "duration": 9,
    "start_time": "2024-09-30T21:06:15.158Z"
   },
   {
    "duration": 9,
    "start_time": "2024-09-30T21:06:22.639Z"
   },
   {
    "duration": 9,
    "start_time": "2024-09-30T21:06:27.205Z"
   },
   {
    "duration": 9,
    "start_time": "2024-09-30T21:06:38.484Z"
   },
   {
    "duration": 11,
    "start_time": "2024-09-30T21:08:50.939Z"
   },
   {
    "duration": 7,
    "start_time": "2024-09-30T21:09:13.194Z"
   },
   {
    "duration": 145,
    "start_time": "2024-09-30T21:10:03.710Z"
   },
   {
    "duration": 136,
    "start_time": "2024-09-30T21:10:25.539Z"
   },
   {
    "duration": 123,
    "start_time": "2024-09-30T21:10:37.593Z"
   },
   {
    "duration": 12,
    "start_time": "2024-09-30T21:11:37.322Z"
   },
   {
    "duration": 10,
    "start_time": "2024-09-30T21:11:44.452Z"
   },
   {
    "duration": 8,
    "start_time": "2024-09-30T21:12:50.167Z"
   },
   {
    "duration": 8,
    "start_time": "2024-09-30T21:14:21.304Z"
   },
   {
    "duration": 8,
    "start_time": "2024-09-30T21:14:27.864Z"
   },
   {
    "duration": 8,
    "start_time": "2024-09-30T21:15:39.094Z"
   },
   {
    "duration": 122,
    "start_time": "2024-09-30T21:15:45.212Z"
   },
   {
    "duration": 10,
    "start_time": "2024-09-30T21:16:49.378Z"
   },
   {
    "duration": 47,
    "start_time": "2024-10-01T04:50:01.463Z"
   },
   {
    "duration": 1449,
    "start_time": "2024-10-01T04:50:32.960Z"
   },
   {
    "duration": 358,
    "start_time": "2024-10-01T04:50:34.411Z"
   },
   {
    "duration": 42,
    "start_time": "2024-10-01T04:50:34.771Z"
   },
   {
    "duration": 48,
    "start_time": "2024-10-01T04:50:34.814Z"
   },
   {
    "duration": 17,
    "start_time": "2024-10-01T04:50:34.864Z"
   },
   {
    "duration": 10,
    "start_time": "2024-10-01T04:50:34.882Z"
   },
   {
    "duration": 24,
    "start_time": "2024-10-01T04:50:34.894Z"
   },
   {
    "duration": 43,
    "start_time": "2024-10-01T04:50:34.919Z"
   },
   {
    "duration": 33,
    "start_time": "2024-10-01T04:50:34.964Z"
   },
   {
    "duration": 17,
    "start_time": "2024-10-01T04:50:34.998Z"
   },
   {
    "duration": 40,
    "start_time": "2024-10-01T04:50:35.017Z"
   },
   {
    "duration": 22,
    "start_time": "2024-10-01T04:50:35.059Z"
   },
   {
    "duration": 539,
    "start_time": "2024-10-01T04:50:35.083Z"
   },
   {
    "duration": 275,
    "start_time": "2024-10-01T04:50:35.625Z"
   },
   {
    "duration": 1078,
    "start_time": "2024-10-01T04:50:35.901Z"
   },
   {
    "duration": 23,
    "start_time": "2024-10-01T04:50:36.980Z"
   },
   {
    "duration": 37,
    "start_time": "2024-10-01T04:50:37.004Z"
   },
   {
    "duration": 31,
    "start_time": "2024-10-01T04:50:37.042Z"
   },
   {
    "duration": 6,
    "start_time": "2024-10-01T04:50:37.075Z"
   },
   {
    "duration": 40,
    "start_time": "2024-10-01T04:50:37.083Z"
   },
   {
    "duration": 25,
    "start_time": "2024-10-01T04:50:37.125Z"
   },
   {
    "duration": 18,
    "start_time": "2024-10-01T04:50:37.152Z"
   },
   {
    "duration": 84,
    "start_time": "2024-10-01T04:50:37.172Z"
   },
   {
    "duration": 5,
    "start_time": "2024-10-01T04:50:37.259Z"
   },
   {
    "duration": 30,
    "start_time": "2024-10-01T04:50:37.266Z"
   },
   {
    "duration": 159,
    "start_time": "2024-10-01T04:50:37.298Z"
   },
   {
    "duration": 18,
    "start_time": "2024-10-01T04:50:37.459Z"
   },
   {
    "duration": 257,
    "start_time": "2024-10-01T04:50:37.479Z"
   },
   {
    "duration": 29,
    "start_time": "2024-10-01T04:50:37.738Z"
   },
   {
    "duration": 8,
    "start_time": "2024-10-01T04:50:37.769Z"
   },
   {
    "duration": 7,
    "start_time": "2024-10-01T04:50:37.779Z"
   },
   {
    "duration": 35,
    "start_time": "2024-10-01T04:50:37.822Z"
   },
   {
    "duration": 97,
    "start_time": "2024-10-01T04:50:37.859Z"
   },
   {
    "duration": 8,
    "start_time": "2024-10-01T04:50:37.958Z"
   },
   {
    "duration": 5,
    "start_time": "2024-10-01T04:50:37.968Z"
   },
   {
    "duration": 12,
    "start_time": "2024-10-01T04:50:37.975Z"
   },
   {
    "duration": 35,
    "start_time": "2024-10-01T04:50:37.988Z"
   },
   {
    "duration": 23,
    "start_time": "2024-10-01T04:50:38.025Z"
   },
   {
    "duration": 23,
    "start_time": "2024-10-01T04:50:38.049Z"
   },
   {
    "duration": 14,
    "start_time": "2024-10-01T04:50:38.074Z"
   },
   {
    "duration": 10,
    "start_time": "2024-10-01T04:50:38.122Z"
   },
   {
    "duration": 26,
    "start_time": "2024-10-01T04:50:38.134Z"
   },
   {
    "duration": 61,
    "start_time": "2024-10-01T04:50:38.161Z"
   },
   {
    "duration": 11,
    "start_time": "2024-10-01T04:50:38.223Z"
   },
   {
    "duration": 14,
    "start_time": "2024-10-01T04:50:38.235Z"
   },
   {
    "duration": 25,
    "start_time": "2024-10-01T04:50:38.250Z"
   },
   {
    "duration": 21,
    "start_time": "2024-10-01T04:50:38.276Z"
   },
   {
    "duration": 29,
    "start_time": "2024-10-01T04:50:38.299Z"
   },
   {
    "duration": 157,
    "start_time": "2024-10-01T04:50:38.329Z"
   },
   {
    "duration": 33,
    "start_time": "2024-10-01T04:50:38.488Z"
   },
   {
    "duration": 7,
    "start_time": "2024-10-01T04:50:38.522Z"
   },
   {
    "duration": 176,
    "start_time": "2024-10-01T04:50:38.531Z"
   },
   {
    "duration": 16,
    "start_time": "2024-10-01T04:50:38.709Z"
   },
   {
    "duration": 165,
    "start_time": "2024-10-01T04:50:38.727Z"
   },
   {
    "duration": 0,
    "start_time": "2024-10-01T04:50:38.893Z"
   },
   {
    "duration": 0,
    "start_time": "2024-10-01T04:50:38.894Z"
   },
   {
    "duration": 0,
    "start_time": "2024-10-01T04:50:38.896Z"
   },
   {
    "duration": 0,
    "start_time": "2024-10-01T04:50:38.896Z"
   },
   {
    "duration": 0,
    "start_time": "2024-10-01T04:50:38.897Z"
   },
   {
    "duration": 0,
    "start_time": "2024-10-01T04:50:38.898Z"
   },
   {
    "duration": 0,
    "start_time": "2024-10-01T04:50:38.899Z"
   },
   {
    "duration": 0,
    "start_time": "2024-10-01T04:50:38.900Z"
   },
   {
    "duration": 0,
    "start_time": "2024-10-01T04:50:38.901Z"
   },
   {
    "duration": 0,
    "start_time": "2024-10-01T04:50:38.903Z"
   },
   {
    "duration": 0,
    "start_time": "2024-10-01T04:50:38.904Z"
   },
   {
    "duration": 0,
    "start_time": "2024-10-01T04:50:38.905Z"
   },
   {
    "duration": 0,
    "start_time": "2024-10-01T04:50:38.906Z"
   },
   {
    "duration": 0,
    "start_time": "2024-10-01T04:50:38.907Z"
   },
   {
    "duration": 11,
    "start_time": "2024-10-01T04:51:32.180Z"
   },
   {
    "duration": 6,
    "start_time": "2024-10-01T04:52:22.587Z"
   },
   {
    "duration": 70,
    "start_time": "2024-10-01T04:56:31.382Z"
   },
   {
    "duration": 65,
    "start_time": "2024-10-01T04:57:49.471Z"
   },
   {
    "duration": 14,
    "start_time": "2024-10-01T04:58:20.328Z"
   },
   {
    "duration": 12,
    "start_time": "2024-10-01T05:16:51.434Z"
   },
   {
    "duration": 5,
    "start_time": "2024-10-01T05:20:18.391Z"
   },
   {
    "duration": 6,
    "start_time": "2024-10-01T05:21:34.181Z"
   },
   {
    "duration": 7,
    "start_time": "2024-10-01T05:21:54.533Z"
   },
   {
    "duration": 6,
    "start_time": "2024-10-01T05:22:19.599Z"
   },
   {
    "duration": 5,
    "start_time": "2024-10-01T05:22:36.269Z"
   },
   {
    "duration": 15,
    "start_time": "2024-10-01T05:23:50.980Z"
   },
   {
    "duration": 9,
    "start_time": "2024-10-01T05:24:19.586Z"
   },
   {
    "duration": 8,
    "start_time": "2024-10-01T05:24:31.545Z"
   },
   {
    "duration": 8,
    "start_time": "2024-10-01T05:24:43.905Z"
   },
   {
    "duration": 9,
    "start_time": "2024-10-01T05:25:03.089Z"
   },
   {
    "duration": 10,
    "start_time": "2024-10-01T05:26:32.710Z"
   },
   {
    "duration": 11,
    "start_time": "2024-10-01T05:26:59.854Z"
   },
   {
    "duration": 1231,
    "start_time": "2024-10-01T05:27:15.732Z"
   },
   {
    "duration": 126,
    "start_time": "2024-10-01T05:27:16.966Z"
   },
   {
    "duration": 44,
    "start_time": "2024-10-01T05:27:17.094Z"
   },
   {
    "duration": 47,
    "start_time": "2024-10-01T05:27:17.141Z"
   },
   {
    "duration": 6,
    "start_time": "2024-10-01T05:27:17.190Z"
   },
   {
    "duration": 6,
    "start_time": "2024-10-01T05:27:17.220Z"
   },
   {
    "duration": 4,
    "start_time": "2024-10-01T05:27:17.228Z"
   },
   {
    "duration": 29,
    "start_time": "2024-10-01T05:27:17.234Z"
   },
   {
    "duration": 14,
    "start_time": "2024-10-01T05:27:17.265Z"
   },
   {
    "duration": 47,
    "start_time": "2024-10-01T05:27:17.283Z"
   },
   {
    "duration": 64,
    "start_time": "2024-10-01T05:27:17.332Z"
   },
   {
    "duration": 16,
    "start_time": "2024-10-01T05:27:17.398Z"
   },
   {
    "duration": 491,
    "start_time": "2024-10-01T05:27:17.415Z"
   },
   {
    "duration": 284,
    "start_time": "2024-10-01T05:27:17.907Z"
   },
   {
    "duration": 1087,
    "start_time": "2024-10-01T05:27:18.193Z"
   },
   {
    "duration": 24,
    "start_time": "2024-10-01T05:27:19.282Z"
   },
   {
    "duration": 29,
    "start_time": "2024-10-01T05:27:19.320Z"
   },
   {
    "duration": 31,
    "start_time": "2024-10-01T05:27:19.351Z"
   },
   {
    "duration": 38,
    "start_time": "2024-10-01T05:27:19.384Z"
   },
   {
    "duration": 81,
    "start_time": "2024-10-01T05:27:19.424Z"
   },
   {
    "duration": 9,
    "start_time": "2024-10-01T05:27:19.507Z"
   },
   {
    "duration": 18,
    "start_time": "2024-10-01T05:27:19.517Z"
   },
   {
    "duration": 10,
    "start_time": "2024-10-01T05:27:19.537Z"
   },
   {
    "duration": 5,
    "start_time": "2024-10-01T05:27:19.549Z"
   },
   {
    "duration": 32,
    "start_time": "2024-10-01T05:27:19.556Z"
   },
   {
    "duration": 203,
    "start_time": "2024-10-01T05:27:19.590Z"
   },
   {
    "duration": 26,
    "start_time": "2024-10-01T05:27:19.795Z"
   },
   {
    "duration": 246,
    "start_time": "2024-10-01T05:27:19.825Z"
   },
   {
    "duration": 29,
    "start_time": "2024-10-01T05:27:20.073Z"
   },
   {
    "duration": 18,
    "start_time": "2024-10-01T05:27:20.103Z"
   },
   {
    "duration": 8,
    "start_time": "2024-10-01T05:27:20.123Z"
   },
   {
    "duration": 34,
    "start_time": "2024-10-01T05:27:20.133Z"
   },
   {
    "duration": 110,
    "start_time": "2024-10-01T05:27:20.169Z"
   },
   {
    "duration": 8,
    "start_time": "2024-10-01T05:27:20.280Z"
   },
   {
    "duration": 15,
    "start_time": "2024-10-01T05:27:20.289Z"
   },
   {
    "duration": 11,
    "start_time": "2024-10-01T05:27:20.306Z"
   },
   {
    "duration": 28,
    "start_time": "2024-10-01T05:27:20.318Z"
   },
   {
    "duration": 22,
    "start_time": "2024-10-01T05:27:20.347Z"
   },
   {
    "duration": 37,
    "start_time": "2024-10-01T05:27:20.371Z"
   },
   {
    "duration": 24,
    "start_time": "2024-10-01T05:27:20.409Z"
   },
   {
    "duration": 10,
    "start_time": "2024-10-01T05:27:20.435Z"
   },
   {
    "duration": 41,
    "start_time": "2024-10-01T05:27:20.447Z"
   },
   {
    "duration": 52,
    "start_time": "2024-10-01T05:27:20.489Z"
   },
   {
    "duration": 11,
    "start_time": "2024-10-01T05:27:20.542Z"
   },
   {
    "duration": 32,
    "start_time": "2024-10-01T05:27:20.555Z"
   },
   {
    "duration": 24,
    "start_time": "2024-10-01T05:27:20.588Z"
   },
   {
    "duration": 66,
    "start_time": "2024-10-01T05:27:20.613Z"
   },
   {
    "duration": 49,
    "start_time": "2024-10-01T05:27:20.680Z"
   },
   {
    "duration": 192,
    "start_time": "2024-10-01T05:27:20.730Z"
   },
   {
    "duration": 12,
    "start_time": "2024-10-01T05:27:20.923Z"
   },
   {
    "duration": 24,
    "start_time": "2024-10-01T05:27:20.936Z"
   },
   {
    "duration": 84,
    "start_time": "2024-10-01T05:27:20.961Z"
   },
   {
    "duration": 12,
    "start_time": "2024-10-01T05:27:21.047Z"
   },
   {
    "duration": 17,
    "start_time": "2024-10-01T05:27:21.060Z"
   },
   {
    "duration": 20,
    "start_time": "2024-10-01T05:27:21.079Z"
   },
   {
    "duration": 61,
    "start_time": "2024-10-01T05:27:21.101Z"
   },
   {
    "duration": 0,
    "start_time": "2024-10-01T05:27:21.163Z"
   },
   {
    "duration": 0,
    "start_time": "2024-10-01T05:27:21.165Z"
   },
   {
    "duration": 0,
    "start_time": "2024-10-01T05:27:21.167Z"
   },
   {
    "duration": 0,
    "start_time": "2024-10-01T05:27:21.168Z"
   },
   {
    "duration": 0,
    "start_time": "2024-10-01T05:27:21.169Z"
   },
   {
    "duration": 0,
    "start_time": "2024-10-01T05:27:21.171Z"
   },
   {
    "duration": 0,
    "start_time": "2024-10-01T05:27:21.172Z"
   },
   {
    "duration": 0,
    "start_time": "2024-10-01T05:27:21.174Z"
   },
   {
    "duration": 0,
    "start_time": "2024-10-01T05:27:21.176Z"
   },
   {
    "duration": 0,
    "start_time": "2024-10-01T05:27:21.177Z"
   },
   {
    "duration": 0,
    "start_time": "2024-10-01T05:27:21.179Z"
   },
   {
    "duration": 0,
    "start_time": "2024-10-01T05:27:21.181Z"
   },
   {
    "duration": 0,
    "start_time": "2024-10-01T05:27:21.182Z"
   },
   {
    "duration": 1202,
    "start_time": "2024-10-01T05:30:56.961Z"
   },
   {
    "duration": 123,
    "start_time": "2024-10-01T05:30:58.165Z"
   },
   {
    "duration": 53,
    "start_time": "2024-10-01T05:30:58.290Z"
   },
   {
    "duration": 46,
    "start_time": "2024-10-01T05:30:58.344Z"
   },
   {
    "duration": 6,
    "start_time": "2024-10-01T05:30:58.393Z"
   },
   {
    "duration": 6,
    "start_time": "2024-10-01T05:30:58.421Z"
   },
   {
    "duration": 7,
    "start_time": "2024-10-01T05:30:58.429Z"
   },
   {
    "duration": 29,
    "start_time": "2024-10-01T05:30:58.437Z"
   },
   {
    "duration": 14,
    "start_time": "2024-10-01T05:30:58.467Z"
   },
   {
    "duration": 45,
    "start_time": "2024-10-01T05:30:58.482Z"
   },
   {
    "duration": 22,
    "start_time": "2024-10-01T05:30:58.529Z"
   },
   {
    "duration": 20,
    "start_time": "2024-10-01T05:30:58.552Z"
   },
   {
    "duration": 501,
    "start_time": "2024-10-01T05:30:58.573Z"
   },
   {
    "duration": 293,
    "start_time": "2024-10-01T05:30:59.077Z"
   },
   {
    "duration": 1126,
    "start_time": "2024-10-01T05:30:59.371Z"
   },
   {
    "duration": 35,
    "start_time": "2024-10-01T05:31:00.499Z"
   },
   {
    "duration": 27,
    "start_time": "2024-10-01T05:31:00.536Z"
   },
   {
    "duration": 30,
    "start_time": "2024-10-01T05:31:00.564Z"
   },
   {
    "duration": 15,
    "start_time": "2024-10-01T05:31:00.620Z"
   },
   {
    "duration": 37,
    "start_time": "2024-10-01T05:31:00.637Z"
   },
   {
    "duration": 43,
    "start_time": "2024-10-01T05:31:00.676Z"
   },
   {
    "duration": 39,
    "start_time": "2024-10-01T05:31:00.721Z"
   },
   {
    "duration": 36,
    "start_time": "2024-10-01T05:31:00.762Z"
   },
   {
    "duration": 13,
    "start_time": "2024-10-01T05:31:00.800Z"
   },
   {
    "duration": 106,
    "start_time": "2024-10-01T05:31:00.815Z"
   },
   {
    "duration": 192,
    "start_time": "2024-10-01T05:31:00.923Z"
   },
   {
    "duration": 22,
    "start_time": "2024-10-01T05:31:01.117Z"
   },
   {
    "duration": 266,
    "start_time": "2024-10-01T05:31:01.141Z"
   },
   {
    "duration": 33,
    "start_time": "2024-10-01T05:31:01.409Z"
   },
   {
    "duration": 57,
    "start_time": "2024-10-01T05:31:01.444Z"
   },
   {
    "duration": 51,
    "start_time": "2024-10-01T05:31:01.505Z"
   },
   {
    "duration": 69,
    "start_time": "2024-10-01T05:31:01.558Z"
   },
   {
    "duration": 77,
    "start_time": "2024-10-01T05:31:01.629Z"
   },
   {
    "duration": 33,
    "start_time": "2024-10-01T05:31:01.707Z"
   },
   {
    "duration": 39,
    "start_time": "2024-10-01T05:31:01.741Z"
   },
   {
    "duration": 39,
    "start_time": "2024-10-01T05:31:01.782Z"
   },
   {
    "duration": 36,
    "start_time": "2024-10-01T05:31:01.823Z"
   },
   {
    "duration": 31,
    "start_time": "2024-10-01T05:31:01.860Z"
   },
   {
    "duration": 51,
    "start_time": "2024-10-01T05:31:01.893Z"
   },
   {
    "duration": 31,
    "start_time": "2024-10-01T05:31:01.946Z"
   },
   {
    "duration": 11,
    "start_time": "2024-10-01T05:31:01.983Z"
   },
   {
    "duration": 56,
    "start_time": "2024-10-01T05:31:01.996Z"
   },
   {
    "duration": 47,
    "start_time": "2024-10-01T05:31:02.054Z"
   },
   {
    "duration": 12,
    "start_time": "2024-10-01T05:31:02.103Z"
   },
   {
    "duration": 25,
    "start_time": "2024-10-01T05:31:02.121Z"
   },
   {
    "duration": 50,
    "start_time": "2024-10-01T05:31:02.148Z"
   },
   {
    "duration": 78,
    "start_time": "2024-10-01T05:31:02.200Z"
   },
   {
    "duration": 44,
    "start_time": "2024-10-01T05:31:02.280Z"
   },
   {
    "duration": 216,
    "start_time": "2024-10-01T05:31:02.325Z"
   },
   {
    "duration": 12,
    "start_time": "2024-10-01T05:31:02.542Z"
   },
   {
    "duration": 29,
    "start_time": "2024-10-01T05:31:02.556Z"
   },
   {
    "duration": 94,
    "start_time": "2024-10-01T05:31:02.587Z"
   },
   {
    "duration": 12,
    "start_time": "2024-10-01T05:31:02.683Z"
   },
   {
    "duration": 39,
    "start_time": "2024-10-01T05:31:02.696Z"
   },
   {
    "duration": 65,
    "start_time": "2024-10-01T05:31:02.737Z"
   },
   {
    "duration": 0,
    "start_time": "2024-10-01T05:31:02.803Z"
   },
   {
    "duration": 0,
    "start_time": "2024-10-01T05:31:02.805Z"
   },
   {
    "duration": 0,
    "start_time": "2024-10-01T05:31:02.807Z"
   },
   {
    "duration": 0,
    "start_time": "2024-10-01T05:31:02.808Z"
   },
   {
    "duration": 0,
    "start_time": "2024-10-01T05:31:02.809Z"
   },
   {
    "duration": 0,
    "start_time": "2024-10-01T05:31:02.810Z"
   },
   {
    "duration": 0,
    "start_time": "2024-10-01T05:31:02.811Z"
   },
   {
    "duration": 0,
    "start_time": "2024-10-01T05:31:02.813Z"
   },
   {
    "duration": 0,
    "start_time": "2024-10-01T05:31:02.814Z"
   },
   {
    "duration": 0,
    "start_time": "2024-10-01T05:31:02.815Z"
   },
   {
    "duration": 0,
    "start_time": "2024-10-01T05:31:02.817Z"
   },
   {
    "duration": 0,
    "start_time": "2024-10-01T05:31:02.818Z"
   },
   {
    "duration": 0,
    "start_time": "2024-10-01T05:31:02.820Z"
   },
   {
    "duration": 0,
    "start_time": "2024-10-01T05:31:02.820Z"
   },
   {
    "duration": 11,
    "start_time": "2024-10-01T05:31:24.994Z"
   },
   {
    "duration": 12,
    "start_time": "2024-10-01T05:31:44.925Z"
   },
   {
    "duration": 12,
    "start_time": "2024-10-01T05:32:19.364Z"
   },
   {
    "duration": 170,
    "start_time": "2024-10-01T05:33:12.772Z"
   },
   {
    "duration": 180,
    "start_time": "2024-10-01T05:34:32.518Z"
   },
   {
    "duration": 176,
    "start_time": "2024-10-01T05:36:02.039Z"
   },
   {
    "duration": 26,
    "start_time": "2024-10-01T05:40:35.932Z"
   },
   {
    "duration": 13,
    "start_time": "2024-10-01T05:41:54.384Z"
   },
   {
    "duration": 11,
    "start_time": "2024-10-01T05:42:01.239Z"
   },
   {
    "duration": 7,
    "start_time": "2024-10-01T05:42:22.228Z"
   },
   {
    "duration": 136,
    "start_time": "2024-10-01T05:43:28.607Z"
   },
   {
    "duration": 36,
    "start_time": "2024-10-01T05:43:55.562Z"
   },
   {
    "duration": 219,
    "start_time": "2024-10-01T05:44:09.635Z"
   },
   {
    "duration": 24,
    "start_time": "2024-10-01T06:17:42.908Z"
   },
   {
    "duration": 13,
    "start_time": "2024-10-01T06:18:12.146Z"
   },
   {
    "duration": 13,
    "start_time": "2024-10-01T06:18:27.384Z"
   },
   {
    "duration": 202,
    "start_time": "2024-10-01T06:18:52.732Z"
   },
   {
    "duration": 17,
    "start_time": "2024-10-01T06:19:15.319Z"
   },
   {
    "duration": 17,
    "start_time": "2024-10-01T06:21:04.835Z"
   },
   {
    "duration": 11,
    "start_time": "2024-10-01T06:21:18.685Z"
   },
   {
    "duration": 16,
    "start_time": "2024-10-01T06:24:01.838Z"
   },
   {
    "duration": 12,
    "start_time": "2024-10-01T06:24:42.693Z"
   },
   {
    "duration": 191,
    "start_time": "2024-10-01T06:24:52.932Z"
   },
   {
    "duration": 220,
    "start_time": "2024-10-01T06:24:57.759Z"
   },
   {
    "duration": 10,
    "start_time": "2024-10-01T06:26:40.339Z"
   },
   {
    "duration": 8,
    "start_time": "2024-10-01T06:29:09.563Z"
   },
   {
    "duration": 8,
    "start_time": "2024-10-01T06:30:26.802Z"
   },
   {
    "duration": 10,
    "start_time": "2024-10-01T06:31:00.591Z"
   },
   {
    "duration": 9,
    "start_time": "2024-10-01T06:31:43.635Z"
   },
   {
    "duration": 13,
    "start_time": "2024-10-01T06:33:10.812Z"
   },
   {
    "duration": 9,
    "start_time": "2024-10-01T06:36:50.208Z"
   },
   {
    "duration": 19,
    "start_time": "2024-10-01T06:37:10.117Z"
   },
   {
    "duration": 5,
    "start_time": "2024-10-01T06:37:13.303Z"
   },
   {
    "duration": 23,
    "start_time": "2024-10-01T06:37:58.740Z"
   },
   {
    "duration": 15,
    "start_time": "2024-10-01T06:39:04.466Z"
   },
   {
    "duration": 5,
    "start_time": "2024-10-01T06:39:25.611Z"
   },
   {
    "duration": 11,
    "start_time": "2024-10-01T07:02:54.402Z"
   },
   {
    "duration": 7,
    "start_time": "2024-10-01T07:03:09.299Z"
   },
   {
    "duration": 7,
    "start_time": "2024-10-01T07:04:38.285Z"
   },
   {
    "duration": 1225,
    "start_time": "2024-10-01T07:14:59.339Z"
   },
   {
    "duration": 127,
    "start_time": "2024-10-01T07:15:00.567Z"
   },
   {
    "duration": 43,
    "start_time": "2024-10-01T07:15:00.696Z"
   },
   {
    "duration": 45,
    "start_time": "2024-10-01T07:15:00.742Z"
   },
   {
    "duration": 30,
    "start_time": "2024-10-01T07:15:00.789Z"
   },
   {
    "duration": 23,
    "start_time": "2024-10-01T07:15:00.822Z"
   },
   {
    "duration": 19,
    "start_time": "2024-10-01T07:15:00.846Z"
   },
   {
    "duration": 78,
    "start_time": "2024-10-01T07:15:00.867Z"
   },
   {
    "duration": 15,
    "start_time": "2024-10-01T07:15:00.946Z"
   },
   {
    "duration": 26,
    "start_time": "2024-10-01T07:15:00.962Z"
   },
   {
    "duration": 37,
    "start_time": "2024-10-01T07:15:00.990Z"
   },
   {
    "duration": 12,
    "start_time": "2024-10-01T07:15:01.029Z"
   },
   {
    "duration": 536,
    "start_time": "2024-10-01T07:15:01.044Z"
   },
   {
    "duration": 299,
    "start_time": "2024-10-01T07:15:01.583Z"
   },
   {
    "duration": 1231,
    "start_time": "2024-10-01T07:15:01.884Z"
   },
   {
    "duration": 25,
    "start_time": "2024-10-01T07:15:03.117Z"
   },
   {
    "duration": 72,
    "start_time": "2024-10-01T07:15:03.144Z"
   },
   {
    "duration": 34,
    "start_time": "2024-10-01T07:15:03.218Z"
   },
   {
    "duration": 5,
    "start_time": "2024-10-01T07:15:03.253Z"
   },
   {
    "duration": 29,
    "start_time": "2024-10-01T07:15:03.260Z"
   },
   {
    "duration": 27,
    "start_time": "2024-10-01T07:15:03.291Z"
   },
   {
    "duration": 32,
    "start_time": "2024-10-01T07:15:03.320Z"
   },
   {
    "duration": 10,
    "start_time": "2024-10-01T07:15:03.354Z"
   },
   {
    "duration": 32,
    "start_time": "2024-10-01T07:15:03.366Z"
   },
   {
    "duration": 65,
    "start_time": "2024-10-01T07:15:03.399Z"
   },
   {
    "duration": 180,
    "start_time": "2024-10-01T07:15:03.465Z"
   },
   {
    "duration": 18,
    "start_time": "2024-10-01T07:15:03.647Z"
   },
   {
    "duration": 285,
    "start_time": "2024-10-01T07:15:03.666Z"
   },
   {
    "duration": 31,
    "start_time": "2024-10-01T07:15:03.953Z"
   },
   {
    "duration": 9,
    "start_time": "2024-10-01T07:15:03.986Z"
   },
   {
    "duration": 26,
    "start_time": "2024-10-01T07:15:03.997Z"
   },
   {
    "duration": 48,
    "start_time": "2024-10-01T07:15:04.025Z"
   },
   {
    "duration": 95,
    "start_time": "2024-10-01T07:15:04.075Z"
   },
   {
    "duration": 24,
    "start_time": "2024-10-01T07:15:04.172Z"
   },
   {
    "duration": 16,
    "start_time": "2024-10-01T07:15:04.197Z"
   },
   {
    "duration": 21,
    "start_time": "2024-10-01T07:15:04.215Z"
   },
   {
    "duration": 25,
    "start_time": "2024-10-01T07:15:04.239Z"
   },
   {
    "duration": 22,
    "start_time": "2024-10-01T07:15:04.266Z"
   },
   {
    "duration": 41,
    "start_time": "2024-10-01T07:15:04.290Z"
   },
   {
    "duration": 18,
    "start_time": "2024-10-01T07:15:04.334Z"
   },
   {
    "duration": 24,
    "start_time": "2024-10-01T07:15:04.356Z"
   },
   {
    "duration": 27,
    "start_time": "2024-10-01T07:15:04.381Z"
   },
   {
    "duration": 51,
    "start_time": "2024-10-01T07:15:04.409Z"
   },
   {
    "duration": 12,
    "start_time": "2024-10-01T07:15:04.461Z"
   },
   {
    "duration": 22,
    "start_time": "2024-10-01T07:15:04.474Z"
   },
   {
    "duration": 35,
    "start_time": "2024-10-01T07:15:04.498Z"
   },
   {
    "duration": 24,
    "start_time": "2024-10-01T07:15:04.536Z"
   },
   {
    "duration": 9,
    "start_time": "2024-10-01T07:15:04.562Z"
   },
   {
    "duration": 181,
    "start_time": "2024-10-01T07:15:04.573Z"
   },
   {
    "duration": 12,
    "start_time": "2024-10-01T07:15:04.756Z"
   },
   {
    "duration": 19,
    "start_time": "2024-10-01T07:15:04.769Z"
   },
   {
    "duration": 90,
    "start_time": "2024-10-01T07:15:04.790Z"
   },
   {
    "duration": 12,
    "start_time": "2024-10-01T07:15:04.881Z"
   },
   {
    "duration": 27,
    "start_time": "2024-10-01T07:15:04.895Z"
   },
   {
    "duration": 48,
    "start_time": "2024-10-01T07:15:04.924Z"
   },
   {
    "duration": 200,
    "start_time": "2024-10-01T07:15:04.974Z"
   },
   {
    "duration": 11,
    "start_time": "2024-10-01T07:15:05.175Z"
   },
   {
    "duration": 29,
    "start_time": "2024-10-01T07:15:05.188Z"
   },
   {
    "duration": 57,
    "start_time": "2024-10-01T07:15:05.218Z"
   },
   {
    "duration": 239,
    "start_time": "2024-10-01T07:15:05.277Z"
   },
   {
    "duration": 16,
    "start_time": "2024-10-01T07:15:05.520Z"
   },
   {
    "duration": 221,
    "start_time": "2024-10-01T07:15:05.538Z"
   },
   {
    "duration": 13,
    "start_time": "2024-10-01T07:15:05.761Z"
   },
   {
    "duration": 236,
    "start_time": "2024-10-01T07:15:05.776Z"
   },
   {
    "duration": 17,
    "start_time": "2024-10-01T07:15:06.014Z"
   },
   {
    "duration": 224,
    "start_time": "2024-10-01T07:15:06.034Z"
   },
   {
    "duration": 11,
    "start_time": "2024-10-01T07:15:06.260Z"
   },
   {
    "duration": 38,
    "start_time": "2024-10-01T07:15:06.273Z"
   },
   {
    "duration": 35,
    "start_time": "2024-10-01T07:15:06.313Z"
   },
   {
    "duration": 10,
    "start_time": "2024-10-01T07:15:06.350Z"
   },
   {
    "duration": 17,
    "start_time": "2024-10-01T07:15:06.362Z"
   },
   {
    "duration": 15,
    "start_time": "2024-10-01T07:15:06.380Z"
   }
  ],
  "kernelspec": {
   "display_name": "Python 3 (ipykernel)",
   "language": "python",
   "name": "python3"
  },
  "language_info": {
   "codemirror_mode": {
    "name": "ipython",
    "version": 3
   },
   "file_extension": ".py",
   "mimetype": "text/x-python",
   "name": "python",
   "nbconvert_exporter": "python",
   "pygments_lexer": "ipython3",
   "version": "3.9.19"
  },
  "toc": {
   "base_numbering": 1,
   "nav_menu": {},
   "number_sections": true,
   "sideBar": true,
   "skip_h1_title": true,
   "title_cell": "Table of Contents",
   "title_sidebar": "Contents",
   "toc_cell": false,
   "toc_position": {
    "height": "calc(100% - 180px)",
    "left": "10px",
    "top": "150px",
    "width": "431.233px"
   },
   "toc_section_display": true,
   "toc_window_display": false
  }
 },
 "nbformat": 4,
 "nbformat_minor": 2
}
